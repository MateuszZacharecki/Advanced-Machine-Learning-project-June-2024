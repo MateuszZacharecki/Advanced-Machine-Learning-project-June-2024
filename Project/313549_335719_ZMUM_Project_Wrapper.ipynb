{
 "cells": [
  {
   "cell_type": "markdown",
   "id": "7a244cc4",
   "metadata": {
    "id": "e0783d1e"
   },
   "source": [
    "313549 ~ Mateusz Zacharecki \\\n",
    "335719 ~ Patrycja Kielan\n",
    "\n",
    "---"
   ]
  },
  {
   "cell_type": "markdown",
   "id": "d3291feb",
   "metadata": {
    "id": "8d26868d"
   },
   "source": [
    "# Solution for wrapper variable selection\n",
    "___"
   ]
  },
  {
   "cell_type": "markdown",
   "id": "6425edbc",
   "metadata": {
    "id": "b7fb3ad2"
   },
   "source": [
    "# Importing libraries and data"
   ]
  },
  {
   "cell_type": "code",
   "execution_count": 8,
   "id": "88033c8c",
   "metadata": {
    "id": "c3a2f1ba"
   },
   "outputs": [],
   "source": [
    "import pandas as pd\n",
    "import numpy as np\n",
    "import sklearn\n",
    "from sklearn.pipeline import Pipeline\n",
    "from sklearn.model_selection import train_test_split\n",
    "from sklearn.preprocessing import StandardScaler\n",
    "from sklearn.model_selection import GridSearchCV\n",
    "from sklearn.decomposition import PCA\n",
    "from sklearn.metrics import mean_squared_error as mse\n",
    "from sklearn.ensemble import GradientBoostingRegressor\n",
    "from sklearn.svm import SVR\n",
    "import matplotlib.pyplot as plt\n",
    "import sklearn.model_selection as skm\n",
    "from sklearn.neural_network import MLPRegressor\n",
    "from sklearn.linear_model import LinearRegression\n",
    "from sklearn.tree import DecisionTreeRegressor\n",
    "from sklearn.feature_selection import SelectKBest\n",
    "from sklearn.feature_selection import f_regression\n",
    "import xgboost\n",
    "from sklearn.ensemble import VotingRegressor"
   ]
  },
  {
   "cell_type": "code",
   "execution_count": 9,
   "id": "7845225c",
   "metadata": {
    "id": "397b93e3"
   },
   "outputs": [],
   "source": [
    "X_train = pd.read_csv(\"Xtrain.csv\", index_col = 0)\n",
    "X_test = pd.read_csv(\"Xtest.csv\", index_col = 0)\n",
    "y_train = pd.read_csv(\"ytrain.csv\", index_col = 0)"
   ]
  },
  {
   "cell_type": "markdown",
   "id": "7a98d347",
   "metadata": {
    "id": "1ba549bd"
   },
   "source": [
    "# Gradient Boosting"
   ]
  },
  {
   "cell_type": "code",
   "execution_count": 3,
   "id": "ea209ec3",
   "metadata": {
    "id": "2a6bc8e7"
   },
   "outputs": [],
   "source": [
    "pipeline = Pipeline([\n",
    "    ('scaler', StandardScaler()),\n",
    "    ('selector', SelectKBest(f_regression, k = 10))\n",
    "])"
   ]
  },
  {
   "cell_type": "markdown",
   "id": "ae297d0a",
   "metadata": {
    "id": "d26cebd4"
   },
   "source": [
    "## Fitting the whole training set"
   ]
  },
  {
   "cell_type": "code",
   "execution_count": 4,
   "id": "6bfee11c",
   "metadata": {
    "id": "e20af447"
   },
   "outputs": [],
   "source": [
    "pipeline_GradientBoosting = Pipeline([\n",
    "    ('pipeline', pipeline),\n",
    "    ('rf', GradientBoostingRegressor(random_state = 313549))\n",
    "])"
   ]
  },
  {
   "cell_type": "code",
   "execution_count": 5,
   "id": "6e01fadf",
   "metadata": {
    "id": "4aeba58e"
   },
   "outputs": [],
   "source": [
    "params = {\n",
    "    'rf__max_depth': [10, 20],\n",
    "    'rf__min_samples_split': [10, 20],\n",
    "    'rf__n_estimators': [100, 500]\n",
    "}\n",
    "\n",
    "grid_pipeline_GradientBoosting = GridSearchCV(pipeline_GradientBoosting,\n",
    "                             cv = 3,\n",
    "                             param_grid = params,\n",
    "                             scoring = 'neg_mean_squared_error',\n",
    "                             return_train_score = True)"
   ]
  },
  {
   "cell_type": "code",
   "execution_count": 6,
   "id": "7247e1f9",
   "metadata": {
    "id": "e5954b58"
   },
   "outputs": [
    {
     "data": {
      "text/html": [
       "<style>#sk-container-id-1 {color: black;background-color: white;}#sk-container-id-1 pre{padding: 0;}#sk-container-id-1 div.sk-toggleable {background-color: white;}#sk-container-id-1 label.sk-toggleable__label {cursor: pointer;display: block;width: 100%;margin-bottom: 0;padding: 0.3em;box-sizing: border-box;text-align: center;}#sk-container-id-1 label.sk-toggleable__label-arrow:before {content: \"▸\";float: left;margin-right: 0.25em;color: #696969;}#sk-container-id-1 label.sk-toggleable__label-arrow:hover:before {color: black;}#sk-container-id-1 div.sk-estimator:hover label.sk-toggleable__label-arrow:before {color: black;}#sk-container-id-1 div.sk-toggleable__content {max-height: 0;max-width: 0;overflow: hidden;text-align: left;background-color: #f0f8ff;}#sk-container-id-1 div.sk-toggleable__content pre {margin: 0.2em;color: black;border-radius: 0.25em;background-color: #f0f8ff;}#sk-container-id-1 input.sk-toggleable__control:checked~div.sk-toggleable__content {max-height: 200px;max-width: 100%;overflow: auto;}#sk-container-id-1 input.sk-toggleable__control:checked~label.sk-toggleable__label-arrow:before {content: \"▾\";}#sk-container-id-1 div.sk-estimator input.sk-toggleable__control:checked~label.sk-toggleable__label {background-color: #d4ebff;}#sk-container-id-1 div.sk-label input.sk-toggleable__control:checked~label.sk-toggleable__label {background-color: #d4ebff;}#sk-container-id-1 input.sk-hidden--visually {border: 0;clip: rect(1px 1px 1px 1px);clip: rect(1px, 1px, 1px, 1px);height: 1px;margin: -1px;overflow: hidden;padding: 0;position: absolute;width: 1px;}#sk-container-id-1 div.sk-estimator {font-family: monospace;background-color: #f0f8ff;border: 1px dotted black;border-radius: 0.25em;box-sizing: border-box;margin-bottom: 0.5em;}#sk-container-id-1 div.sk-estimator:hover {background-color: #d4ebff;}#sk-container-id-1 div.sk-parallel-item::after {content: \"\";width: 100%;border-bottom: 1px solid gray;flex-grow: 1;}#sk-container-id-1 div.sk-label:hover label.sk-toggleable__label {background-color: #d4ebff;}#sk-container-id-1 div.sk-serial::before {content: \"\";position: absolute;border-left: 1px solid gray;box-sizing: border-box;top: 0;bottom: 0;left: 50%;z-index: 0;}#sk-container-id-1 div.sk-serial {display: flex;flex-direction: column;align-items: center;background-color: white;padding-right: 0.2em;padding-left: 0.2em;position: relative;}#sk-container-id-1 div.sk-item {position: relative;z-index: 1;}#sk-container-id-1 div.sk-parallel {display: flex;align-items: stretch;justify-content: center;background-color: white;position: relative;}#sk-container-id-1 div.sk-item::before, #sk-container-id-1 div.sk-parallel-item::before {content: \"\";position: absolute;border-left: 1px solid gray;box-sizing: border-box;top: 0;bottom: 0;left: 50%;z-index: -1;}#sk-container-id-1 div.sk-parallel-item {display: flex;flex-direction: column;z-index: 1;position: relative;background-color: white;}#sk-container-id-1 div.sk-parallel-item:first-child::after {align-self: flex-end;width: 50%;}#sk-container-id-1 div.sk-parallel-item:last-child::after {align-self: flex-start;width: 50%;}#sk-container-id-1 div.sk-parallel-item:only-child::after {width: 0;}#sk-container-id-1 div.sk-dashed-wrapped {border: 1px dashed gray;margin: 0 0.4em 0.5em 0.4em;box-sizing: border-box;padding-bottom: 0.4em;background-color: white;}#sk-container-id-1 div.sk-label label {font-family: monospace;font-weight: bold;display: inline-block;line-height: 1.2em;}#sk-container-id-1 div.sk-label-container {text-align: center;}#sk-container-id-1 div.sk-container {/* jupyter's `normalize.less` sets `[hidden] { display: none; }` but bootstrap.min.css set `[hidden] { display: none !important; }` so we also need the `!important` here to be able to override the default hidden behavior on the sphinx rendered scikit-learn.org. See: https://github.com/scikit-learn/scikit-learn/issues/21755 */display: inline-block !important;position: relative;}#sk-container-id-1 div.sk-text-repr-fallback {display: none;}</style><div id=\"sk-container-id-1\" class=\"sk-top-container\"><div class=\"sk-text-repr-fallback\"><pre>GridSearchCV(cv=3,\n",
       "             estimator=Pipeline(steps=[(&#x27;pipeline&#x27;,\n",
       "                                        Pipeline(steps=[(&#x27;scaler&#x27;,\n",
       "                                                         StandardScaler()),\n",
       "                                                        (&#x27;selector&#x27;,\n",
       "                                                         SelectKBest(score_func=&lt;function f_regression at 0x7f8638b31280&gt;))])),\n",
       "                                       (&#x27;rf&#x27;,\n",
       "                                        GradientBoostingRegressor(random_state=313549))]),\n",
       "             param_grid={&#x27;rf__max_depth&#x27;: [10, 20],\n",
       "                         &#x27;rf__min_samples_split&#x27;: [10, 20],\n",
       "                         &#x27;rf__n_estimators&#x27;: [100, 500]},\n",
       "             return_train_score=True, scoring=&#x27;neg_mean_squared_error&#x27;)</pre><b>In a Jupyter environment, please rerun this cell to show the HTML representation or trust the notebook. <br />On GitHub, the HTML representation is unable to render, please try loading this page with nbviewer.org.</b></div><div class=\"sk-container\" hidden><div class=\"sk-item sk-dashed-wrapped\"><div class=\"sk-label-container\"><div class=\"sk-label sk-toggleable\"><input class=\"sk-toggleable__control sk-hidden--visually\" id=\"sk-estimator-id-1\" type=\"checkbox\" ><label for=\"sk-estimator-id-1\" class=\"sk-toggleable__label sk-toggleable__label-arrow\">GridSearchCV</label><div class=\"sk-toggleable__content\"><pre>GridSearchCV(cv=3,\n",
       "             estimator=Pipeline(steps=[(&#x27;pipeline&#x27;,\n",
       "                                        Pipeline(steps=[(&#x27;scaler&#x27;,\n",
       "                                                         StandardScaler()),\n",
       "                                                        (&#x27;selector&#x27;,\n",
       "                                                         SelectKBest(score_func=&lt;function f_regression at 0x7f8638b31280&gt;))])),\n",
       "                                       (&#x27;rf&#x27;,\n",
       "                                        GradientBoostingRegressor(random_state=313549))]),\n",
       "             param_grid={&#x27;rf__max_depth&#x27;: [10, 20],\n",
       "                         &#x27;rf__min_samples_split&#x27;: [10, 20],\n",
       "                         &#x27;rf__n_estimators&#x27;: [100, 500]},\n",
       "             return_train_score=True, scoring=&#x27;neg_mean_squared_error&#x27;)</pre></div></div></div><div class=\"sk-parallel\"><div class=\"sk-parallel-item\"><div class=\"sk-item\"><div class=\"sk-label-container\"><div class=\"sk-label sk-toggleable\"><input class=\"sk-toggleable__control sk-hidden--visually\" id=\"sk-estimator-id-2\" type=\"checkbox\" ><label for=\"sk-estimator-id-2\" class=\"sk-toggleable__label sk-toggleable__label-arrow\">estimator: Pipeline</label><div class=\"sk-toggleable__content\"><pre>Pipeline(steps=[(&#x27;pipeline&#x27;,\n",
       "                 Pipeline(steps=[(&#x27;scaler&#x27;, StandardScaler()),\n",
       "                                 (&#x27;selector&#x27;,\n",
       "                                  SelectKBest(score_func=&lt;function f_regression at 0x7f8638b31280&gt;))])),\n",
       "                (&#x27;rf&#x27;, GradientBoostingRegressor(random_state=313549))])</pre></div></div></div><div class=\"sk-serial\"><div class=\"sk-item\"><div class=\"sk-serial\"><div class=\"sk-item\"><div class=\"sk-label-container\"><div class=\"sk-label sk-toggleable\"><input class=\"sk-toggleable__control sk-hidden--visually\" id=\"sk-estimator-id-3\" type=\"checkbox\" ><label for=\"sk-estimator-id-3\" class=\"sk-toggleable__label sk-toggleable__label-arrow\">pipeline: Pipeline</label><div class=\"sk-toggleable__content\"><pre>Pipeline(steps=[(&#x27;scaler&#x27;, StandardScaler()),\n",
       "                (&#x27;selector&#x27;,\n",
       "                 SelectKBest(score_func=&lt;function f_regression at 0x7f8638b31280&gt;))])</pre></div></div></div><div class=\"sk-serial\"><div class=\"sk-item\"><div class=\"sk-estimator sk-toggleable\"><input class=\"sk-toggleable__control sk-hidden--visually\" id=\"sk-estimator-id-4\" type=\"checkbox\" ><label for=\"sk-estimator-id-4\" class=\"sk-toggleable__label sk-toggleable__label-arrow\">StandardScaler</label><div class=\"sk-toggleable__content\"><pre>StandardScaler()</pre></div></div></div><div class=\"sk-item\"><div class=\"sk-estimator sk-toggleable\"><input class=\"sk-toggleable__control sk-hidden--visually\" id=\"sk-estimator-id-5\" type=\"checkbox\" ><label for=\"sk-estimator-id-5\" class=\"sk-toggleable__label sk-toggleable__label-arrow\">SelectKBest</label><div class=\"sk-toggleable__content\"><pre>SelectKBest(score_func=&lt;function f_regression at 0x7f8638b31280&gt;)</pre></div></div></div></div></div><div class=\"sk-item\"><div class=\"sk-estimator sk-toggleable\"><input class=\"sk-toggleable__control sk-hidden--visually\" id=\"sk-estimator-id-6\" type=\"checkbox\" ><label for=\"sk-estimator-id-6\" class=\"sk-toggleable__label sk-toggleable__label-arrow\">GradientBoostingRegressor</label><div class=\"sk-toggleable__content\"><pre>GradientBoostingRegressor(random_state=313549)</pre></div></div></div></div></div></div></div></div></div></div></div></div>"
      ],
      "text/plain": [
       "GridSearchCV(cv=3,\n",
       "             estimator=Pipeline(steps=[('pipeline',\n",
       "                                        Pipeline(steps=[('scaler',\n",
       "                                                         StandardScaler()),\n",
       "                                                        ('selector',\n",
       "                                                         SelectKBest(score_func=<function f_regression at 0x7f8638b31280>))])),\n",
       "                                       ('rf',\n",
       "                                        GradientBoostingRegressor(random_state=313549))]),\n",
       "             param_grid={'rf__max_depth': [10, 20],\n",
       "                         'rf__min_samples_split': [10, 20],\n",
       "                         'rf__n_estimators': [100, 500]},\n",
       "             return_train_score=True, scoring='neg_mean_squared_error')"
      ]
     },
     "execution_count": 6,
     "metadata": {},
     "output_type": "execute_result"
    }
   ],
   "source": [
    "grid_pipeline_GradientBoosting.fit(X_train, y_train.values.ravel())"
   ]
  },
  {
   "cell_type": "code",
   "execution_count": 7,
   "id": "1a992972",
   "metadata": {
    "id": "e1cf181d"
   },
   "outputs": [
    {
     "data": {
      "text/html": [
       "<div>\n",
       "<style scoped>\n",
       "    .dataframe tbody tr th:only-of-type {\n",
       "        vertical-align: middle;\n",
       "    }\n",
       "\n",
       "    .dataframe tbody tr th {\n",
       "        vertical-align: top;\n",
       "    }\n",
       "\n",
       "    .dataframe thead th {\n",
       "        text-align: right;\n",
       "    }\n",
       "</style>\n",
       "<table border=\"1\" class=\"dataframe\">\n",
       "  <thead>\n",
       "    <tr style=\"text-align: right;\">\n",
       "      <th></th>\n",
       "      <th>rf__max_depth</th>\n",
       "      <th>rf__min_samples_split</th>\n",
       "      <th>rf__n_estimators</th>\n",
       "      <th>mean_test_neg_mean_squared_error</th>\n",
       "      <th>mean_train_neg_mean_squared_error</th>\n",
       "      <th>std_test_neg_mean_squared_error</th>\n",
       "      <th>std_train_neg_mean_squared_error</th>\n",
       "      <th>rank_test</th>\n",
       "    </tr>\n",
       "  </thead>\n",
       "  <tbody>\n",
       "    <tr>\n",
       "      <th>2</th>\n",
       "      <td>10</td>\n",
       "      <td>20</td>\n",
       "      <td>100</td>\n",
       "      <td>-96.139989</td>\n",
       "      <td>-70.428201</td>\n",
       "      <td>0.723603</td>\n",
       "      <td>0.829315</td>\n",
       "      <td>1</td>\n",
       "    </tr>\n",
       "    <tr>\n",
       "      <th>0</th>\n",
       "      <td>10</td>\n",
       "      <td>10</td>\n",
       "      <td>100</td>\n",
       "      <td>-96.348517</td>\n",
       "      <td>-68.074239</td>\n",
       "      <td>0.557877</td>\n",
       "      <td>0.643490</td>\n",
       "      <td>2</td>\n",
       "    </tr>\n",
       "    <tr>\n",
       "      <th>3</th>\n",
       "      <td>10</td>\n",
       "      <td>20</td>\n",
       "      <td>500</td>\n",
       "      <td>-98.047210</td>\n",
       "      <td>-48.470106</td>\n",
       "      <td>0.672436</td>\n",
       "      <td>1.300583</td>\n",
       "      <td>3</td>\n",
       "    </tr>\n",
       "    <tr>\n",
       "      <th>1</th>\n",
       "      <td>10</td>\n",
       "      <td>10</td>\n",
       "      <td>500</td>\n",
       "      <td>-98.696663</td>\n",
       "      <td>-43.085563</td>\n",
       "      <td>0.531264</td>\n",
       "      <td>0.973318</td>\n",
       "      <td>4</td>\n",
       "    </tr>\n",
       "    <tr>\n",
       "      <th>6</th>\n",
       "      <td>20</td>\n",
       "      <td>20</td>\n",
       "      <td>100</td>\n",
       "      <td>-102.099766</td>\n",
       "      <td>-9.532500</td>\n",
       "      <td>0.554837</td>\n",
       "      <td>0.658234</td>\n",
       "      <td>5</td>\n",
       "    </tr>\n",
       "    <tr>\n",
       "      <th>7</th>\n",
       "      <td>20</td>\n",
       "      <td>20</td>\n",
       "      <td>500</td>\n",
       "      <td>-102.965802</td>\n",
       "      <td>-1.571226</td>\n",
       "      <td>0.560051</td>\n",
       "      <td>0.200897</td>\n",
       "      <td>6</td>\n",
       "    </tr>\n",
       "    <tr>\n",
       "      <th>4</th>\n",
       "      <td>20</td>\n",
       "      <td>10</td>\n",
       "      <td>100</td>\n",
       "      <td>-103.247474</td>\n",
       "      <td>-3.887118</td>\n",
       "      <td>0.583540</td>\n",
       "      <td>0.457258</td>\n",
       "      <td>7</td>\n",
       "    </tr>\n",
       "    <tr>\n",
       "      <th>5</th>\n",
       "      <td>20</td>\n",
       "      <td>10</td>\n",
       "      <td>500</td>\n",
       "      <td>-103.725165</td>\n",
       "      <td>-0.281209</td>\n",
       "      <td>0.634849</td>\n",
       "      <td>0.044699</td>\n",
       "      <td>8</td>\n",
       "    </tr>\n",
       "  </tbody>\n",
       "</table>\n",
       "</div>"
      ],
      "text/plain": [
       "  rf__max_depth rf__min_samples_split rf__n_estimators  \\\n",
       "2            10                    20              100   \n",
       "0            10                    10              100   \n",
       "3            10                    20              500   \n",
       "1            10                    10              500   \n",
       "6            20                    20              100   \n",
       "7            20                    20              500   \n",
       "4            20                    10              100   \n",
       "5            20                    10              500   \n",
       "\n",
       "   mean_test_neg_mean_squared_error  mean_train_neg_mean_squared_error  \\\n",
       "2                        -96.139989                         -70.428201   \n",
       "0                        -96.348517                         -68.074239   \n",
       "3                        -98.047210                         -48.470106   \n",
       "1                        -98.696663                         -43.085563   \n",
       "6                       -102.099766                          -9.532500   \n",
       "7                       -102.965802                          -1.571226   \n",
       "4                       -103.247474                          -3.887118   \n",
       "5                       -103.725165                          -0.281209   \n",
       "\n",
       "   std_test_neg_mean_squared_error  std_train_neg_mean_squared_error  \\\n",
       "2                         0.723603                          0.829315   \n",
       "0                         0.557877                          0.643490   \n",
       "3                         0.672436                          1.300583   \n",
       "1                         0.531264                          0.973318   \n",
       "6                         0.554837                          0.658234   \n",
       "7                         0.560051                          0.200897   \n",
       "4                         0.583540                          0.457258   \n",
       "5                         0.634849                          0.044699   \n",
       "\n",
       "   rank_test  \n",
       "2          1  \n",
       "0          2  \n",
       "3          3  \n",
       "1          4  \n",
       "6          5  \n",
       "7          6  \n",
       "4          7  \n",
       "5          8  "
      ]
     },
     "execution_count": 7,
     "metadata": {},
     "output_type": "execute_result"
    }
   ],
   "source": [
    "results_GradientBoosting = pd.DataFrame({\n",
    "                     'rf__max_depth': grid_pipeline_GradientBoosting.cv_results_[\"param_rf__max_depth\"],\n",
    "                     'rf__min_samples_split': grid_pipeline_GradientBoosting.cv_results_[\"param_rf__min_samples_split\"],\n",
    "                     'rf__n_estimators': grid_pipeline_GradientBoosting.cv_results_[\"param_rf__n_estimators\"],\n",
    "                     'mean_test_neg_mean_squared_error': grid_pipeline_GradientBoosting.cv_results_[\"mean_test_score\"],\n",
    "                     'mean_train_neg_mean_squared_error': grid_pipeline_GradientBoosting.cv_results_[\"mean_train_score\"],\n",
    "                     'std_test_neg_mean_squared_error': grid_pipeline_GradientBoosting.cv_results_[\"std_test_score\"],\n",
    "                     'std_train_neg_mean_squared_error': grid_pipeline_GradientBoosting.cv_results_[\"std_train_score\"],\n",
    "                     'rank_test': grid_pipeline_GradientBoosting.cv_results_[\"rank_test_score\"]})\n",
    "results_GradientBoosting.sort_values(by = 'rank_test')"
   ]
  },
  {
   "cell_type": "code",
   "execution_count": 8,
   "id": "f390d594",
   "metadata": {
    "id": "6ca87e08"
   },
   "outputs": [],
   "source": [
    "y_pred = pd.DataFrame(grid_pipeline_GradientBoosting.predict(X_test))"
   ]
  },
  {
   "cell_type": "code",
   "execution_count": 16,
   "id": "1bacd9ef",
   "metadata": {
    "id": "r0Qs_C6s6Woz"
   },
   "outputs": [],
   "source": [
    "pd.DataFrame(y_pred).to_csv(\"GradientBoosting_wrapper.txt\", sep='\\t', index=False, header=False)"
   ]
  },
  {
   "cell_type": "markdown",
   "id": "3e2d42fb",
   "metadata": {
    "id": "37b9a02f"
   },
   "source": [
    "# SVM"
   ]
  },
  {
   "cell_type": "code",
   "execution_count": 9,
   "id": "91a5038a",
   "metadata": {
    "id": "161e92f9"
   },
   "outputs": [],
   "source": [
    "pipeline = Pipeline([\n",
    "    ('scaler', StandardScaler()),\n",
    "    ('selector', SelectKBest(f_regression, k = 10))\n",
    "])"
   ]
  },
  {
   "cell_type": "markdown",
   "id": "cb6eead4",
   "metadata": {
    "id": "dd2f6947"
   },
   "source": [
    "## Fitting the whole training set"
   ]
  },
  {
   "cell_type": "code",
   "execution_count": 10,
   "id": "1552177a",
   "metadata": {
    "id": "b927e787"
   },
   "outputs": [],
   "source": [
    "pipeline_SVM = Pipeline([\n",
    "    ('pipeline', pipeline),\n",
    "    ('svm', SVR(C = 10, gamma = 0.1, kernel = 'rbf'))\n",
    "])"
   ]
  },
  {
   "cell_type": "code",
   "execution_count": 11,
   "id": "2fb9f1aa",
   "metadata": {
    "id": "f6885914"
   },
   "outputs": [],
   "source": [
    "params = {}\n",
    "\n",
    "grid_pipeline_SVM = GridSearchCV(pipeline_SVM,\n",
    "                             cv = skm.KFold(3, random_state = 313549, shuffle=True),\n",
    "                             param_grid = params,\n",
    "                             scoring = 'neg_mean_squared_error',\n",
    "                             return_train_score = True)"
   ]
  },
  {
   "cell_type": "code",
   "execution_count": 12,
   "id": "ae9ccea6",
   "metadata": {
    "id": "15113f93",
    "outputId": "9cb6ce28-a099-4a84-e2db-535617bbbd52"
   },
   "outputs": [
    {
     "data": {
      "text/html": [
       "<style>#sk-container-id-1 {color: black;background-color: white;}#sk-container-id-1 pre{padding: 0;}#sk-container-id-1 div.sk-toggleable {background-color: white;}#sk-container-id-1 label.sk-toggleable__label {cursor: pointer;display: block;width: 100%;margin-bottom: 0;padding: 0.3em;box-sizing: border-box;text-align: center;}#sk-container-id-1 label.sk-toggleable__label-arrow:before {content: \"▸\";float: left;margin-right: 0.25em;color: #696969;}#sk-container-id-1 label.sk-toggleable__label-arrow:hover:before {color: black;}#sk-container-id-1 div.sk-estimator:hover label.sk-toggleable__label-arrow:before {color: black;}#sk-container-id-1 div.sk-toggleable__content {max-height: 0;max-width: 0;overflow: hidden;text-align: left;background-color: #f0f8ff;}#sk-container-id-1 div.sk-toggleable__content pre {margin: 0.2em;color: black;border-radius: 0.25em;background-color: #f0f8ff;}#sk-container-id-1 input.sk-toggleable__control:checked~div.sk-toggleable__content {max-height: 200px;max-width: 100%;overflow: auto;}#sk-container-id-1 input.sk-toggleable__control:checked~label.sk-toggleable__label-arrow:before {content: \"▾\";}#sk-container-id-1 div.sk-estimator input.sk-toggleable__control:checked~label.sk-toggleable__label {background-color: #d4ebff;}#sk-container-id-1 div.sk-label input.sk-toggleable__control:checked~label.sk-toggleable__label {background-color: #d4ebff;}#sk-container-id-1 input.sk-hidden--visually {border: 0;clip: rect(1px 1px 1px 1px);clip: rect(1px, 1px, 1px, 1px);height: 1px;margin: -1px;overflow: hidden;padding: 0;position: absolute;width: 1px;}#sk-container-id-1 div.sk-estimator {font-family: monospace;background-color: #f0f8ff;border: 1px dotted black;border-radius: 0.25em;box-sizing: border-box;margin-bottom: 0.5em;}#sk-container-id-1 div.sk-estimator:hover {background-color: #d4ebff;}#sk-container-id-1 div.sk-parallel-item::after {content: \"\";width: 100%;border-bottom: 1px solid gray;flex-grow: 1;}#sk-container-id-1 div.sk-label:hover label.sk-toggleable__label {background-color: #d4ebff;}#sk-container-id-1 div.sk-serial::before {content: \"\";position: absolute;border-left: 1px solid gray;box-sizing: border-box;top: 0;bottom: 0;left: 50%;z-index: 0;}#sk-container-id-1 div.sk-serial {display: flex;flex-direction: column;align-items: center;background-color: white;padding-right: 0.2em;padding-left: 0.2em;position: relative;}#sk-container-id-1 div.sk-item {position: relative;z-index: 1;}#sk-container-id-1 div.sk-parallel {display: flex;align-items: stretch;justify-content: center;background-color: white;position: relative;}#sk-container-id-1 div.sk-item::before, #sk-container-id-1 div.sk-parallel-item::before {content: \"\";position: absolute;border-left: 1px solid gray;box-sizing: border-box;top: 0;bottom: 0;left: 50%;z-index: -1;}#sk-container-id-1 div.sk-parallel-item {display: flex;flex-direction: column;z-index: 1;position: relative;background-color: white;}#sk-container-id-1 div.sk-parallel-item:first-child::after {align-self: flex-end;width: 50%;}#sk-container-id-1 div.sk-parallel-item:last-child::after {align-self: flex-start;width: 50%;}#sk-container-id-1 div.sk-parallel-item:only-child::after {width: 0;}#sk-container-id-1 div.sk-dashed-wrapped {border: 1px dashed gray;margin: 0 0.4em 0.5em 0.4em;box-sizing: border-box;padding-bottom: 0.4em;background-color: white;}#sk-container-id-1 div.sk-label label {font-family: monospace;font-weight: bold;display: inline-block;line-height: 1.2em;}#sk-container-id-1 div.sk-label-container {text-align: center;}#sk-container-id-1 div.sk-container {/* jupyter's `normalize.less` sets `[hidden] { display: none; }` but bootstrap.min.css set `[hidden] { display: none !important; }` so we also need the `!important` here to be able to override the default hidden behavior on the sphinx rendered scikit-learn.org. See: https://github.com/scikit-learn/scikit-learn/issues/21755 */display: inline-block !important;position: relative;}#sk-container-id-1 div.sk-text-repr-fallback {display: none;}</style><div id=\"sk-container-id-1\" class=\"sk-top-container\"><div class=\"sk-text-repr-fallback\"><pre>GridSearchCV(cv=KFold(n_splits=3, random_state=313549, shuffle=True),\n",
       "             estimator=Pipeline(steps=[(&#x27;pipeline&#x27;,\n",
       "                                        Pipeline(steps=[(&#x27;scaler&#x27;,\n",
       "                                                         StandardScaler()),\n",
       "                                                        (&#x27;selector&#x27;,\n",
       "                                                         SelectKBest(score_func=&lt;function f_regression at 0x7fd1b942f280&gt;))])),\n",
       "                                       (&#x27;svm&#x27;, SVR(C=10, gamma=0.1))]),\n",
       "             param_grid={}, return_train_score=True,\n",
       "             scoring=&#x27;neg_mean_squared_error&#x27;)</pre><b>In a Jupyter environment, please rerun this cell to show the HTML representation or trust the notebook. <br />On GitHub, the HTML representation is unable to render, please try loading this page with nbviewer.org.</b></div><div class=\"sk-container\" hidden><div class=\"sk-item sk-dashed-wrapped\"><div class=\"sk-label-container\"><div class=\"sk-label sk-toggleable\"><input class=\"sk-toggleable__control sk-hidden--visually\" id=\"sk-estimator-id-1\" type=\"checkbox\" ><label for=\"sk-estimator-id-1\" class=\"sk-toggleable__label sk-toggleable__label-arrow\">GridSearchCV</label><div class=\"sk-toggleable__content\"><pre>GridSearchCV(cv=KFold(n_splits=3, random_state=313549, shuffle=True),\n",
       "             estimator=Pipeline(steps=[(&#x27;pipeline&#x27;,\n",
       "                                        Pipeline(steps=[(&#x27;scaler&#x27;,\n",
       "                                                         StandardScaler()),\n",
       "                                                        (&#x27;selector&#x27;,\n",
       "                                                         SelectKBest(score_func=&lt;function f_regression at 0x7fd1b942f280&gt;))])),\n",
       "                                       (&#x27;svm&#x27;, SVR(C=10, gamma=0.1))]),\n",
       "             param_grid={}, return_train_score=True,\n",
       "             scoring=&#x27;neg_mean_squared_error&#x27;)</pre></div></div></div><div class=\"sk-parallel\"><div class=\"sk-parallel-item\"><div class=\"sk-item\"><div class=\"sk-label-container\"><div class=\"sk-label sk-toggleable\"><input class=\"sk-toggleable__control sk-hidden--visually\" id=\"sk-estimator-id-2\" type=\"checkbox\" ><label for=\"sk-estimator-id-2\" class=\"sk-toggleable__label sk-toggleable__label-arrow\">estimator: Pipeline</label><div class=\"sk-toggleable__content\"><pre>Pipeline(steps=[(&#x27;pipeline&#x27;,\n",
       "                 Pipeline(steps=[(&#x27;scaler&#x27;, StandardScaler()),\n",
       "                                 (&#x27;selector&#x27;,\n",
       "                                  SelectKBest(score_func=&lt;function f_regression at 0x7fd1b942f280&gt;))])),\n",
       "                (&#x27;svm&#x27;, SVR(C=10, gamma=0.1))])</pre></div></div></div><div class=\"sk-serial\"><div class=\"sk-item\"><div class=\"sk-serial\"><div class=\"sk-item\"><div class=\"sk-label-container\"><div class=\"sk-label sk-toggleable\"><input class=\"sk-toggleable__control sk-hidden--visually\" id=\"sk-estimator-id-3\" type=\"checkbox\" ><label for=\"sk-estimator-id-3\" class=\"sk-toggleable__label sk-toggleable__label-arrow\">pipeline: Pipeline</label><div class=\"sk-toggleable__content\"><pre>Pipeline(steps=[(&#x27;scaler&#x27;, StandardScaler()),\n",
       "                (&#x27;selector&#x27;,\n",
       "                 SelectKBest(score_func=&lt;function f_regression at 0x7fd1b942f280&gt;))])</pre></div></div></div><div class=\"sk-serial\"><div class=\"sk-item\"><div class=\"sk-estimator sk-toggleable\"><input class=\"sk-toggleable__control sk-hidden--visually\" id=\"sk-estimator-id-4\" type=\"checkbox\" ><label for=\"sk-estimator-id-4\" class=\"sk-toggleable__label sk-toggleable__label-arrow\">StandardScaler</label><div class=\"sk-toggleable__content\"><pre>StandardScaler()</pre></div></div></div><div class=\"sk-item\"><div class=\"sk-estimator sk-toggleable\"><input class=\"sk-toggleable__control sk-hidden--visually\" id=\"sk-estimator-id-5\" type=\"checkbox\" ><label for=\"sk-estimator-id-5\" class=\"sk-toggleable__label sk-toggleable__label-arrow\">SelectKBest</label><div class=\"sk-toggleable__content\"><pre>SelectKBest(score_func=&lt;function f_regression at 0x7fd1b942f280&gt;)</pre></div></div></div></div></div><div class=\"sk-item\"><div class=\"sk-estimator sk-toggleable\"><input class=\"sk-toggleable__control sk-hidden--visually\" id=\"sk-estimator-id-6\" type=\"checkbox\" ><label for=\"sk-estimator-id-6\" class=\"sk-toggleable__label sk-toggleable__label-arrow\">SVR</label><div class=\"sk-toggleable__content\"><pre>SVR(C=10, gamma=0.1)</pre></div></div></div></div></div></div></div></div></div></div></div></div>"
      ],
      "text/plain": [
       "GridSearchCV(cv=KFold(n_splits=3, random_state=313549, shuffle=True),\n",
       "             estimator=Pipeline(steps=[('pipeline',\n",
       "                                        Pipeline(steps=[('scaler',\n",
       "                                                         StandardScaler()),\n",
       "                                                        ('selector',\n",
       "                                                         SelectKBest(score_func=<function f_regression at 0x7fd1b942f280>))])),\n",
       "                                       ('svm', SVR(C=10, gamma=0.1))]),\n",
       "             param_grid={}, return_train_score=True,\n",
       "             scoring='neg_mean_squared_error')"
      ]
     },
     "execution_count": 12,
     "metadata": {},
     "output_type": "execute_result"
    }
   ],
   "source": [
    "grid_pipeline_SVM.fit(X_train, y_train.values.ravel())"
   ]
  },
  {
   "cell_type": "code",
   "execution_count": 21,
   "id": "95d7c657",
   "metadata": {
    "id": "94aa9787",
    "outputId": "2889ea29-5195-4415-a9f2-eeb603bc324f",
    "scrolled": true
   },
   "outputs": [
    {
     "data": {
      "text/html": [
       "<div>\n",
       "<style scoped>\n",
       "    .dataframe tbody tr th:only-of-type {\n",
       "        vertical-align: middle;\n",
       "    }\n",
       "\n",
       "    .dataframe tbody tr th {\n",
       "        vertical-align: top;\n",
       "    }\n",
       "\n",
       "    .dataframe thead th {\n",
       "        text-align: right;\n",
       "    }\n",
       "</style>\n",
       "<table border=\"1\" class=\"dataframe\">\n",
       "  <thead>\n",
       "    <tr style=\"text-align: right;\">\n",
       "      <th></th>\n",
       "      <th>mean_test_neg_mean_squared_error</th>\n",
       "      <th>mean_train_neg_mean_squared_error</th>\n",
       "      <th>std_test_neg_mean_squared_error</th>\n",
       "      <th>std_train_neg_mean_squared_error</th>\n",
       "      <th>rank_test</th>\n",
       "    </tr>\n",
       "  </thead>\n",
       "  <tbody>\n",
       "    <tr>\n",
       "      <th>0</th>\n",
       "      <td>-100.317654</td>\n",
       "      <td>-96.007635</td>\n",
       "      <td>1.050979</td>\n",
       "      <td>0.834881</td>\n",
       "      <td>1</td>\n",
       "    </tr>\n",
       "  </tbody>\n",
       "</table>\n",
       "</div>"
      ],
      "text/plain": [
       "   mean_test_neg_mean_squared_error  mean_train_neg_mean_squared_error  \\\n",
       "0                       -100.317654                         -96.007635   \n",
       "\n",
       "   std_test_neg_mean_squared_error  std_train_neg_mean_squared_error  \\\n",
       "0                         1.050979                          0.834881   \n",
       "\n",
       "   rank_test  \n",
       "0          1  "
      ]
     },
     "execution_count": 21,
     "metadata": {},
     "output_type": "execute_result"
    }
   ],
   "source": [
    "results_SVM = pd.DataFrame({\n",
    "                     'mean_test_neg_mean_squared_error': grid_pipeline_SVM.cv_results_[\"mean_test_score\"],\n",
    "                     'mean_train_neg_mean_squared_error': grid_pipeline_SVM.cv_results_[\"mean_train_score\"],\n",
    "                     'std_test_neg_mean_squared_error': grid_pipeline_SVM.cv_results_[\"std_test_score\"],\n",
    "                     'std_train_neg_mean_squared_error': grid_pipeline_SVM.cv_results_[\"std_train_score\"],\n",
    "                     'rank_test': grid_pipeline_SVM.cv_results_[\"rank_test_score\"]})\n",
    "results_SVM.sort_values(by = 'rank_test')"
   ]
  },
  {
   "cell_type": "code",
   "execution_count": 15,
   "id": "e279a230",
   "metadata": {
    "id": "bc3fef32"
   },
   "outputs": [],
   "source": [
    "y_pred = pd.DataFrame(grid_pipeline_SVM.predict(X_test))"
   ]
  },
  {
   "cell_type": "code",
   "execution_count": 16,
   "id": "7ea872bb",
   "metadata": {
    "id": "78bfd749"
   },
   "outputs": [],
   "source": [
    "pd.DataFrame(y_pred).to_csv(\"SVM_wrapper.txt\", sep='\\t', index=False, header=False)"
   ]
  },
  {
   "cell_type": "markdown",
   "id": "4f51d479",
   "metadata": {
    "id": "e568e830"
   },
   "source": [
    "# Neural network"
   ]
  },
  {
   "cell_type": "code",
   "execution_count": 3,
   "id": "5d63fabe",
   "metadata": {
    "id": "6c1ae961"
   },
   "outputs": [],
   "source": [
    "pipeline = Pipeline([\n",
    "    ('scaler', StandardScaler()),\n",
    "    ('selector', SelectKBest(f_regression, k = 10))\n",
    "])"
   ]
  },
  {
   "cell_type": "markdown",
   "id": "584abb1f",
   "metadata": {
    "id": "7c73b323"
   },
   "source": [
    "## Fitting the whole training set"
   ]
  },
  {
   "cell_type": "code",
   "execution_count": 4,
   "id": "a31f7203",
   "metadata": {
    "id": "a32ba35f"
   },
   "outputs": [],
   "source": [
    "pipeline_NN = Pipeline([\n",
    "    ('pipeline', pipeline),\n",
    "    ('nn', MLPRegressor(max_iter = 10000, random_state = 313549))\n",
    "])"
   ]
  },
  {
   "cell_type": "code",
   "execution_count": 5,
   "id": "fd31608c",
   "metadata": {
    "id": "487cf271"
   },
   "outputs": [],
   "source": [
    "params = {\n",
    "    \"nn__hidden_layer_sizes\": [(4), (16), (4, 4)],\n",
    "    \"nn__solver\": ['sgd', 'adam']\n",
    "}"
   ]
  },
  {
   "cell_type": "code",
   "execution_count": 6,
   "id": "1f24e0a7",
   "metadata": {
    "id": "1b662467"
   },
   "outputs": [],
   "source": [
    "grid_pipeline_NN = GridSearchCV(pipeline_NN,\n",
    "                      cv = skm.KFold(3, random_state = 313549, shuffle=True),\n",
    "                      param_grid = params,\n",
    "                      scoring = 'neg_mean_squared_error',\n",
    "                      return_train_score = True)"
   ]
  },
  {
   "cell_type": "code",
   "execution_count": 7,
   "id": "cb6ccb12",
   "metadata": {
    "colab": {
     "base_uri": "https://localhost:8080/",
     "height": 723
    },
    "id": "2eaed00f",
    "outputId": "df2b8e41-02ea-4b61-a9c0-1083de22b838",
    "scrolled": true
   },
   "outputs": [
    {
     "name": "stderr",
     "output_type": "stream",
     "text": [
      "/Library/Frameworks/Python.framework/Versions/3.9/lib/python3.9/site-packages/sklearn/neural_network/_base.py:174: RuntimeWarning: overflow encountered in square\n",
      "  return ((y_true - y_pred) ** 2).mean() / 2\n",
      "/Library/Frameworks/Python.framework/Versions/3.9/lib/python3.9/site-packages/sklearn/utils/extmath.py:189: RuntimeWarning: overflow encountered in matmul\n",
      "  ret = a @ b\n",
      "/Library/Frameworks/Python.framework/Versions/3.9/lib/python3.9/site-packages/sklearn/utils/extmath.py:189: RuntimeWarning: invalid value encountered in matmul\n",
      "  ret = a @ b\n",
      "/Library/Frameworks/Python.framework/Versions/3.9/lib/python3.9/site-packages/sklearn/neural_network/_multilayer_perceptron.py:686: ConvergenceWarning: Stochastic Optimizer: Maximum iterations (10000) reached and the optimization hasn't converged yet.\n",
      "  warnings.warn(\n",
      "/Library/Frameworks/Python.framework/Versions/3.9/lib/python3.9/site-packages/sklearn/neural_network/_base.py:174: RuntimeWarning: overflow encountered in square\n",
      "  return ((y_true - y_pred) ** 2).mean() / 2\n",
      "/Library/Frameworks/Python.framework/Versions/3.9/lib/python3.9/site-packages/sklearn/utils/extmath.py:189: RuntimeWarning: overflow encountered in matmul\n",
      "  ret = a @ b\n",
      "/Library/Frameworks/Python.framework/Versions/3.9/lib/python3.9/site-packages/sklearn/utils/extmath.py:189: RuntimeWarning: invalid value encountered in matmul\n",
      "  ret = a @ b\n",
      "/Library/Frameworks/Python.framework/Versions/3.9/lib/python3.9/site-packages/sklearn/neural_network/_multilayer_perceptron.py:686: ConvergenceWarning: Stochastic Optimizer: Maximum iterations (10000) reached and the optimization hasn't converged yet.\n",
      "  warnings.warn(\n",
      "/Library/Frameworks/Python.framework/Versions/3.9/lib/python3.9/site-packages/sklearn/neural_network/_base.py:174: RuntimeWarning: overflow encountered in square\n",
      "  return ((y_true - y_pred) ** 2).mean() / 2\n",
      "/Library/Frameworks/Python.framework/Versions/3.9/lib/python3.9/site-packages/sklearn/utils/extmath.py:189: RuntimeWarning: overflow encountered in matmul\n",
      "  ret = a @ b\n",
      "/Library/Frameworks/Python.framework/Versions/3.9/lib/python3.9/site-packages/sklearn/utils/extmath.py:189: RuntimeWarning: invalid value encountered in matmul\n",
      "  ret = a @ b\n",
      "/Library/Frameworks/Python.framework/Versions/3.9/lib/python3.9/site-packages/sklearn/neural_network/_multilayer_perceptron.py:686: ConvergenceWarning: Stochastic Optimizer: Maximum iterations (10000) reached and the optimization hasn't converged yet.\n",
      "  warnings.warn(\n",
      "/Library/Frameworks/Python.framework/Versions/3.9/lib/python3.9/site-packages/sklearn/neural_network/_base.py:174: RuntimeWarning: overflow encountered in square\n",
      "  return ((y_true - y_pred) ** 2).mean() / 2\n",
      "/Library/Frameworks/Python.framework/Versions/3.9/lib/python3.9/site-packages/sklearn/utils/extmath.py:189: RuntimeWarning: overflow encountered in matmul\n",
      "  ret = a @ b\n",
      "/Library/Frameworks/Python.framework/Versions/3.9/lib/python3.9/site-packages/sklearn/utils/extmath.py:189: RuntimeWarning: invalid value encountered in matmul\n",
      "  ret = a @ b\n",
      "/Library/Frameworks/Python.framework/Versions/3.9/lib/python3.9/site-packages/sklearn/neural_network/_multilayer_perceptron.py:686: ConvergenceWarning: Stochastic Optimizer: Maximum iterations (10000) reached and the optimization hasn't converged yet.\n",
      "  warnings.warn(\n",
      "/Library/Frameworks/Python.framework/Versions/3.9/lib/python3.9/site-packages/sklearn/neural_network/_base.py:174: RuntimeWarning: overflow encountered in square\n",
      "  return ((y_true - y_pred) ** 2).mean() / 2\n",
      "/Library/Frameworks/Python.framework/Versions/3.9/lib/python3.9/site-packages/sklearn/utils/extmath.py:189: RuntimeWarning: overflow encountered in matmul\n",
      "  ret = a @ b\n",
      "/Library/Frameworks/Python.framework/Versions/3.9/lib/python3.9/site-packages/sklearn/utils/extmath.py:189: RuntimeWarning: invalid value encountered in matmul\n",
      "  ret = a @ b\n",
      "/Library/Frameworks/Python.framework/Versions/3.9/lib/python3.9/site-packages/sklearn/neural_network/_multilayer_perceptron.py:686: ConvergenceWarning: Stochastic Optimizer: Maximum iterations (10000) reached and the optimization hasn't converged yet.\n",
      "  warnings.warn(\n",
      "/Library/Frameworks/Python.framework/Versions/3.9/lib/python3.9/site-packages/sklearn/neural_network/_base.py:174: RuntimeWarning: overflow encountered in square\n",
      "  return ((y_true - y_pred) ** 2).mean() / 2\n",
      "/Library/Frameworks/Python.framework/Versions/3.9/lib/python3.9/site-packages/sklearn/utils/extmath.py:189: RuntimeWarning: overflow encountered in matmul\n",
      "  ret = a @ b\n",
      "/Library/Frameworks/Python.framework/Versions/3.9/lib/python3.9/site-packages/sklearn/utils/extmath.py:189: RuntimeWarning: invalid value encountered in matmul\n",
      "  ret = a @ b\n",
      "/Library/Frameworks/Python.framework/Versions/3.9/lib/python3.9/site-packages/numpy/core/_methods.py:181: RuntimeWarning: overflow encountered in reduce\n",
      "  ret = umr_sum(arr, axis, dtype, out, keepdims, where=where)\n",
      "/Library/Frameworks/Python.framework/Versions/3.9/lib/python3.9/site-packages/sklearn/neural_network/_multilayer_perceptron.py:170: RuntimeWarning: invalid value encountered in add\n",
      "  activations[i + 1] += self.intercepts_[i]\n",
      "/Library/Frameworks/Python.framework/Versions/3.9/lib/python3.9/site-packages/sklearn/neural_network/_multilayer_perceptron.py:686: ConvergenceWarning: Stochastic Optimizer: Maximum iterations (10000) reached and the optimization hasn't converged yet.\n",
      "  warnings.warn(\n",
      "/Library/Frameworks/Python.framework/Versions/3.9/lib/python3.9/site-packages/sklearn/neural_network/_multilayer_perceptron.py:686: ConvergenceWarning: Stochastic Optimizer: Maximum iterations (10000) reached and the optimization hasn't converged yet.\n",
      "  warnings.warn(\n",
      "/Library/Frameworks/Python.framework/Versions/3.9/lib/python3.9/site-packages/sklearn/neural_network/_multilayer_perceptron.py:686: ConvergenceWarning: Stochastic Optimizer: Maximum iterations (10000) reached and the optimization hasn't converged yet.\n",
      "  warnings.warn(\n",
      "/Library/Frameworks/Python.framework/Versions/3.9/lib/python3.9/site-packages/sklearn/neural_network/_multilayer_perceptron.py:686: ConvergenceWarning: Stochastic Optimizer: Maximum iterations (10000) reached and the optimization hasn't converged yet.\n",
      "  warnings.warn(\n",
      "/Library/Frameworks/Python.framework/Versions/3.9/lib/python3.9/site-packages/sklearn/model_selection/_validation.py:378: FitFailedWarning: \n",
      "6 fits failed out of a total of 18.\n",
      "The score on these train-test partitions for these parameters will be set to nan.\n",
      "If these failures are not expected, you can try to debug them by setting error_score='raise'.\n",
      "\n",
      "Below are more details about the failures:\n",
      "--------------------------------------------------------------------------------\n",
      "6 fits failed with the following error:\n",
      "Traceback (most recent call last):\n",
      "  File \"/Library/Frameworks/Python.framework/Versions/3.9/lib/python3.9/site-packages/sklearn/model_selection/_validation.py\", line 686, in _fit_and_score\n",
      "    estimator.fit(X_train, y_train, **fit_params)\n",
      "  File \"/Library/Frameworks/Python.framework/Versions/3.9/lib/python3.9/site-packages/sklearn/pipeline.py\", line 405, in fit\n",
      "    self._final_estimator.fit(Xt, y, **fit_params_last_step)\n",
      "  File \"/Library/Frameworks/Python.framework/Versions/3.9/lib/python3.9/site-packages/sklearn/neural_network/_multilayer_perceptron.py\", line 749, in fit\n",
      "    return self._fit(X, y, incremental=False)\n",
      "  File \"/Library/Frameworks/Python.framework/Versions/3.9/lib/python3.9/site-packages/sklearn/neural_network/_multilayer_perceptron.py\", line 491, in _fit\n",
      "    raise ValueError(\n",
      "ValueError: Solver produced non-finite parameter weights. The input data may contain large values and need to be preprocessed.\n",
      "\n",
      "  warnings.warn(some_fits_failed_message, FitFailedWarning)\n",
      "/Library/Frameworks/Python.framework/Versions/3.9/lib/python3.9/site-packages/sklearn/model_selection/_search.py:952: UserWarning: One or more of the test scores are non-finite: [          nan -107.50740039           nan -107.36712119 -120.20551884\n",
      " -107.99986335]\n",
      "  warnings.warn(\n",
      "/Library/Frameworks/Python.framework/Versions/3.9/lib/python3.9/site-packages/sklearn/model_selection/_search.py:952: UserWarning: One or more of the train scores are non-finite: [          nan -107.26892401           nan -106.90550048 -120.20394717\n",
      " -107.48337201]\n",
      "  warnings.warn(\n"
     ]
    },
    {
     "data": {
      "text/html": [
       "<style>#sk-container-id-1 {color: black;background-color: white;}#sk-container-id-1 pre{padding: 0;}#sk-container-id-1 div.sk-toggleable {background-color: white;}#sk-container-id-1 label.sk-toggleable__label {cursor: pointer;display: block;width: 100%;margin-bottom: 0;padding: 0.3em;box-sizing: border-box;text-align: center;}#sk-container-id-1 label.sk-toggleable__label-arrow:before {content: \"▸\";float: left;margin-right: 0.25em;color: #696969;}#sk-container-id-1 label.sk-toggleable__label-arrow:hover:before {color: black;}#sk-container-id-1 div.sk-estimator:hover label.sk-toggleable__label-arrow:before {color: black;}#sk-container-id-1 div.sk-toggleable__content {max-height: 0;max-width: 0;overflow: hidden;text-align: left;background-color: #f0f8ff;}#sk-container-id-1 div.sk-toggleable__content pre {margin: 0.2em;color: black;border-radius: 0.25em;background-color: #f0f8ff;}#sk-container-id-1 input.sk-toggleable__control:checked~div.sk-toggleable__content {max-height: 200px;max-width: 100%;overflow: auto;}#sk-container-id-1 input.sk-toggleable__control:checked~label.sk-toggleable__label-arrow:before {content: \"▾\";}#sk-container-id-1 div.sk-estimator input.sk-toggleable__control:checked~label.sk-toggleable__label {background-color: #d4ebff;}#sk-container-id-1 div.sk-label input.sk-toggleable__control:checked~label.sk-toggleable__label {background-color: #d4ebff;}#sk-container-id-1 input.sk-hidden--visually {border: 0;clip: rect(1px 1px 1px 1px);clip: rect(1px, 1px, 1px, 1px);height: 1px;margin: -1px;overflow: hidden;padding: 0;position: absolute;width: 1px;}#sk-container-id-1 div.sk-estimator {font-family: monospace;background-color: #f0f8ff;border: 1px dotted black;border-radius: 0.25em;box-sizing: border-box;margin-bottom: 0.5em;}#sk-container-id-1 div.sk-estimator:hover {background-color: #d4ebff;}#sk-container-id-1 div.sk-parallel-item::after {content: \"\";width: 100%;border-bottom: 1px solid gray;flex-grow: 1;}#sk-container-id-1 div.sk-label:hover label.sk-toggleable__label {background-color: #d4ebff;}#sk-container-id-1 div.sk-serial::before {content: \"\";position: absolute;border-left: 1px solid gray;box-sizing: border-box;top: 0;bottom: 0;left: 50%;z-index: 0;}#sk-container-id-1 div.sk-serial {display: flex;flex-direction: column;align-items: center;background-color: white;padding-right: 0.2em;padding-left: 0.2em;position: relative;}#sk-container-id-1 div.sk-item {position: relative;z-index: 1;}#sk-container-id-1 div.sk-parallel {display: flex;align-items: stretch;justify-content: center;background-color: white;position: relative;}#sk-container-id-1 div.sk-item::before, #sk-container-id-1 div.sk-parallel-item::before {content: \"\";position: absolute;border-left: 1px solid gray;box-sizing: border-box;top: 0;bottom: 0;left: 50%;z-index: -1;}#sk-container-id-1 div.sk-parallel-item {display: flex;flex-direction: column;z-index: 1;position: relative;background-color: white;}#sk-container-id-1 div.sk-parallel-item:first-child::after {align-self: flex-end;width: 50%;}#sk-container-id-1 div.sk-parallel-item:last-child::after {align-self: flex-start;width: 50%;}#sk-container-id-1 div.sk-parallel-item:only-child::after {width: 0;}#sk-container-id-1 div.sk-dashed-wrapped {border: 1px dashed gray;margin: 0 0.4em 0.5em 0.4em;box-sizing: border-box;padding-bottom: 0.4em;background-color: white;}#sk-container-id-1 div.sk-label label {font-family: monospace;font-weight: bold;display: inline-block;line-height: 1.2em;}#sk-container-id-1 div.sk-label-container {text-align: center;}#sk-container-id-1 div.sk-container {/* jupyter's `normalize.less` sets `[hidden] { display: none; }` but bootstrap.min.css set `[hidden] { display: none !important; }` so we also need the `!important` here to be able to override the default hidden behavior on the sphinx rendered scikit-learn.org. See: https://github.com/scikit-learn/scikit-learn/issues/21755 */display: inline-block !important;position: relative;}#sk-container-id-1 div.sk-text-repr-fallback {display: none;}</style><div id=\"sk-container-id-1\" class=\"sk-top-container\"><div class=\"sk-text-repr-fallback\"><pre>GridSearchCV(cv=KFold(n_splits=3, random_state=313549, shuffle=True),\n",
       "             estimator=Pipeline(steps=[(&#x27;pipeline&#x27;,\n",
       "                                        Pipeline(steps=[(&#x27;scaler&#x27;,\n",
       "                                                         StandardScaler()),\n",
       "                                                        (&#x27;selector&#x27;,\n",
       "                                                         SelectKBest(score_func=&lt;function f_regression at 0x7fdbd3432280&gt;))])),\n",
       "                                       (&#x27;nn&#x27;,\n",
       "                                        MLPRegressor(max_iter=10000,\n",
       "                                                     random_state=313549))]),\n",
       "             param_grid={&#x27;nn__hidden_layer_sizes&#x27;: [4, 16, (4, 4)],\n",
       "                         &#x27;nn__solver&#x27;: [&#x27;sgd&#x27;, &#x27;adam&#x27;]},\n",
       "             return_train_score=True, scoring=&#x27;neg_mean_squared_error&#x27;)</pre><b>In a Jupyter environment, please rerun this cell to show the HTML representation or trust the notebook. <br />On GitHub, the HTML representation is unable to render, please try loading this page with nbviewer.org.</b></div><div class=\"sk-container\" hidden><div class=\"sk-item sk-dashed-wrapped\"><div class=\"sk-label-container\"><div class=\"sk-label sk-toggleable\"><input class=\"sk-toggleable__control sk-hidden--visually\" id=\"sk-estimator-id-1\" type=\"checkbox\" ><label for=\"sk-estimator-id-1\" class=\"sk-toggleable__label sk-toggleable__label-arrow\">GridSearchCV</label><div class=\"sk-toggleable__content\"><pre>GridSearchCV(cv=KFold(n_splits=3, random_state=313549, shuffle=True),\n",
       "             estimator=Pipeline(steps=[(&#x27;pipeline&#x27;,\n",
       "                                        Pipeline(steps=[(&#x27;scaler&#x27;,\n",
       "                                                         StandardScaler()),\n",
       "                                                        (&#x27;selector&#x27;,\n",
       "                                                         SelectKBest(score_func=&lt;function f_regression at 0x7fdbd3432280&gt;))])),\n",
       "                                       (&#x27;nn&#x27;,\n",
       "                                        MLPRegressor(max_iter=10000,\n",
       "                                                     random_state=313549))]),\n",
       "             param_grid={&#x27;nn__hidden_layer_sizes&#x27;: [4, 16, (4, 4)],\n",
       "                         &#x27;nn__solver&#x27;: [&#x27;sgd&#x27;, &#x27;adam&#x27;]},\n",
       "             return_train_score=True, scoring=&#x27;neg_mean_squared_error&#x27;)</pre></div></div></div><div class=\"sk-parallel\"><div class=\"sk-parallel-item\"><div class=\"sk-item\"><div class=\"sk-label-container\"><div class=\"sk-label sk-toggleable\"><input class=\"sk-toggleable__control sk-hidden--visually\" id=\"sk-estimator-id-2\" type=\"checkbox\" ><label for=\"sk-estimator-id-2\" class=\"sk-toggleable__label sk-toggleable__label-arrow\">estimator: Pipeline</label><div class=\"sk-toggleable__content\"><pre>Pipeline(steps=[(&#x27;pipeline&#x27;,\n",
       "                 Pipeline(steps=[(&#x27;scaler&#x27;, StandardScaler()),\n",
       "                                 (&#x27;selector&#x27;,\n",
       "                                  SelectKBest(score_func=&lt;function f_regression at 0x7fdbd3432280&gt;))])),\n",
       "                (&#x27;nn&#x27;, MLPRegressor(max_iter=10000, random_state=313549))])</pre></div></div></div><div class=\"sk-serial\"><div class=\"sk-item\"><div class=\"sk-serial\"><div class=\"sk-item\"><div class=\"sk-label-container\"><div class=\"sk-label sk-toggleable\"><input class=\"sk-toggleable__control sk-hidden--visually\" id=\"sk-estimator-id-3\" type=\"checkbox\" ><label for=\"sk-estimator-id-3\" class=\"sk-toggleable__label sk-toggleable__label-arrow\">pipeline: Pipeline</label><div class=\"sk-toggleable__content\"><pre>Pipeline(steps=[(&#x27;scaler&#x27;, StandardScaler()),\n",
       "                (&#x27;selector&#x27;,\n",
       "                 SelectKBest(score_func=&lt;function f_regression at 0x7fdbd3432280&gt;))])</pre></div></div></div><div class=\"sk-serial\"><div class=\"sk-item\"><div class=\"sk-estimator sk-toggleable\"><input class=\"sk-toggleable__control sk-hidden--visually\" id=\"sk-estimator-id-4\" type=\"checkbox\" ><label for=\"sk-estimator-id-4\" class=\"sk-toggleable__label sk-toggleable__label-arrow\">StandardScaler</label><div class=\"sk-toggleable__content\"><pre>StandardScaler()</pre></div></div></div><div class=\"sk-item\"><div class=\"sk-estimator sk-toggleable\"><input class=\"sk-toggleable__control sk-hidden--visually\" id=\"sk-estimator-id-5\" type=\"checkbox\" ><label for=\"sk-estimator-id-5\" class=\"sk-toggleable__label sk-toggleable__label-arrow\">SelectKBest</label><div class=\"sk-toggleable__content\"><pre>SelectKBest(score_func=&lt;function f_regression at 0x7fdbd3432280&gt;)</pre></div></div></div></div></div><div class=\"sk-item\"><div class=\"sk-estimator sk-toggleable\"><input class=\"sk-toggleable__control sk-hidden--visually\" id=\"sk-estimator-id-6\" type=\"checkbox\" ><label for=\"sk-estimator-id-6\" class=\"sk-toggleable__label sk-toggleable__label-arrow\">MLPRegressor</label><div class=\"sk-toggleable__content\"><pre>MLPRegressor(max_iter=10000, random_state=313549)</pre></div></div></div></div></div></div></div></div></div></div></div></div>"
      ],
      "text/plain": [
       "GridSearchCV(cv=KFold(n_splits=3, random_state=313549, shuffle=True),\n",
       "             estimator=Pipeline(steps=[('pipeline',\n",
       "                                        Pipeline(steps=[('scaler',\n",
       "                                                         StandardScaler()),\n",
       "                                                        ('selector',\n",
       "                                                         SelectKBest(score_func=<function f_regression at 0x7fdbd3432280>))])),\n",
       "                                       ('nn',\n",
       "                                        MLPRegressor(max_iter=10000,\n",
       "                                                     random_state=313549))]),\n",
       "             param_grid={'nn__hidden_layer_sizes': [4, 16, (4, 4)],\n",
       "                         'nn__solver': ['sgd', 'adam']},\n",
       "             return_train_score=True, scoring='neg_mean_squared_error')"
      ]
     },
     "execution_count": 7,
     "metadata": {},
     "output_type": "execute_result"
    }
   ],
   "source": [
    "grid_pipeline_NN.fit(X_train, y_train.values.ravel())"
   ]
  },
  {
   "cell_type": "code",
   "execution_count": 8,
   "id": "a0108229",
   "metadata": {
    "colab": {
     "base_uri": "https://localhost:8080/",
     "height": 211
    },
    "id": "7d198ab4",
    "outputId": "ef650eaf-c83a-4f70-ad19-9e01b6d764aa"
   },
   "outputs": [
    {
     "data": {
      "text/html": [
       "<div>\n",
       "<style scoped>\n",
       "    .dataframe tbody tr th:only-of-type {\n",
       "        vertical-align: middle;\n",
       "    }\n",
       "\n",
       "    .dataframe tbody tr th {\n",
       "        vertical-align: top;\n",
       "    }\n",
       "\n",
       "    .dataframe thead th {\n",
       "        text-align: right;\n",
       "    }\n",
       "</style>\n",
       "<table border=\"1\" class=\"dataframe\">\n",
       "  <thead>\n",
       "    <tr style=\"text-align: right;\">\n",
       "      <th></th>\n",
       "      <th>nn__hidden_layer_sizes</th>\n",
       "      <th>nn__solver</th>\n",
       "      <th>mean_test_reg_mean_squared_error</th>\n",
       "      <th>mean_train_reg_mean_squared_error</th>\n",
       "      <th>std_test_neg_mean_squared_error</th>\n",
       "      <th>std_train_neg_mean_squared_error</th>\n",
       "      <th>rank_test</th>\n",
       "    </tr>\n",
       "  </thead>\n",
       "  <tbody>\n",
       "    <tr>\n",
       "      <th>3</th>\n",
       "      <td>16</td>\n",
       "      <td>adam</td>\n",
       "      <td>-107.367121</td>\n",
       "      <td>-106.905500</td>\n",
       "      <td>1.640403</td>\n",
       "      <td>0.446652</td>\n",
       "      <td>1</td>\n",
       "    </tr>\n",
       "    <tr>\n",
       "      <th>1</th>\n",
       "      <td>4</td>\n",
       "      <td>adam</td>\n",
       "      <td>-107.507400</td>\n",
       "      <td>-107.268924</td>\n",
       "      <td>0.982421</td>\n",
       "      <td>0.497676</td>\n",
       "      <td>2</td>\n",
       "    </tr>\n",
       "    <tr>\n",
       "      <th>5</th>\n",
       "      <td>(4, 4)</td>\n",
       "      <td>adam</td>\n",
       "      <td>-107.999863</td>\n",
       "      <td>-107.483372</td>\n",
       "      <td>1.525122</td>\n",
       "      <td>1.267789</td>\n",
       "      <td>3</td>\n",
       "    </tr>\n",
       "    <tr>\n",
       "      <th>4</th>\n",
       "      <td>(4, 4)</td>\n",
       "      <td>sgd</td>\n",
       "      <td>-120.205519</td>\n",
       "      <td>-120.203947</td>\n",
       "      <td>1.291545</td>\n",
       "      <td>0.643717</td>\n",
       "      <td>4</td>\n",
       "    </tr>\n",
       "    <tr>\n",
       "      <th>0</th>\n",
       "      <td>4</td>\n",
       "      <td>sgd</td>\n",
       "      <td>NaN</td>\n",
       "      <td>NaN</td>\n",
       "      <td>NaN</td>\n",
       "      <td>NaN</td>\n",
       "      <td>5</td>\n",
       "    </tr>\n",
       "    <tr>\n",
       "      <th>2</th>\n",
       "      <td>16</td>\n",
       "      <td>sgd</td>\n",
       "      <td>NaN</td>\n",
       "      <td>NaN</td>\n",
       "      <td>NaN</td>\n",
       "      <td>NaN</td>\n",
       "      <td>5</td>\n",
       "    </tr>\n",
       "  </tbody>\n",
       "</table>\n",
       "</div>"
      ],
      "text/plain": [
       "  nn__hidden_layer_sizes nn__solver  mean_test_reg_mean_squared_error  \\\n",
       "3                     16       adam                       -107.367121   \n",
       "1                      4       adam                       -107.507400   \n",
       "5                 (4, 4)       adam                       -107.999863   \n",
       "4                 (4, 4)        sgd                       -120.205519   \n",
       "0                      4        sgd                               NaN   \n",
       "2                     16        sgd                               NaN   \n",
       "\n",
       "   mean_train_reg_mean_squared_error  std_test_neg_mean_squared_error  \\\n",
       "3                        -106.905500                         1.640403   \n",
       "1                        -107.268924                         0.982421   \n",
       "5                        -107.483372                         1.525122   \n",
       "4                        -120.203947                         1.291545   \n",
       "0                                NaN                              NaN   \n",
       "2                                NaN                              NaN   \n",
       "\n",
       "   std_train_neg_mean_squared_error  rank_test  \n",
       "3                          0.446652          1  \n",
       "1                          0.497676          2  \n",
       "5                          1.267789          3  \n",
       "4                          0.643717          4  \n",
       "0                               NaN          5  \n",
       "2                               NaN          5  "
      ]
     },
     "execution_count": 8,
     "metadata": {},
     "output_type": "execute_result"
    }
   ],
   "source": [
    "results_NN = pd.DataFrame({'nn__hidden_layer_sizes': grid_pipeline_NN.cv_results_[\"param_nn__hidden_layer_sizes\"],\n",
    "                           'nn__solver': grid_pipeline_NN.cv_results_[\"param_nn__solver\"],\n",
    "                     'mean_test_reg_mean_squared_error': grid_pipeline_NN.cv_results_[\"mean_test_score\"],\n",
    "                     'mean_train_reg_mean_squared_error': grid_pipeline_NN.cv_results_[\"mean_train_score\"],\n",
    "                     'std_test_neg_mean_squared_error': grid_pipeline_NN.cv_results_[\"std_test_score\"],\n",
    "                     'std_train_neg_mean_squared_error': grid_pipeline_NN.cv_results_[\"std_train_score\"],\n",
    "                     'rank_test': grid_pipeline_NN.cv_results_[\"rank_test_score\"]})\n",
    "results_NN.sort_values(by = 'rank_test')"
   ]
  },
  {
   "cell_type": "code",
   "execution_count": 9,
   "id": "d8307eac",
   "metadata": {
    "id": "1c441007"
   },
   "outputs": [],
   "source": [
    "y_pred = pd.DataFrame(grid_pipeline_NN.predict(X_test))"
   ]
  },
  {
   "cell_type": "code",
   "execution_count": 11,
   "id": "d90847e6",
   "metadata": {
    "id": "e5928a80"
   },
   "outputs": [],
   "source": [
    "pd.DataFrame(y_pred).to_csv(\"neural_network_wrapper.txt\", sep='\\t', index=False, header=False)"
   ]
  },
  {
   "cell_type": "markdown",
   "id": "4870b479",
   "metadata": {
    "id": "Dyc-9BF5aRLP"
   },
   "source": [
    "# XGBoost"
   ]
  },
  {
   "cell_type": "code",
   "execution_count": 44,
   "id": "d0ae58a9",
   "metadata": {
    "id": "3hscTM9BaEjW"
   },
   "outputs": [],
   "source": [
    "pipeline = Pipeline([\n",
    "    ('scaler', StandardScaler()),\n",
    "    ('selector', SelectKBest(f_regression, k = 10))\n",
    "])"
   ]
  },
  {
   "cell_type": "markdown",
   "id": "b55c9a4b",
   "metadata": {
    "id": "JveCHtE-aoxf"
   },
   "source": [
    "## Fitting the whole training set"
   ]
  },
  {
   "cell_type": "code",
   "execution_count": 45,
   "id": "26ae4097",
   "metadata": {
    "id": "avuYW44eaEJv"
   },
   "outputs": [],
   "source": [
    "pipeline_xgb = Pipeline([\n",
    "    ('pipeline', pipeline),\n",
    "    ('xgb', xgboost.XGBRegressor(objective='reg:squarederror', n_estimators = 400, random_state = 313549))\n",
    "])"
   ]
  },
  {
   "cell_type": "code",
   "execution_count": 46,
   "id": "a0ecbd19",
   "metadata": {
    "id": "GzKA_onoaD4x"
   },
   "outputs": [],
   "source": [
    "params = {\n",
    "    \"xgb__eta\": [0.3, 0.1, 0.03],\n",
    "    \"xgb__gamma\": [0, 0.1, 1],\n",
    "    \"xgb__max_depth\": [10, 20]\n",
    "}"
   ]
  },
  {
   "cell_type": "code",
   "execution_count": 47,
   "id": "5df136cc",
   "metadata": {
    "id": "n6OJO1HVZ685"
   },
   "outputs": [],
   "source": [
    "grid_pipeline_xgb = GridSearchCV(pipeline_xgb,\n",
    "                      cv = skm.KFold(3, random_state = 313549, shuffle=True),\n",
    "                      param_grid = params,\n",
    "                      scoring = 'neg_mean_squared_error',\n",
    "                      return_train_score = True)"
   ]
  },
  {
   "cell_type": "code",
   "execution_count": 48,
   "id": "cad3bc6d",
   "metadata": {
    "id": "00IiyDvEZ5t7",
    "scrolled": false
   },
   "outputs": [
    {
     "data": {
      "text/html": [
       "<style>#sk-container-id-3 {color: black;background-color: white;}#sk-container-id-3 pre{padding: 0;}#sk-container-id-3 div.sk-toggleable {background-color: white;}#sk-container-id-3 label.sk-toggleable__label {cursor: pointer;display: block;width: 100%;margin-bottom: 0;padding: 0.3em;box-sizing: border-box;text-align: center;}#sk-container-id-3 label.sk-toggleable__label-arrow:before {content: \"▸\";float: left;margin-right: 0.25em;color: #696969;}#sk-container-id-3 label.sk-toggleable__label-arrow:hover:before {color: black;}#sk-container-id-3 div.sk-estimator:hover label.sk-toggleable__label-arrow:before {color: black;}#sk-container-id-3 div.sk-toggleable__content {max-height: 0;max-width: 0;overflow: hidden;text-align: left;background-color: #f0f8ff;}#sk-container-id-3 div.sk-toggleable__content pre {margin: 0.2em;color: black;border-radius: 0.25em;background-color: #f0f8ff;}#sk-container-id-3 input.sk-toggleable__control:checked~div.sk-toggleable__content {max-height: 200px;max-width: 100%;overflow: auto;}#sk-container-id-3 input.sk-toggleable__control:checked~label.sk-toggleable__label-arrow:before {content: \"▾\";}#sk-container-id-3 div.sk-estimator input.sk-toggleable__control:checked~label.sk-toggleable__label {background-color: #d4ebff;}#sk-container-id-3 div.sk-label input.sk-toggleable__control:checked~label.sk-toggleable__label {background-color: #d4ebff;}#sk-container-id-3 input.sk-hidden--visually {border: 0;clip: rect(1px 1px 1px 1px);clip: rect(1px, 1px, 1px, 1px);height: 1px;margin: -1px;overflow: hidden;padding: 0;position: absolute;width: 1px;}#sk-container-id-3 div.sk-estimator {font-family: monospace;background-color: #f0f8ff;border: 1px dotted black;border-radius: 0.25em;box-sizing: border-box;margin-bottom: 0.5em;}#sk-container-id-3 div.sk-estimator:hover {background-color: #d4ebff;}#sk-container-id-3 div.sk-parallel-item::after {content: \"\";width: 100%;border-bottom: 1px solid gray;flex-grow: 1;}#sk-container-id-3 div.sk-label:hover label.sk-toggleable__label {background-color: #d4ebff;}#sk-container-id-3 div.sk-serial::before {content: \"\";position: absolute;border-left: 1px solid gray;box-sizing: border-box;top: 0;bottom: 0;left: 50%;z-index: 0;}#sk-container-id-3 div.sk-serial {display: flex;flex-direction: column;align-items: center;background-color: white;padding-right: 0.2em;padding-left: 0.2em;position: relative;}#sk-container-id-3 div.sk-item {position: relative;z-index: 1;}#sk-container-id-3 div.sk-parallel {display: flex;align-items: stretch;justify-content: center;background-color: white;position: relative;}#sk-container-id-3 div.sk-item::before, #sk-container-id-3 div.sk-parallel-item::before {content: \"\";position: absolute;border-left: 1px solid gray;box-sizing: border-box;top: 0;bottom: 0;left: 50%;z-index: -1;}#sk-container-id-3 div.sk-parallel-item {display: flex;flex-direction: column;z-index: 1;position: relative;background-color: white;}#sk-container-id-3 div.sk-parallel-item:first-child::after {align-self: flex-end;width: 50%;}#sk-container-id-3 div.sk-parallel-item:last-child::after {align-self: flex-start;width: 50%;}#sk-container-id-3 div.sk-parallel-item:only-child::after {width: 0;}#sk-container-id-3 div.sk-dashed-wrapped {border: 1px dashed gray;margin: 0 0.4em 0.5em 0.4em;box-sizing: border-box;padding-bottom: 0.4em;background-color: white;}#sk-container-id-3 div.sk-label label {font-family: monospace;font-weight: bold;display: inline-block;line-height: 1.2em;}#sk-container-id-3 div.sk-label-container {text-align: center;}#sk-container-id-3 div.sk-container {/* jupyter's `normalize.less` sets `[hidden] { display: none; }` but bootstrap.min.css set `[hidden] { display: none !important; }` so we also need the `!important` here to be able to override the default hidden behavior on the sphinx rendered scikit-learn.org. See: https://github.com/scikit-learn/scikit-learn/issues/21755 */display: inline-block !important;position: relative;}#sk-container-id-3 div.sk-text-repr-fallback {display: none;}</style><div id=\"sk-container-id-3\" class=\"sk-top-container\"><div class=\"sk-text-repr-fallback\"><pre>GridSearchCV(cv=KFold(n_splits=3, random_state=313549, shuffle=True),\n",
       "             estimator=Pipeline(steps=[(&#x27;pipeline&#x27;,\n",
       "                                        Pipeline(steps=[(&#x27;scaler&#x27;,\n",
       "                                                         StandardScaler()),\n",
       "                                                        (&#x27;selector&#x27;,\n",
       "                                                         SelectKBest(score_func=&lt;function f_regression at 0x7fd1b942f280&gt;))])),\n",
       "                                       (&#x27;xgb&#x27;,\n",
       "                                        XGBRegressor(base_score=None,\n",
       "                                                     booster=None,\n",
       "                                                     callbacks=None,\n",
       "                                                     colsample_bylevel=None,\n",
       "                                                     colsample_bynode=None,\n",
       "                                                     colsample_byt...\n",
       "                                                     max_delta_step=None,\n",
       "                                                     max_depth=None,\n",
       "                                                     max_leaves=None,\n",
       "                                                     min_child_weight=None,\n",
       "                                                     missing=nan,\n",
       "                                                     monotone_constraints=None,\n",
       "                                                     multi_strategy=None,\n",
       "                                                     n_estimators=400,\n",
       "                                                     n_jobs=None,\n",
       "                                                     num_parallel_tree=None,\n",
       "                                                     random_state=313549, ...))]),\n",
       "             param_grid={&#x27;xgb__eta&#x27;: [0.3, 0.1, 0.03],\n",
       "                         &#x27;xgb__gamma&#x27;: [0, 0.1, 1],\n",
       "                         &#x27;xgb__max_depth&#x27;: [10, 20]},\n",
       "             return_train_score=True, scoring=&#x27;neg_mean_squared_error&#x27;)</pre><b>In a Jupyter environment, please rerun this cell to show the HTML representation or trust the notebook. <br />On GitHub, the HTML representation is unable to render, please try loading this page with nbviewer.org.</b></div><div class=\"sk-container\" hidden><div class=\"sk-item sk-dashed-wrapped\"><div class=\"sk-label-container\"><div class=\"sk-label sk-toggleable\"><input class=\"sk-toggleable__control sk-hidden--visually\" id=\"sk-estimator-id-13\" type=\"checkbox\" ><label for=\"sk-estimator-id-13\" class=\"sk-toggleable__label sk-toggleable__label-arrow\">GridSearchCV</label><div class=\"sk-toggleable__content\"><pre>GridSearchCV(cv=KFold(n_splits=3, random_state=313549, shuffle=True),\n",
       "             estimator=Pipeline(steps=[(&#x27;pipeline&#x27;,\n",
       "                                        Pipeline(steps=[(&#x27;scaler&#x27;,\n",
       "                                                         StandardScaler()),\n",
       "                                                        (&#x27;selector&#x27;,\n",
       "                                                         SelectKBest(score_func=&lt;function f_regression at 0x7fd1b942f280&gt;))])),\n",
       "                                       (&#x27;xgb&#x27;,\n",
       "                                        XGBRegressor(base_score=None,\n",
       "                                                     booster=None,\n",
       "                                                     callbacks=None,\n",
       "                                                     colsample_bylevel=None,\n",
       "                                                     colsample_bynode=None,\n",
       "                                                     colsample_byt...\n",
       "                                                     max_delta_step=None,\n",
       "                                                     max_depth=None,\n",
       "                                                     max_leaves=None,\n",
       "                                                     min_child_weight=None,\n",
       "                                                     missing=nan,\n",
       "                                                     monotone_constraints=None,\n",
       "                                                     multi_strategy=None,\n",
       "                                                     n_estimators=400,\n",
       "                                                     n_jobs=None,\n",
       "                                                     num_parallel_tree=None,\n",
       "                                                     random_state=313549, ...))]),\n",
       "             param_grid={&#x27;xgb__eta&#x27;: [0.3, 0.1, 0.03],\n",
       "                         &#x27;xgb__gamma&#x27;: [0, 0.1, 1],\n",
       "                         &#x27;xgb__max_depth&#x27;: [10, 20]},\n",
       "             return_train_score=True, scoring=&#x27;neg_mean_squared_error&#x27;)</pre></div></div></div><div class=\"sk-parallel\"><div class=\"sk-parallel-item\"><div class=\"sk-item\"><div class=\"sk-label-container\"><div class=\"sk-label sk-toggleable\"><input class=\"sk-toggleable__control sk-hidden--visually\" id=\"sk-estimator-id-14\" type=\"checkbox\" ><label for=\"sk-estimator-id-14\" class=\"sk-toggleable__label sk-toggleable__label-arrow\">estimator: Pipeline</label><div class=\"sk-toggleable__content\"><pre>Pipeline(steps=[(&#x27;pipeline&#x27;,\n",
       "                 Pipeline(steps=[(&#x27;scaler&#x27;, StandardScaler()),\n",
       "                                 (&#x27;selector&#x27;,\n",
       "                                  SelectKBest(score_func=&lt;function f_regression at 0x7fd1b942f280&gt;))])),\n",
       "                (&#x27;xgb&#x27;,\n",
       "                 XGBRegressor(base_score=None, booster=None, callbacks=None,\n",
       "                              colsample_bylevel=None, colsample_bynode=None,\n",
       "                              colsample_bytree=None, device=None,\n",
       "                              early_stopping_rounds=None,\n",
       "                              enable_categorical=False, eval...\n",
       "                              feature_types=None, gamma=None, grow_policy=None,\n",
       "                              importance_type=None,\n",
       "                              interaction_constraints=None, learning_rate=None,\n",
       "                              max_bin=None, max_cat_threshold=None,\n",
       "                              max_cat_to_onehot=None, max_delta_step=None,\n",
       "                              max_depth=None, max_leaves=None,\n",
       "                              min_child_weight=None, missing=nan,\n",
       "                              monotone_constraints=None, multi_strategy=None,\n",
       "                              n_estimators=400, n_jobs=None,\n",
       "                              num_parallel_tree=None, random_state=313549, ...))])</pre></div></div></div><div class=\"sk-serial\"><div class=\"sk-item\"><div class=\"sk-serial\"><div class=\"sk-item\"><div class=\"sk-label-container\"><div class=\"sk-label sk-toggleable\"><input class=\"sk-toggleable__control sk-hidden--visually\" id=\"sk-estimator-id-15\" type=\"checkbox\" ><label for=\"sk-estimator-id-15\" class=\"sk-toggleable__label sk-toggleable__label-arrow\">pipeline: Pipeline</label><div class=\"sk-toggleable__content\"><pre>Pipeline(steps=[(&#x27;scaler&#x27;, StandardScaler()),\n",
       "                (&#x27;selector&#x27;,\n",
       "                 SelectKBest(score_func=&lt;function f_regression at 0x7fd1b942f280&gt;))])</pre></div></div></div><div class=\"sk-serial\"><div class=\"sk-item\"><div class=\"sk-estimator sk-toggleable\"><input class=\"sk-toggleable__control sk-hidden--visually\" id=\"sk-estimator-id-16\" type=\"checkbox\" ><label for=\"sk-estimator-id-16\" class=\"sk-toggleable__label sk-toggleable__label-arrow\">StandardScaler</label><div class=\"sk-toggleable__content\"><pre>StandardScaler()</pre></div></div></div><div class=\"sk-item\"><div class=\"sk-estimator sk-toggleable\"><input class=\"sk-toggleable__control sk-hidden--visually\" id=\"sk-estimator-id-17\" type=\"checkbox\" ><label for=\"sk-estimator-id-17\" class=\"sk-toggleable__label sk-toggleable__label-arrow\">SelectKBest</label><div class=\"sk-toggleable__content\"><pre>SelectKBest(score_func=&lt;function f_regression at 0x7fd1b942f280&gt;)</pre></div></div></div></div></div><div class=\"sk-item\"><div class=\"sk-estimator sk-toggleable\"><input class=\"sk-toggleable__control sk-hidden--visually\" id=\"sk-estimator-id-18\" type=\"checkbox\" ><label for=\"sk-estimator-id-18\" class=\"sk-toggleable__label sk-toggleable__label-arrow\">XGBRegressor</label><div class=\"sk-toggleable__content\"><pre>XGBRegressor(base_score=None, booster=None, callbacks=None,\n",
       "             colsample_bylevel=None, colsample_bynode=None,\n",
       "             colsample_bytree=None, device=None, early_stopping_rounds=None,\n",
       "             enable_categorical=False, eval_metric=None, feature_types=None,\n",
       "             gamma=None, grow_policy=None, importance_type=None,\n",
       "             interaction_constraints=None, learning_rate=None, max_bin=None,\n",
       "             max_cat_threshold=None, max_cat_to_onehot=None,\n",
       "             max_delta_step=None, max_depth=None, max_leaves=None,\n",
       "             min_child_weight=None, missing=nan, monotone_constraints=None,\n",
       "             multi_strategy=None, n_estimators=400, n_jobs=None,\n",
       "             num_parallel_tree=None, random_state=313549, ...)</pre></div></div></div></div></div></div></div></div></div></div></div></div>"
      ],
      "text/plain": [
       "GridSearchCV(cv=KFold(n_splits=3, random_state=313549, shuffle=True),\n",
       "             estimator=Pipeline(steps=[('pipeline',\n",
       "                                        Pipeline(steps=[('scaler',\n",
       "                                                         StandardScaler()),\n",
       "                                                        ('selector',\n",
       "                                                         SelectKBest(score_func=<function f_regression at 0x7fd1b942f280>))])),\n",
       "                                       ('xgb',\n",
       "                                        XGBRegressor(base_score=None,\n",
       "                                                     booster=None,\n",
       "                                                     callbacks=None,\n",
       "                                                     colsample_bylevel=None,\n",
       "                                                     colsample_bynode=None,\n",
       "                                                     colsample_byt...\n",
       "                                                     max_delta_step=None,\n",
       "                                                     max_depth=None,\n",
       "                                                     max_leaves=None,\n",
       "                                                     min_child_weight=None,\n",
       "                                                     missing=nan,\n",
       "                                                     monotone_constraints=None,\n",
       "                                                     multi_strategy=None,\n",
       "                                                     n_estimators=400,\n",
       "                                                     n_jobs=None,\n",
       "                                                     num_parallel_tree=None,\n",
       "                                                     random_state=313549, ...))]),\n",
       "             param_grid={'xgb__eta': [0.3, 0.1, 0.03],\n",
       "                         'xgb__gamma': [0, 0.1, 1],\n",
       "                         'xgb__max_depth': [10, 20]},\n",
       "             return_train_score=True, scoring='neg_mean_squared_error')"
      ]
     },
     "execution_count": 48,
     "metadata": {},
     "output_type": "execute_result"
    }
   ],
   "source": [
    "grid_pipeline_xgb.fit(X_train, y_train.values.ravel())"
   ]
  },
  {
   "cell_type": "code",
   "execution_count": 49,
   "id": "0effd3ad",
   "metadata": {
    "id": "QPWk2uLVaBoY"
   },
   "outputs": [
    {
     "data": {
      "text/html": [
       "<div>\n",
       "<style scoped>\n",
       "    .dataframe tbody tr th:only-of-type {\n",
       "        vertical-align: middle;\n",
       "    }\n",
       "\n",
       "    .dataframe tbody tr th {\n",
       "        vertical-align: top;\n",
       "    }\n",
       "\n",
       "    .dataframe thead th {\n",
       "        text-align: right;\n",
       "    }\n",
       "</style>\n",
       "<table border=\"1\" class=\"dataframe\">\n",
       "  <thead>\n",
       "    <tr style=\"text-align: right;\">\n",
       "      <th></th>\n",
       "      <th>xgb__eta</th>\n",
       "      <th>xgb__gamma</th>\n",
       "      <th>xgb__max_depth</th>\n",
       "      <th>mean_test_neg_mean_squared_error</th>\n",
       "      <th>mean_train_neg_mean_squared_error</th>\n",
       "      <th>std_test_neg_mean_squared_error</th>\n",
       "      <th>std_train_neg_mean_squared_error</th>\n",
       "      <th>rank_test</th>\n",
       "    </tr>\n",
       "  </thead>\n",
       "  <tbody>\n",
       "    <tr>\n",
       "      <th>12</th>\n",
       "      <td>0.03</td>\n",
       "      <td>0</td>\n",
       "      <td>0</td>\n",
       "      <td>-95.492134</td>\n",
       "      <td>-5.727743e+01</td>\n",
       "      <td>0.768948</td>\n",
       "      <td>2.716224e-01</td>\n",
       "      <td>1</td>\n",
       "    </tr>\n",
       "    <tr>\n",
       "      <th>14</th>\n",
       "      <td>0.03</td>\n",
       "      <td>0.1</td>\n",
       "      <td>0.1</td>\n",
       "      <td>-95.515884</td>\n",
       "      <td>-5.638812e+01</td>\n",
       "      <td>0.760737</td>\n",
       "      <td>2.163447e-01</td>\n",
       "      <td>2</td>\n",
       "    </tr>\n",
       "    <tr>\n",
       "      <th>16</th>\n",
       "      <td>0.03</td>\n",
       "      <td>1</td>\n",
       "      <td>1</td>\n",
       "      <td>-95.522867</td>\n",
       "      <td>-5.668517e+01</td>\n",
       "      <td>0.747911</td>\n",
       "      <td>3.430517e-01</td>\n",
       "      <td>3</td>\n",
       "    </tr>\n",
       "    <tr>\n",
       "      <th>8</th>\n",
       "      <td>0.1</td>\n",
       "      <td>0.1</td>\n",
       "      <td>0.1</td>\n",
       "      <td>-99.306513</td>\n",
       "      <td>-2.153591e+01</td>\n",
       "      <td>0.785009</td>\n",
       "      <td>1.423646e-01</td>\n",
       "      <td>4</td>\n",
       "    </tr>\n",
       "    <tr>\n",
       "      <th>10</th>\n",
       "      <td>0.1</td>\n",
       "      <td>1</td>\n",
       "      <td>1</td>\n",
       "      <td>-99.423151</td>\n",
       "      <td>-2.186765e+01</td>\n",
       "      <td>0.956674</td>\n",
       "      <td>2.985198e-01</td>\n",
       "      <td>5</td>\n",
       "    </tr>\n",
       "    <tr>\n",
       "      <th>6</th>\n",
       "      <td>0.1</td>\n",
       "      <td>0</td>\n",
       "      <td>0</td>\n",
       "      <td>-99.456360</td>\n",
       "      <td>-2.202728e+01</td>\n",
       "      <td>0.861136</td>\n",
       "      <td>2.936143e-01</td>\n",
       "      <td>6</td>\n",
       "    </tr>\n",
       "    <tr>\n",
       "      <th>17</th>\n",
       "      <td>0.03</td>\n",
       "      <td>1</td>\n",
       "      <td>1</td>\n",
       "      <td>-101.567039</td>\n",
       "      <td>-3.535385e-01</td>\n",
       "      <td>1.360038</td>\n",
       "      <td>1.181940e-02</td>\n",
       "      <td>7</td>\n",
       "    </tr>\n",
       "    <tr>\n",
       "      <th>13</th>\n",
       "      <td>0.03</td>\n",
       "      <td>0</td>\n",
       "      <td>0</td>\n",
       "      <td>-101.682125</td>\n",
       "      <td>-2.635620e-02</td>\n",
       "      <td>1.510452</td>\n",
       "      <td>1.629226e-03</td>\n",
       "      <td>8</td>\n",
       "    </tr>\n",
       "    <tr>\n",
       "      <th>15</th>\n",
       "      <td>0.03</td>\n",
       "      <td>0.1</td>\n",
       "      <td>0.1</td>\n",
       "      <td>-101.781368</td>\n",
       "      <td>-6.914997e-02</td>\n",
       "      <td>1.309725</td>\n",
       "      <td>7.365000e-03</td>\n",
       "      <td>9</td>\n",
       "    </tr>\n",
       "    <tr>\n",
       "      <th>11</th>\n",
       "      <td>0.1</td>\n",
       "      <td>1</td>\n",
       "      <td>1</td>\n",
       "      <td>-103.006277</td>\n",
       "      <td>-3.603421e-01</td>\n",
       "      <td>1.529827</td>\n",
       "      <td>1.478811e-02</td>\n",
       "      <td>10</td>\n",
       "    </tr>\n",
       "    <tr>\n",
       "      <th>9</th>\n",
       "      <td>0.1</td>\n",
       "      <td>0.1</td>\n",
       "      <td>0.1</td>\n",
       "      <td>-103.140506</td>\n",
       "      <td>-7.567339e-02</td>\n",
       "      <td>1.375881</td>\n",
       "      <td>1.800000e-03</td>\n",
       "      <td>11</td>\n",
       "    </tr>\n",
       "    <tr>\n",
       "      <th>7</th>\n",
       "      <td>0.1</td>\n",
       "      <td>0</td>\n",
       "      <td>0</td>\n",
       "      <td>-103.264412</td>\n",
       "      <td>-1.037878e-06</td>\n",
       "      <td>1.348980</td>\n",
       "      <td>3.508800e-07</td>\n",
       "      <td>12</td>\n",
       "    </tr>\n",
       "    <tr>\n",
       "      <th>1</th>\n",
       "      <td>0.3</td>\n",
       "      <td>0</td>\n",
       "      <td>0</td>\n",
       "      <td>-110.500017</td>\n",
       "      <td>-9.788860e-07</td>\n",
       "      <td>1.019812</td>\n",
       "      <td>2.115003e-07</td>\n",
       "      <td>13</td>\n",
       "    </tr>\n",
       "    <tr>\n",
       "      <th>4</th>\n",
       "      <td>0.3</td>\n",
       "      <td>1</td>\n",
       "      <td>1</td>\n",
       "      <td>-110.543713</td>\n",
       "      <td>-4.531901e+00</td>\n",
       "      <td>0.399718</td>\n",
       "      <td>2.772914e-01</td>\n",
       "      <td>14</td>\n",
       "    </tr>\n",
       "    <tr>\n",
       "      <th>5</th>\n",
       "      <td>0.3</td>\n",
       "      <td>1</td>\n",
       "      <td>1</td>\n",
       "      <td>-110.588672</td>\n",
       "      <td>-3.991155e-01</td>\n",
       "      <td>0.977443</td>\n",
       "      <td>1.194782e-02</td>\n",
       "      <td>15</td>\n",
       "    </tr>\n",
       "    <tr>\n",
       "      <th>3</th>\n",
       "      <td>0.3</td>\n",
       "      <td>0.1</td>\n",
       "      <td>0.1</td>\n",
       "      <td>-110.641869</td>\n",
       "      <td>-7.573360e-02</td>\n",
       "      <td>1.029962</td>\n",
       "      <td>5.536316e-03</td>\n",
       "      <td>16</td>\n",
       "    </tr>\n",
       "    <tr>\n",
       "      <th>0</th>\n",
       "      <td>0.3</td>\n",
       "      <td>0</td>\n",
       "      <td>0</td>\n",
       "      <td>-111.176768</td>\n",
       "      <td>-1.662065e+00</td>\n",
       "      <td>0.626616</td>\n",
       "      <td>3.341423e-02</td>\n",
       "      <td>17</td>\n",
       "    </tr>\n",
       "    <tr>\n",
       "      <th>2</th>\n",
       "      <td>0.3</td>\n",
       "      <td>0.1</td>\n",
       "      <td>0.1</td>\n",
       "      <td>-111.418566</td>\n",
       "      <td>-1.784255e+00</td>\n",
       "      <td>0.576231</td>\n",
       "      <td>6.616567e-02</td>\n",
       "      <td>18</td>\n",
       "    </tr>\n",
       "  </tbody>\n",
       "</table>\n",
       "</div>"
      ],
      "text/plain": [
       "   xgb__eta xgb__gamma xgb__max_depth  mean_test_neg_mean_squared_error  \\\n",
       "12     0.03          0              0                        -95.492134   \n",
       "14     0.03        0.1            0.1                        -95.515884   \n",
       "16     0.03          1              1                        -95.522867   \n",
       "8       0.1        0.1            0.1                        -99.306513   \n",
       "10      0.1          1              1                        -99.423151   \n",
       "6       0.1          0              0                        -99.456360   \n",
       "17     0.03          1              1                       -101.567039   \n",
       "13     0.03          0              0                       -101.682125   \n",
       "15     0.03        0.1            0.1                       -101.781368   \n",
       "11      0.1          1              1                       -103.006277   \n",
       "9       0.1        0.1            0.1                       -103.140506   \n",
       "7       0.1          0              0                       -103.264412   \n",
       "1       0.3          0              0                       -110.500017   \n",
       "4       0.3          1              1                       -110.543713   \n",
       "5       0.3          1              1                       -110.588672   \n",
       "3       0.3        0.1            0.1                       -110.641869   \n",
       "0       0.3          0              0                       -111.176768   \n",
       "2       0.3        0.1            0.1                       -111.418566   \n",
       "\n",
       "    mean_train_neg_mean_squared_error  std_test_neg_mean_squared_error  \\\n",
       "12                      -5.727743e+01                         0.768948   \n",
       "14                      -5.638812e+01                         0.760737   \n",
       "16                      -5.668517e+01                         0.747911   \n",
       "8                       -2.153591e+01                         0.785009   \n",
       "10                      -2.186765e+01                         0.956674   \n",
       "6                       -2.202728e+01                         0.861136   \n",
       "17                      -3.535385e-01                         1.360038   \n",
       "13                      -2.635620e-02                         1.510452   \n",
       "15                      -6.914997e-02                         1.309725   \n",
       "11                      -3.603421e-01                         1.529827   \n",
       "9                       -7.567339e-02                         1.375881   \n",
       "7                       -1.037878e-06                         1.348980   \n",
       "1                       -9.788860e-07                         1.019812   \n",
       "4                       -4.531901e+00                         0.399718   \n",
       "5                       -3.991155e-01                         0.977443   \n",
       "3                       -7.573360e-02                         1.029962   \n",
       "0                       -1.662065e+00                         0.626616   \n",
       "2                       -1.784255e+00                         0.576231   \n",
       "\n",
       "    std_train_neg_mean_squared_error  rank_test  \n",
       "12                      2.716224e-01          1  \n",
       "14                      2.163447e-01          2  \n",
       "16                      3.430517e-01          3  \n",
       "8                       1.423646e-01          4  \n",
       "10                      2.985198e-01          5  \n",
       "6                       2.936143e-01          6  \n",
       "17                      1.181940e-02          7  \n",
       "13                      1.629226e-03          8  \n",
       "15                      7.365000e-03          9  \n",
       "11                      1.478811e-02         10  \n",
       "9                       1.800000e-03         11  \n",
       "7                       3.508800e-07         12  \n",
       "1                       2.115003e-07         13  \n",
       "4                       2.772914e-01         14  \n",
       "5                       1.194782e-02         15  \n",
       "3                       5.536316e-03         16  \n",
       "0                       3.341423e-02         17  \n",
       "2                       6.616567e-02         18  "
      ]
     },
     "execution_count": 49,
     "metadata": {},
     "output_type": "execute_result"
    }
   ],
   "source": [
    "results_xgb = pd.DataFrame({'xgb__eta': grid_pipeline_xgb.cv_results_[\"param_xgb__eta\"],\n",
    "                            'xgb__gamma': grid_pipeline_xgb.cv_results_[\"param_xgb__gamma\"],\n",
    "                            'xgb__max_depth': grid_pipeline_xgb.cv_results_[\"param_xgb__gamma\"],\n",
    "                     'mean_test_neg_mean_squared_error': grid_pipeline_xgb.cv_results_[\"mean_test_score\"],\n",
    "                     'mean_train_neg_mean_squared_error': grid_pipeline_xgb.cv_results_[\"mean_train_score\"],\n",
    "                     'std_test_neg_mean_squared_error': grid_pipeline_xgb.cv_results_[\"std_test_score\"],\n",
    "                     'std_train_neg_mean_squared_error': grid_pipeline_xgb.cv_results_[\"std_train_score\"],\n",
    "                     'rank_test': grid_pipeline_xgb.cv_results_[\"rank_test_score\"]})\n",
    "results_xgb.sort_values(by = 'rank_test')"
   ]
  },
  {
   "cell_type": "code",
   "execution_count": 50,
   "id": "ff8f1d2f",
   "metadata": {
    "id": "scGqzEukh-gn"
   },
   "outputs": [],
   "source": [
    "y_pred = pd.DataFrame(grid_pipeline_xgb.predict(X_test))"
   ]
  },
  {
   "cell_type": "code",
   "execution_count": 51,
   "id": "6f7cc2a6",
   "metadata": {
    "id": "P_hksIdAiFHt"
   },
   "outputs": [],
   "source": [
    "pd.DataFrame(y_pred).to_csv(\"xgboost_wrapper.txt\", sep='\\t', index=False, header=False)"
   ]
  },
  {
   "cell_type": "markdown",
   "id": "91cf9dc4",
   "metadata": {
    "id": "d3125664"
   },
   "source": [
    "# Linear regression"
   ]
  },
  {
   "cell_type": "code",
   "execution_count": 22,
   "id": "e060d1ef",
   "metadata": {
    "id": "f7af2328"
   },
   "outputs": [],
   "source": [
    "pipeline = Pipeline([\n",
    "    ('scaler', StandardScaler()),\n",
    "    ('selector', SelectKBest(f_regression, k = 10))\n",
    "])"
   ]
  },
  {
   "cell_type": "markdown",
   "id": "f3f8ae13",
   "metadata": {
    "id": "3212d1b4"
   },
   "source": [
    "## Fitting the whole training set"
   ]
  },
  {
   "cell_type": "code",
   "execution_count": 23,
   "id": "b95cf87f",
   "metadata": {
    "id": "6b327655"
   },
   "outputs": [],
   "source": [
    "pipeline_lm = Pipeline([\n",
    "    ('pipeline', pipeline),\n",
    "    ('lm', LinearRegression())\n",
    "])"
   ]
  },
  {
   "cell_type": "code",
   "execution_count": 24,
   "id": "a25dd1e6",
   "metadata": {
    "id": "c8bb2ebe"
   },
   "outputs": [],
   "source": [
    "params = {}"
   ]
  },
  {
   "cell_type": "code",
   "execution_count": 25,
   "id": "8a2a23dd",
   "metadata": {
    "id": "4a71433f"
   },
   "outputs": [],
   "source": [
    "grid_pipeline_lm = GridSearchCV(pipeline_lm,\n",
    "                      cv = skm.KFold(3, random_state = 313549, shuffle=True),\n",
    "                      param_grid = params,\n",
    "                      scoring = 'neg_mean_squared_error',\n",
    "                      return_train_score = True)"
   ]
  },
  {
   "cell_type": "code",
   "execution_count": 26,
   "id": "1cc78a89",
   "metadata": {
    "colab": {
     "base_uri": "https://localhost:8080/",
     "height": 276
    },
    "id": "89e9265b",
    "outputId": "cfbbce35-2df1-4981-e9f2-5c6dbb8c4489"
   },
   "outputs": [
    {
     "data": {
      "text/html": [
       "<style>#sk-container-id-2 {color: black;background-color: white;}#sk-container-id-2 pre{padding: 0;}#sk-container-id-2 div.sk-toggleable {background-color: white;}#sk-container-id-2 label.sk-toggleable__label {cursor: pointer;display: block;width: 100%;margin-bottom: 0;padding: 0.3em;box-sizing: border-box;text-align: center;}#sk-container-id-2 label.sk-toggleable__label-arrow:before {content: \"▸\";float: left;margin-right: 0.25em;color: #696969;}#sk-container-id-2 label.sk-toggleable__label-arrow:hover:before {color: black;}#sk-container-id-2 div.sk-estimator:hover label.sk-toggleable__label-arrow:before {color: black;}#sk-container-id-2 div.sk-toggleable__content {max-height: 0;max-width: 0;overflow: hidden;text-align: left;background-color: #f0f8ff;}#sk-container-id-2 div.sk-toggleable__content pre {margin: 0.2em;color: black;border-radius: 0.25em;background-color: #f0f8ff;}#sk-container-id-2 input.sk-toggleable__control:checked~div.sk-toggleable__content {max-height: 200px;max-width: 100%;overflow: auto;}#sk-container-id-2 input.sk-toggleable__control:checked~label.sk-toggleable__label-arrow:before {content: \"▾\";}#sk-container-id-2 div.sk-estimator input.sk-toggleable__control:checked~label.sk-toggleable__label {background-color: #d4ebff;}#sk-container-id-2 div.sk-label input.sk-toggleable__control:checked~label.sk-toggleable__label {background-color: #d4ebff;}#sk-container-id-2 input.sk-hidden--visually {border: 0;clip: rect(1px 1px 1px 1px);clip: rect(1px, 1px, 1px, 1px);height: 1px;margin: -1px;overflow: hidden;padding: 0;position: absolute;width: 1px;}#sk-container-id-2 div.sk-estimator {font-family: monospace;background-color: #f0f8ff;border: 1px dotted black;border-radius: 0.25em;box-sizing: border-box;margin-bottom: 0.5em;}#sk-container-id-2 div.sk-estimator:hover {background-color: #d4ebff;}#sk-container-id-2 div.sk-parallel-item::after {content: \"\";width: 100%;border-bottom: 1px solid gray;flex-grow: 1;}#sk-container-id-2 div.sk-label:hover label.sk-toggleable__label {background-color: #d4ebff;}#sk-container-id-2 div.sk-serial::before {content: \"\";position: absolute;border-left: 1px solid gray;box-sizing: border-box;top: 0;bottom: 0;left: 50%;z-index: 0;}#sk-container-id-2 div.sk-serial {display: flex;flex-direction: column;align-items: center;background-color: white;padding-right: 0.2em;padding-left: 0.2em;position: relative;}#sk-container-id-2 div.sk-item {position: relative;z-index: 1;}#sk-container-id-2 div.sk-parallel {display: flex;align-items: stretch;justify-content: center;background-color: white;position: relative;}#sk-container-id-2 div.sk-item::before, #sk-container-id-2 div.sk-parallel-item::before {content: \"\";position: absolute;border-left: 1px solid gray;box-sizing: border-box;top: 0;bottom: 0;left: 50%;z-index: -1;}#sk-container-id-2 div.sk-parallel-item {display: flex;flex-direction: column;z-index: 1;position: relative;background-color: white;}#sk-container-id-2 div.sk-parallel-item:first-child::after {align-self: flex-end;width: 50%;}#sk-container-id-2 div.sk-parallel-item:last-child::after {align-self: flex-start;width: 50%;}#sk-container-id-2 div.sk-parallel-item:only-child::after {width: 0;}#sk-container-id-2 div.sk-dashed-wrapped {border: 1px dashed gray;margin: 0 0.4em 0.5em 0.4em;box-sizing: border-box;padding-bottom: 0.4em;background-color: white;}#sk-container-id-2 div.sk-label label {font-family: monospace;font-weight: bold;display: inline-block;line-height: 1.2em;}#sk-container-id-2 div.sk-label-container {text-align: center;}#sk-container-id-2 div.sk-container {/* jupyter's `normalize.less` sets `[hidden] { display: none; }` but bootstrap.min.css set `[hidden] { display: none !important; }` so we also need the `!important` here to be able to override the default hidden behavior on the sphinx rendered scikit-learn.org. See: https://github.com/scikit-learn/scikit-learn/issues/21755 */display: inline-block !important;position: relative;}#sk-container-id-2 div.sk-text-repr-fallback {display: none;}</style><div id=\"sk-container-id-2\" class=\"sk-top-container\"><div class=\"sk-text-repr-fallback\"><pre>GridSearchCV(cv=KFold(n_splits=3, random_state=313549, shuffle=True),\n",
       "             estimator=Pipeline(steps=[(&#x27;pipeline&#x27;,\n",
       "                                        Pipeline(steps=[(&#x27;scaler&#x27;,\n",
       "                                                         StandardScaler()),\n",
       "                                                        (&#x27;selector&#x27;,\n",
       "                                                         SelectKBest(score_func=&lt;function f_regression at 0x7fdbd3432280&gt;))])),\n",
       "                                       (&#x27;lm&#x27;, LinearRegression())]),\n",
       "             param_grid={}, return_train_score=True,\n",
       "             scoring=&#x27;neg_mean_squared_error&#x27;)</pre><b>In a Jupyter environment, please rerun this cell to show the HTML representation or trust the notebook. <br />On GitHub, the HTML representation is unable to render, please try loading this page with nbviewer.org.</b></div><div class=\"sk-container\" hidden><div class=\"sk-item sk-dashed-wrapped\"><div class=\"sk-label-container\"><div class=\"sk-label sk-toggleable\"><input class=\"sk-toggleable__control sk-hidden--visually\" id=\"sk-estimator-id-7\" type=\"checkbox\" ><label for=\"sk-estimator-id-7\" class=\"sk-toggleable__label sk-toggleable__label-arrow\">GridSearchCV</label><div class=\"sk-toggleable__content\"><pre>GridSearchCV(cv=KFold(n_splits=3, random_state=313549, shuffle=True),\n",
       "             estimator=Pipeline(steps=[(&#x27;pipeline&#x27;,\n",
       "                                        Pipeline(steps=[(&#x27;scaler&#x27;,\n",
       "                                                         StandardScaler()),\n",
       "                                                        (&#x27;selector&#x27;,\n",
       "                                                         SelectKBest(score_func=&lt;function f_regression at 0x7fdbd3432280&gt;))])),\n",
       "                                       (&#x27;lm&#x27;, LinearRegression())]),\n",
       "             param_grid={}, return_train_score=True,\n",
       "             scoring=&#x27;neg_mean_squared_error&#x27;)</pre></div></div></div><div class=\"sk-parallel\"><div class=\"sk-parallel-item\"><div class=\"sk-item\"><div class=\"sk-label-container\"><div class=\"sk-label sk-toggleable\"><input class=\"sk-toggleable__control sk-hidden--visually\" id=\"sk-estimator-id-8\" type=\"checkbox\" ><label for=\"sk-estimator-id-8\" class=\"sk-toggleable__label sk-toggleable__label-arrow\">estimator: Pipeline</label><div class=\"sk-toggleable__content\"><pre>Pipeline(steps=[(&#x27;pipeline&#x27;,\n",
       "                 Pipeline(steps=[(&#x27;scaler&#x27;, StandardScaler()),\n",
       "                                 (&#x27;selector&#x27;,\n",
       "                                  SelectKBest(score_func=&lt;function f_regression at 0x7fdbd3432280&gt;))])),\n",
       "                (&#x27;lm&#x27;, LinearRegression())])</pre></div></div></div><div class=\"sk-serial\"><div class=\"sk-item\"><div class=\"sk-serial\"><div class=\"sk-item\"><div class=\"sk-label-container\"><div class=\"sk-label sk-toggleable\"><input class=\"sk-toggleable__control sk-hidden--visually\" id=\"sk-estimator-id-9\" type=\"checkbox\" ><label for=\"sk-estimator-id-9\" class=\"sk-toggleable__label sk-toggleable__label-arrow\">pipeline: Pipeline</label><div class=\"sk-toggleable__content\"><pre>Pipeline(steps=[(&#x27;scaler&#x27;, StandardScaler()),\n",
       "                (&#x27;selector&#x27;,\n",
       "                 SelectKBest(score_func=&lt;function f_regression at 0x7fdbd3432280&gt;))])</pre></div></div></div><div class=\"sk-serial\"><div class=\"sk-item\"><div class=\"sk-estimator sk-toggleable\"><input class=\"sk-toggleable__control sk-hidden--visually\" id=\"sk-estimator-id-10\" type=\"checkbox\" ><label for=\"sk-estimator-id-10\" class=\"sk-toggleable__label sk-toggleable__label-arrow\">StandardScaler</label><div class=\"sk-toggleable__content\"><pre>StandardScaler()</pre></div></div></div><div class=\"sk-item\"><div class=\"sk-estimator sk-toggleable\"><input class=\"sk-toggleable__control sk-hidden--visually\" id=\"sk-estimator-id-11\" type=\"checkbox\" ><label for=\"sk-estimator-id-11\" class=\"sk-toggleable__label sk-toggleable__label-arrow\">SelectKBest</label><div class=\"sk-toggleable__content\"><pre>SelectKBest(score_func=&lt;function f_regression at 0x7fdbd3432280&gt;)</pre></div></div></div></div></div><div class=\"sk-item\"><div class=\"sk-estimator sk-toggleable\"><input class=\"sk-toggleable__control sk-hidden--visually\" id=\"sk-estimator-id-12\" type=\"checkbox\" ><label for=\"sk-estimator-id-12\" class=\"sk-toggleable__label sk-toggleable__label-arrow\">LinearRegression</label><div class=\"sk-toggleable__content\"><pre>LinearRegression()</pre></div></div></div></div></div></div></div></div></div></div></div></div>"
      ],
      "text/plain": [
       "GridSearchCV(cv=KFold(n_splits=3, random_state=313549, shuffle=True),\n",
       "             estimator=Pipeline(steps=[('pipeline',\n",
       "                                        Pipeline(steps=[('scaler',\n",
       "                                                         StandardScaler()),\n",
       "                                                        ('selector',\n",
       "                                                         SelectKBest(score_func=<function f_regression at 0x7fdbd3432280>))])),\n",
       "                                       ('lm', LinearRegression())]),\n",
       "             param_grid={}, return_train_score=True,\n",
       "             scoring='neg_mean_squared_error')"
      ]
     },
     "execution_count": 26,
     "metadata": {},
     "output_type": "execute_result"
    }
   ],
   "source": [
    "grid_pipeline_lm.fit(X_train, y_train.values.ravel())"
   ]
  },
  {
   "cell_type": "code",
   "execution_count": 27,
   "id": "afdc2716",
   "metadata": {
    "colab": {
     "base_uri": "https://localhost:8080/",
     "height": 101
    },
    "id": "4f84bec2",
    "outputId": "49c52b89-e61e-408f-e198-bd2fc964fba3"
   },
   "outputs": [
    {
     "data": {
      "text/html": [
       "<div>\n",
       "<style scoped>\n",
       "    .dataframe tbody tr th:only-of-type {\n",
       "        vertical-align: middle;\n",
       "    }\n",
       "\n",
       "    .dataframe tbody tr th {\n",
       "        vertical-align: top;\n",
       "    }\n",
       "\n",
       "    .dataframe thead th {\n",
       "        text-align: right;\n",
       "    }\n",
       "</style>\n",
       "<table border=\"1\" class=\"dataframe\">\n",
       "  <thead>\n",
       "    <tr style=\"text-align: right;\">\n",
       "      <th></th>\n",
       "      <th>mean_test_neg_mean_squared_error</th>\n",
       "      <th>mean_train_neg_mean_squared_error</th>\n",
       "      <th>std_test_neg_mean_squared_error</th>\n",
       "      <th>std_train_neg_mean_squared_error</th>\n",
       "      <th>rank_test</th>\n",
       "    </tr>\n",
       "  </thead>\n",
       "  <tbody>\n",
       "    <tr>\n",
       "      <th>0</th>\n",
       "      <td>-107.057824</td>\n",
       "      <td>-107.008256</td>\n",
       "      <td>1.109383</td>\n",
       "      <td>0.556895</td>\n",
       "      <td>1</td>\n",
       "    </tr>\n",
       "  </tbody>\n",
       "</table>\n",
       "</div>"
      ],
      "text/plain": [
       "   mean_test_neg_mean_squared_error  mean_train_neg_mean_squared_error  \\\n",
       "0                       -107.057824                        -107.008256   \n",
       "\n",
       "   std_test_neg_mean_squared_error  std_train_neg_mean_squared_error  \\\n",
       "0                         1.109383                          0.556895   \n",
       "\n",
       "   rank_test  \n",
       "0          1  "
      ]
     },
     "execution_count": 27,
     "metadata": {},
     "output_type": "execute_result"
    }
   ],
   "source": [
    "results_lm = pd.DataFrame({\n",
    "                     'mean_test_neg_mean_squared_error': grid_pipeline_lm.cv_results_[\"mean_test_score\"],\n",
    "                     'mean_train_neg_mean_squared_error': grid_pipeline_lm.cv_results_[\"mean_train_score\"],\n",
    "                     'std_test_neg_mean_squared_error': grid_pipeline_lm.cv_results_[\"std_test_score\"],\n",
    "                     'std_train_neg_mean_squared_error': grid_pipeline_lm.cv_results_[\"std_train_score\"],\n",
    "                     'rank_test': grid_pipeline_lm.cv_results_[\"rank_test_score\"]})\n",
    "results_lm.sort_values(by = 'rank_test')"
   ]
  },
  {
   "cell_type": "code",
   "execution_count": 28,
   "id": "92963109",
   "metadata": {
    "id": "3541a0ee"
   },
   "outputs": [],
   "source": [
    "y_pred = pd.DataFrame(grid_pipeline_lm.predict(X_test))"
   ]
  },
  {
   "cell_type": "code",
   "execution_count": 29,
   "id": "3b8e84eb",
   "metadata": {
    "id": "25dd3ac6"
   },
   "outputs": [],
   "source": [
    "pd.DataFrame(y_pred).to_csv(\"linear_regression_wrapper.txt\", sep='\\t', index=False, header=False)"
   ]
  },
  {
   "cell_type": "markdown",
   "id": "3247d596",
   "metadata": {},
   "source": [
    "# Voting"
   ]
  },
  {
   "cell_type": "code",
   "execution_count": 15,
   "id": "281f5184",
   "metadata": {},
   "outputs": [],
   "source": [
    "pipeline = Pipeline([\n",
    "    ('scaler', StandardScaler()),\n",
    "    ('selector', SelectKBest(f_regression, k = 10))\n",
    "])"
   ]
  },
  {
   "cell_type": "markdown",
   "id": "ac7e56d6",
   "metadata": {},
   "source": [
    "## Fitting the whole data set"
   ]
  },
  {
   "cell_type": "code",
   "execution_count": 16,
   "id": "a34cd6ee",
   "metadata": {},
   "outputs": [],
   "source": [
    "reg1 = SVR(C = 10, gamma = 0.1, kernel = 'rbf')\n",
    "reg2 = MLPRegressor(hidden_layer_sizes = 16, solver = 'adam', max_iter = 10000, random_state = 313549)\n",
    "reg3 = xgboost.XGBRegressor(eta = 0.1, gamma = 0, max_depth = 10, objective='reg:squarederror', n_estimators = 400, random_state = 313549)\n",
    "\n",
    "pipeline_voting = Pipeline([\n",
    "    ('pipeline', pipeline),\n",
    "    ('eclf', VotingRegressor(estimators=[('svm', reg1),\n",
    "                             ('nn', reg2),\n",
    "                             ('xgb', reg3)]))\n",
    "])"
   ]
  },
  {
   "cell_type": "code",
   "execution_count": 17,
   "id": "98703e0b",
   "metadata": {},
   "outputs": [],
   "source": [
    "reg1 = SVR(C = 10, gamma = 0.1, kernel = 'rbf')\n",
    "reg2 = MLPRegressor(hidden_layer_sizes = 16, solver = 'adam', max_iter = 10000, random_state = 313549)\n",
    "reg3 = xgboost.XGBRegressor(eta = 0.03, gamma = 0, max_depth = 10, objective='reg:squarederror', n_estimators = 400, random_state = 313549)\n",
    "\n",
    "pipeline_voting = Pipeline([\n",
    "    ('pipeline', pipeline),\n",
    "    ('eclf', VotingRegressor(estimators=[('svm', reg1),\n",
    "                             ('nn', reg2),\n",
    "                             ('xgb', reg3)]))\n",
    "])"
   ]
  },
  {
   "cell_type": "code",
   "execution_count": 18,
   "id": "f9235696",
   "metadata": {},
   "outputs": [],
   "source": [
    "params = {}\n",
    "\n",
    "grid_pipeline_voting = GridSearchCV(pipeline_voting,\n",
    "                      cv = skm.KFold(3, random_state = 313549, shuffle=True),\n",
    "                      param_grid = params,\n",
    "                      scoring = 'neg_mean_squared_error',\n",
    "                      return_train_score = True)"
   ]
  },
  {
   "cell_type": "code",
   "execution_count": 19,
   "id": "c8fadcaa",
   "metadata": {
    "scrolled": false
   },
   "outputs": [
    {
     "data": {
      "text/html": [
       "<style>#sk-container-id-1 {color: black;background-color: white;}#sk-container-id-1 pre{padding: 0;}#sk-container-id-1 div.sk-toggleable {background-color: white;}#sk-container-id-1 label.sk-toggleable__label {cursor: pointer;display: block;width: 100%;margin-bottom: 0;padding: 0.3em;box-sizing: border-box;text-align: center;}#sk-container-id-1 label.sk-toggleable__label-arrow:before {content: \"▸\";float: left;margin-right: 0.25em;color: #696969;}#sk-container-id-1 label.sk-toggleable__label-arrow:hover:before {color: black;}#sk-container-id-1 div.sk-estimator:hover label.sk-toggleable__label-arrow:before {color: black;}#sk-container-id-1 div.sk-toggleable__content {max-height: 0;max-width: 0;overflow: hidden;text-align: left;background-color: #f0f8ff;}#sk-container-id-1 div.sk-toggleable__content pre {margin: 0.2em;color: black;border-radius: 0.25em;background-color: #f0f8ff;}#sk-container-id-1 input.sk-toggleable__control:checked~div.sk-toggleable__content {max-height: 200px;max-width: 100%;overflow: auto;}#sk-container-id-1 input.sk-toggleable__control:checked~label.sk-toggleable__label-arrow:before {content: \"▾\";}#sk-container-id-1 div.sk-estimator input.sk-toggleable__control:checked~label.sk-toggleable__label {background-color: #d4ebff;}#sk-container-id-1 div.sk-label input.sk-toggleable__control:checked~label.sk-toggleable__label {background-color: #d4ebff;}#sk-container-id-1 input.sk-hidden--visually {border: 0;clip: rect(1px 1px 1px 1px);clip: rect(1px, 1px, 1px, 1px);height: 1px;margin: -1px;overflow: hidden;padding: 0;position: absolute;width: 1px;}#sk-container-id-1 div.sk-estimator {font-family: monospace;background-color: #f0f8ff;border: 1px dotted black;border-radius: 0.25em;box-sizing: border-box;margin-bottom: 0.5em;}#sk-container-id-1 div.sk-estimator:hover {background-color: #d4ebff;}#sk-container-id-1 div.sk-parallel-item::after {content: \"\";width: 100%;border-bottom: 1px solid gray;flex-grow: 1;}#sk-container-id-1 div.sk-label:hover label.sk-toggleable__label {background-color: #d4ebff;}#sk-container-id-1 div.sk-serial::before {content: \"\";position: absolute;border-left: 1px solid gray;box-sizing: border-box;top: 0;bottom: 0;left: 50%;z-index: 0;}#sk-container-id-1 div.sk-serial {display: flex;flex-direction: column;align-items: center;background-color: white;padding-right: 0.2em;padding-left: 0.2em;position: relative;}#sk-container-id-1 div.sk-item {position: relative;z-index: 1;}#sk-container-id-1 div.sk-parallel {display: flex;align-items: stretch;justify-content: center;background-color: white;position: relative;}#sk-container-id-1 div.sk-item::before, #sk-container-id-1 div.sk-parallel-item::before {content: \"\";position: absolute;border-left: 1px solid gray;box-sizing: border-box;top: 0;bottom: 0;left: 50%;z-index: -1;}#sk-container-id-1 div.sk-parallel-item {display: flex;flex-direction: column;z-index: 1;position: relative;background-color: white;}#sk-container-id-1 div.sk-parallel-item:first-child::after {align-self: flex-end;width: 50%;}#sk-container-id-1 div.sk-parallel-item:last-child::after {align-self: flex-start;width: 50%;}#sk-container-id-1 div.sk-parallel-item:only-child::after {width: 0;}#sk-container-id-1 div.sk-dashed-wrapped {border: 1px dashed gray;margin: 0 0.4em 0.5em 0.4em;box-sizing: border-box;padding-bottom: 0.4em;background-color: white;}#sk-container-id-1 div.sk-label label {font-family: monospace;font-weight: bold;display: inline-block;line-height: 1.2em;}#sk-container-id-1 div.sk-label-container {text-align: center;}#sk-container-id-1 div.sk-container {/* jupyter's `normalize.less` sets `[hidden] { display: none; }` but bootstrap.min.css set `[hidden] { display: none !important; }` so we also need the `!important` here to be able to override the default hidden behavior on the sphinx rendered scikit-learn.org. See: https://github.com/scikit-learn/scikit-learn/issues/21755 */display: inline-block !important;position: relative;}#sk-container-id-1 div.sk-text-repr-fallback {display: none;}</style><div id=\"sk-container-id-1\" class=\"sk-top-container\"><div class=\"sk-text-repr-fallback\"><pre>GridSearchCV(cv=KFold(n_splits=3, random_state=313549, shuffle=True),\n",
       "             estimator=Pipeline(steps=[(&#x27;pipeline&#x27;,\n",
       "                                        Pipeline(steps=[(&#x27;scaler&#x27;,\n",
       "                                                         StandardScaler()),\n",
       "                                                        (&#x27;selector&#x27;,\n",
       "                                                         SelectKBest(score_func=&lt;function f_regression at 0x7f79adb361f0&gt;))])),\n",
       "                                       (&#x27;eclf&#x27;,\n",
       "                                        VotingRegressor(estimators=[(&#x27;svm&#x27;,\n",
       "                                                                     SVR(C=10,\n",
       "                                                                         gamma=0.1)),\n",
       "                                                                    (&#x27;nn&#x27;,\n",
       "                                                                     MLPRegressor(hidden_layer_sizes=16,\n",
       "                                                                                  max_iter=10000,\n",
       "                                                                                  ra...\n",
       "                                                                                  interaction_constraints=None,\n",
       "                                                                                  learning_rate=None,\n",
       "                                                                                  max_bin=None,\n",
       "                                                                                  max_cat_threshold=None,\n",
       "                                                                                  max_cat_to_onehot=None,\n",
       "                                                                                  max_delta_step=None,\n",
       "                                                                                  max_depth=10,\n",
       "                                                                                  max_leaves=None,\n",
       "                                                                                  min_child_weight=None,\n",
       "                                                                                  missing=nan,\n",
       "                                                                                  monotone_constraints=None,\n",
       "                                                                                  multi_strategy=None,\n",
       "                                                                                  n_estimators=400,\n",
       "                                                                                  n_jobs=None,\n",
       "                                                                                  num_parallel_tree=None, ...))]))]),\n",
       "             param_grid={}, return_train_score=True,\n",
       "             scoring=&#x27;neg_mean_squared_error&#x27;)</pre><b>In a Jupyter environment, please rerun this cell to show the HTML representation or trust the notebook. <br />On GitHub, the HTML representation is unable to render, please try loading this page with nbviewer.org.</b></div><div class=\"sk-container\" hidden><div class=\"sk-item sk-dashed-wrapped\"><div class=\"sk-label-container\"><div class=\"sk-label sk-toggleable\"><input class=\"sk-toggleable__control sk-hidden--visually\" id=\"sk-estimator-id-1\" type=\"checkbox\" ><label for=\"sk-estimator-id-1\" class=\"sk-toggleable__label sk-toggleable__label-arrow\">GridSearchCV</label><div class=\"sk-toggleable__content\"><pre>GridSearchCV(cv=KFold(n_splits=3, random_state=313549, shuffle=True),\n",
       "             estimator=Pipeline(steps=[(&#x27;pipeline&#x27;,\n",
       "                                        Pipeline(steps=[(&#x27;scaler&#x27;,\n",
       "                                                         StandardScaler()),\n",
       "                                                        (&#x27;selector&#x27;,\n",
       "                                                         SelectKBest(score_func=&lt;function f_regression at 0x7f79adb361f0&gt;))])),\n",
       "                                       (&#x27;eclf&#x27;,\n",
       "                                        VotingRegressor(estimators=[(&#x27;svm&#x27;,\n",
       "                                                                     SVR(C=10,\n",
       "                                                                         gamma=0.1)),\n",
       "                                                                    (&#x27;nn&#x27;,\n",
       "                                                                     MLPRegressor(hidden_layer_sizes=16,\n",
       "                                                                                  max_iter=10000,\n",
       "                                                                                  ra...\n",
       "                                                                                  interaction_constraints=None,\n",
       "                                                                                  learning_rate=None,\n",
       "                                                                                  max_bin=None,\n",
       "                                                                                  max_cat_threshold=None,\n",
       "                                                                                  max_cat_to_onehot=None,\n",
       "                                                                                  max_delta_step=None,\n",
       "                                                                                  max_depth=10,\n",
       "                                                                                  max_leaves=None,\n",
       "                                                                                  min_child_weight=None,\n",
       "                                                                                  missing=nan,\n",
       "                                                                                  monotone_constraints=None,\n",
       "                                                                                  multi_strategy=None,\n",
       "                                                                                  n_estimators=400,\n",
       "                                                                                  n_jobs=None,\n",
       "                                                                                  num_parallel_tree=None, ...))]))]),\n",
       "             param_grid={}, return_train_score=True,\n",
       "             scoring=&#x27;neg_mean_squared_error&#x27;)</pre></div></div></div><div class=\"sk-parallel\"><div class=\"sk-parallel-item\"><div class=\"sk-item\"><div class=\"sk-label-container\"><div class=\"sk-label sk-toggleable\"><input class=\"sk-toggleable__control sk-hidden--visually\" id=\"sk-estimator-id-2\" type=\"checkbox\" ><label for=\"sk-estimator-id-2\" class=\"sk-toggleable__label sk-toggleable__label-arrow\">estimator: Pipeline</label><div class=\"sk-toggleable__content\"><pre>Pipeline(steps=[(&#x27;pipeline&#x27;,\n",
       "                 Pipeline(steps=[(&#x27;scaler&#x27;, StandardScaler()),\n",
       "                                 (&#x27;selector&#x27;,\n",
       "                                  SelectKBest(score_func=&lt;function f_regression at 0x7f79adb361f0&gt;))])),\n",
       "                (&#x27;eclf&#x27;,\n",
       "                 VotingRegressor(estimators=[(&#x27;svm&#x27;, SVR(C=10, gamma=0.1)),\n",
       "                                             (&#x27;nn&#x27;,\n",
       "                                              MLPRegressor(hidden_layer_sizes=16,\n",
       "                                                           max_iter=10000,\n",
       "                                                           random_state=313549)),\n",
       "                                             (&#x27;xgb&#x27;,\n",
       "                                              XGBRegressor(base_score=None,\n",
       "                                                           booster=None,\n",
       "                                                           callback...\n",
       "                                                           feature_types=None,\n",
       "                                                           gamma=0,\n",
       "                                                           grow_policy=None,\n",
       "                                                           importance_type=None,\n",
       "                                                           interaction_constraints=None,\n",
       "                                                           learning_rate=None,\n",
       "                                                           max_bin=None,\n",
       "                                                           max_cat_threshold=None,\n",
       "                                                           max_cat_to_onehot=None,\n",
       "                                                           max_delta_step=None,\n",
       "                                                           max_depth=10,\n",
       "                                                           max_leaves=None,\n",
       "                                                           min_child_weight=None,\n",
       "                                                           missing=nan,\n",
       "                                                           monotone_constraints=None,\n",
       "                                                           multi_strategy=None,\n",
       "                                                           n_estimators=400,\n",
       "                                                           n_jobs=None,\n",
       "                                                           num_parallel_tree=None, ...))]))])</pre></div></div></div><div class=\"sk-serial\"><div class=\"sk-item\"><div class=\"sk-serial\"><div class=\"sk-item\"><div class=\"sk-label-container\"><div class=\"sk-label sk-toggleable\"><input class=\"sk-toggleable__control sk-hidden--visually\" id=\"sk-estimator-id-3\" type=\"checkbox\" ><label for=\"sk-estimator-id-3\" class=\"sk-toggleable__label sk-toggleable__label-arrow\">pipeline: Pipeline</label><div class=\"sk-toggleable__content\"><pre>Pipeline(steps=[(&#x27;scaler&#x27;, StandardScaler()),\n",
       "                (&#x27;selector&#x27;,\n",
       "                 SelectKBest(score_func=&lt;function f_regression at 0x7f79adb361f0&gt;))])</pre></div></div></div><div class=\"sk-serial\"><div class=\"sk-item\"><div class=\"sk-estimator sk-toggleable\"><input class=\"sk-toggleable__control sk-hidden--visually\" id=\"sk-estimator-id-4\" type=\"checkbox\" ><label for=\"sk-estimator-id-4\" class=\"sk-toggleable__label sk-toggleable__label-arrow\">StandardScaler</label><div class=\"sk-toggleable__content\"><pre>StandardScaler()</pre></div></div></div><div class=\"sk-item\"><div class=\"sk-estimator sk-toggleable\"><input class=\"sk-toggleable__control sk-hidden--visually\" id=\"sk-estimator-id-5\" type=\"checkbox\" ><label for=\"sk-estimator-id-5\" class=\"sk-toggleable__label sk-toggleable__label-arrow\">SelectKBest</label><div class=\"sk-toggleable__content\"><pre>SelectKBest(score_func=&lt;function f_regression at 0x7f79adb361f0&gt;)</pre></div></div></div></div></div><div class=\"sk-item sk-dashed-wrapped\"><div class=\"sk-label-container\"><div class=\"sk-label sk-toggleable\"><input class=\"sk-toggleable__control sk-hidden--visually\" id=\"sk-estimator-id-6\" type=\"checkbox\" ><label for=\"sk-estimator-id-6\" class=\"sk-toggleable__label sk-toggleable__label-arrow\">eclf: VotingRegressor</label><div class=\"sk-toggleable__content\"><pre>VotingRegressor(estimators=[(&#x27;svm&#x27;, SVR(C=10, gamma=0.1)),\n",
       "                            (&#x27;nn&#x27;,\n",
       "                             MLPRegressor(hidden_layer_sizes=16, max_iter=10000,\n",
       "                                          random_state=313549)),\n",
       "                            (&#x27;xgb&#x27;,\n",
       "                             XGBRegressor(base_score=None, booster=None,\n",
       "                                          callbacks=None,\n",
       "                                          colsample_bylevel=None,\n",
       "                                          colsample_bynode=None,\n",
       "                                          colsample_bytree=None, device=None,\n",
       "                                          early_stopping_rounds=None,\n",
       "                                          enable_categorical=False, eta=0.03,\n",
       "                                          eval_metric=...pes=None,\n",
       "                                          gamma=0, grow_policy=None,\n",
       "                                          importance_type=None,\n",
       "                                          interaction_constraints=None,\n",
       "                                          learning_rate=None, max_bin=None,\n",
       "                                          max_cat_threshold=None,\n",
       "                                          max_cat_to_onehot=None,\n",
       "                                          max_delta_step=None, max_depth=10,\n",
       "                                          max_leaves=None,\n",
       "                                          min_child_weight=None, missing=nan,\n",
       "                                          monotone_constraints=None,\n",
       "                                          multi_strategy=None, n_estimators=400,\n",
       "                                          n_jobs=None, num_parallel_tree=None, ...))])</pre></div></div></div><div class=\"sk-parallel\"><div class=\"sk-parallel-item\"><div class=\"sk-item\"><div class=\"sk-label-container\"><div class=\"sk-label sk-toggleable\"><label>svm</label></div></div><div class=\"sk-serial\"><div class=\"sk-item\"><div class=\"sk-estimator sk-toggleable\"><input class=\"sk-toggleable__control sk-hidden--visually\" id=\"sk-estimator-id-7\" type=\"checkbox\" ><label for=\"sk-estimator-id-7\" class=\"sk-toggleable__label sk-toggleable__label-arrow\">SVR</label><div class=\"sk-toggleable__content\"><pre>SVR(C=10, gamma=0.1)</pre></div></div></div></div></div></div><div class=\"sk-parallel-item\"><div class=\"sk-item\"><div class=\"sk-label-container\"><div class=\"sk-label sk-toggleable\"><label>nn</label></div></div><div class=\"sk-serial\"><div class=\"sk-item\"><div class=\"sk-estimator sk-toggleable\"><input class=\"sk-toggleable__control sk-hidden--visually\" id=\"sk-estimator-id-8\" type=\"checkbox\" ><label for=\"sk-estimator-id-8\" class=\"sk-toggleable__label sk-toggleable__label-arrow\">MLPRegressor</label><div class=\"sk-toggleable__content\"><pre>MLPRegressor(hidden_layer_sizes=16, max_iter=10000, random_state=313549)</pre></div></div></div></div></div></div><div class=\"sk-parallel-item\"><div class=\"sk-item\"><div class=\"sk-label-container\"><div class=\"sk-label sk-toggleable\"><label>xgb</label></div></div><div class=\"sk-serial\"><div class=\"sk-item\"><div class=\"sk-estimator sk-toggleable\"><input class=\"sk-toggleable__control sk-hidden--visually\" id=\"sk-estimator-id-9\" type=\"checkbox\" ><label for=\"sk-estimator-id-9\" class=\"sk-toggleable__label sk-toggleable__label-arrow\">XGBRegressor</label><div class=\"sk-toggleable__content\"><pre>XGBRegressor(base_score=None, booster=None, callbacks=None,\n",
       "             colsample_bylevel=None, colsample_bynode=None,\n",
       "             colsample_bytree=None, device=None, early_stopping_rounds=None,\n",
       "             enable_categorical=False, eta=0.03, eval_metric=None,\n",
       "             feature_types=None, gamma=0, grow_policy=None,\n",
       "             importance_type=None, interaction_constraints=None,\n",
       "             learning_rate=None, max_bin=None, max_cat_threshold=None,\n",
       "             max_cat_to_onehot=None, max_delta_step=None, max_depth=10,\n",
       "             max_leaves=None, min_child_weight=None, missing=nan,\n",
       "             monotone_constraints=None, multi_strategy=None, n_estimators=400,\n",
       "             n_jobs=None, num_parallel_tree=None, ...)</pre></div></div></div></div></div></div></div></div></div></div></div></div></div></div></div></div></div>"
      ],
      "text/plain": [
       "GridSearchCV(cv=KFold(n_splits=3, random_state=313549, shuffle=True),\n",
       "             estimator=Pipeline(steps=[('pipeline',\n",
       "                                        Pipeline(steps=[('scaler',\n",
       "                                                         StandardScaler()),\n",
       "                                                        ('selector',\n",
       "                                                         SelectKBest(score_func=<function f_regression at 0x7f79adb361f0>))])),\n",
       "                                       ('eclf',\n",
       "                                        VotingRegressor(estimators=[('svm',\n",
       "                                                                     SVR(C=10,\n",
       "                                                                         gamma=0.1)),\n",
       "                                                                    ('nn',\n",
       "                                                                     MLPRegressor(hidden_layer_sizes=16,\n",
       "                                                                                  max_iter=10000,\n",
       "                                                                                  ra...\n",
       "                                                                                  interaction_constraints=None,\n",
       "                                                                                  learning_rate=None,\n",
       "                                                                                  max_bin=None,\n",
       "                                                                                  max_cat_threshold=None,\n",
       "                                                                                  max_cat_to_onehot=None,\n",
       "                                                                                  max_delta_step=None,\n",
       "                                                                                  max_depth=10,\n",
       "                                                                                  max_leaves=None,\n",
       "                                                                                  min_child_weight=None,\n",
       "                                                                                  missing=nan,\n",
       "                                                                                  monotone_constraints=None,\n",
       "                                                                                  multi_strategy=None,\n",
       "                                                                                  n_estimators=400,\n",
       "                                                                                  n_jobs=None,\n",
       "                                                                                  num_parallel_tree=None, ...))]))]),\n",
       "             param_grid={}, return_train_score=True,\n",
       "             scoring='neg_mean_squared_error')"
      ]
     },
     "execution_count": 19,
     "metadata": {},
     "output_type": "execute_result"
    }
   ],
   "source": [
    "grid_pipeline_voting.fit(X_train, y_train.values.ravel())"
   ]
  },
  {
   "cell_type": "code",
   "execution_count": 20,
   "id": "a0d3a8db",
   "metadata": {},
   "outputs": [
    {
     "data": {
      "text/html": [
       "<div>\n",
       "<style scoped>\n",
       "    .dataframe tbody tr th:only-of-type {\n",
       "        vertical-align: middle;\n",
       "    }\n",
       "\n",
       "    .dataframe tbody tr th {\n",
       "        vertical-align: top;\n",
       "    }\n",
       "\n",
       "    .dataframe thead th {\n",
       "        text-align: right;\n",
       "    }\n",
       "</style>\n",
       "<table border=\"1\" class=\"dataframe\">\n",
       "  <thead>\n",
       "    <tr style=\"text-align: right;\">\n",
       "      <th></th>\n",
       "      <th>mean_test_neg_mean_squared_error</th>\n",
       "      <th>mean_train_neg_mean_squared_error</th>\n",
       "      <th>std_test_neg_mean_squared_error</th>\n",
       "      <th>std_train_neg_mean_squared_error</th>\n",
       "      <th>rank_test</th>\n",
       "    </tr>\n",
       "  </thead>\n",
       "  <tbody>\n",
       "    <tr>\n",
       "      <th>0</th>\n",
       "      <td>-96.185113</td>\n",
       "      <td>-80.506998</td>\n",
       "      <td>1.200426</td>\n",
       "      <td>0.248202</td>\n",
       "      <td>1</td>\n",
       "    </tr>\n",
       "  </tbody>\n",
       "</table>\n",
       "</div>"
      ],
      "text/plain": [
       "   mean_test_neg_mean_squared_error  mean_train_neg_mean_squared_error  \\\n",
       "0                        -96.185113                         -80.506998   \n",
       "\n",
       "   std_test_neg_mean_squared_error  std_train_neg_mean_squared_error  \\\n",
       "0                         1.200426                          0.248202   \n",
       "\n",
       "   rank_test  \n",
       "0          1  "
      ]
     },
     "execution_count": 20,
     "metadata": {},
     "output_type": "execute_result"
    }
   ],
   "source": [
    "results_voting = pd.DataFrame({\n",
    "                     'mean_test_neg_mean_squared_error': grid_pipeline_voting.cv_results_[\"mean_test_score\"],\n",
    "                     'mean_train_neg_mean_squared_error': grid_pipeline_voting.cv_results_[\"mean_train_score\"],\n",
    "                     'std_test_neg_mean_squared_error': grid_pipeline_voting.cv_results_[\"std_test_score\"],\n",
    "                     'std_train_neg_mean_squared_error': grid_pipeline_voting.cv_results_[\"std_train_score\"],\n",
    "                     'rank_test': grid_pipeline_voting.cv_results_[\"rank_test_score\"]})\n",
    "results_voting.sort_values(by = 'rank_test')"
   ]
  },
  {
   "cell_type": "code",
   "execution_count": 21,
   "id": "38691b28",
   "metadata": {},
   "outputs": [],
   "source": [
    "y_pred = pd.DataFrame(grid_pipeline_voting.predict(X_test))"
   ]
  },
  {
   "cell_type": "code",
   "execution_count": 22,
   "id": "83251743",
   "metadata": {},
   "outputs": [],
   "source": [
    "pd.DataFrame(y_pred).to_csv(\"voting_wrapper.txt\", sep='\\t', index=False, header=False)"
   ]
  }
 ],
 "metadata": {
  "colab": {
   "provenance": []
  },
  "kernelspec": {
   "display_name": "Python 3 (ipykernel)",
   "language": "python",
   "name": "python3"
  },
  "language_info": {
   "codemirror_mode": {
    "name": "ipython",
    "version": 3
   },
   "file_extension": ".py",
   "mimetype": "text/x-python",
   "name": "python",
   "nbconvert_exporter": "python",
   "pygments_lexer": "ipython3",
   "version": "3.9.13"
  }
 },
 "nbformat": 4,
 "nbformat_minor": 5
}
