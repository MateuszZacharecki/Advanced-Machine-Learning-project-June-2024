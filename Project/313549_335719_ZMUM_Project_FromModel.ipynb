{
 "cells": [
  {
   "cell_type": "markdown",
   "id": "e0783d1e",
   "metadata": {
    "id": "e0783d1e"
   },
   "source": [
    "313549 ~ Mateusz Zacharecki \\\n",
    "335719 ~ Patrycja Kielan\n",
    "\n",
    "---"
   ]
  },
  {
   "cell_type": "markdown",
   "id": "8d26868d",
   "metadata": {
    "id": "8d26868d"
   },
   "source": [
    "# Solution for variable selection from model\n",
    "___"
   ]
  },
  {
   "cell_type": "markdown",
   "id": "b7fb3ad2",
   "metadata": {
    "id": "b7fb3ad2"
   },
   "source": [
    "# Importing libraries and data exploration"
   ]
  },
  {
   "cell_type": "code",
   "execution_count": 1,
   "id": "c3a2f1ba",
   "metadata": {
    "id": "c3a2f1ba"
   },
   "outputs": [
    {
     "name": "stderr",
     "output_type": "stream",
     "text": [
      "C:\\Users\\XXX\\anaconda3\\lib\\site-packages\\pandas\\core\\computation\\expressions.py:21: UserWarning: Pandas requires version '2.8.4' or newer of 'numexpr' (version '2.8.3' currently installed).\n",
      "  from pandas.core.computation.check import NUMEXPR_INSTALLED\n",
      "C:\\Users\\XXX\\anaconda3\\lib\\site-packages\\pandas\\core\\arrays\\masked.py:60: UserWarning: Pandas requires version '1.3.6' or newer of 'bottleneck' (version '1.3.5' currently installed).\n",
      "  from pandas.core import (\n"
     ]
    }
   ],
   "source": [
    "import pandas as pd\n",
    "import numpy as np\n",
    "import sklearn\n",
    "from sklearn.pipeline import Pipeline\n",
    "from sklearn.model_selection import train_test_split\n",
    "from sklearn.preprocessing import StandardScaler\n",
    "from sklearn.model_selection import GridSearchCV\n",
    "from sklearn.decomposition import PCA\n",
    "from sklearn.metrics import mean_squared_error as mse\n",
    "from sklearn.ensemble import GradientBoostingRegressor\n",
    "from sklearn.svm import SVR\n",
    "import matplotlib.pyplot as plt\n",
    "import sklearn.model_selection as skm\n",
    "from sklearn.neural_network import MLPRegressor\n",
    "from sklearn.linear_model import LinearRegression\n",
    "from sklearn.tree import DecisionTreeRegressor\n",
    "from sklearn.feature_selection import SelectFromModel\n",
    "import xgboost\n",
    "from sklearn.ensemble import VotingRegressor"
   ]
  },
  {
   "cell_type": "code",
   "execution_count": 2,
   "id": "397b93e3",
   "metadata": {
    "id": "397b93e3"
   },
   "outputs": [],
   "source": [
    "X_train = pd.read_csv(\"Xtrain.csv\", index_col=0)\n",
    "X_test = pd.read_csv(\"Xtest.csv\", index_col=0)\n",
    "y_train = pd.read_csv(\"ytrain.csv\", index_col=0)"
   ]
  },
  {
   "cell_type": "markdown",
   "id": "37b9a02f",
   "metadata": {
    "id": "37b9a02f"
   },
   "source": [
    "# SVM"
   ]
  },
  {
   "cell_type": "code",
   "execution_count": 3,
   "id": "161e92f9",
   "metadata": {
    "id": "161e92f9"
   },
   "outputs": [],
   "source": [
    "pipeline = Pipeline([\n",
    "    ('scaler', StandardScaler()),\n",
    "    ('selector', SelectFromModel(DecisionTreeRegressor(), max_features = 20))\n",
    "])"
   ]
  },
  {
   "cell_type": "markdown",
   "id": "dd2f6947",
   "metadata": {
    "id": "dd2f6947"
   },
   "source": [
    "## Fitting the whole training set"
   ]
  },
  {
   "cell_type": "code",
   "execution_count": 4,
   "id": "b927e787",
   "metadata": {
    "id": "b927e787"
   },
   "outputs": [],
   "source": [
    "pipeline_SVM = Pipeline([\n",
    "    ('pipeline', pipeline),\n",
    "    ('svm', SVR(C = 10, gamma = 0.1, kernel = 'rbf'))\n",
    "])"
   ]
  },
  {
   "cell_type": "code",
   "execution_count": 5,
   "id": "f6885914",
   "metadata": {
    "id": "f6885914"
   },
   "outputs": [],
   "source": [
    "params = {}\n",
    "\n",
    "grid_pipeline_SVM = GridSearchCV(pipeline_SVM,\n",
    "                             cv = skm.KFold(3, random_state = 313549, shuffle=True),\n",
    "                             param_grid = params,\n",
    "                             scoring = 'neg_mean_squared_error',\n",
    "                             return_train_score = True)"
   ]
  },
  {
   "cell_type": "code",
   "execution_count": 6,
   "id": "15113f93",
   "metadata": {
    "id": "15113f93",
    "outputId": "9cb6ce28-a099-4a84-e2db-535617bbbd52",
    "scrolled": false
   },
   "outputs": [
    {
     "data": {
      "text/plain": [
       "GridSearchCV(cv=KFold(n_splits=3, random_state=313549, shuffle=True),\n",
       "             estimator=Pipeline(steps=[('pipeline',\n",
       "                                        Pipeline(steps=[('scaler',\n",
       "                                                         StandardScaler()),\n",
       "                                                        ('selector',\n",
       "                                                         SelectFromModel(estimator=DecisionTreeRegressor(),\n",
       "                                                                         max_features=20))])),\n",
       "                                       ('svm', SVR(C=10, gamma=0.01))]),\n",
       "             param_grid={}, return_train_score=True,\n",
       "             scoring='neg_mean_squared_error')"
      ]
     },
     "execution_count": 6,
     "metadata": {},
     "output_type": "execute_result"
    }
   ],
   "source": [
    "grid_pipeline_SVM.fit(X_train, y_train.values.ravel())"
   ]
  },
  {
   "cell_type": "code",
   "execution_count": 7,
   "id": "94aa9787",
   "metadata": {
    "id": "94aa9787",
    "outputId": "2889ea29-5195-4415-a9f2-eeb603bc324f"
   },
   "outputs": [
    {
     "data": {
      "text/html": [
       "<div>\n",
       "<style scoped>\n",
       "    .dataframe tbody tr th:only-of-type {\n",
       "        vertical-align: middle;\n",
       "    }\n",
       "\n",
       "    .dataframe tbody tr th {\n",
       "        vertical-align: top;\n",
       "    }\n",
       "\n",
       "    .dataframe thead th {\n",
       "        text-align: right;\n",
       "    }\n",
       "</style>\n",
       "<table border=\"1\" class=\"dataframe\">\n",
       "  <thead>\n",
       "    <tr style=\"text-align: right;\">\n",
       "      <th></th>\n",
       "      <th>mean_test_reg_mean_squared_error</th>\n",
       "      <th>mean_train_reg_mean_squared_error</th>\n",
       "      <th>std_test_neg_mean_squared_error</th>\n",
       "      <th>std_train_neg_mean_squared_error</th>\n",
       "      <th>rank_test</th>\n",
       "    </tr>\n",
       "  </thead>\n",
       "  <tbody>\n",
       "    <tr>\n",
       "      <th>0</th>\n",
       "      <td>-91.047322</td>\n",
       "      <td>-90.352973</td>\n",
       "      <td>1.378589</td>\n",
       "      <td>0.448389</td>\n",
       "      <td>1</td>\n",
       "    </tr>\n",
       "  </tbody>\n",
       "</table>\n",
       "</div>"
      ],
      "text/plain": [
       "   mean_test_reg_mean_squared_error  mean_train_reg_mean_squared_error  \\\n",
       "0                        -91.047322                         -90.352973   \n",
       "\n",
       "   std_test_neg_mean_squared_error  std_train_neg_mean_squared_error  \\\n",
       "0                         1.378589                          0.448389   \n",
       "\n",
       "   rank_test  \n",
       "0          1  "
      ]
     },
     "execution_count": 7,
     "metadata": {},
     "output_type": "execute_result"
    }
   ],
   "source": [
    "results_SVM = pd.DataFrame({\n",
    "                     'mean_test_reg_mean_squared_error': grid_pipeline_SVM.cv_results_[\"mean_test_score\"],\n",
    "                     'mean_train_reg_mean_squared_error': grid_pipeline_SVM.cv_results_[\"mean_train_score\"],\n",
    "                     'std_test_neg_mean_squared_error': grid_pipeline_SVM.cv_results_[\"std_test_score\"],\n",
    "                     'std_train_neg_mean_squared_error': grid_pipeline_SVM.cv_results_[\"std_train_score\"],\n",
    "                     'rank_test': grid_pipeline_SVM.cv_results_[\"rank_test_score\"]})\n",
    "results_SVM.sort_values(by = 'rank_test')"
   ]
  },
  {
   "cell_type": "code",
   "execution_count": 8,
   "id": "bc3fef32",
   "metadata": {
    "id": "bc3fef32"
   },
   "outputs": [],
   "source": [
    "y_pred = pd.DataFrame(grid_pipeline_SVM.predict(X_test))"
   ]
  },
  {
   "cell_type": "code",
   "execution_count": 9,
   "id": "78bfd749",
   "metadata": {
    "id": "78bfd749"
   },
   "outputs": [],
   "source": [
    "pd.DataFrame(y_pred).to_csv(\"SVM.txt\", sep='\\t', index=False, header=False)"
   ]
  },
  {
   "cell_type": "markdown",
   "id": "e568e830",
   "metadata": {
    "id": "e568e830"
   },
   "source": [
    "# Neural network"
   ]
  },
  {
   "cell_type": "code",
   "execution_count": 9,
   "id": "6c1ae961",
   "metadata": {
    "id": "6c1ae961"
   },
   "outputs": [],
   "source": [
    "pipeline = Pipeline([\n",
    "    ('scaler', StandardScaler()),\n",
    "    ('selector', SelectFromModel(DecisionTreeRegressor(), max_features = 20))\n",
    "])"
   ]
  },
  {
   "cell_type": "markdown",
   "id": "7c73b323",
   "metadata": {
    "id": "7c73b323"
   },
   "source": [
    "## Fitting the whole training set"
   ]
  },
  {
   "cell_type": "code",
   "execution_count": 10,
   "id": "a32ba35f",
   "metadata": {
    "id": "a32ba35f"
   },
   "outputs": [],
   "source": [
    "pipeline_NN = Pipeline([\n",
    "    ('pipeline', pipeline),\n",
    "    ('nn', MLPRegressor(max_iter = 10000, random_state = 313549))\n",
    "])"
   ]
  },
  {
   "cell_type": "code",
   "execution_count": 11,
   "id": "487cf271",
   "metadata": {
    "id": "487cf271"
   },
   "outputs": [],
   "source": [
    "params = {\n",
    "    \"nn__hidden_layer_sizes\": [(4), (16), (4, 4)],\n",
    "    \"nn__solver\": ['sgd', 'adam']\n",
    "}"
   ]
  },
  {
   "cell_type": "code",
   "execution_count": 12,
   "id": "1b662467",
   "metadata": {
    "id": "1b662467"
   },
   "outputs": [],
   "source": [
    "grid_pipeline_NN = GridSearchCV(pipeline_NN,\n",
    "                      cv = skm.KFold(5, random_state = 313549, shuffle=True),\n",
    "                      param_grid = params,\n",
    "                      scoring = 'neg_mean_squared_error',\n",
    "                      return_train_score = True)"
   ]
  },
  {
   "cell_type": "code",
   "execution_count": 13,
   "id": "2eaed00f",
   "metadata": {
    "colab": {
     "background_save": true,
     "base_uri": "https://localhost:8080/"
    },
    "id": "2eaed00f",
    "outputId": "7f9f5465-5c13-400b-9090-c2efbe3e2faf"
   },
   "outputs": [
    {
     "name": "stderr",
     "output_type": "stream",
     "text": [
      "C:\\Users\\XXX\\anaconda3\\lib\\site-packages\\sklearn\\neural_network\\_base.py:174: RuntimeWarning: overflow encountered in square\n",
      "  return ((y_true - y_pred) ** 2).mean() / 2\n",
      "C:\\Users\\XXX\\anaconda3\\lib\\site-packages\\sklearn\\utils\\extmath.py:153: RuntimeWarning: overflow encountered in matmul\n",
      "  ret = a @ b\n",
      "C:\\Users\\XXX\\anaconda3\\lib\\site-packages\\sklearn\\utils\\extmath.py:153: RuntimeWarning: invalid value encountered in matmul\n",
      "  ret = a @ b\n",
      "C:\\Users\\XXX\\anaconda3\\lib\\site-packages\\sklearn\\neural_network\\_multilayer_perceptron.py:692: ConvergenceWarning: Stochastic Optimizer: Maximum iterations (10000) reached and the optimization hasn't converged yet.\n",
      "  warnings.warn(\n",
      "C:\\Users\\XXX\\anaconda3\\lib\\site-packages\\sklearn\\model_selection\\_validation.py:770: UserWarning: Scoring failed. The score on this train-test partition for these parameters will be set to nan. Details: \n",
      "Traceback (most recent call last):\n",
      "  File \"C:\\Users\\XXX\\anaconda3\\lib\\site-packages\\sklearn\\model_selection\\_validation.py\", line 761, in _score\n",
      "    scores = scorer(estimator, X_test, y_test)\n",
      "  File \"C:\\Users\\XXX\\anaconda3\\lib\\site-packages\\sklearn\\metrics\\_scorer.py\", line 216, in __call__\n",
      "    return self._score(\n",
      "  File \"C:\\Users\\XXX\\anaconda3\\lib\\site-packages\\sklearn\\metrics\\_scorer.py\", line 264, in _score\n",
      "    return self._sign * self._score_func(y_true, y_pred, **self._kwargs)\n",
      "  File \"C:\\Users\\XXX\\anaconda3\\lib\\site-packages\\sklearn\\metrics\\_regression.py\", line 438, in mean_squared_error\n",
      "    y_type, y_true, y_pred, multioutput = _check_reg_targets(\n",
      "  File \"C:\\Users\\XXX\\anaconda3\\lib\\site-packages\\sklearn\\metrics\\_regression.py\", line 96, in _check_reg_targets\n",
      "    y_pred = check_array(y_pred, ensure_2d=False, dtype=dtype)\n",
      "  File \"C:\\Users\\XXX\\anaconda3\\lib\\site-packages\\sklearn\\utils\\validation.py\", line 800, in check_array\n",
      "    _assert_all_finite(array, allow_nan=force_all_finite == \"allow-nan\")\n",
      "  File \"C:\\Users\\XXX\\anaconda3\\lib\\site-packages\\sklearn\\utils\\validation.py\", line 114, in _assert_all_finite\n",
      "    raise ValueError(\n",
      "ValueError: Input contains NaN, infinity or a value too large for dtype('float64').\n",
      "\n",
      "  warnings.warn(\n",
      "C:\\Users\\XXX\\anaconda3\\lib\\site-packages\\sklearn\\model_selection\\_validation.py:770: UserWarning: Scoring failed. The score on this train-test partition for these parameters will be set to nan. Details: \n",
      "Traceback (most recent call last):\n",
      "  File \"C:\\Users\\XXX\\anaconda3\\lib\\site-packages\\sklearn\\model_selection\\_validation.py\", line 761, in _score\n",
      "    scores = scorer(estimator, X_test, y_test)\n",
      "  File \"C:\\Users\\XXX\\anaconda3\\lib\\site-packages\\sklearn\\metrics\\_scorer.py\", line 216, in __call__\n",
      "    return self._score(\n",
      "  File \"C:\\Users\\XXX\\anaconda3\\lib\\site-packages\\sklearn\\metrics\\_scorer.py\", line 264, in _score\n",
      "    return self._sign * self._score_func(y_true, y_pred, **self._kwargs)\n",
      "  File \"C:\\Users\\XXX\\anaconda3\\lib\\site-packages\\sklearn\\metrics\\_regression.py\", line 438, in mean_squared_error\n",
      "    y_type, y_true, y_pred, multioutput = _check_reg_targets(\n",
      "  File \"C:\\Users\\XXX\\anaconda3\\lib\\site-packages\\sklearn\\metrics\\_regression.py\", line 96, in _check_reg_targets\n",
      "    y_pred = check_array(y_pred, ensure_2d=False, dtype=dtype)\n",
      "  File \"C:\\Users\\XXX\\anaconda3\\lib\\site-packages\\sklearn\\utils\\validation.py\", line 800, in check_array\n",
      "    _assert_all_finite(array, allow_nan=force_all_finite == \"allow-nan\")\n",
      "  File \"C:\\Users\\XXX\\anaconda3\\lib\\site-packages\\sklearn\\utils\\validation.py\", line 114, in _assert_all_finite\n",
      "    raise ValueError(\n",
      "ValueError: Input contains NaN, infinity or a value too large for dtype('float64').\n",
      "\n",
      "  warnings.warn(\n",
      "C:\\Users\\XXX\\anaconda3\\lib\\site-packages\\sklearn\\neural_network\\_base.py:174: RuntimeWarning: overflow encountered in square\n",
      "  return ((y_true - y_pred) ** 2).mean() / 2\n",
      "C:\\Users\\XXX\\anaconda3\\lib\\site-packages\\sklearn\\utils\\extmath.py:153: RuntimeWarning: overflow encountered in matmul\n",
      "  ret = a @ b\n",
      "C:\\Users\\XXX\\anaconda3\\lib\\site-packages\\sklearn\\utils\\extmath.py:153: RuntimeWarning: invalid value encountered in matmul\n",
      "  ret = a @ b\n",
      "C:\\Users\\XXX\\anaconda3\\lib\\site-packages\\sklearn\\neural_network\\_multilayer_perceptron.py:692: ConvergenceWarning: Stochastic Optimizer: Maximum iterations (10000) reached and the optimization hasn't converged yet.\n",
      "  warnings.warn(\n",
      "C:\\Users\\XXX\\anaconda3\\lib\\site-packages\\sklearn\\model_selection\\_validation.py:770: UserWarning: Scoring failed. The score on this train-test partition for these parameters will be set to nan. Details: \n",
      "Traceback (most recent call last):\n",
      "  File \"C:\\Users\\XXX\\anaconda3\\lib\\site-packages\\sklearn\\model_selection\\_validation.py\", line 761, in _score\n",
      "    scores = scorer(estimator, X_test, y_test)\n",
      "  File \"C:\\Users\\XXX\\anaconda3\\lib\\site-packages\\sklearn\\metrics\\_scorer.py\", line 216, in __call__\n",
      "    return self._score(\n",
      "  File \"C:\\Users\\XXX\\anaconda3\\lib\\site-packages\\sklearn\\metrics\\_scorer.py\", line 264, in _score\n",
      "    return self._sign * self._score_func(y_true, y_pred, **self._kwargs)\n",
      "  File \"C:\\Users\\XXX\\anaconda3\\lib\\site-packages\\sklearn\\metrics\\_regression.py\", line 438, in mean_squared_error\n",
      "    y_type, y_true, y_pred, multioutput = _check_reg_targets(\n",
      "  File \"C:\\Users\\XXX\\anaconda3\\lib\\site-packages\\sklearn\\metrics\\_regression.py\", line 96, in _check_reg_targets\n",
      "    y_pred = check_array(y_pred, ensure_2d=False, dtype=dtype)\n",
      "  File \"C:\\Users\\XXX\\anaconda3\\lib\\site-packages\\sklearn\\utils\\validation.py\", line 800, in check_array\n",
      "    _assert_all_finite(array, allow_nan=force_all_finite == \"allow-nan\")\n",
      "  File \"C:\\Users\\XXX\\anaconda3\\lib\\site-packages\\sklearn\\utils\\validation.py\", line 114, in _assert_all_finite\n",
      "    raise ValueError(\n",
      "ValueError: Input contains NaN, infinity or a value too large for dtype('float64').\n",
      "\n",
      "  warnings.warn(\n",
      "C:\\Users\\XXX\\anaconda3\\lib\\site-packages\\sklearn\\model_selection\\_validation.py:770: UserWarning: Scoring failed. The score on this train-test partition for these parameters will be set to nan. Details: \n",
      "Traceback (most recent call last):\n",
      "  File \"C:\\Users\\XXX\\anaconda3\\lib\\site-packages\\sklearn\\model_selection\\_validation.py\", line 761, in _score\n",
      "    scores = scorer(estimator, X_test, y_test)\n",
      "  File \"C:\\Users\\XXX\\anaconda3\\lib\\site-packages\\sklearn\\metrics\\_scorer.py\", line 216, in __call__\n",
      "    return self._score(\n",
      "  File \"C:\\Users\\XXX\\anaconda3\\lib\\site-packages\\sklearn\\metrics\\_scorer.py\", line 264, in _score\n",
      "    return self._sign * self._score_func(y_true, y_pred, **self._kwargs)\n",
      "  File \"C:\\Users\\XXX\\anaconda3\\lib\\site-packages\\sklearn\\metrics\\_regression.py\", line 438, in mean_squared_error\n",
      "    y_type, y_true, y_pred, multioutput = _check_reg_targets(\n",
      "  File \"C:\\Users\\XXX\\anaconda3\\lib\\site-packages\\sklearn\\metrics\\_regression.py\", line 96, in _check_reg_targets\n",
      "    y_pred = check_array(y_pred, ensure_2d=False, dtype=dtype)\n",
      "  File \"C:\\Users\\XXX\\anaconda3\\lib\\site-packages\\sklearn\\utils\\validation.py\", line 800, in check_array\n",
      "    _assert_all_finite(array, allow_nan=force_all_finite == \"allow-nan\")\n",
      "  File \"C:\\Users\\XXX\\anaconda3\\lib\\site-packages\\sklearn\\utils\\validation.py\", line 114, in _assert_all_finite\n",
      "    raise ValueError(\n",
      "ValueError: Input contains NaN, infinity or a value too large for dtype('float64').\n",
      "\n",
      "  warnings.warn(\n",
      "C:\\Users\\XXX\\anaconda3\\lib\\site-packages\\sklearn\\utils\\extmath.py:153: RuntimeWarning: overflow encountered in matmul\n",
      "  ret = a @ b\n",
      "C:\\Users\\XXX\\anaconda3\\lib\\site-packages\\sklearn\\utils\\extmath.py:153: RuntimeWarning: invalid value encountered in matmul\n",
      "  ret = a @ b\n",
      "C:\\Users\\XXX\\anaconda3\\lib\\site-packages\\sklearn\\neural_network\\_multilayer_perceptron.py:692: ConvergenceWarning: Stochastic Optimizer: Maximum iterations (10000) reached and the optimization hasn't converged yet.\n",
      "  warnings.warn(\n",
      "C:\\Users\\XXX\\anaconda3\\lib\\site-packages\\sklearn\\model_selection\\_validation.py:770: UserWarning: Scoring failed. The score on this train-test partition for these parameters will be set to nan. Details: \n",
      "Traceback (most recent call last):\n",
      "  File \"C:\\Users\\XXX\\anaconda3\\lib\\site-packages\\sklearn\\model_selection\\_validation.py\", line 761, in _score\n",
      "    scores = scorer(estimator, X_test, y_test)\n",
      "  File \"C:\\Users\\XXX\\anaconda3\\lib\\site-packages\\sklearn\\metrics\\_scorer.py\", line 216, in __call__\n",
      "    return self._score(\n",
      "  File \"C:\\Users\\XXX\\anaconda3\\lib\\site-packages\\sklearn\\metrics\\_scorer.py\", line 264, in _score\n",
      "    return self._sign * self._score_func(y_true, y_pred, **self._kwargs)\n",
      "  File \"C:\\Users\\XXX\\anaconda3\\lib\\site-packages\\sklearn\\metrics\\_regression.py\", line 438, in mean_squared_error\n",
      "    y_type, y_true, y_pred, multioutput = _check_reg_targets(\n",
      "  File \"C:\\Users\\XXX\\anaconda3\\lib\\site-packages\\sklearn\\metrics\\_regression.py\", line 96, in _check_reg_targets\n",
      "    y_pred = check_array(y_pred, ensure_2d=False, dtype=dtype)\n",
      "  File \"C:\\Users\\XXX\\anaconda3\\lib\\site-packages\\sklearn\\utils\\validation.py\", line 800, in check_array\n",
      "    _assert_all_finite(array, allow_nan=force_all_finite == \"allow-nan\")\n",
      "  File \"C:\\Users\\XXX\\anaconda3\\lib\\site-packages\\sklearn\\utils\\validation.py\", line 114, in _assert_all_finite\n",
      "    raise ValueError(\n",
      "ValueError: Input contains NaN, infinity or a value too large for dtype('float64').\n",
      "\n",
      "  warnings.warn(\n"
     ]
    },
    {
     "name": "stderr",
     "output_type": "stream",
     "text": [
      "C:\\Users\\XXX\\anaconda3\\lib\\site-packages\\sklearn\\model_selection\\_validation.py:770: UserWarning: Scoring failed. The score on this train-test partition for these parameters will be set to nan. Details: \n",
      "Traceback (most recent call last):\n",
      "  File \"C:\\Users\\XXX\\anaconda3\\lib\\site-packages\\sklearn\\model_selection\\_validation.py\", line 761, in _score\n",
      "    scores = scorer(estimator, X_test, y_test)\n",
      "  File \"C:\\Users\\XXX\\anaconda3\\lib\\site-packages\\sklearn\\metrics\\_scorer.py\", line 216, in __call__\n",
      "    return self._score(\n",
      "  File \"C:\\Users\\XXX\\anaconda3\\lib\\site-packages\\sklearn\\metrics\\_scorer.py\", line 264, in _score\n",
      "    return self._sign * self._score_func(y_true, y_pred, **self._kwargs)\n",
      "  File \"C:\\Users\\XXX\\anaconda3\\lib\\site-packages\\sklearn\\metrics\\_regression.py\", line 438, in mean_squared_error\n",
      "    y_type, y_true, y_pred, multioutput = _check_reg_targets(\n",
      "  File \"C:\\Users\\XXX\\anaconda3\\lib\\site-packages\\sklearn\\metrics\\_regression.py\", line 96, in _check_reg_targets\n",
      "    y_pred = check_array(y_pred, ensure_2d=False, dtype=dtype)\n",
      "  File \"C:\\Users\\XXX\\anaconda3\\lib\\site-packages\\sklearn\\utils\\validation.py\", line 800, in check_array\n",
      "    _assert_all_finite(array, allow_nan=force_all_finite == \"allow-nan\")\n",
      "  File \"C:\\Users\\XXX\\anaconda3\\lib\\site-packages\\sklearn\\utils\\validation.py\", line 114, in _assert_all_finite\n",
      "    raise ValueError(\n",
      "ValueError: Input contains NaN, infinity or a value too large for dtype('float64').\n",
      "\n",
      "  warnings.warn(\n",
      "C:\\Users\\XXX\\anaconda3\\lib\\site-packages\\sklearn\\utils\\extmath.py:153: RuntimeWarning: overflow encountered in matmul\n",
      "  ret = a @ b\n",
      "C:\\Users\\XXX\\anaconda3\\lib\\site-packages\\sklearn\\utils\\extmath.py:153: RuntimeWarning: invalid value encountered in matmul\n",
      "  ret = a @ b\n",
      "C:\\Users\\XXX\\anaconda3\\lib\\site-packages\\sklearn\\neural_network\\_multilayer_perceptron.py:692: ConvergenceWarning: Stochastic Optimizer: Maximum iterations (10000) reached and the optimization hasn't converged yet.\n",
      "  warnings.warn(\n",
      "C:\\Users\\XXX\\anaconda3\\lib\\site-packages\\sklearn\\model_selection\\_validation.py:770: UserWarning: Scoring failed. The score on this train-test partition for these parameters will be set to nan. Details: \n",
      "Traceback (most recent call last):\n",
      "  File \"C:\\Users\\XXX\\anaconda3\\lib\\site-packages\\sklearn\\model_selection\\_validation.py\", line 761, in _score\n",
      "    scores = scorer(estimator, X_test, y_test)\n",
      "  File \"C:\\Users\\XXX\\anaconda3\\lib\\site-packages\\sklearn\\metrics\\_scorer.py\", line 216, in __call__\n",
      "    return self._score(\n",
      "  File \"C:\\Users\\XXX\\anaconda3\\lib\\site-packages\\sklearn\\metrics\\_scorer.py\", line 264, in _score\n",
      "    return self._sign * self._score_func(y_true, y_pred, **self._kwargs)\n",
      "  File \"C:\\Users\\XXX\\anaconda3\\lib\\site-packages\\sklearn\\metrics\\_regression.py\", line 438, in mean_squared_error\n",
      "    y_type, y_true, y_pred, multioutput = _check_reg_targets(\n",
      "  File \"C:\\Users\\XXX\\anaconda3\\lib\\site-packages\\sklearn\\metrics\\_regression.py\", line 96, in _check_reg_targets\n",
      "    y_pred = check_array(y_pred, ensure_2d=False, dtype=dtype)\n",
      "  File \"C:\\Users\\XXX\\anaconda3\\lib\\site-packages\\sklearn\\utils\\validation.py\", line 800, in check_array\n",
      "    _assert_all_finite(array, allow_nan=force_all_finite == \"allow-nan\")\n",
      "  File \"C:\\Users\\XXX\\anaconda3\\lib\\site-packages\\sklearn\\utils\\validation.py\", line 114, in _assert_all_finite\n",
      "    raise ValueError(\n",
      "ValueError: Input contains NaN, infinity or a value too large for dtype('float64').\n",
      "\n",
      "  warnings.warn(\n",
      "C:\\Users\\XXX\\anaconda3\\lib\\site-packages\\sklearn\\model_selection\\_validation.py:770: UserWarning: Scoring failed. The score on this train-test partition for these parameters will be set to nan. Details: \n",
      "Traceback (most recent call last):\n",
      "  File \"C:\\Users\\XXX\\anaconda3\\lib\\site-packages\\sklearn\\model_selection\\_validation.py\", line 761, in _score\n",
      "    scores = scorer(estimator, X_test, y_test)\n",
      "  File \"C:\\Users\\XXX\\anaconda3\\lib\\site-packages\\sklearn\\metrics\\_scorer.py\", line 216, in __call__\n",
      "    return self._score(\n",
      "  File \"C:\\Users\\XXX\\anaconda3\\lib\\site-packages\\sklearn\\metrics\\_scorer.py\", line 264, in _score\n",
      "    return self._sign * self._score_func(y_true, y_pred, **self._kwargs)\n",
      "  File \"C:\\Users\\XXX\\anaconda3\\lib\\site-packages\\sklearn\\metrics\\_regression.py\", line 438, in mean_squared_error\n",
      "    y_type, y_true, y_pred, multioutput = _check_reg_targets(\n",
      "  File \"C:\\Users\\XXX\\anaconda3\\lib\\site-packages\\sklearn\\metrics\\_regression.py\", line 96, in _check_reg_targets\n",
      "    y_pred = check_array(y_pred, ensure_2d=False, dtype=dtype)\n",
      "  File \"C:\\Users\\XXX\\anaconda3\\lib\\site-packages\\sklearn\\utils\\validation.py\", line 800, in check_array\n",
      "    _assert_all_finite(array, allow_nan=force_all_finite == \"allow-nan\")\n",
      "  File \"C:\\Users\\XXX\\anaconda3\\lib\\site-packages\\sklearn\\utils\\validation.py\", line 114, in _assert_all_finite\n",
      "    raise ValueError(\n",
      "ValueError: Input contains NaN, infinity or a value too large for dtype('float64').\n",
      "\n",
      "  warnings.warn(\n",
      "C:\\Users\\XXX\\anaconda3\\lib\\site-packages\\sklearn\\neural_network\\_base.py:174: RuntimeWarning: overflow encountered in square\n",
      "  return ((y_true - y_pred) ** 2).mean() / 2\n",
      "C:\\Users\\XXX\\anaconda3\\lib\\site-packages\\sklearn\\utils\\extmath.py:153: RuntimeWarning: overflow encountered in matmul\n",
      "  ret = a @ b\n",
      "C:\\Users\\XXX\\anaconda3\\lib\\site-packages\\sklearn\\utils\\extmath.py:153: RuntimeWarning: invalid value encountered in matmul\n",
      "  ret = a @ b\n",
      "C:\\Users\\XXX\\anaconda3\\lib\\site-packages\\sklearn\\neural_network\\_multilayer_perceptron.py:692: ConvergenceWarning: Stochastic Optimizer: Maximum iterations (10000) reached and the optimization hasn't converged yet.\n",
      "  warnings.warn(\n",
      "C:\\Users\\XXX\\anaconda3\\lib\\site-packages\\sklearn\\model_selection\\_validation.py:770: UserWarning: Scoring failed. The score on this train-test partition for these parameters will be set to nan. Details: \n",
      "Traceback (most recent call last):\n",
      "  File \"C:\\Users\\XXX\\anaconda3\\lib\\site-packages\\sklearn\\model_selection\\_validation.py\", line 761, in _score\n",
      "    scores = scorer(estimator, X_test, y_test)\n",
      "  File \"C:\\Users\\XXX\\anaconda3\\lib\\site-packages\\sklearn\\metrics\\_scorer.py\", line 216, in __call__\n",
      "    return self._score(\n",
      "  File \"C:\\Users\\XXX\\anaconda3\\lib\\site-packages\\sklearn\\metrics\\_scorer.py\", line 264, in _score\n",
      "    return self._sign * self._score_func(y_true, y_pred, **self._kwargs)\n",
      "  File \"C:\\Users\\XXX\\anaconda3\\lib\\site-packages\\sklearn\\metrics\\_regression.py\", line 438, in mean_squared_error\n",
      "    y_type, y_true, y_pred, multioutput = _check_reg_targets(\n",
      "  File \"C:\\Users\\XXX\\anaconda3\\lib\\site-packages\\sklearn\\metrics\\_regression.py\", line 96, in _check_reg_targets\n",
      "    y_pred = check_array(y_pred, ensure_2d=False, dtype=dtype)\n",
      "  File \"C:\\Users\\XXX\\anaconda3\\lib\\site-packages\\sklearn\\utils\\validation.py\", line 800, in check_array\n",
      "    _assert_all_finite(array, allow_nan=force_all_finite == \"allow-nan\")\n",
      "  File \"C:\\Users\\XXX\\anaconda3\\lib\\site-packages\\sklearn\\utils\\validation.py\", line 114, in _assert_all_finite\n",
      "    raise ValueError(\n",
      "ValueError: Input contains NaN, infinity or a value too large for dtype('float64').\n",
      "\n",
      "  warnings.warn(\n",
      "C:\\Users\\XXX\\anaconda3\\lib\\site-packages\\sklearn\\model_selection\\_validation.py:770: UserWarning: Scoring failed. The score on this train-test partition for these parameters will be set to nan. Details: \n",
      "Traceback (most recent call last):\n",
      "  File \"C:\\Users\\XXX\\anaconda3\\lib\\site-packages\\sklearn\\model_selection\\_validation.py\", line 761, in _score\n",
      "    scores = scorer(estimator, X_test, y_test)\n",
      "  File \"C:\\Users\\XXX\\anaconda3\\lib\\site-packages\\sklearn\\metrics\\_scorer.py\", line 216, in __call__\n",
      "    return self._score(\n",
      "  File \"C:\\Users\\XXX\\anaconda3\\lib\\site-packages\\sklearn\\metrics\\_scorer.py\", line 264, in _score\n",
      "    return self._sign * self._score_func(y_true, y_pred, **self._kwargs)\n",
      "  File \"C:\\Users\\XXX\\anaconda3\\lib\\site-packages\\sklearn\\metrics\\_regression.py\", line 438, in mean_squared_error\n",
      "    y_type, y_true, y_pred, multioutput = _check_reg_targets(\n",
      "  File \"C:\\Users\\XXX\\anaconda3\\lib\\site-packages\\sklearn\\metrics\\_regression.py\", line 96, in _check_reg_targets\n",
      "    y_pred = check_array(y_pred, ensure_2d=False, dtype=dtype)\n",
      "  File \"C:\\Users\\XXX\\anaconda3\\lib\\site-packages\\sklearn\\utils\\validation.py\", line 800, in check_array\n",
      "    _assert_all_finite(array, allow_nan=force_all_finite == \"allow-nan\")\n",
      "  File \"C:\\Users\\XXX\\anaconda3\\lib\\site-packages\\sklearn\\utils\\validation.py\", line 114, in _assert_all_finite\n",
      "    raise ValueError(\n",
      "ValueError: Input contains NaN, infinity or a value too large for dtype('float64').\n",
      "\n",
      "  warnings.warn(\n"
     ]
    },
    {
     "name": "stderr",
     "output_type": "stream",
     "text": [
      "C:\\Users\\XXX\\anaconda3\\lib\\site-packages\\sklearn\\neural_network\\_base.py:174: RuntimeWarning: overflow encountered in square\n",
      "  return ((y_true - y_pred) ** 2).mean() / 2\n",
      "C:\\Users\\XXX\\anaconda3\\lib\\site-packages\\sklearn\\utils\\extmath.py:153: RuntimeWarning: overflow encountered in matmul\n",
      "  ret = a @ b\n",
      "C:\\Users\\XXX\\anaconda3\\lib\\site-packages\\sklearn\\utils\\extmath.py:153: RuntimeWarning: invalid value encountered in matmul\n",
      "  ret = a @ b\n",
      "C:\\Users\\XXX\\anaconda3\\lib\\site-packages\\sklearn\\neural_network\\_multilayer_perceptron.py:692: ConvergenceWarning: Stochastic Optimizer: Maximum iterations (10000) reached and the optimization hasn't converged yet.\n",
      "  warnings.warn(\n",
      "C:\\Users\\XXX\\anaconda3\\lib\\site-packages\\sklearn\\model_selection\\_validation.py:770: UserWarning: Scoring failed. The score on this train-test partition for these parameters will be set to nan. Details: \n",
      "Traceback (most recent call last):\n",
      "  File \"C:\\Users\\XXX\\anaconda3\\lib\\site-packages\\sklearn\\model_selection\\_validation.py\", line 761, in _score\n",
      "    scores = scorer(estimator, X_test, y_test)\n",
      "  File \"C:\\Users\\XXX\\anaconda3\\lib\\site-packages\\sklearn\\metrics\\_scorer.py\", line 216, in __call__\n",
      "    return self._score(\n",
      "  File \"C:\\Users\\XXX\\anaconda3\\lib\\site-packages\\sklearn\\metrics\\_scorer.py\", line 264, in _score\n",
      "    return self._sign * self._score_func(y_true, y_pred, **self._kwargs)\n",
      "  File \"C:\\Users\\XXX\\anaconda3\\lib\\site-packages\\sklearn\\metrics\\_regression.py\", line 438, in mean_squared_error\n",
      "    y_type, y_true, y_pred, multioutput = _check_reg_targets(\n",
      "  File \"C:\\Users\\XXX\\anaconda3\\lib\\site-packages\\sklearn\\metrics\\_regression.py\", line 96, in _check_reg_targets\n",
      "    y_pred = check_array(y_pred, ensure_2d=False, dtype=dtype)\n",
      "  File \"C:\\Users\\XXX\\anaconda3\\lib\\site-packages\\sklearn\\utils\\validation.py\", line 800, in check_array\n",
      "    _assert_all_finite(array, allow_nan=force_all_finite == \"allow-nan\")\n",
      "  File \"C:\\Users\\XXX\\anaconda3\\lib\\site-packages\\sklearn\\utils\\validation.py\", line 114, in _assert_all_finite\n",
      "    raise ValueError(\n",
      "ValueError: Input contains NaN, infinity or a value too large for dtype('float64').\n",
      "\n",
      "  warnings.warn(\n",
      "C:\\Users\\XXX\\anaconda3\\lib\\site-packages\\sklearn\\model_selection\\_validation.py:770: UserWarning: Scoring failed. The score on this train-test partition for these parameters will be set to nan. Details: \n",
      "Traceback (most recent call last):\n",
      "  File \"C:\\Users\\XXX\\anaconda3\\lib\\site-packages\\sklearn\\model_selection\\_validation.py\", line 761, in _score\n",
      "    scores = scorer(estimator, X_test, y_test)\n",
      "  File \"C:\\Users\\XXX\\anaconda3\\lib\\site-packages\\sklearn\\metrics\\_scorer.py\", line 216, in __call__\n",
      "    return self._score(\n",
      "  File \"C:\\Users\\XXX\\anaconda3\\lib\\site-packages\\sklearn\\metrics\\_scorer.py\", line 264, in _score\n",
      "    return self._sign * self._score_func(y_true, y_pred, **self._kwargs)\n",
      "  File \"C:\\Users\\XXX\\anaconda3\\lib\\site-packages\\sklearn\\metrics\\_regression.py\", line 438, in mean_squared_error\n",
      "    y_type, y_true, y_pred, multioutput = _check_reg_targets(\n",
      "  File \"C:\\Users\\XXX\\anaconda3\\lib\\site-packages\\sklearn\\metrics\\_regression.py\", line 96, in _check_reg_targets\n",
      "    y_pred = check_array(y_pred, ensure_2d=False, dtype=dtype)\n",
      "  File \"C:\\Users\\XXX\\anaconda3\\lib\\site-packages\\sklearn\\utils\\validation.py\", line 800, in check_array\n",
      "    _assert_all_finite(array, allow_nan=force_all_finite == \"allow-nan\")\n",
      "  File \"C:\\Users\\XXX\\anaconda3\\lib\\site-packages\\sklearn\\utils\\validation.py\", line 114, in _assert_all_finite\n",
      "    raise ValueError(\n",
      "ValueError: Input contains NaN, infinity or a value too large for dtype('float64').\n",
      "\n",
      "  warnings.warn(\n",
      "C:\\Users\\XXX\\anaconda3\\lib\\site-packages\\sklearn\\utils\\extmath.py:153: RuntimeWarning: overflow encountered in matmul\n",
      "  ret = a @ b\n",
      "C:\\Users\\XXX\\anaconda3\\lib\\site-packages\\sklearn\\utils\\extmath.py:153: RuntimeWarning: invalid value encountered in matmul\n",
      "  ret = a @ b\n",
      "C:\\Users\\XXX\\anaconda3\\lib\\site-packages\\sklearn\\neural_network\\_multilayer_perceptron.py:692: ConvergenceWarning: Stochastic Optimizer: Maximum iterations (10000) reached and the optimization hasn't converged yet.\n",
      "  warnings.warn(\n",
      "C:\\Users\\XXX\\anaconda3\\lib\\site-packages\\sklearn\\model_selection\\_validation.py:770: UserWarning: Scoring failed. The score on this train-test partition for these parameters will be set to nan. Details: \n",
      "Traceback (most recent call last):\n",
      "  File \"C:\\Users\\XXX\\anaconda3\\lib\\site-packages\\sklearn\\model_selection\\_validation.py\", line 761, in _score\n",
      "    scores = scorer(estimator, X_test, y_test)\n",
      "  File \"C:\\Users\\XXX\\anaconda3\\lib\\site-packages\\sklearn\\metrics\\_scorer.py\", line 216, in __call__\n",
      "    return self._score(\n",
      "  File \"C:\\Users\\XXX\\anaconda3\\lib\\site-packages\\sklearn\\metrics\\_scorer.py\", line 264, in _score\n",
      "    return self._sign * self._score_func(y_true, y_pred, **self._kwargs)\n",
      "  File \"C:\\Users\\XXX\\anaconda3\\lib\\site-packages\\sklearn\\metrics\\_regression.py\", line 438, in mean_squared_error\n",
      "    y_type, y_true, y_pred, multioutput = _check_reg_targets(\n",
      "  File \"C:\\Users\\XXX\\anaconda3\\lib\\site-packages\\sklearn\\metrics\\_regression.py\", line 96, in _check_reg_targets\n",
      "    y_pred = check_array(y_pred, ensure_2d=False, dtype=dtype)\n",
      "  File \"C:\\Users\\XXX\\anaconda3\\lib\\site-packages\\sklearn\\utils\\validation.py\", line 800, in check_array\n",
      "    _assert_all_finite(array, allow_nan=force_all_finite == \"allow-nan\")\n",
      "  File \"C:\\Users\\XXX\\anaconda3\\lib\\site-packages\\sklearn\\utils\\validation.py\", line 114, in _assert_all_finite\n",
      "    raise ValueError(\n",
      "ValueError: Input contains NaN, infinity or a value too large for dtype('float64').\n",
      "\n",
      "  warnings.warn(\n",
      "C:\\Users\\XXX\\anaconda3\\lib\\site-packages\\sklearn\\model_selection\\_validation.py:770: UserWarning: Scoring failed. The score on this train-test partition for these parameters will be set to nan. Details: \n",
      "Traceback (most recent call last):\n",
      "  File \"C:\\Users\\XXX\\anaconda3\\lib\\site-packages\\sklearn\\model_selection\\_validation.py\", line 761, in _score\n",
      "    scores = scorer(estimator, X_test, y_test)\n",
      "  File \"C:\\Users\\XXX\\anaconda3\\lib\\site-packages\\sklearn\\metrics\\_scorer.py\", line 216, in __call__\n",
      "    return self._score(\n",
      "  File \"C:\\Users\\XXX\\anaconda3\\lib\\site-packages\\sklearn\\metrics\\_scorer.py\", line 264, in _score\n",
      "    return self._sign * self._score_func(y_true, y_pred, **self._kwargs)\n",
      "  File \"C:\\Users\\XXX\\anaconda3\\lib\\site-packages\\sklearn\\metrics\\_regression.py\", line 438, in mean_squared_error\n",
      "    y_type, y_true, y_pred, multioutput = _check_reg_targets(\n",
      "  File \"C:\\Users\\XXX\\anaconda3\\lib\\site-packages\\sklearn\\metrics\\_regression.py\", line 96, in _check_reg_targets\n",
      "    y_pred = check_array(y_pred, ensure_2d=False, dtype=dtype)\n",
      "  File \"C:\\Users\\XXX\\anaconda3\\lib\\site-packages\\sklearn\\utils\\validation.py\", line 800, in check_array\n",
      "    _assert_all_finite(array, allow_nan=force_all_finite == \"allow-nan\")\n",
      "  File \"C:\\Users\\XXX\\anaconda3\\lib\\site-packages\\sklearn\\utils\\validation.py\", line 114, in _assert_all_finite\n",
      "    raise ValueError(\n",
      "ValueError: Input contains NaN, infinity or a value too large for dtype('float64').\n",
      "\n",
      "  warnings.warn(\n",
      "C:\\Users\\XXX\\anaconda3\\lib\\site-packages\\sklearn\\utils\\extmath.py:153: RuntimeWarning: overflow encountered in matmul\n",
      "  ret = a @ b\n",
      "C:\\Users\\XXX\\anaconda3\\lib\\site-packages\\sklearn\\utils\\extmath.py:153: RuntimeWarning: invalid value encountered in matmul\n",
      "  ret = a @ b\n",
      "C:\\Users\\XXX\\anaconda3\\lib\\site-packages\\sklearn\\neural_network\\_multilayer_perceptron.py:692: ConvergenceWarning: Stochastic Optimizer: Maximum iterations (10000) reached and the optimization hasn't converged yet.\n",
      "  warnings.warn(\n",
      "C:\\Users\\XXX\\anaconda3\\lib\\site-packages\\sklearn\\model_selection\\_validation.py:770: UserWarning: Scoring failed. The score on this train-test partition for these parameters will be set to nan. Details: \n",
      "Traceback (most recent call last):\n",
      "  File \"C:\\Users\\XXX\\anaconda3\\lib\\site-packages\\sklearn\\model_selection\\_validation.py\", line 761, in _score\n",
      "    scores = scorer(estimator, X_test, y_test)\n",
      "  File \"C:\\Users\\XXX\\anaconda3\\lib\\site-packages\\sklearn\\metrics\\_scorer.py\", line 216, in __call__\n",
      "    return self._score(\n",
      "  File \"C:\\Users\\XXX\\anaconda3\\lib\\site-packages\\sklearn\\metrics\\_scorer.py\", line 264, in _score\n",
      "    return self._sign * self._score_func(y_true, y_pred, **self._kwargs)\n",
      "  File \"C:\\Users\\XXX\\anaconda3\\lib\\site-packages\\sklearn\\metrics\\_regression.py\", line 438, in mean_squared_error\n",
      "    y_type, y_true, y_pred, multioutput = _check_reg_targets(\n",
      "  File \"C:\\Users\\XXX\\anaconda3\\lib\\site-packages\\sklearn\\metrics\\_regression.py\", line 96, in _check_reg_targets\n",
      "    y_pred = check_array(y_pred, ensure_2d=False, dtype=dtype)\n",
      "  File \"C:\\Users\\XXX\\anaconda3\\lib\\site-packages\\sklearn\\utils\\validation.py\", line 800, in check_array\n",
      "    _assert_all_finite(array, allow_nan=force_all_finite == \"allow-nan\")\n",
      "  File \"C:\\Users\\XXX\\anaconda3\\lib\\site-packages\\sklearn\\utils\\validation.py\", line 114, in _assert_all_finite\n",
      "    raise ValueError(\n",
      "ValueError: Input contains NaN, infinity or a value too large for dtype('float64').\n",
      "\n",
      "  warnings.warn(\n"
     ]
    },
    {
     "name": "stderr",
     "output_type": "stream",
     "text": [
      "C:\\Users\\XXX\\anaconda3\\lib\\site-packages\\sklearn\\model_selection\\_validation.py:770: UserWarning: Scoring failed. The score on this train-test partition for these parameters will be set to nan. Details: \n",
      "Traceback (most recent call last):\n",
      "  File \"C:\\Users\\XXX\\anaconda3\\lib\\site-packages\\sklearn\\model_selection\\_validation.py\", line 761, in _score\n",
      "    scores = scorer(estimator, X_test, y_test)\n",
      "  File \"C:\\Users\\XXX\\anaconda3\\lib\\site-packages\\sklearn\\metrics\\_scorer.py\", line 216, in __call__\n",
      "    return self._score(\n",
      "  File \"C:\\Users\\XXX\\anaconda3\\lib\\site-packages\\sklearn\\metrics\\_scorer.py\", line 264, in _score\n",
      "    return self._sign * self._score_func(y_true, y_pred, **self._kwargs)\n",
      "  File \"C:\\Users\\XXX\\anaconda3\\lib\\site-packages\\sklearn\\metrics\\_regression.py\", line 438, in mean_squared_error\n",
      "    y_type, y_true, y_pred, multioutput = _check_reg_targets(\n",
      "  File \"C:\\Users\\XXX\\anaconda3\\lib\\site-packages\\sklearn\\metrics\\_regression.py\", line 96, in _check_reg_targets\n",
      "    y_pred = check_array(y_pred, ensure_2d=False, dtype=dtype)\n",
      "  File \"C:\\Users\\XXX\\anaconda3\\lib\\site-packages\\sklearn\\utils\\validation.py\", line 800, in check_array\n",
      "    _assert_all_finite(array, allow_nan=force_all_finite == \"allow-nan\")\n",
      "  File \"C:\\Users\\XXX\\anaconda3\\lib\\site-packages\\sklearn\\utils\\validation.py\", line 114, in _assert_all_finite\n",
      "    raise ValueError(\n",
      "ValueError: Input contains NaN, infinity or a value too large for dtype('float64').\n",
      "\n",
      "  warnings.warn(\n",
      "C:\\Users\\XXX\\anaconda3\\lib\\site-packages\\sklearn\\neural_network\\_base.py:174: RuntimeWarning: overflow encountered in square\n",
      "  return ((y_true - y_pred) ** 2).mean() / 2\n",
      "C:\\Users\\XXX\\anaconda3\\lib\\site-packages\\sklearn\\utils\\extmath.py:153: RuntimeWarning: overflow encountered in matmul\n",
      "  ret = a @ b\n",
      "C:\\Users\\XXX\\anaconda3\\lib\\site-packages\\sklearn\\utils\\extmath.py:153: RuntimeWarning: invalid value encountered in matmul\n",
      "  ret = a @ b\n",
      "C:\\Users\\XXX\\anaconda3\\lib\\site-packages\\sklearn\\neural_network\\_multilayer_perceptron.py:692: ConvergenceWarning: Stochastic Optimizer: Maximum iterations (10000) reached and the optimization hasn't converged yet.\n",
      "  warnings.warn(\n",
      "C:\\Users\\XXX\\anaconda3\\lib\\site-packages\\sklearn\\model_selection\\_validation.py:770: UserWarning: Scoring failed. The score on this train-test partition for these parameters will be set to nan. Details: \n",
      "Traceback (most recent call last):\n",
      "  File \"C:\\Users\\XXX\\anaconda3\\lib\\site-packages\\sklearn\\model_selection\\_validation.py\", line 761, in _score\n",
      "    scores = scorer(estimator, X_test, y_test)\n",
      "  File \"C:\\Users\\XXX\\anaconda3\\lib\\site-packages\\sklearn\\metrics\\_scorer.py\", line 216, in __call__\n",
      "    return self._score(\n",
      "  File \"C:\\Users\\XXX\\anaconda3\\lib\\site-packages\\sklearn\\metrics\\_scorer.py\", line 264, in _score\n",
      "    return self._sign * self._score_func(y_true, y_pred, **self._kwargs)\n",
      "  File \"C:\\Users\\XXX\\anaconda3\\lib\\site-packages\\sklearn\\metrics\\_regression.py\", line 438, in mean_squared_error\n",
      "    y_type, y_true, y_pred, multioutput = _check_reg_targets(\n",
      "  File \"C:\\Users\\XXX\\anaconda3\\lib\\site-packages\\sklearn\\metrics\\_regression.py\", line 96, in _check_reg_targets\n",
      "    y_pred = check_array(y_pred, ensure_2d=False, dtype=dtype)\n",
      "  File \"C:\\Users\\XXX\\anaconda3\\lib\\site-packages\\sklearn\\utils\\validation.py\", line 800, in check_array\n",
      "    _assert_all_finite(array, allow_nan=force_all_finite == \"allow-nan\")\n",
      "  File \"C:\\Users\\XXX\\anaconda3\\lib\\site-packages\\sklearn\\utils\\validation.py\", line 114, in _assert_all_finite\n",
      "    raise ValueError(\n",
      "ValueError: Input contains NaN, infinity or a value too large for dtype('float64').\n",
      "\n",
      "  warnings.warn(\n",
      "C:\\Users\\XXX\\anaconda3\\lib\\site-packages\\sklearn\\model_selection\\_validation.py:770: UserWarning: Scoring failed. The score on this train-test partition for these parameters will be set to nan. Details: \n",
      "Traceback (most recent call last):\n",
      "  File \"C:\\Users\\XXX\\anaconda3\\lib\\site-packages\\sklearn\\model_selection\\_validation.py\", line 761, in _score\n",
      "    scores = scorer(estimator, X_test, y_test)\n",
      "  File \"C:\\Users\\XXX\\anaconda3\\lib\\site-packages\\sklearn\\metrics\\_scorer.py\", line 216, in __call__\n",
      "    return self._score(\n",
      "  File \"C:\\Users\\XXX\\anaconda3\\lib\\site-packages\\sklearn\\metrics\\_scorer.py\", line 264, in _score\n",
      "    return self._sign * self._score_func(y_true, y_pred, **self._kwargs)\n",
      "  File \"C:\\Users\\XXX\\anaconda3\\lib\\site-packages\\sklearn\\metrics\\_regression.py\", line 438, in mean_squared_error\n",
      "    y_type, y_true, y_pred, multioutput = _check_reg_targets(\n",
      "  File \"C:\\Users\\XXX\\anaconda3\\lib\\site-packages\\sklearn\\metrics\\_regression.py\", line 96, in _check_reg_targets\n",
      "    y_pred = check_array(y_pred, ensure_2d=False, dtype=dtype)\n",
      "  File \"C:\\Users\\XXX\\anaconda3\\lib\\site-packages\\sklearn\\utils\\validation.py\", line 800, in check_array\n",
      "    _assert_all_finite(array, allow_nan=force_all_finite == \"allow-nan\")\n",
      "  File \"C:\\Users\\XXX\\anaconda3\\lib\\site-packages\\sklearn\\utils\\validation.py\", line 114, in _assert_all_finite\n",
      "    raise ValueError(\n",
      "ValueError: Input contains NaN, infinity or a value too large for dtype('float64').\n",
      "\n",
      "  warnings.warn(\n",
      "C:\\Users\\XXX\\anaconda3\\lib\\site-packages\\sklearn\\neural_network\\_base.py:174: RuntimeWarning: overflow encountered in square\n",
      "  return ((y_true - y_pred) ** 2).mean() / 2\n",
      "C:\\Users\\XXX\\anaconda3\\lib\\site-packages\\sklearn\\utils\\extmath.py:153: RuntimeWarning: overflow encountered in matmul\n",
      "  ret = a @ b\n",
      "C:\\Users\\XXX\\anaconda3\\lib\\site-packages\\sklearn\\utils\\extmath.py:153: RuntimeWarning: invalid value encountered in matmul\n",
      "  ret = a @ b\n",
      "C:\\Users\\XXX\\anaconda3\\lib\\site-packages\\sklearn\\neural_network\\_multilayer_perceptron.py:692: ConvergenceWarning: Stochastic Optimizer: Maximum iterations (10000) reached and the optimization hasn't converged yet.\n",
      "  warnings.warn(\n",
      "C:\\Users\\XXX\\anaconda3\\lib\\site-packages\\sklearn\\model_selection\\_validation.py:770: UserWarning: Scoring failed. The score on this train-test partition for these parameters will be set to nan. Details: \n",
      "Traceback (most recent call last):\n",
      "  File \"C:\\Users\\XXX\\anaconda3\\lib\\site-packages\\sklearn\\model_selection\\_validation.py\", line 761, in _score\n",
      "    scores = scorer(estimator, X_test, y_test)\n",
      "  File \"C:\\Users\\XXX\\anaconda3\\lib\\site-packages\\sklearn\\metrics\\_scorer.py\", line 216, in __call__\n",
      "    return self._score(\n",
      "  File \"C:\\Users\\XXX\\anaconda3\\lib\\site-packages\\sklearn\\metrics\\_scorer.py\", line 264, in _score\n",
      "    return self._sign * self._score_func(y_true, y_pred, **self._kwargs)\n",
      "  File \"C:\\Users\\XXX\\anaconda3\\lib\\site-packages\\sklearn\\metrics\\_regression.py\", line 438, in mean_squared_error\n",
      "    y_type, y_true, y_pred, multioutput = _check_reg_targets(\n",
      "  File \"C:\\Users\\XXX\\anaconda3\\lib\\site-packages\\sklearn\\metrics\\_regression.py\", line 96, in _check_reg_targets\n",
      "    y_pred = check_array(y_pred, ensure_2d=False, dtype=dtype)\n",
      "  File \"C:\\Users\\XXX\\anaconda3\\lib\\site-packages\\sklearn\\utils\\validation.py\", line 800, in check_array\n",
      "    _assert_all_finite(array, allow_nan=force_all_finite == \"allow-nan\")\n",
      "  File \"C:\\Users\\XXX\\anaconda3\\lib\\site-packages\\sklearn\\utils\\validation.py\", line 114, in _assert_all_finite\n",
      "    raise ValueError(\n",
      "ValueError: Input contains NaN, infinity or a value too large for dtype('float64').\n",
      "\n",
      "  warnings.warn(\n",
      "C:\\Users\\XXX\\anaconda3\\lib\\site-packages\\sklearn\\model_selection\\_validation.py:770: UserWarning: Scoring failed. The score on this train-test partition for these parameters will be set to nan. Details: \n",
      "Traceback (most recent call last):\n",
      "  File \"C:\\Users\\XXX\\anaconda3\\lib\\site-packages\\sklearn\\model_selection\\_validation.py\", line 761, in _score\n",
      "    scores = scorer(estimator, X_test, y_test)\n",
      "  File \"C:\\Users\\XXX\\anaconda3\\lib\\site-packages\\sklearn\\metrics\\_scorer.py\", line 216, in __call__\n",
      "    return self._score(\n",
      "  File \"C:\\Users\\XXX\\anaconda3\\lib\\site-packages\\sklearn\\metrics\\_scorer.py\", line 264, in _score\n",
      "    return self._sign * self._score_func(y_true, y_pred, **self._kwargs)\n",
      "  File \"C:\\Users\\XXX\\anaconda3\\lib\\site-packages\\sklearn\\metrics\\_regression.py\", line 438, in mean_squared_error\n",
      "    y_type, y_true, y_pred, multioutput = _check_reg_targets(\n",
      "  File \"C:\\Users\\XXX\\anaconda3\\lib\\site-packages\\sklearn\\metrics\\_regression.py\", line 96, in _check_reg_targets\n",
      "    y_pred = check_array(y_pred, ensure_2d=False, dtype=dtype)\n",
      "  File \"C:\\Users\\XXX\\anaconda3\\lib\\site-packages\\sklearn\\utils\\validation.py\", line 800, in check_array\n",
      "    _assert_all_finite(array, allow_nan=force_all_finite == \"allow-nan\")\n",
      "  File \"C:\\Users\\XXX\\anaconda3\\lib\\site-packages\\sklearn\\utils\\validation.py\", line 114, in _assert_all_finite\n",
      "    raise ValueError(\n",
      "ValueError: Input contains NaN, infinity or a value too large for dtype('float64').\n",
      "\n",
      "  warnings.warn(\n"
     ]
    },
    {
     "name": "stderr",
     "output_type": "stream",
     "text": [
      "C:\\Users\\XXX\\anaconda3\\lib\\site-packages\\sklearn\\neural_network\\_multilayer_perceptron.py:692: ConvergenceWarning: Stochastic Optimizer: Maximum iterations (10000) reached and the optimization hasn't converged yet.\n",
      "  warnings.warn(\n",
      "C:\\Users\\XXX\\anaconda3\\lib\\site-packages\\sklearn\\model_selection\\_search.py:969: UserWarning: One or more of the test scores are non-finite: [          nan -100.65676017           nan  -94.88326144 -120.20342969\n",
      " -104.0673914 ]\n",
      "  warnings.warn(\n",
      "C:\\Users\\XXX\\anaconda3\\lib\\site-packages\\sklearn\\model_selection\\_search.py:969: UserWarning: One or more of the train scores are non-finite: [          nan  -97.02434287           nan  -93.65345988 -120.20417868\n",
      " -102.57804474]\n",
      "  warnings.warn(\n"
     ]
    },
    {
     "data": {
      "text/plain": [
       "GridSearchCV(cv=KFold(n_splits=5, random_state=313549, shuffle=True),\n",
       "             estimator=Pipeline(steps=[('pipeline',\n",
       "                                        Pipeline(steps=[('scaler',\n",
       "                                                         StandardScaler()),\n",
       "                                                        ('selector',\n",
       "                                                         SelectFromModel(estimator=DecisionTreeRegressor(),\n",
       "                                                                         max_features=20))])),\n",
       "                                       ('nn',\n",
       "                                        MLPRegressor(max_iter=10000,\n",
       "                                                     random_state=313549))]),\n",
       "             param_grid={'nn__hidden_layer_sizes': [4, 16, (4, 4)],\n",
       "                         'nn__solver': ['sgd', 'adam']},\n",
       "             return_train_score=True, scoring='neg_mean_squared_error')"
      ]
     },
     "execution_count": 13,
     "metadata": {},
     "output_type": "execute_result"
    }
   ],
   "source": [
    " grid_pipeline_NN.fit(X_train, y_train.values.ravel())"
   ]
  },
  {
   "cell_type": "code",
   "execution_count": 14,
   "id": "7d198ab4",
   "metadata": {
    "colab": {
     "base_uri": "https://localhost:8080/",
     "height": 211
    },
    "executionInfo": {
     "elapsed": 30,
     "status": "error",
     "timestamp": 1717099721426,
     "user": {
      "displayName": "Mateusz Zacharecki",
      "userId": "07828102583987888086"
     },
     "user_tz": -120
    },
    "id": "7d198ab4",
    "outputId": "1aa590ea-c50a-4f10-f1e4-5e5e6c23027f"
   },
   "outputs": [
    {
     "data": {
      "text/html": [
       "<div>\n",
       "<style scoped>\n",
       "    .dataframe tbody tr th:only-of-type {\n",
       "        vertical-align: middle;\n",
       "    }\n",
       "\n",
       "    .dataframe tbody tr th {\n",
       "        vertical-align: top;\n",
       "    }\n",
       "\n",
       "    .dataframe thead th {\n",
       "        text-align: right;\n",
       "    }\n",
       "</style>\n",
       "<table border=\"1\" class=\"dataframe\">\n",
       "  <thead>\n",
       "    <tr style=\"text-align: right;\">\n",
       "      <th></th>\n",
       "      <th>nn__hidden_layer_sizes</th>\n",
       "      <th>nn__solver</th>\n",
       "      <th>mean_test_reg_mean_squared_error</th>\n",
       "      <th>mean_train_reg_mean_squared_error</th>\n",
       "      <th>std_test_neg_mean_squared_error</th>\n",
       "      <th>std_train_neg_mean_squared_error</th>\n",
       "      <th>rank_test</th>\n",
       "    </tr>\n",
       "  </thead>\n",
       "  <tbody>\n",
       "    <tr>\n",
       "      <th>3</th>\n",
       "      <td>16</td>\n",
       "      <td>adam</td>\n",
       "      <td>-94.883261</td>\n",
       "      <td>-93.653460</td>\n",
       "      <td>1.007904</td>\n",
       "      <td>1.397966</td>\n",
       "      <td>1</td>\n",
       "    </tr>\n",
       "    <tr>\n",
       "      <th>1</th>\n",
       "      <td>4</td>\n",
       "      <td>adam</td>\n",
       "      <td>-100.656760</td>\n",
       "      <td>-97.024343</td>\n",
       "      <td>3.831777</td>\n",
       "      <td>0.434354</td>\n",
       "      <td>2</td>\n",
       "    </tr>\n",
       "    <tr>\n",
       "      <th>5</th>\n",
       "      <td>(4, 4)</td>\n",
       "      <td>adam</td>\n",
       "      <td>-104.067391</td>\n",
       "      <td>-102.578045</td>\n",
       "      <td>9.205217</td>\n",
       "      <td>8.627271</td>\n",
       "      <td>3</td>\n",
       "    </tr>\n",
       "    <tr>\n",
       "      <th>4</th>\n",
       "      <td>(4, 4)</td>\n",
       "      <td>sgd</td>\n",
       "      <td>-120.203430</td>\n",
       "      <td>-120.204179</td>\n",
       "      <td>1.356512</td>\n",
       "      <td>0.340512</td>\n",
       "      <td>4</td>\n",
       "    </tr>\n",
       "    <tr>\n",
       "      <th>0</th>\n",
       "      <td>4</td>\n",
       "      <td>sgd</td>\n",
       "      <td>NaN</td>\n",
       "      <td>NaN</td>\n",
       "      <td>NaN</td>\n",
       "      <td>NaN</td>\n",
       "      <td>5</td>\n",
       "    </tr>\n",
       "    <tr>\n",
       "      <th>2</th>\n",
       "      <td>16</td>\n",
       "      <td>sgd</td>\n",
       "      <td>NaN</td>\n",
       "      <td>NaN</td>\n",
       "      <td>NaN</td>\n",
       "      <td>NaN</td>\n",
       "      <td>6</td>\n",
       "    </tr>\n",
       "  </tbody>\n",
       "</table>\n",
       "</div>"
      ],
      "text/plain": [
       "  nn__hidden_layer_sizes nn__solver  mean_test_reg_mean_squared_error  \\\n",
       "3                     16       adam                        -94.883261   \n",
       "1                      4       adam                       -100.656760   \n",
       "5                 (4, 4)       adam                       -104.067391   \n",
       "4                 (4, 4)        sgd                       -120.203430   \n",
       "0                      4        sgd                               NaN   \n",
       "2                     16        sgd                               NaN   \n",
       "\n",
       "   mean_train_reg_mean_squared_error  std_test_neg_mean_squared_error  \\\n",
       "3                         -93.653460                         1.007904   \n",
       "1                         -97.024343                         3.831777   \n",
       "5                        -102.578045                         9.205217   \n",
       "4                        -120.204179                         1.356512   \n",
       "0                                NaN                              NaN   \n",
       "2                                NaN                              NaN   \n",
       "\n",
       "   std_train_neg_mean_squared_error  rank_test  \n",
       "3                          1.397966          1  \n",
       "1                          0.434354          2  \n",
       "5                          8.627271          3  \n",
       "4                          0.340512          4  \n",
       "0                               NaN          5  \n",
       "2                               NaN          6  "
      ]
     },
     "execution_count": 14,
     "metadata": {},
     "output_type": "execute_result"
    }
   ],
   "source": [
    "results_NN = pd.DataFrame({'nn__hidden_layer_sizes': grid_pipeline_NN.cv_results_[\"param_nn__hidden_layer_sizes\"],\n",
    "                           'nn__solver': grid_pipeline_NN.cv_results_[\"param_nn__solver\"],\n",
    "                     'mean_test_reg_mean_squared_error': grid_pipeline_NN.cv_results_[\"mean_test_score\"],\n",
    "                     'mean_train_reg_mean_squared_error': grid_pipeline_NN.cv_results_[\"mean_train_score\"],\n",
    "                     'std_test_neg_mean_squared_error': grid_pipeline_NN.cv_results_[\"std_test_score\"],\n",
    "                     'std_train_neg_mean_squared_error': grid_pipeline_NN.cv_results_[\"std_train_score\"],\n",
    "                     'rank_test': grid_pipeline_NN.cv_results_[\"rank_test_score\"]})\n",
    "results_NN.sort_values(by = 'rank_test')"
   ]
  },
  {
   "cell_type": "code",
   "execution_count": 15,
   "id": "1c441007",
   "metadata": {
    "id": "1c441007"
   },
   "outputs": [],
   "source": [
    "y_pred = pd.DataFrame(grid_pipeline_NN.predict(X_test))"
   ]
  },
  {
   "cell_type": "code",
   "execution_count": 16,
   "id": "e5928a80",
   "metadata": {
    "id": "e5928a80"
   },
   "outputs": [],
   "source": [
    "pd.DataFrame(y_pred).to_csv(\"neural_network.txt\", sep='\\t', index=False, header=False)"
   ]
  },
  {
   "cell_type": "markdown",
   "id": "Dyc-9BF5aRLP",
   "metadata": {
    "id": "Dyc-9BF5aRLP"
   },
   "source": [
    "# XGBoost"
   ]
  },
  {
   "cell_type": "code",
   "execution_count": 3,
   "id": "3hscTM9BaEjW",
   "metadata": {
    "id": "3hscTM9BaEjW"
   },
   "outputs": [],
   "source": [
    "pipeline = Pipeline([\n",
    "    ('scaler', StandardScaler()),\n",
    "    ('selector', SelectFromModel(DecisionTreeRegressor(), max_features = 20))\n",
    "])"
   ]
  },
  {
   "cell_type": "markdown",
   "id": "JveCHtE-aoxf",
   "metadata": {
    "id": "JveCHtE-aoxf"
   },
   "source": [
    "## Fitting the whole training set"
   ]
  },
  {
   "cell_type": "code",
   "execution_count": 4,
   "id": "avuYW44eaEJv",
   "metadata": {
    "id": "avuYW44eaEJv"
   },
   "outputs": [],
   "source": [
    "pipeline_xgb = Pipeline([\n",
    "    ('pipeline', pipeline),\n",
    "    ('xgb', xgboost.XGBRegressor(objective='reg:squarederror', sampling_method = \"hist\", n_estimators = 400, random_state = 313549))\n",
    "])"
   ]
  },
  {
   "cell_type": "code",
   "execution_count": 5,
   "id": "GzKA_onoaD4x",
   "metadata": {
    "id": "GzKA_onoaD4x"
   },
   "outputs": [],
   "source": [
    "params = {\n",
    "    \"xgb__eta\": [0.3, 0.1, 0.2],\n",
    "    \"xgb__gamma\": [0, 0.1, 1],\n",
    "    \"xgb__max_depth\": [10, 20]\n",
    "}"
   ]
  },
  {
   "cell_type": "code",
   "execution_count": 6,
   "id": "n6OJO1HVZ685",
   "metadata": {
    "id": "n6OJO1HVZ685"
   },
   "outputs": [],
   "source": [
    "grid_pipeline_xgb = GridSearchCV(pipeline_xgb,\n",
    "                      cv = skm.KFold(3, random_state = 313549, shuffle=True),\n",
    "                      param_grid = params,\n",
    "                      scoring = 'neg_mean_squared_error',\n",
    "                      return_train_score = True)"
   ]
  },
  {
   "cell_type": "code",
   "execution_count": 7,
   "id": "00IiyDvEZ5t7",
   "metadata": {
    "id": "00IiyDvEZ5t7"
   },
   "outputs": [
    {
     "data": {
      "text/plain": [
       "GridSearchCV(cv=KFold(n_splits=3, random_state=313549, shuffle=True),\n",
       "             estimator=Pipeline(steps=[('pipeline',\n",
       "                                        Pipeline(steps=[('scaler',\n",
       "                                                         StandardScaler()),\n",
       "                                                        ('selector',\n",
       "                                                         SelectFromModel(estimator=DecisionTreeRegressor(),\n",
       "                                                                         max_features=20))])),\n",
       "                                       ('xgb',\n",
       "                                        XGBRegressor(base_score=None,\n",
       "                                                     booster=None,\n",
       "                                                     colsample_bylevel=None,\n",
       "                                                     colsample_bynode=None,\n",
       "                                                     colsample_bytree=None,\n",
       "                                                     ga...\n",
       "                                                     n_jobs=None,\n",
       "                                                     num_parallel_tree=None,\n",
       "                                                     random_state=313549,\n",
       "                                                     reg_alpha=None,\n",
       "                                                     reg_lambda=None,\n",
       "                                                     sampling_method='hist',\n",
       "                                                     scale_pos_weight=None,\n",
       "                                                     subsample=None,\n",
       "                                                     tree_method=None,\n",
       "                                                     validate_parameters=False,\n",
       "                                                     verbosity=None))]),\n",
       "             param_grid={'xgb__eta': [0.3, 0.1, 0.2], 'xgb__gamma': [0, 0.1, 1],\n",
       "                         'xgb__max_depth': [10, 20]},\n",
       "             return_train_score=True, scoring='neg_mean_squared_error')"
      ]
     },
     "execution_count": 7,
     "metadata": {},
     "output_type": "execute_result"
    }
   ],
   "source": [
    "grid_pipeline_xgb.fit(X_train, y_train.values.ravel())"
   ]
  },
  {
   "cell_type": "code",
   "execution_count": 8,
   "id": "QPWk2uLVaBoY",
   "metadata": {
    "id": "QPWk2uLVaBoY"
   },
   "outputs": [
    {
     "data": {
      "text/html": [
       "<div>\n",
       "<style scoped>\n",
       "    .dataframe tbody tr th:only-of-type {\n",
       "        vertical-align: middle;\n",
       "    }\n",
       "\n",
       "    .dataframe tbody tr th {\n",
       "        vertical-align: top;\n",
       "    }\n",
       "\n",
       "    .dataframe thead th {\n",
       "        text-align: right;\n",
       "    }\n",
       "</style>\n",
       "<table border=\"1\" class=\"dataframe\">\n",
       "  <thead>\n",
       "    <tr style=\"text-align: right;\">\n",
       "      <th></th>\n",
       "      <th>xgb__eta</th>\n",
       "      <th>xgb__gamma</th>\n",
       "      <th>xgb__max_depth</th>\n",
       "      <th>mean_test_neg_mean_squared_error</th>\n",
       "      <th>mean_train_neg_mean_squared_error</th>\n",
       "      <th>std_test_neg_mean_squared_error</th>\n",
       "      <th>std_train_neg_mean_squared_error</th>\n",
       "      <th>rank_test</th>\n",
       "    </tr>\n",
       "  </thead>\n",
       "  <tbody>\n",
       "    <tr>\n",
       "      <th>10</th>\n",
       "      <td>0.1</td>\n",
       "      <td>1</td>\n",
       "      <td>10</td>\n",
       "      <td>-86.033086</td>\n",
       "      <td>-3.317566e+01</td>\n",
       "      <td>1.256510</td>\n",
       "      <td>2.073159e+00</td>\n",
       "      <td>1</td>\n",
       "    </tr>\n",
       "    <tr>\n",
       "      <th>6</th>\n",
       "      <td>0.1</td>\n",
       "      <td>0</td>\n",
       "      <td>10</td>\n",
       "      <td>-86.220520</td>\n",
       "      <td>-3.363248e+01</td>\n",
       "      <td>0.900189</td>\n",
       "      <td>4.227421e-01</td>\n",
       "      <td>2</td>\n",
       "    </tr>\n",
       "    <tr>\n",
       "      <th>8</th>\n",
       "      <td>0.1</td>\n",
       "      <td>0.1</td>\n",
       "      <td>10</td>\n",
       "      <td>-86.460972</td>\n",
       "      <td>-3.394905e+01</td>\n",
       "      <td>1.398941</td>\n",
       "      <td>3.107234e+00</td>\n",
       "      <td>3</td>\n",
       "    </tr>\n",
       "    <tr>\n",
       "      <th>9</th>\n",
       "      <td>0.1</td>\n",
       "      <td>0.1</td>\n",
       "      <td>20</td>\n",
       "      <td>-89.071144</td>\n",
       "      <td>-1.060868e-01</td>\n",
       "      <td>1.361065</td>\n",
       "      <td>4.681314e-02</td>\n",
       "      <td>4</td>\n",
       "    </tr>\n",
       "    <tr>\n",
       "      <th>11</th>\n",
       "      <td>0.1</td>\n",
       "      <td>1</td>\n",
       "      <td>20</td>\n",
       "      <td>-89.261594</td>\n",
       "      <td>-2.243307e-01</td>\n",
       "      <td>0.977953</td>\n",
       "      <td>3.955445e-02</td>\n",
       "      <td>5</td>\n",
       "    </tr>\n",
       "    <tr>\n",
       "      <th>7</th>\n",
       "      <td>0.1</td>\n",
       "      <td>0</td>\n",
       "      <td>20</td>\n",
       "      <td>-89.347817</td>\n",
       "      <td>-1.186002e-01</td>\n",
       "      <td>1.490601</td>\n",
       "      <td>9.007067e-02</td>\n",
       "      <td>6</td>\n",
       "    </tr>\n",
       "    <tr>\n",
       "      <th>12</th>\n",
       "      <td>0.2</td>\n",
       "      <td>0</td>\n",
       "      <td>10</td>\n",
       "      <td>-90.510123</td>\n",
       "      <td>-1.697458e+01</td>\n",
       "      <td>0.999454</td>\n",
       "      <td>2.051259e+00</td>\n",
       "      <td>7</td>\n",
       "    </tr>\n",
       "    <tr>\n",
       "      <th>16</th>\n",
       "      <td>0.2</td>\n",
       "      <td>1</td>\n",
       "      <td>10</td>\n",
       "      <td>-90.613563</td>\n",
       "      <td>-1.702242e+01</td>\n",
       "      <td>0.746363</td>\n",
       "      <td>8.240583e-01</td>\n",
       "      <td>8</td>\n",
       "    </tr>\n",
       "    <tr>\n",
       "      <th>14</th>\n",
       "      <td>0.2</td>\n",
       "      <td>0.1</td>\n",
       "      <td>10</td>\n",
       "      <td>-90.721735</td>\n",
       "      <td>-1.727156e+01</td>\n",
       "      <td>0.895387</td>\n",
       "      <td>1.433064e+00</td>\n",
       "      <td>9</td>\n",
       "    </tr>\n",
       "    <tr>\n",
       "      <th>13</th>\n",
       "      <td>0.2</td>\n",
       "      <td>0</td>\n",
       "      <td>20</td>\n",
       "      <td>-94.133068</td>\n",
       "      <td>-1.215807e-04</td>\n",
       "      <td>1.160995</td>\n",
       "      <td>9.815152e-05</td>\n",
       "      <td>10</td>\n",
       "    </tr>\n",
       "    <tr>\n",
       "      <th>15</th>\n",
       "      <td>0.2</td>\n",
       "      <td>0.1</td>\n",
       "      <td>20</td>\n",
       "      <td>-94.149233</td>\n",
       "      <td>-1.748954e-02</td>\n",
       "      <td>0.870414</td>\n",
       "      <td>2.043037e-03</td>\n",
       "      <td>11</td>\n",
       "    </tr>\n",
       "    <tr>\n",
       "      <th>17</th>\n",
       "      <td>0.2</td>\n",
       "      <td>1</td>\n",
       "      <td>20</td>\n",
       "      <td>-94.572210</td>\n",
       "      <td>-1.959459e-01</td>\n",
       "      <td>1.040452</td>\n",
       "      <td>3.474941e-02</td>\n",
       "      <td>12</td>\n",
       "    </tr>\n",
       "    <tr>\n",
       "      <th>4</th>\n",
       "      <td>0.3</td>\n",
       "      <td>1</td>\n",
       "      <td>10</td>\n",
       "      <td>-95.577641</td>\n",
       "      <td>-9.392723e+00</td>\n",
       "      <td>0.886397</td>\n",
       "      <td>1.071972e+00</td>\n",
       "      <td>13</td>\n",
       "    </tr>\n",
       "    <tr>\n",
       "      <th>2</th>\n",
       "      <td>0.3</td>\n",
       "      <td>0.1</td>\n",
       "      <td>10</td>\n",
       "      <td>-95.719942</td>\n",
       "      <td>-8.734204e+00</td>\n",
       "      <td>1.015725</td>\n",
       "      <td>1.373193e+00</td>\n",
       "      <td>14</td>\n",
       "    </tr>\n",
       "    <tr>\n",
       "      <th>0</th>\n",
       "      <td>0.3</td>\n",
       "      <td>0</td>\n",
       "      <td>10</td>\n",
       "      <td>-96.275523</td>\n",
       "      <td>-9.264585e+00</td>\n",
       "      <td>1.006784</td>\n",
       "      <td>1.068917e+00</td>\n",
       "      <td>15</td>\n",
       "    </tr>\n",
       "    <tr>\n",
       "      <th>1</th>\n",
       "      <td>0.3</td>\n",
       "      <td>0</td>\n",
       "      <td>20</td>\n",
       "      <td>-99.849135</td>\n",
       "      <td>-4.380289e-07</td>\n",
       "      <td>0.602502</td>\n",
       "      <td>1.873235e-07</td>\n",
       "      <td>16</td>\n",
       "    </tr>\n",
       "    <tr>\n",
       "      <th>5</th>\n",
       "      <td>0.3</td>\n",
       "      <td>1</td>\n",
       "      <td>20</td>\n",
       "      <td>-100.023359</td>\n",
       "      <td>-1.557137e-01</td>\n",
       "      <td>0.894443</td>\n",
       "      <td>4.323852e-02</td>\n",
       "      <td>17</td>\n",
       "    </tr>\n",
       "    <tr>\n",
       "      <th>3</th>\n",
       "      <td>0.3</td>\n",
       "      <td>0.1</td>\n",
       "      <td>20</td>\n",
       "      <td>-100.079488</td>\n",
       "      <td>-1.763999e-02</td>\n",
       "      <td>0.602412</td>\n",
       "      <td>3.168206e-03</td>\n",
       "      <td>18</td>\n",
       "    </tr>\n",
       "  </tbody>\n",
       "</table>\n",
       "</div>"
      ],
      "text/plain": [
       "   xgb__eta xgb__gamma xgb__max_depth  mean_test_neg_mean_squared_error  \\\n",
       "10      0.1          1             10                        -86.033086   \n",
       "6       0.1          0             10                        -86.220520   \n",
       "8       0.1        0.1             10                        -86.460972   \n",
       "9       0.1        0.1             20                        -89.071144   \n",
       "11      0.1          1             20                        -89.261594   \n",
       "7       0.1          0             20                        -89.347817   \n",
       "12      0.2          0             10                        -90.510123   \n",
       "16      0.2          1             10                        -90.613563   \n",
       "14      0.2        0.1             10                        -90.721735   \n",
       "13      0.2          0             20                        -94.133068   \n",
       "15      0.2        0.1             20                        -94.149233   \n",
       "17      0.2          1             20                        -94.572210   \n",
       "4       0.3          1             10                        -95.577641   \n",
       "2       0.3        0.1             10                        -95.719942   \n",
       "0       0.3          0             10                        -96.275523   \n",
       "1       0.3          0             20                        -99.849135   \n",
       "5       0.3          1             20                       -100.023359   \n",
       "3       0.3        0.1             20                       -100.079488   \n",
       "\n",
       "    mean_train_neg_mean_squared_error  std_test_neg_mean_squared_error  \\\n",
       "10                      -3.317566e+01                         1.256510   \n",
       "6                       -3.363248e+01                         0.900189   \n",
       "8                       -3.394905e+01                         1.398941   \n",
       "9                       -1.060868e-01                         1.361065   \n",
       "11                      -2.243307e-01                         0.977953   \n",
       "7                       -1.186002e-01                         1.490601   \n",
       "12                      -1.697458e+01                         0.999454   \n",
       "16                      -1.702242e+01                         0.746363   \n",
       "14                      -1.727156e+01                         0.895387   \n",
       "13                      -1.215807e-04                         1.160995   \n",
       "15                      -1.748954e-02                         0.870414   \n",
       "17                      -1.959459e-01                         1.040452   \n",
       "4                       -9.392723e+00                         0.886397   \n",
       "2                       -8.734204e+00                         1.015725   \n",
       "0                       -9.264585e+00                         1.006784   \n",
       "1                       -4.380289e-07                         0.602502   \n",
       "5                       -1.557137e-01                         0.894443   \n",
       "3                       -1.763999e-02                         0.602412   \n",
       "\n",
       "    std_train_neg_mean_squared_error  rank_test  \n",
       "10                      2.073159e+00          1  \n",
       "6                       4.227421e-01          2  \n",
       "8                       3.107234e+00          3  \n",
       "9                       4.681314e-02          4  \n",
       "11                      3.955445e-02          5  \n",
       "7                       9.007067e-02          6  \n",
       "12                      2.051259e+00          7  \n",
       "16                      8.240583e-01          8  \n",
       "14                      1.433064e+00          9  \n",
       "13                      9.815152e-05         10  \n",
       "15                      2.043037e-03         11  \n",
       "17                      3.474941e-02         12  \n",
       "4                       1.071972e+00         13  \n",
       "2                       1.373193e+00         14  \n",
       "0                       1.068917e+00         15  \n",
       "1                       1.873235e-07         16  \n",
       "5                       4.323852e-02         17  \n",
       "3                       3.168206e-03         18  "
      ]
     },
     "execution_count": 8,
     "metadata": {},
     "output_type": "execute_result"
    }
   ],
   "source": [
    "results_xgb = pd.DataFrame({'xgb__eta': grid_pipeline_xgb.cv_results_[\"param_xgb__eta\"],\n",
    "                            'xgb__gamma': grid_pipeline_xgb.cv_results_[\"param_xgb__gamma\"],\n",
    "                            'xgb__max_depth': grid_pipeline_xgb.cv_results_[\"param_xgb__max_depth\"],\n",
    "                     'mean_test_neg_mean_squared_error': grid_pipeline_xgb.cv_results_[\"mean_test_score\"],\n",
    "                     'mean_train_neg_mean_squared_error': grid_pipeline_xgb.cv_results_[\"mean_train_score\"],\n",
    "                     'std_test_neg_mean_squared_error': grid_pipeline_xgb.cv_results_[\"std_test_score\"],\n",
    "                     'std_train_neg_mean_squared_error': grid_pipeline_xgb.cv_results_[\"std_train_score\"],\n",
    "                     'rank_test': grid_pipeline_xgb.cv_results_[\"rank_test_score\"]})\n",
    "results_xgb.sort_values(by = 'rank_test')"
   ]
  },
  {
   "cell_type": "code",
   "execution_count": 9,
   "id": "scGqzEukh-gn",
   "metadata": {
    "id": "scGqzEukh-gn"
   },
   "outputs": [],
   "source": [
    "y_pred = pd.DataFrame(grid_pipeline_xgb.predict(X_test))"
   ]
  },
  {
   "cell_type": "code",
   "execution_count": 10,
   "id": "P_hksIdAiFHt",
   "metadata": {
    "id": "P_hksIdAiFHt"
   },
   "outputs": [],
   "source": [
    "pd.DataFrame(y_pred).to_csv(\"xgboost.txt\", sep='\\t', index=False, header=False)"
   ]
  },
  {
   "cell_type": "markdown",
   "id": "42fe7526",
   "metadata": {},
   "source": [
    "# XGBoost for eta = 0.03"
   ]
  },
  {
   "cell_type": "code",
   "execution_count": 3,
   "id": "22fc243a",
   "metadata": {},
   "outputs": [],
   "source": [
    "pipeline = Pipeline([\n",
    "    ('scaler', StandardScaler()),\n",
    "    ('selector', SelectFromModel(DecisionTreeRegressor(), max_features = 20))\n",
    "])"
   ]
  },
  {
   "cell_type": "markdown",
   "id": "436832c9",
   "metadata": {},
   "source": [
    "## Fitting the whole training set"
   ]
  },
  {
   "cell_type": "code",
   "execution_count": 4,
   "id": "1d7e4363",
   "metadata": {},
   "outputs": [],
   "source": [
    "pipeline_xgb003 = Pipeline([\n",
    "    ('pipeline', pipeline),\n",
    "    ('xgb', xgboost.XGBRegressor(objective='reg:squarederror', sampling_method = \"hist\", n_estimators = 400, random_state = 313549))\n",
    "])"
   ]
  },
  {
   "cell_type": "code",
   "execution_count": 5,
   "id": "380a55da",
   "metadata": {},
   "outputs": [],
   "source": [
    "params = {\n",
    "    \"xgb__eta\": [0.03],\n",
    "    \"xgb__gamma\": [0, 0.1, 1],\n",
    "    \"xgb__max_depth\": [10, 20]\n",
    "}"
   ]
  },
  {
   "cell_type": "code",
   "execution_count": 6,
   "id": "a62fdaa6",
   "metadata": {},
   "outputs": [],
   "source": [
    "grid_pipeline_xgb003 = GridSearchCV(pipeline_xgb003,\n",
    "                      cv = skm.KFold(3, random_state = 313549, shuffle=True),\n",
    "                      param_grid = params,\n",
    "                      scoring = 'neg_mean_squared_error',\n",
    "                      return_train_score = True)"
   ]
  },
  {
   "cell_type": "code",
   "execution_count": 7,
   "id": "d4a553a8",
   "metadata": {},
   "outputs": [
    {
     "data": {
      "text/plain": [
       "GridSearchCV(cv=KFold(n_splits=3, random_state=313549, shuffle=True),\n",
       "             estimator=Pipeline(steps=[('pipeline',\n",
       "                                        Pipeline(steps=[('scaler',\n",
       "                                                         StandardScaler()),\n",
       "                                                        ('selector',\n",
       "                                                         SelectFromModel(estimator=DecisionTreeRegressor(),\n",
       "                                                                         max_features=20))])),\n",
       "                                       ('xgb',\n",
       "                                        XGBRegressor(base_score=None,\n",
       "                                                     booster=None,\n",
       "                                                     colsample_bylevel=None,\n",
       "                                                     colsample_bynode=None,\n",
       "                                                     colsample_bytree=None,\n",
       "                                                     ga...\n",
       "                                                     n_estimators=400,\n",
       "                                                     n_jobs=None,\n",
       "                                                     num_parallel_tree=None,\n",
       "                                                     random_state=313549,\n",
       "                                                     reg_alpha=None,\n",
       "                                                     reg_lambda=None,\n",
       "                                                     sampling_method='hist',\n",
       "                                                     scale_pos_weight=None,\n",
       "                                                     subsample=None,\n",
       "                                                     tree_method=None,\n",
       "                                                     validate_parameters=False,\n",
       "                                                     verbosity=None))]),\n",
       "             param_grid={'xgb__eta': [0.03], 'xgb__gamma': [0, 0.1, 1],\n",
       "                         'xgb__max_depth': [10, 20]},\n",
       "             return_train_score=True, scoring='neg_mean_squared_error')"
      ]
     },
     "execution_count": 7,
     "metadata": {},
     "output_type": "execute_result"
    }
   ],
   "source": [
    "grid_pipeline_xgb003.fit(X_train, y_train.values.ravel())"
   ]
  },
  {
   "cell_type": "code",
   "execution_count": 8,
   "id": "9db624b6",
   "metadata": {},
   "outputs": [
    {
     "data": {
      "text/html": [
       "<div>\n",
       "<style scoped>\n",
       "    .dataframe tbody tr th:only-of-type {\n",
       "        vertical-align: middle;\n",
       "    }\n",
       "\n",
       "    .dataframe tbody tr th {\n",
       "        vertical-align: top;\n",
       "    }\n",
       "\n",
       "    .dataframe thead th {\n",
       "        text-align: right;\n",
       "    }\n",
       "</style>\n",
       "<table border=\"1\" class=\"dataframe\">\n",
       "  <thead>\n",
       "    <tr style=\"text-align: right;\">\n",
       "      <th></th>\n",
       "      <th>xgb__eta</th>\n",
       "      <th>xgb__gamma</th>\n",
       "      <th>xgb__max_depth</th>\n",
       "      <th>mean_test_neg_mean_squared_error</th>\n",
       "      <th>mean_train_neg_mean_squared_error</th>\n",
       "      <th>std_test_neg_mean_squared_error</th>\n",
       "      <th>std_train_neg_mean_squared_error</th>\n",
       "      <th>rank_test</th>\n",
       "    </tr>\n",
       "  </thead>\n",
       "  <tbody>\n",
       "    <tr>\n",
       "      <th>4</th>\n",
       "      <td>0.03</td>\n",
       "      <td>1</td>\n",
       "      <td>10</td>\n",
       "      <td>-84.220419</td>\n",
       "      <td>-58.366194</td>\n",
       "      <td>1.305361</td>\n",
       "      <td>1.705480</td>\n",
       "      <td>1</td>\n",
       "    </tr>\n",
       "    <tr>\n",
       "      <th>2</th>\n",
       "      <td>0.03</td>\n",
       "      <td>0.1</td>\n",
       "      <td>10</td>\n",
       "      <td>-84.445759</td>\n",
       "      <td>-58.643519</td>\n",
       "      <td>1.203526</td>\n",
       "      <td>1.639037</td>\n",
       "      <td>2</td>\n",
       "    </tr>\n",
       "    <tr>\n",
       "      <th>0</th>\n",
       "      <td>0.03</td>\n",
       "      <td>0</td>\n",
       "      <td>10</td>\n",
       "      <td>-84.722289</td>\n",
       "      <td>-59.738044</td>\n",
       "      <td>0.986824</td>\n",
       "      <td>0.884374</td>\n",
       "      <td>3</td>\n",
       "    </tr>\n",
       "    <tr>\n",
       "      <th>5</th>\n",
       "      <td>0.03</td>\n",
       "      <td>1</td>\n",
       "      <td>20</td>\n",
       "      <td>-85.636130</td>\n",
       "      <td>-7.227130</td>\n",
       "      <td>0.976795</td>\n",
       "      <td>1.133446</td>\n",
       "      <td>4</td>\n",
       "    </tr>\n",
       "    <tr>\n",
       "      <th>1</th>\n",
       "      <td>0.03</td>\n",
       "      <td>0</td>\n",
       "      <td>20</td>\n",
       "      <td>-85.827005</td>\n",
       "      <td>-8.386968</td>\n",
       "      <td>1.333895</td>\n",
       "      <td>2.382029</td>\n",
       "      <td>5</td>\n",
       "    </tr>\n",
       "    <tr>\n",
       "      <th>3</th>\n",
       "      <td>0.03</td>\n",
       "      <td>0.1</td>\n",
       "      <td>20</td>\n",
       "      <td>-86.023198</td>\n",
       "      <td>-9.176881</td>\n",
       "      <td>1.158006</td>\n",
       "      <td>1.793172</td>\n",
       "      <td>6</td>\n",
       "    </tr>\n",
       "  </tbody>\n",
       "</table>\n",
       "</div>"
      ],
      "text/plain": [
       "  xgb__eta xgb__gamma xgb__max_depth  mean_test_neg_mean_squared_error  \\\n",
       "4     0.03          1             10                        -84.220419   \n",
       "2     0.03        0.1             10                        -84.445759   \n",
       "0     0.03          0             10                        -84.722289   \n",
       "5     0.03          1             20                        -85.636130   \n",
       "1     0.03          0             20                        -85.827005   \n",
       "3     0.03        0.1             20                        -86.023198   \n",
       "\n",
       "   mean_train_neg_mean_squared_error  std_test_neg_mean_squared_error  \\\n",
       "4                         -58.366194                         1.305361   \n",
       "2                         -58.643519                         1.203526   \n",
       "0                         -59.738044                         0.986824   \n",
       "5                          -7.227130                         0.976795   \n",
       "1                          -8.386968                         1.333895   \n",
       "3                          -9.176881                         1.158006   \n",
       "\n",
       "   std_train_neg_mean_squared_error  rank_test  \n",
       "4                          1.705480          1  \n",
       "2                          1.639037          2  \n",
       "0                          0.884374          3  \n",
       "5                          1.133446          4  \n",
       "1                          2.382029          5  \n",
       "3                          1.793172          6  "
      ]
     },
     "execution_count": 8,
     "metadata": {},
     "output_type": "execute_result"
    }
   ],
   "source": [
    "results_xgb003 = pd.DataFrame({'xgb__eta': grid_pipeline_xgb003.cv_results_[\"param_xgb__eta\"],\n",
    "                            'xgb__gamma': grid_pipeline_xgb003.cv_results_[\"param_xgb__gamma\"],\n",
    "                            'xgb__max_depth': grid_pipeline_xgb003.cv_results_[\"param_xgb__max_depth\"],\n",
    "                     'mean_test_neg_mean_squared_error': grid_pipeline_xgb003.cv_results_[\"mean_test_score\"],\n",
    "                     'mean_train_neg_mean_squared_error': grid_pipeline_xgb003.cv_results_[\"mean_train_score\"],\n",
    "                     'std_test_neg_mean_squared_error': grid_pipeline_xgb003.cv_results_[\"std_test_score\"],\n",
    "                     'std_train_neg_mean_squared_error': grid_pipeline_xgb003.cv_results_[\"std_train_score\"],\n",
    "                     'rank_test': grid_pipeline_xgb003.cv_results_[\"rank_test_score\"]})\n",
    "results_xgb003.sort_values(by = 'rank_test')"
   ]
  },
  {
   "cell_type": "code",
   "execution_count": 9,
   "id": "57b164f2",
   "metadata": {},
   "outputs": [],
   "source": [
    "y_pred = pd.DataFrame(grid_pipeline_xgb003.predict(X_test))"
   ]
  },
  {
   "cell_type": "code",
   "execution_count": 10,
   "id": "ffeef3c9",
   "metadata": {},
   "outputs": [],
   "source": [
    "pd.DataFrame(y_pred).to_csv(\"xgboost003.txt\", sep='\\t', index=False, header=False)"
   ]
  },
  {
   "cell_type": "markdown",
   "id": "d3125664",
   "metadata": {
    "id": "d3125664"
   },
   "source": [
    "# Linear regression"
   ]
  },
  {
   "cell_type": "code",
   "execution_count": null,
   "id": "f7af2328",
   "metadata": {
    "id": "f7af2328"
   },
   "outputs": [],
   "source": [
    "pipeline = Pipeline([\n",
    "    ('scaler', StandardScaler()),\n",
    "    ('selector', SelectFromModel(DecisionTreeRegressor(), max_features = 20))\n",
    "])"
   ]
  },
  {
   "cell_type": "markdown",
   "id": "3212d1b4",
   "metadata": {
    "id": "3212d1b4"
   },
   "source": [
    "## Fitting the whole training set"
   ]
  },
  {
   "cell_type": "code",
   "execution_count": 10,
   "id": "6b327655",
   "metadata": {
    "id": "6b327655"
   },
   "outputs": [],
   "source": [
    "pipeline_lm = Pipeline([\n",
    "    ('pipeline', pipeline),\n",
    "    ('lm', LinearRegression())\n",
    "])"
   ]
  },
  {
   "cell_type": "code",
   "execution_count": 11,
   "id": "c8bb2ebe",
   "metadata": {
    "id": "c8bb2ebe"
   },
   "outputs": [],
   "source": [
    "params = {}"
   ]
  },
  {
   "cell_type": "code",
   "execution_count": 12,
   "id": "4a71433f",
   "metadata": {
    "id": "4a71433f"
   },
   "outputs": [],
   "source": [
    "grid_pipeline_lm = GridSearchCV(pipeline_lm,\n",
    "                      cv = skm.KFold(3, random_state = 313549, shuffle=True),\n",
    "                      param_grid = params,\n",
    "                      scoring = 'neg_mean_squared_error',\n",
    "                      return_train_score = True)"
   ]
  },
  {
   "cell_type": "code",
   "execution_count": 13,
   "id": "89e9265b",
   "metadata": {
    "colab": {
     "base_uri": "https://localhost:8080/",
     "height": 276
    },
    "executionInfo": {
     "elapsed": 275719,
     "status": "ok",
     "timestamp": 1716974723121,
     "user": {
      "displayName": "Mateusz Zacharecki",
      "userId": "07828102583987888086"
     },
     "user_tz": -120
    },
    "id": "89e9265b",
    "outputId": "cfbbce35-2df1-4981-e9f2-5c6dbb8c4489"
   },
   "outputs": [
    {
     "data": {
      "text/plain": [
       "GridSearchCV(cv=KFold(n_splits=3, random_state=313549, shuffle=True),\n",
       "             estimator=Pipeline(steps=[('pipeline',\n",
       "                                        Pipeline(steps=[('scaler',\n",
       "                                                         StandardScaler()),\n",
       "                                                        ('selector',\n",
       "                                                         SelectFromModel(estimator=DecisionTreeRegressor(),\n",
       "                                                                         max_features=20))])),\n",
       "                                       ('lm', LinearRegression())]),\n",
       "             param_grid={}, return_train_score=True,\n",
       "             scoring='neg_mean_squared_error')"
      ]
     },
     "execution_count": 13,
     "metadata": {},
     "output_type": "execute_result"
    }
   ],
   "source": [
    "grid_pipeline_lm.fit(X_train, y_train.values.ravel())"
   ]
  },
  {
   "cell_type": "code",
   "execution_count": 14,
   "id": "4f84bec2",
   "metadata": {
    "colab": {
     "base_uri": "https://localhost:8080/",
     "height": 101
    },
    "executionInfo": {
     "elapsed": 27,
     "status": "ok",
     "timestamp": 1716973390707,
     "user": {
      "displayName": "Mateusz Zacharecki",
      "userId": "07828102583987888086"
     },
     "user_tz": -120
    },
    "id": "4f84bec2",
    "outputId": "49c52b89-e61e-408f-e198-bd2fc964fba3"
   },
   "outputs": [
    {
     "data": {
      "text/html": [
       "<div>\n",
       "<style scoped>\n",
       "    .dataframe tbody tr th:only-of-type {\n",
       "        vertical-align: middle;\n",
       "    }\n",
       "\n",
       "    .dataframe tbody tr th {\n",
       "        vertical-align: top;\n",
       "    }\n",
       "\n",
       "    .dataframe thead th {\n",
       "        text-align: right;\n",
       "    }\n",
       "</style>\n",
       "<table border=\"1\" class=\"dataframe\">\n",
       "  <thead>\n",
       "    <tr style=\"text-align: right;\">\n",
       "      <th></th>\n",
       "      <th>mean_test_neg_mean_squared_error</th>\n",
       "      <th>mean_train_neg_mean_squared_error</th>\n",
       "      <th>std_test_neg_mean_squared_error</th>\n",
       "      <th>std_train_neg_mean_squared_error</th>\n",
       "      <th>rank_test</th>\n",
       "    </tr>\n",
       "  </thead>\n",
       "  <tbody>\n",
       "    <tr>\n",
       "      <th>0</th>\n",
       "      <td>-96.14743</td>\n",
       "      <td>-96.129248</td>\n",
       "      <td>1.235674</td>\n",
       "      <td>0.177028</td>\n",
       "      <td>1</td>\n",
       "    </tr>\n",
       "  </tbody>\n",
       "</table>\n",
       "</div>"
      ],
      "text/plain": [
       "   mean_test_neg_mean_squared_error  mean_train_neg_mean_squared_error  \\\n",
       "0                         -96.14743                         -96.129248   \n",
       "\n",
       "   std_test_neg_mean_squared_error  std_train_neg_mean_squared_error  \\\n",
       "0                         1.235674                          0.177028   \n",
       "\n",
       "   rank_test  \n",
       "0          1  "
      ]
     },
     "execution_count": 14,
     "metadata": {},
     "output_type": "execute_result"
    }
   ],
   "source": [
    "results_lm = pd.DataFrame({\n",
    "                     'mean_test_neg_mean_squared_error': grid_pipeline_lm.cv_results_[\"mean_test_score\"],\n",
    "                     'mean_train_neg_mean_squared_error': grid_pipeline_lm.cv_results_[\"mean_train_score\"],\n",
    "                     'std_test_neg_mean_squared_error': grid_pipeline_lm.cv_results_[\"std_test_score\"],\n",
    "                     'std_train_neg_mean_squared_error': grid_pipeline_lm.cv_results_[\"std_train_score\"],\n",
    "                     'rank_test': grid_pipeline_lm.cv_results_[\"rank_test_score\"]})\n",
    "results_lm.sort_values(by = 'rank_test')"
   ]
  },
  {
   "cell_type": "code",
   "execution_count": 15,
   "id": "3541a0ee",
   "metadata": {
    "id": "3541a0ee"
   },
   "outputs": [],
   "source": [
    "y_pred = pd.DataFrame(grid_pipeline_lm.predict(X_test))"
   ]
  },
  {
   "cell_type": "code",
   "execution_count": 16,
   "id": "25dd3ac6",
   "metadata": {
    "id": "25dd3ac6"
   },
   "outputs": [],
   "source": [
    "pd.DataFrame(y_pred).to_csv(\"linear_regression.txt\", sep='\\t', index=False, header=False)"
   ]
  },
  {
   "cell_type": "markdown",
   "id": "8023db5f",
   "metadata": {},
   "source": [
    "# Voting"
   ]
  },
  {
   "cell_type": "code",
   "execution_count": 11,
   "id": "34435663",
   "metadata": {},
   "outputs": [],
   "source": [
    "pipeline = Pipeline([\n",
    "    ('scaler', StandardScaler()),\n",
    "    ('selector', SelectFromModel(DecisionTreeRegressor(), max_features = 20))\n",
    "])"
   ]
  },
  {
   "cell_type": "markdown",
   "id": "547ead44",
   "metadata": {},
   "source": [
    "## Fitting the whole data set"
   ]
  },
  {
   "cell_type": "code",
   "execution_count": 14,
   "id": "ac6f0707",
   "metadata": {},
   "outputs": [],
   "source": [
    "reg1 = SVR(C = 10, gamma = 0.1, kernel = 'rbf')\n",
    "reg2 = MLPRegressor(hidden_layer_sizes = 16, solver = 'adam', max_iter = 10000, random_state = 313549)\n",
    "reg3 = xgboost.XGBRegressor(eta = 0.1, gamma = 1, max_depth = 10, objective='reg:squarederror', sampling_method = \"hist\", n_estimators = 400, random_state = 313549)\n",
    "\n",
    "pipeline_voting = Pipeline([\n",
    "    ('pipeline', pipeline),\n",
    "    ('eclf', VotingRegressor(estimators=[('svm', reg1),\n",
    "                             ('nn', reg2),\n",
    "                             ('xgb', reg3)]))\n",
    "])"
   ]
  },
  {
   "cell_type": "code",
   "execution_count": 16,
   "id": "81509a1d",
   "metadata": {},
   "outputs": [],
   "source": [
    "params = {}\n",
    "\n",
    "grid_pipeline_voting = GridSearchCV(pipeline_voting,\n",
    "                      cv = skm.KFold(3, random_state = 313549, shuffle=True),\n",
    "                      param_grid = params,\n",
    "                      scoring = 'neg_mean_squared_error',\n",
    "                      return_train_score = True)"
   ]
  },
  {
   "cell_type": "code",
   "execution_count": 17,
   "id": "d0f0b4f1",
   "metadata": {},
   "outputs": [
    {
     "data": {
      "text/plain": [
       "GridSearchCV(cv=KFold(n_splits=3, random_state=313549, shuffle=True),\n",
       "             estimator=Pipeline(steps=[('pipeline',\n",
       "                                        Pipeline(steps=[('scaler',\n",
       "                                                         StandardScaler()),\n",
       "                                                        ('selector',\n",
       "                                                         SelectFromModel(estimator=DecisionTreeRegressor(),\n",
       "                                                                         max_features=20))])),\n",
       "                                       ('eclf',\n",
       "                                        VotingRegressor(estimators=[('svm',\n",
       "                                                                     SVR(C=10,\n",
       "                                                                         gamma=0.1)),\n",
       "                                                                    ('nn',\n",
       "                                                                     MLPRegressor(hidden_layer_sizes=16,\n",
       "                                                                                  max_iter=1000...\n",
       "                                                                                  min_child_weight=None,\n",
       "                                                                                  missing=nan,\n",
       "                                                                                  monotone_constraints=None,\n",
       "                                                                                  n_estimators=400,\n",
       "                                                                                  n_jobs=None,\n",
       "                                                                                  num_parallel_tree=None,\n",
       "                                                                                  random_state=313549,\n",
       "                                                                                  reg_alpha=None,\n",
       "                                                                                  reg_lambda=None,\n",
       "                                                                                  sampling_method='hist',\n",
       "                                                                                  scale_pos_weight=None,\n",
       "                                                                                  subsample=None,\n",
       "                                                                                  tree_method=None,\n",
       "                                                                                  validate_parameters=False,\n",
       "                                                                                  verbosity=None))]))]),\n",
       "             param_grid={}, return_train_score=True,\n",
       "             scoring='neg_mean_squared_error')"
      ]
     },
     "execution_count": 17,
     "metadata": {},
     "output_type": "execute_result"
    }
   ],
   "source": [
    "grid_pipeline_voting.fit(X_train, y_train.values.ravel())"
   ]
  },
  {
   "cell_type": "code",
   "execution_count": 18,
   "id": "0ec16a6f",
   "metadata": {},
   "outputs": [
    {
     "data": {
      "text/html": [
       "<div>\n",
       "<style scoped>\n",
       "    .dataframe tbody tr th:only-of-type {\n",
       "        vertical-align: middle;\n",
       "    }\n",
       "\n",
       "    .dataframe tbody tr th {\n",
       "        vertical-align: top;\n",
       "    }\n",
       "\n",
       "    .dataframe thead th {\n",
       "        text-align: right;\n",
       "    }\n",
       "</style>\n",
       "<table border=\"1\" class=\"dataframe\">\n",
       "  <thead>\n",
       "    <tr style=\"text-align: right;\">\n",
       "      <th></th>\n",
       "      <th>mean_test_neg_mean_squared_error</th>\n",
       "      <th>mean_train_neg_mean_squared_error</th>\n",
       "      <th>std_test_neg_mean_squared_error</th>\n",
       "      <th>std_train_neg_mean_squared_error</th>\n",
       "      <th>rank_test</th>\n",
       "    </tr>\n",
       "  </thead>\n",
       "  <tbody>\n",
       "    <tr>\n",
       "      <th>0</th>\n",
       "      <td>-84.741533</td>\n",
       "      <td>-59.502059</td>\n",
       "      <td>1.471369</td>\n",
       "      <td>1.942283</td>\n",
       "      <td>1</td>\n",
       "    </tr>\n",
       "  </tbody>\n",
       "</table>\n",
       "</div>"
      ],
      "text/plain": [
       "   mean_test_neg_mean_squared_error  mean_train_neg_mean_squared_error  \\\n",
       "0                        -84.741533                         -59.502059   \n",
       "\n",
       "   std_test_neg_mean_squared_error  std_train_neg_mean_squared_error  \\\n",
       "0                         1.471369                          1.942283   \n",
       "\n",
       "   rank_test  \n",
       "0          1  "
      ]
     },
     "execution_count": 18,
     "metadata": {},
     "output_type": "execute_result"
    }
   ],
   "source": [
    "results_voting = pd.DataFrame({\n",
    "                     'mean_test_neg_mean_squared_error': grid_pipeline_voting.cv_results_[\"mean_test_score\"],\n",
    "                     'mean_train_neg_mean_squared_error': grid_pipeline_voting.cv_results_[\"mean_train_score\"],\n",
    "                     'std_test_neg_mean_squared_error': grid_pipeline_voting.cv_results_[\"std_test_score\"],\n",
    "                     'std_train_neg_mean_squared_error': grid_pipeline_voting.cv_results_[\"std_train_score\"],\n",
    "                     'rank_test': grid_pipeline_voting.cv_results_[\"rank_test_score\"]})\n",
    "results_voting.sort_values(by = 'rank_test')"
   ]
  },
  {
   "cell_type": "code",
   "execution_count": 19,
   "id": "b6ca5140",
   "metadata": {},
   "outputs": [],
   "source": [
    "y_pred = pd.DataFrame(grid_pipeline_voting.predict(X_test))"
   ]
  },
  {
   "cell_type": "code",
   "execution_count": 20,
   "id": "20e6ad51",
   "metadata": {},
   "outputs": [],
   "source": [
    "pd.DataFrame(y_pred).to_csv(\"voting.txt\", sep='\\t', index=False, header=False)"
   ]
  },
  {
   "cell_type": "markdown",
   "id": "a878b09c",
   "metadata": {},
   "source": [
    "# Voting for other XGBoost parameters"
   ]
  },
  {
   "cell_type": "code",
   "execution_count": 11,
   "id": "d388be79",
   "metadata": {},
   "outputs": [],
   "source": [
    "pipeline = Pipeline([\n",
    "    ('scaler', StandardScaler()),\n",
    "    ('selector', SelectFromModel(DecisionTreeRegressor(), max_features = 20))\n",
    "])"
   ]
  },
  {
   "cell_type": "code",
   "execution_count": 15,
   "id": "3968be0d",
   "metadata": {},
   "outputs": [],
   "source": [
    "reg1 = SVR(C = 10, gamma = 0.1, kernel = 'rbf')\n",
    "reg2 = MLPRegressor(hidden_layer_sizes = 16, solver = 'adam', max_iter = 10000, random_state = 313549)\n",
    "reg3 = xgboost.XGBRegressor(eta = 0.03, gamma = 1, max_depth = 10, objective='reg:squarederror', sampling_method = \"hist\", n_estimators = 400, random_state = 313549)\n",
    "\n",
    "pipeline_voting003 = Pipeline([\n",
    "    ('pipeline', pipeline),\n",
    "    ('eclf', VotingRegressor(estimators=[('svm', reg1),\n",
    "                             ('nn', reg2),\n",
    "                             ('xgb', reg3)]))\n",
    "])"
   ]
  },
  {
   "cell_type": "code",
   "execution_count": 17,
   "id": "961f7e04",
   "metadata": {},
   "outputs": [],
   "source": [
    "params = {}\n",
    "\n",
    "grid_pipeline_voting003 = GridSearchCV(pipeline_voting003,\n",
    "                      cv = skm.KFold(3, random_state = 313549, shuffle=True),\n",
    "                      param_grid = params,\n",
    "                      scoring = 'neg_mean_squared_error',\n",
    "                      return_train_score = True)"
   ]
  },
  {
   "cell_type": "code",
   "execution_count": 18,
   "id": "add3090e",
   "metadata": {},
   "outputs": [
    {
     "data": {
      "text/plain": [
       "GridSearchCV(cv=KFold(n_splits=3, random_state=313549, shuffle=True),\n",
       "             estimator=Pipeline(steps=[('pipeline',\n",
       "                                        Pipeline(steps=[('scaler',\n",
       "                                                         StandardScaler()),\n",
       "                                                        ('selector',\n",
       "                                                         SelectFromModel(estimator=DecisionTreeRegressor(),\n",
       "                                                                         max_features=20))])),\n",
       "                                       ('eclf',\n",
       "                                        VotingRegressor(estimators=[('svm',\n",
       "                                                                     SVR(C=10,\n",
       "                                                                         gamma=0.1)),\n",
       "                                                                    ('nn',\n",
       "                                                                     MLPRegressor(hidden_layer_sizes=16,\n",
       "                                                                                  max_iter=1000...\n",
       "                                                                                  min_child_weight=None,\n",
       "                                                                                  missing=nan,\n",
       "                                                                                  monotone_constraints=None,\n",
       "                                                                                  n_estimators=400,\n",
       "                                                                                  n_jobs=None,\n",
       "                                                                                  num_parallel_tree=None,\n",
       "                                                                                  random_state=313549,\n",
       "                                                                                  reg_alpha=None,\n",
       "                                                                                  reg_lambda=None,\n",
       "                                                                                  sampling_method='hist',\n",
       "                                                                                  scale_pos_weight=None,\n",
       "                                                                                  subsample=None,\n",
       "                                                                                  tree_method=None,\n",
       "                                                                                  validate_parameters=False,\n",
       "                                                                                  verbosity=None))]))]),\n",
       "             param_grid={}, return_train_score=True,\n",
       "             scoring='neg_mean_squared_error')"
      ]
     },
     "execution_count": 18,
     "metadata": {},
     "output_type": "execute_result"
    }
   ],
   "source": [
    "grid_pipeline_voting003.fit(X_train, y_train.values.ravel())"
   ]
  },
  {
   "cell_type": "code",
   "execution_count": 19,
   "id": "b32cd077",
   "metadata": {},
   "outputs": [
    {
     "data": {
      "text/html": [
       "<div>\n",
       "<style scoped>\n",
       "    .dataframe tbody tr th:only-of-type {\n",
       "        vertical-align: middle;\n",
       "    }\n",
       "\n",
       "    .dataframe tbody tr th {\n",
       "        vertical-align: top;\n",
       "    }\n",
       "\n",
       "    .dataframe thead th {\n",
       "        text-align: right;\n",
       "    }\n",
       "</style>\n",
       "<table border=\"1\" class=\"dataframe\">\n",
       "  <thead>\n",
       "    <tr style=\"text-align: right;\">\n",
       "      <th></th>\n",
       "      <th>mean_test_neg_mean_squared_error</th>\n",
       "      <th>mean_train_neg_mean_squared_error</th>\n",
       "      <th>std_test_neg_mean_squared_error</th>\n",
       "      <th>std_train_neg_mean_squared_error</th>\n",
       "      <th>rank_test</th>\n",
       "    </tr>\n",
       "  </thead>\n",
       "  <tbody>\n",
       "    <tr>\n",
       "      <th>0</th>\n",
       "      <td>-84.694381</td>\n",
       "      <td>-70.44955</td>\n",
       "      <td>0.76407</td>\n",
       "      <td>1.506481</td>\n",
       "      <td>1</td>\n",
       "    </tr>\n",
       "  </tbody>\n",
       "</table>\n",
       "</div>"
      ],
      "text/plain": [
       "   mean_test_neg_mean_squared_error  mean_train_neg_mean_squared_error  \\\n",
       "0                        -84.694381                          -70.44955   \n",
       "\n",
       "   std_test_neg_mean_squared_error  std_train_neg_mean_squared_error  \\\n",
       "0                          0.76407                          1.506481   \n",
       "\n",
       "   rank_test  \n",
       "0          1  "
      ]
     },
     "execution_count": 19,
     "metadata": {},
     "output_type": "execute_result"
    }
   ],
   "source": [
    "results_voting003 = pd.DataFrame({\n",
    "                     'mean_test_neg_mean_squared_error': grid_pipeline_voting003.cv_results_[\"mean_test_score\"],\n",
    "                     'mean_train_neg_mean_squared_error': grid_pipeline_voting003.cv_results_[\"mean_train_score\"],\n",
    "                     'std_test_neg_mean_squared_error': grid_pipeline_voting003.cv_results_[\"std_test_score\"],\n",
    "                     'std_train_neg_mean_squared_error': grid_pipeline_voting003.cv_results_[\"std_train_score\"],\n",
    "                     'rank_test': grid_pipeline_voting003.cv_results_[\"rank_test_score\"]})\n",
    "results_voting003.sort_values(by = 'rank_test')"
   ]
  },
  {
   "cell_type": "code",
   "execution_count": 20,
   "id": "df48f4fc",
   "metadata": {},
   "outputs": [],
   "source": [
    "y_pred = pd.DataFrame(grid_pipeline_voting003.predict(X_test))"
   ]
  },
  {
   "cell_type": "code",
   "execution_count": 21,
   "id": "be11c08d",
   "metadata": {},
   "outputs": [],
   "source": [
    "pd.DataFrame(y_pred).to_csv(\"voting003.txt\", sep='\\t', index=False, header=False)"
   ]
  }
 ],
 "metadata": {
  "accelerator": "GPU",
  "colab": {
   "gpuType": "T4",
   "provenance": []
  },
  "kernelspec": {
   "display_name": "Python 3 (ipykernel)",
   "language": "python",
   "name": "python3"
  },
  "language_info": {
   "codemirror_mode": {
    "name": "ipython",
    "version": 3
   },
   "file_extension": ".py",
   "mimetype": "text/x-python",
   "name": "python",
   "nbconvert_exporter": "python",
   "pygments_lexer": "ipython3",
   "version": "3.9.13"
  }
 },
 "nbformat": 4,
 "nbformat_minor": 5
}
