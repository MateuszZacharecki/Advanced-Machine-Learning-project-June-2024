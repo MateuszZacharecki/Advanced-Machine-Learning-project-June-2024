{
 "cells": [
  {
   "cell_type": "markdown",
   "id": "e0783d1e",
   "metadata": {
    "id": "e0783d1e"
   },
   "source": [
    "313549 ~ Mateusz Zacharecki \\\n",
    "335719 ~ Patrycja Kielan\n",
    "\n",
    "---"
   ]
  },
  {
   "cell_type": "markdown",
   "id": "8d26868d",
   "metadata": {
    "id": "8d26868d"
   },
   "source": [
    "# Solution for mixed wrapper and filter variable selection\n",
    "___"
   ]
  },
  {
   "cell_type": "markdown",
   "id": "b7fb3ad2",
   "metadata": {
    "id": "b7fb3ad2"
   },
   "source": [
    "# Importing libraries and data"
   ]
  },
  {
   "cell_type": "code",
   "execution_count": 6,
   "id": "c3a2f1ba",
   "metadata": {
    "id": "c3a2f1ba"
   },
   "outputs": [],
   "source": [
    "import pandas as pd\n",
    "import numpy as np\n",
    "import sklearn\n",
    "from sklearn.pipeline import Pipeline\n",
    "from sklearn.model_selection import train_test_split\n",
    "from sklearn.preprocessing import StandardScaler\n",
    "from sklearn.model_selection import GridSearchCV\n",
    "from sklearn.decomposition import PCA\n",
    "from sklearn.metrics import mean_squared_error as mse\n",
    "from sklearn.ensemble import GradientBoostingRegressor\n",
    "from sklearn.svm import SVR\n",
    "import matplotlib.pyplot as plt\n",
    "import sklearn.model_selection as skm\n",
    "from sklearn.neural_network import MLPRegressor\n",
    "from sklearn.linear_model import LinearRegression\n",
    "from sklearn.tree import DecisionTreeRegressor\n",
    "from sklearn.feature_selection import RFE\n",
    "from sklearn.feature_selection import SelectFromModel\n",
    "from sklearn.feature_selection import SelectKBest\n",
    "from sklearn.feature_selection import f_regression\n",
    "import xgboost\n",
    "from sklearn.ensemble import VotingRegressor"
   ]
  },
  {
   "cell_type": "code",
   "execution_count": 3,
   "id": "397b93e3",
   "metadata": {
    "id": "397b93e3"
   },
   "outputs": [],
   "source": [
    "X_train = pd.read_csv(\"Xtrain.csv\", index_col=0)\n",
    "X_test = pd.read_csv(\"Xtest.csv\", index_col=0)\n",
    "y_train = pd.read_csv(\"ytrain.csv\", index_col=0)"
   ]
  },
  {
   "cell_type": "markdown",
   "id": "37b9a02f",
   "metadata": {
    "id": "37b9a02f"
   },
   "source": [
    "# SVM"
   ]
  },
  {
   "cell_type": "code",
   "execution_count": 10,
   "id": "161e92f9",
   "metadata": {
    "id": "161e92f9"
   },
   "outputs": [],
   "source": [
    "pipeline = Pipeline([\n",
    "    ('scaler', StandardScaler()),\n",
    "    ('wrapper', SelectKBest(f_regression, k = 20)),\n",
    "    ('filter', RFE(DecisionTreeRegressor(), n_features_to_select = 5))\n",
    "])"
   ]
  },
  {
   "cell_type": "markdown",
   "id": "dd2f6947",
   "metadata": {
    "id": "dd2f6947"
   },
   "source": [
    "## Fitting the whole training set"
   ]
  },
  {
   "cell_type": "code",
   "execution_count": 11,
   "id": "b927e787",
   "metadata": {
    "id": "b927e787"
   },
   "outputs": [],
   "source": [
    "pipeline_SVM = Pipeline([\n",
    "    ('pipeline', pipeline),\n",
    "    ('svm', SVR(C = 10, gamma = 0.1, kernel = 'rbf'))\n",
    "])"
   ]
  },
  {
   "cell_type": "code",
   "execution_count": 12,
   "id": "f6885914",
   "metadata": {
    "id": "f6885914"
   },
   "outputs": [],
   "source": [
    "params = {}\n",
    "\n",
    "grid_pipeline_SVM = GridSearchCV(pipeline_SVM,\n",
    "                             cv = skm.KFold(3, random_state = 313549, shuffle=True),\n",
    "                             param_grid = params,\n",
    "                             scoring = 'neg_mean_squared_error',\n",
    "                             return_train_score = True)"
   ]
  },
  {
   "cell_type": "code",
   "execution_count": 13,
   "id": "15113f93",
   "metadata": {
    "id": "15113f93",
    "outputId": "9cb6ce28-a099-4a84-e2db-535617bbbd52",
    "scrolled": true
   },
   "outputs": [
    {
     "data": {
      "text/plain": [
       "GridSearchCV(cv=KFold(n_splits=3, random_state=313549, shuffle=True),\n",
       "             estimator=Pipeline(steps=[('pipeline',\n",
       "                                        Pipeline(steps=[('scaler',\n",
       "                                                         StandardScaler()),\n",
       "                                                        ('wrapper',\n",
       "                                                         SelectKBest(k=20,\n",
       "                                                                     score_func=<function f_regression at 0x000002752E2E48B0>)),\n",
       "                                                        ('filter',\n",
       "                                                         RFE(estimator=DecisionTreeRegressor(),\n",
       "                                                             n_features_to_select=5))])),\n",
       "                                       ('svm', SVR(C=10, gamma=0.1))]),\n",
       "             param_grid={}, return_train_score=True,\n",
       "             scoring='neg_mean_squared_error')"
      ]
     },
     "execution_count": 13,
     "metadata": {},
     "output_type": "execute_result"
    }
   ],
   "source": [
    "grid_pipeline_SVM.fit(X_train, y_train.values.ravel())"
   ]
  },
  {
   "cell_type": "code",
   "execution_count": 14,
   "id": "94aa9787",
   "metadata": {
    "id": "94aa9787",
    "outputId": "2889ea29-5195-4415-a9f2-eeb603bc324f"
   },
   "outputs": [
    {
     "data": {
      "text/html": [
       "<div>\n",
       "<style scoped>\n",
       "    .dataframe tbody tr th:only-of-type {\n",
       "        vertical-align: middle;\n",
       "    }\n",
       "\n",
       "    .dataframe tbody tr th {\n",
       "        vertical-align: top;\n",
       "    }\n",
       "\n",
       "    .dataframe thead th {\n",
       "        text-align: right;\n",
       "    }\n",
       "</style>\n",
       "<table border=\"1\" class=\"dataframe\">\n",
       "  <thead>\n",
       "    <tr style=\"text-align: right;\">\n",
       "      <th></th>\n",
       "      <th>mean_test_neg_mean_squared_error</th>\n",
       "      <th>mean_train_neg_mean_squared_error</th>\n",
       "      <th>std_test_neg_mean_squared_error</th>\n",
       "      <th>std_train_neg_mean_squared_error</th>\n",
       "      <th>rank_test</th>\n",
       "    </tr>\n",
       "  </thead>\n",
       "  <tbody>\n",
       "    <tr>\n",
       "      <th>0</th>\n",
       "      <td>-100.328611</td>\n",
       "      <td>-99.893311</td>\n",
       "      <td>1.112245</td>\n",
       "      <td>0.568079</td>\n",
       "      <td>1</td>\n",
       "    </tr>\n",
       "  </tbody>\n",
       "</table>\n",
       "</div>"
      ],
      "text/plain": [
       "   mean_test_neg_mean_squared_error  mean_train_neg_mean_squared_error  \\\n",
       "0                       -100.328611                         -99.893311   \n",
       "\n",
       "   std_test_neg_mean_squared_error  std_train_neg_mean_squared_error  \\\n",
       "0                         1.112245                          0.568079   \n",
       "\n",
       "   rank_test  \n",
       "0          1  "
      ]
     },
     "execution_count": 14,
     "metadata": {},
     "output_type": "execute_result"
    }
   ],
   "source": [
    "results_SVM = pd.DataFrame({\n",
    "                     'mean_test_neg_mean_squared_error': grid_pipeline_SVM.cv_results_[\"mean_test_score\"],\n",
    "                     'mean_train_neg_mean_squared_error': grid_pipeline_SVM.cv_results_[\"mean_train_score\"],\n",
    "                     'std_test_neg_mean_squared_error': grid_pipeline_SVM.cv_results_[\"std_test_score\"],\n",
    "                     'std_train_neg_mean_squared_error': grid_pipeline_SVM.cv_results_[\"std_train_score\"],\n",
    "                     'rank_test': grid_pipeline_SVM.cv_results_[\"rank_test_score\"]})\n",
    "results_SVM.sort_values(by = 'rank_test')"
   ]
  },
  {
   "cell_type": "code",
   "execution_count": 15,
   "id": "bc3fef32",
   "metadata": {
    "id": "bc3fef32"
   },
   "outputs": [],
   "source": [
    "y_pred = pd.DataFrame(grid_pipeline_SVM.predict(X_test))"
   ]
  },
  {
   "cell_type": "code",
   "execution_count": 16,
   "id": "78bfd749",
   "metadata": {
    "id": "78bfd749"
   },
   "outputs": [],
   "source": [
    "pd.DataFrame(y_pred).to_csv(\"SVM_wrapper&filter.txt\", sep='\\t', index=False, header=False)"
   ]
  },
  {
   "cell_type": "markdown",
   "id": "e568e830",
   "metadata": {
    "id": "e568e830"
   },
   "source": [
    "# Neural network"
   ]
  },
  {
   "cell_type": "code",
   "execution_count": 17,
   "id": "6c1ae961",
   "metadata": {
    "id": "6c1ae961"
   },
   "outputs": [],
   "source": [
    "pipeline = Pipeline([\n",
    "    ('scaler', StandardScaler()),\n",
    "    ('wrapper', SelectKBest(f_regression, k = 20)),\n",
    "    ('filter', RFE(DecisionTreeRegressor(), n_features_to_select = 5))\n",
    "])"
   ]
  },
  {
   "cell_type": "markdown",
   "id": "7c73b323",
   "metadata": {
    "id": "7c73b323"
   },
   "source": [
    "## Fitting the whole training set"
   ]
  },
  {
   "cell_type": "code",
   "execution_count": 18,
   "id": "a32ba35f",
   "metadata": {
    "id": "a32ba35f"
   },
   "outputs": [],
   "source": [
    "pipeline_NN = Pipeline([\n",
    "    ('pipeline', pipeline),\n",
    "    ('nn', MLPRegressor(max_iter = 10000, random_state = 313549))\n",
    "])"
   ]
  },
  {
   "cell_type": "code",
   "execution_count": 19,
   "id": "487cf271",
   "metadata": {
    "id": "487cf271"
   },
   "outputs": [],
   "source": [
    "params = {\n",
    "    \"nn__hidden_layer_sizes\": [(4), (16), (4, 4)],\n",
    "    \"nn__solver\": ['sgd', 'adam']\n",
    "}"
   ]
  },
  {
   "cell_type": "code",
   "execution_count": 20,
   "id": "1b662467",
   "metadata": {
    "id": "1b662467"
   },
   "outputs": [],
   "source": [
    "grid_pipeline_NN = GridSearchCV(pipeline_NN,\n",
    "                      cv = skm.KFold(3, random_state = 313549, shuffle=True),\n",
    "                      param_grid = params,\n",
    "                      scoring = 'neg_mean_squared_error',\n",
    "                      return_train_score = True)"
   ]
  },
  {
   "cell_type": "code",
   "execution_count": 21,
   "id": "2eaed00f",
   "metadata": {
    "colab": {
     "base_uri": "https://localhost:8080/",
     "height": 723
    },
    "id": "2eaed00f",
    "outputId": "df2b8e41-02ea-4b61-a9c0-1083de22b838"
   },
   "outputs": [
    {
     "name": "stderr",
     "output_type": "stream",
     "text": [
      "C:\\Users\\XXX\\anaconda3\\lib\\site-packages\\sklearn\\neural_network\\_base.py:174: RuntimeWarning: overflow encountered in square\n",
      "  return ((y_true - y_pred) ** 2).mean() / 2\n",
      "C:\\Users\\XXX\\anaconda3\\lib\\site-packages\\sklearn\\utils\\extmath.py:153: RuntimeWarning: overflow encountered in matmul\n",
      "  ret = a @ b\n",
      "C:\\Users\\XXX\\anaconda3\\lib\\site-packages\\sklearn\\utils\\extmath.py:153: RuntimeWarning: invalid value encountered in matmul\n",
      "  ret = a @ b\n",
      "C:\\Users\\XXX\\anaconda3\\lib\\site-packages\\sklearn\\neural_network\\_multilayer_perceptron.py:692: ConvergenceWarning: Stochastic Optimizer: Maximum iterations (10000) reached and the optimization hasn't converged yet.\n",
      "  warnings.warn(\n",
      "C:\\Users\\XXX\\anaconda3\\lib\\site-packages\\sklearn\\model_selection\\_validation.py:770: UserWarning: Scoring failed. The score on this train-test partition for these parameters will be set to nan. Details: \n",
      "Traceback (most recent call last):\n",
      "  File \"C:\\Users\\XXX\\anaconda3\\lib\\site-packages\\sklearn\\model_selection\\_validation.py\", line 761, in _score\n",
      "    scores = scorer(estimator, X_test, y_test)\n",
      "  File \"C:\\Users\\XXX\\anaconda3\\lib\\site-packages\\sklearn\\metrics\\_scorer.py\", line 216, in __call__\n",
      "    return self._score(\n",
      "  File \"C:\\Users\\XXX\\anaconda3\\lib\\site-packages\\sklearn\\metrics\\_scorer.py\", line 264, in _score\n",
      "    return self._sign * self._score_func(y_true, y_pred, **self._kwargs)\n",
      "  File \"C:\\Users\\XXX\\anaconda3\\lib\\site-packages\\sklearn\\metrics\\_regression.py\", line 438, in mean_squared_error\n",
      "    y_type, y_true, y_pred, multioutput = _check_reg_targets(\n",
      "  File \"C:\\Users\\XXX\\anaconda3\\lib\\site-packages\\sklearn\\metrics\\_regression.py\", line 96, in _check_reg_targets\n",
      "    y_pred = check_array(y_pred, ensure_2d=False, dtype=dtype)\n",
      "  File \"C:\\Users\\XXX\\anaconda3\\lib\\site-packages\\sklearn\\utils\\validation.py\", line 800, in check_array\n",
      "    _assert_all_finite(array, allow_nan=force_all_finite == \"allow-nan\")\n",
      "  File \"C:\\Users\\XXX\\anaconda3\\lib\\site-packages\\sklearn\\utils\\validation.py\", line 114, in _assert_all_finite\n",
      "    raise ValueError(\n",
      "ValueError: Input contains NaN, infinity or a value too large for dtype('float64').\n",
      "\n",
      "  warnings.warn(\n",
      "C:\\Users\\XXX\\anaconda3\\lib\\site-packages\\sklearn\\model_selection\\_validation.py:770: UserWarning: Scoring failed. The score on this train-test partition for these parameters will be set to nan. Details: \n",
      "Traceback (most recent call last):\n",
      "  File \"C:\\Users\\XXX\\anaconda3\\lib\\site-packages\\sklearn\\model_selection\\_validation.py\", line 761, in _score\n",
      "    scores = scorer(estimator, X_test, y_test)\n",
      "  File \"C:\\Users\\XXX\\anaconda3\\lib\\site-packages\\sklearn\\metrics\\_scorer.py\", line 216, in __call__\n",
      "    return self._score(\n",
      "  File \"C:\\Users\\XXX\\anaconda3\\lib\\site-packages\\sklearn\\metrics\\_scorer.py\", line 264, in _score\n",
      "    return self._sign * self._score_func(y_true, y_pred, **self._kwargs)\n",
      "  File \"C:\\Users\\XXX\\anaconda3\\lib\\site-packages\\sklearn\\metrics\\_regression.py\", line 438, in mean_squared_error\n",
      "    y_type, y_true, y_pred, multioutput = _check_reg_targets(\n",
      "  File \"C:\\Users\\XXX\\anaconda3\\lib\\site-packages\\sklearn\\metrics\\_regression.py\", line 96, in _check_reg_targets\n",
      "    y_pred = check_array(y_pred, ensure_2d=False, dtype=dtype)\n",
      "  File \"C:\\Users\\XXX\\anaconda3\\lib\\site-packages\\sklearn\\utils\\validation.py\", line 800, in check_array\n",
      "    _assert_all_finite(array, allow_nan=force_all_finite == \"allow-nan\")\n",
      "  File \"C:\\Users\\XXX\\anaconda3\\lib\\site-packages\\sklearn\\utils\\validation.py\", line 114, in _assert_all_finite\n",
      "    raise ValueError(\n",
      "ValueError: Input contains NaN, infinity or a value too large for dtype('float64').\n",
      "\n",
      "  warnings.warn(\n",
      "C:\\Users\\XXX\\anaconda3\\lib\\site-packages\\sklearn\\neural_network\\_base.py:174: RuntimeWarning: overflow encountered in square\n",
      "  return ((y_true - y_pred) ** 2).mean() / 2\n",
      "C:\\Users\\XXX\\anaconda3\\lib\\site-packages\\sklearn\\utils\\extmath.py:153: RuntimeWarning: overflow encountered in matmul\n",
      "  ret = a @ b\n",
      "C:\\Users\\XXX\\anaconda3\\lib\\site-packages\\sklearn\\utils\\extmath.py:153: RuntimeWarning: invalid value encountered in matmul\n",
      "  ret = a @ b\n",
      "C:\\Users\\XXX\\anaconda3\\lib\\site-packages\\sklearn\\neural_network\\_multilayer_perceptron.py:692: ConvergenceWarning: Stochastic Optimizer: Maximum iterations (10000) reached and the optimization hasn't converged yet.\n",
      "  warnings.warn(\n",
      "C:\\Users\\XXX\\anaconda3\\lib\\site-packages\\sklearn\\model_selection\\_validation.py:770: UserWarning: Scoring failed. The score on this train-test partition for these parameters will be set to nan. Details: \n",
      "Traceback (most recent call last):\n",
      "  File \"C:\\Users\\XXX\\anaconda3\\lib\\site-packages\\sklearn\\model_selection\\_validation.py\", line 761, in _score\n",
      "    scores = scorer(estimator, X_test, y_test)\n",
      "  File \"C:\\Users\\XXX\\anaconda3\\lib\\site-packages\\sklearn\\metrics\\_scorer.py\", line 216, in __call__\n",
      "    return self._score(\n",
      "  File \"C:\\Users\\XXX\\anaconda3\\lib\\site-packages\\sklearn\\metrics\\_scorer.py\", line 264, in _score\n",
      "    return self._sign * self._score_func(y_true, y_pred, **self._kwargs)\n",
      "  File \"C:\\Users\\XXX\\anaconda3\\lib\\site-packages\\sklearn\\metrics\\_regression.py\", line 438, in mean_squared_error\n",
      "    y_type, y_true, y_pred, multioutput = _check_reg_targets(\n",
      "  File \"C:\\Users\\XXX\\anaconda3\\lib\\site-packages\\sklearn\\metrics\\_regression.py\", line 96, in _check_reg_targets\n",
      "    y_pred = check_array(y_pred, ensure_2d=False, dtype=dtype)\n",
      "  File \"C:\\Users\\XXX\\anaconda3\\lib\\site-packages\\sklearn\\utils\\validation.py\", line 800, in check_array\n",
      "    _assert_all_finite(array, allow_nan=force_all_finite == \"allow-nan\")\n",
      "  File \"C:\\Users\\XXX\\anaconda3\\lib\\site-packages\\sklearn\\utils\\validation.py\", line 114, in _assert_all_finite\n",
      "    raise ValueError(\n",
      "ValueError: Input contains NaN, infinity or a value too large for dtype('float64').\n",
      "\n",
      "  warnings.warn(\n",
      "C:\\Users\\XXX\\anaconda3\\lib\\site-packages\\sklearn\\model_selection\\_validation.py:770: UserWarning: Scoring failed. The score on this train-test partition for these parameters will be set to nan. Details: \n",
      "Traceback (most recent call last):\n",
      "  File \"C:\\Users\\XXX\\anaconda3\\lib\\site-packages\\sklearn\\model_selection\\_validation.py\", line 761, in _score\n",
      "    scores = scorer(estimator, X_test, y_test)\n",
      "  File \"C:\\Users\\XXX\\anaconda3\\lib\\site-packages\\sklearn\\metrics\\_scorer.py\", line 216, in __call__\n",
      "    return self._score(\n",
      "  File \"C:\\Users\\XXX\\anaconda3\\lib\\site-packages\\sklearn\\metrics\\_scorer.py\", line 264, in _score\n",
      "    return self._sign * self._score_func(y_true, y_pred, **self._kwargs)\n",
      "  File \"C:\\Users\\XXX\\anaconda3\\lib\\site-packages\\sklearn\\metrics\\_regression.py\", line 438, in mean_squared_error\n",
      "    y_type, y_true, y_pred, multioutput = _check_reg_targets(\n",
      "  File \"C:\\Users\\XXX\\anaconda3\\lib\\site-packages\\sklearn\\metrics\\_regression.py\", line 96, in _check_reg_targets\n",
      "    y_pred = check_array(y_pred, ensure_2d=False, dtype=dtype)\n",
      "  File \"C:\\Users\\XXX\\anaconda3\\lib\\site-packages\\sklearn\\utils\\validation.py\", line 800, in check_array\n",
      "    _assert_all_finite(array, allow_nan=force_all_finite == \"allow-nan\")\n",
      "  File \"C:\\Users\\XXX\\anaconda3\\lib\\site-packages\\sklearn\\utils\\validation.py\", line 114, in _assert_all_finite\n",
      "    raise ValueError(\n",
      "ValueError: Input contains NaN, infinity or a value too large for dtype('float64').\n",
      "\n",
      "  warnings.warn(\n",
      "C:\\Users\\XXX\\anaconda3\\lib\\site-packages\\sklearn\\neural_network\\_base.py:174: RuntimeWarning: overflow encountered in square\n",
      "  return ((y_true - y_pred) ** 2).mean() / 2\n",
      "C:\\Users\\XXX\\anaconda3\\lib\\site-packages\\sklearn\\utils\\extmath.py:153: RuntimeWarning: overflow encountered in matmul\n",
      "  ret = a @ b\n",
      "C:\\Users\\XXX\\anaconda3\\lib\\site-packages\\sklearn\\utils\\extmath.py:153: RuntimeWarning: invalid value encountered in matmul\n",
      "  ret = a @ b\n",
      "C:\\Users\\XXX\\anaconda3\\lib\\site-packages\\sklearn\\neural_network\\_multilayer_perceptron.py:692: ConvergenceWarning: Stochastic Optimizer: Maximum iterations (10000) reached and the optimization hasn't converged yet.\n",
      "  warnings.warn(\n",
      "C:\\Users\\XXX\\anaconda3\\lib\\site-packages\\sklearn\\model_selection\\_validation.py:770: UserWarning: Scoring failed. The score on this train-test partition for these parameters will be set to nan. Details: \n",
      "Traceback (most recent call last):\n",
      "  File \"C:\\Users\\XXX\\anaconda3\\lib\\site-packages\\sklearn\\model_selection\\_validation.py\", line 761, in _score\n",
      "    scores = scorer(estimator, X_test, y_test)\n",
      "  File \"C:\\Users\\XXX\\anaconda3\\lib\\site-packages\\sklearn\\metrics\\_scorer.py\", line 216, in __call__\n",
      "    return self._score(\n",
      "  File \"C:\\Users\\XXX\\anaconda3\\lib\\site-packages\\sklearn\\metrics\\_scorer.py\", line 264, in _score\n",
      "    return self._sign * self._score_func(y_true, y_pred, **self._kwargs)\n",
      "  File \"C:\\Users\\XXX\\anaconda3\\lib\\site-packages\\sklearn\\metrics\\_regression.py\", line 438, in mean_squared_error\n",
      "    y_type, y_true, y_pred, multioutput = _check_reg_targets(\n",
      "  File \"C:\\Users\\XXX\\anaconda3\\lib\\site-packages\\sklearn\\metrics\\_regression.py\", line 96, in _check_reg_targets\n",
      "    y_pred = check_array(y_pred, ensure_2d=False, dtype=dtype)\n",
      "  File \"C:\\Users\\XXX\\anaconda3\\lib\\site-packages\\sklearn\\utils\\validation.py\", line 800, in check_array\n",
      "    _assert_all_finite(array, allow_nan=force_all_finite == \"allow-nan\")\n",
      "  File \"C:\\Users\\XXX\\anaconda3\\lib\\site-packages\\sklearn\\utils\\validation.py\", line 114, in _assert_all_finite\n",
      "    raise ValueError(\n",
      "ValueError: Input contains NaN, infinity or a value too large for dtype('float64').\n",
      "\n",
      "  warnings.warn(\n"
     ]
    },
    {
     "name": "stderr",
     "output_type": "stream",
     "text": [
      "C:\\Users\\XXX\\anaconda3\\lib\\site-packages\\sklearn\\model_selection\\_validation.py:770: UserWarning: Scoring failed. The score on this train-test partition for these parameters will be set to nan. Details: \n",
      "Traceback (most recent call last):\n",
      "  File \"C:\\Users\\XXX\\anaconda3\\lib\\site-packages\\sklearn\\model_selection\\_validation.py\", line 761, in _score\n",
      "    scores = scorer(estimator, X_test, y_test)\n",
      "  File \"C:\\Users\\XXX\\anaconda3\\lib\\site-packages\\sklearn\\metrics\\_scorer.py\", line 216, in __call__\n",
      "    return self._score(\n",
      "  File \"C:\\Users\\XXX\\anaconda3\\lib\\site-packages\\sklearn\\metrics\\_scorer.py\", line 264, in _score\n",
      "    return self._sign * self._score_func(y_true, y_pred, **self._kwargs)\n",
      "  File \"C:\\Users\\XXX\\anaconda3\\lib\\site-packages\\sklearn\\metrics\\_regression.py\", line 438, in mean_squared_error\n",
      "    y_type, y_true, y_pred, multioutput = _check_reg_targets(\n",
      "  File \"C:\\Users\\XXX\\anaconda3\\lib\\site-packages\\sklearn\\metrics\\_regression.py\", line 96, in _check_reg_targets\n",
      "    y_pred = check_array(y_pred, ensure_2d=False, dtype=dtype)\n",
      "  File \"C:\\Users\\XXX\\anaconda3\\lib\\site-packages\\sklearn\\utils\\validation.py\", line 800, in check_array\n",
      "    _assert_all_finite(array, allow_nan=force_all_finite == \"allow-nan\")\n",
      "  File \"C:\\Users\\XXX\\anaconda3\\lib\\site-packages\\sklearn\\utils\\validation.py\", line 114, in _assert_all_finite\n",
      "    raise ValueError(\n",
      "ValueError: Input contains NaN, infinity or a value too large for dtype('float64').\n",
      "\n",
      "  warnings.warn(\n",
      "C:\\Users\\XXX\\anaconda3\\lib\\site-packages\\sklearn\\neural_network\\_base.py:174: RuntimeWarning: overflow encountered in square\n",
      "  return ((y_true - y_pred) ** 2).mean() / 2\n",
      "C:\\Users\\XXX\\anaconda3\\lib\\site-packages\\sklearn\\utils\\extmath.py:153: RuntimeWarning: overflow encountered in matmul\n",
      "  ret = a @ b\n",
      "C:\\Users\\XXX\\anaconda3\\lib\\site-packages\\sklearn\\utils\\extmath.py:153: RuntimeWarning: invalid value encountered in matmul\n",
      "  ret = a @ b\n",
      "C:\\Users\\XXX\\anaconda3\\lib\\site-packages\\sklearn\\neural_network\\_multilayer_perceptron.py:692: ConvergenceWarning: Stochastic Optimizer: Maximum iterations (10000) reached and the optimization hasn't converged yet.\n",
      "  warnings.warn(\n",
      "C:\\Users\\XXX\\anaconda3\\lib\\site-packages\\sklearn\\model_selection\\_validation.py:770: UserWarning: Scoring failed. The score on this train-test partition for these parameters will be set to nan. Details: \n",
      "Traceback (most recent call last):\n",
      "  File \"C:\\Users\\XXX\\anaconda3\\lib\\site-packages\\sklearn\\model_selection\\_validation.py\", line 761, in _score\n",
      "    scores = scorer(estimator, X_test, y_test)\n",
      "  File \"C:\\Users\\XXX\\anaconda3\\lib\\site-packages\\sklearn\\metrics\\_scorer.py\", line 216, in __call__\n",
      "    return self._score(\n",
      "  File \"C:\\Users\\XXX\\anaconda3\\lib\\site-packages\\sklearn\\metrics\\_scorer.py\", line 264, in _score\n",
      "    return self._sign * self._score_func(y_true, y_pred, **self._kwargs)\n",
      "  File \"C:\\Users\\XXX\\anaconda3\\lib\\site-packages\\sklearn\\metrics\\_regression.py\", line 438, in mean_squared_error\n",
      "    y_type, y_true, y_pred, multioutput = _check_reg_targets(\n",
      "  File \"C:\\Users\\XXX\\anaconda3\\lib\\site-packages\\sklearn\\metrics\\_regression.py\", line 96, in _check_reg_targets\n",
      "    y_pred = check_array(y_pred, ensure_2d=False, dtype=dtype)\n",
      "  File \"C:\\Users\\XXX\\anaconda3\\lib\\site-packages\\sklearn\\utils\\validation.py\", line 800, in check_array\n",
      "    _assert_all_finite(array, allow_nan=force_all_finite == \"allow-nan\")\n",
      "  File \"C:\\Users\\XXX\\anaconda3\\lib\\site-packages\\sklearn\\utils\\validation.py\", line 114, in _assert_all_finite\n",
      "    raise ValueError(\n",
      "ValueError: Input contains NaN, infinity or a value too large for dtype('float64').\n",
      "\n",
      "  warnings.warn(\n",
      "C:\\Users\\XXX\\anaconda3\\lib\\site-packages\\sklearn\\model_selection\\_validation.py:770: UserWarning: Scoring failed. The score on this train-test partition for these parameters will be set to nan. Details: \n",
      "Traceback (most recent call last):\n",
      "  File \"C:\\Users\\XXX\\anaconda3\\lib\\site-packages\\sklearn\\model_selection\\_validation.py\", line 761, in _score\n",
      "    scores = scorer(estimator, X_test, y_test)\n",
      "  File \"C:\\Users\\XXX\\anaconda3\\lib\\site-packages\\sklearn\\metrics\\_scorer.py\", line 216, in __call__\n",
      "    return self._score(\n",
      "  File \"C:\\Users\\XXX\\anaconda3\\lib\\site-packages\\sklearn\\metrics\\_scorer.py\", line 264, in _score\n",
      "    return self._sign * self._score_func(y_true, y_pred, **self._kwargs)\n",
      "  File \"C:\\Users\\XXX\\anaconda3\\lib\\site-packages\\sklearn\\metrics\\_regression.py\", line 438, in mean_squared_error\n",
      "    y_type, y_true, y_pred, multioutput = _check_reg_targets(\n",
      "  File \"C:\\Users\\XXX\\anaconda3\\lib\\site-packages\\sklearn\\metrics\\_regression.py\", line 96, in _check_reg_targets\n",
      "    y_pred = check_array(y_pred, ensure_2d=False, dtype=dtype)\n",
      "  File \"C:\\Users\\XXX\\anaconda3\\lib\\site-packages\\sklearn\\utils\\validation.py\", line 800, in check_array\n",
      "    _assert_all_finite(array, allow_nan=force_all_finite == \"allow-nan\")\n",
      "  File \"C:\\Users\\XXX\\anaconda3\\lib\\site-packages\\sklearn\\utils\\validation.py\", line 114, in _assert_all_finite\n",
      "    raise ValueError(\n",
      "ValueError: Input contains NaN, infinity or a value too large for dtype('float64').\n",
      "\n",
      "  warnings.warn(\n",
      "C:\\Users\\XXX\\anaconda3\\lib\\site-packages\\sklearn\\neural_network\\_base.py:174: RuntimeWarning: overflow encountered in square\n",
      "  return ((y_true - y_pred) ** 2).mean() / 2\n",
      "C:\\Users\\XXX\\anaconda3\\lib\\site-packages\\sklearn\\utils\\extmath.py:153: RuntimeWarning: overflow encountered in matmul\n",
      "  ret = a @ b\n",
      "C:\\Users\\XXX\\anaconda3\\lib\\site-packages\\sklearn\\utils\\extmath.py:153: RuntimeWarning: invalid value encountered in matmul\n",
      "  ret = a @ b\n",
      "C:\\Users\\XXX\\anaconda3\\lib\\site-packages\\sklearn\\neural_network\\_multilayer_perceptron.py:692: ConvergenceWarning: Stochastic Optimizer: Maximum iterations (10000) reached and the optimization hasn't converged yet.\n",
      "  warnings.warn(\n",
      "C:\\Users\\XXX\\anaconda3\\lib\\site-packages\\sklearn\\model_selection\\_validation.py:770: UserWarning: Scoring failed. The score on this train-test partition for these parameters will be set to nan. Details: \n",
      "Traceback (most recent call last):\n",
      "  File \"C:\\Users\\XXX\\anaconda3\\lib\\site-packages\\sklearn\\model_selection\\_validation.py\", line 761, in _score\n",
      "    scores = scorer(estimator, X_test, y_test)\n",
      "  File \"C:\\Users\\XXX\\anaconda3\\lib\\site-packages\\sklearn\\metrics\\_scorer.py\", line 216, in __call__\n",
      "    return self._score(\n",
      "  File \"C:\\Users\\XXX\\anaconda3\\lib\\site-packages\\sklearn\\metrics\\_scorer.py\", line 264, in _score\n",
      "    return self._sign * self._score_func(y_true, y_pred, **self._kwargs)\n",
      "  File \"C:\\Users\\XXX\\anaconda3\\lib\\site-packages\\sklearn\\metrics\\_regression.py\", line 438, in mean_squared_error\n",
      "    y_type, y_true, y_pred, multioutput = _check_reg_targets(\n",
      "  File \"C:\\Users\\XXX\\anaconda3\\lib\\site-packages\\sklearn\\metrics\\_regression.py\", line 96, in _check_reg_targets\n",
      "    y_pred = check_array(y_pred, ensure_2d=False, dtype=dtype)\n",
      "  File \"C:\\Users\\XXX\\anaconda3\\lib\\site-packages\\sklearn\\utils\\validation.py\", line 800, in check_array\n",
      "    _assert_all_finite(array, allow_nan=force_all_finite == \"allow-nan\")\n",
      "  File \"C:\\Users\\XXX\\anaconda3\\lib\\site-packages\\sklearn\\utils\\validation.py\", line 114, in _assert_all_finite\n",
      "    raise ValueError(\n",
      "ValueError: Input contains NaN, infinity or a value too large for dtype('float64').\n",
      "\n",
      "  warnings.warn(\n",
      "C:\\Users\\XXX\\anaconda3\\lib\\site-packages\\sklearn\\model_selection\\_validation.py:770: UserWarning: Scoring failed. The score on this train-test partition for these parameters will be set to nan. Details: \n",
      "Traceback (most recent call last):\n",
      "  File \"C:\\Users\\XXX\\anaconda3\\lib\\site-packages\\sklearn\\model_selection\\_validation.py\", line 761, in _score\n",
      "    scores = scorer(estimator, X_test, y_test)\n",
      "  File \"C:\\Users\\XXX\\anaconda3\\lib\\site-packages\\sklearn\\metrics\\_scorer.py\", line 216, in __call__\n",
      "    return self._score(\n",
      "  File \"C:\\Users\\XXX\\anaconda3\\lib\\site-packages\\sklearn\\metrics\\_scorer.py\", line 264, in _score\n",
      "    return self._sign * self._score_func(y_true, y_pred, **self._kwargs)\n",
      "  File \"C:\\Users\\XXX\\anaconda3\\lib\\site-packages\\sklearn\\metrics\\_regression.py\", line 438, in mean_squared_error\n",
      "    y_type, y_true, y_pred, multioutput = _check_reg_targets(\n",
      "  File \"C:\\Users\\XXX\\anaconda3\\lib\\site-packages\\sklearn\\metrics\\_regression.py\", line 96, in _check_reg_targets\n",
      "    y_pred = check_array(y_pred, ensure_2d=False, dtype=dtype)\n",
      "  File \"C:\\Users\\XXX\\anaconda3\\lib\\site-packages\\sklearn\\utils\\validation.py\", line 800, in check_array\n",
      "    _assert_all_finite(array, allow_nan=force_all_finite == \"allow-nan\")\n",
      "  File \"C:\\Users\\XXX\\anaconda3\\lib\\site-packages\\sklearn\\utils\\validation.py\", line 114, in _assert_all_finite\n",
      "    raise ValueError(\n",
      "ValueError: Input contains NaN, infinity or a value too large for dtype('float64').\n",
      "\n",
      "  warnings.warn(\n"
     ]
    },
    {
     "name": "stderr",
     "output_type": "stream",
     "text": [
      "C:\\Users\\XXX\\anaconda3\\lib\\site-packages\\sklearn\\neural_network\\_base.py:174: RuntimeWarning: overflow encountered in square\n",
      "  return ((y_true - y_pred) ** 2).mean() / 2\n",
      "C:\\Users\\XXX\\anaconda3\\lib\\site-packages\\sklearn\\utils\\extmath.py:153: RuntimeWarning: overflow encountered in matmul\n",
      "  ret = a @ b\n",
      "C:\\Users\\XXX\\anaconda3\\lib\\site-packages\\sklearn\\utils\\extmath.py:153: RuntimeWarning: invalid value encountered in matmul\n",
      "  ret = a @ b\n",
      "C:\\Users\\XXX\\anaconda3\\lib\\site-packages\\sklearn\\neural_network\\_multilayer_perceptron.py:131: RuntimeWarning: invalid value encountered in add\n",
      "  activations[i + 1] += self.intercepts_[i]\n",
      "C:\\Users\\XXX\\anaconda3\\lib\\site-packages\\sklearn\\neural_network\\_multilayer_perceptron.py:692: ConvergenceWarning: Stochastic Optimizer: Maximum iterations (10000) reached and the optimization hasn't converged yet.\n",
      "  warnings.warn(\n",
      "C:\\Users\\XXX\\anaconda3\\lib\\site-packages\\sklearn\\model_selection\\_validation.py:770: UserWarning: Scoring failed. The score on this train-test partition for these parameters will be set to nan. Details: \n",
      "Traceback (most recent call last):\n",
      "  File \"C:\\Users\\XXX\\anaconda3\\lib\\site-packages\\sklearn\\model_selection\\_validation.py\", line 761, in _score\n",
      "    scores = scorer(estimator, X_test, y_test)\n",
      "  File \"C:\\Users\\XXX\\anaconda3\\lib\\site-packages\\sklearn\\metrics\\_scorer.py\", line 216, in __call__\n",
      "    return self._score(\n",
      "  File \"C:\\Users\\XXX\\anaconda3\\lib\\site-packages\\sklearn\\metrics\\_scorer.py\", line 264, in _score\n",
      "    return self._sign * self._score_func(y_true, y_pred, **self._kwargs)\n",
      "  File \"C:\\Users\\XXX\\anaconda3\\lib\\site-packages\\sklearn\\metrics\\_regression.py\", line 438, in mean_squared_error\n",
      "    y_type, y_true, y_pred, multioutput = _check_reg_targets(\n",
      "  File \"C:\\Users\\XXX\\anaconda3\\lib\\site-packages\\sklearn\\metrics\\_regression.py\", line 96, in _check_reg_targets\n",
      "    y_pred = check_array(y_pred, ensure_2d=False, dtype=dtype)\n",
      "  File \"C:\\Users\\XXX\\anaconda3\\lib\\site-packages\\sklearn\\utils\\validation.py\", line 800, in check_array\n",
      "    _assert_all_finite(array, allow_nan=force_all_finite == \"allow-nan\")\n",
      "  File \"C:\\Users\\XXX\\anaconda3\\lib\\site-packages\\sklearn\\utils\\validation.py\", line 114, in _assert_all_finite\n",
      "    raise ValueError(\n",
      "ValueError: Input contains NaN, infinity or a value too large for dtype('float64').\n",
      "\n",
      "  warnings.warn(\n",
      "C:\\Users\\XXX\\anaconda3\\lib\\site-packages\\sklearn\\model_selection\\_validation.py:770: UserWarning: Scoring failed. The score on this train-test partition for these parameters will be set to nan. Details: \n",
      "Traceback (most recent call last):\n",
      "  File \"C:\\Users\\XXX\\anaconda3\\lib\\site-packages\\sklearn\\model_selection\\_validation.py\", line 761, in _score\n",
      "    scores = scorer(estimator, X_test, y_test)\n",
      "  File \"C:\\Users\\XXX\\anaconda3\\lib\\site-packages\\sklearn\\metrics\\_scorer.py\", line 216, in __call__\n",
      "    return self._score(\n",
      "  File \"C:\\Users\\XXX\\anaconda3\\lib\\site-packages\\sklearn\\metrics\\_scorer.py\", line 264, in _score\n",
      "    return self._sign * self._score_func(y_true, y_pred, **self._kwargs)\n",
      "  File \"C:\\Users\\XXX\\anaconda3\\lib\\site-packages\\sklearn\\metrics\\_regression.py\", line 438, in mean_squared_error\n",
      "    y_type, y_true, y_pred, multioutput = _check_reg_targets(\n",
      "  File \"C:\\Users\\XXX\\anaconda3\\lib\\site-packages\\sklearn\\metrics\\_regression.py\", line 96, in _check_reg_targets\n",
      "    y_pred = check_array(y_pred, ensure_2d=False, dtype=dtype)\n",
      "  File \"C:\\Users\\XXX\\anaconda3\\lib\\site-packages\\sklearn\\utils\\validation.py\", line 800, in check_array\n",
      "    _assert_all_finite(array, allow_nan=force_all_finite == \"allow-nan\")\n",
      "  File \"C:\\Users\\XXX\\anaconda3\\lib\\site-packages\\sklearn\\utils\\validation.py\", line 114, in _assert_all_finite\n",
      "    raise ValueError(\n",
      "ValueError: Input contains NaN, infinity or a value too large for dtype('float64').\n",
      "\n",
      "  warnings.warn(\n",
      "C:\\Users\\XXX\\anaconda3\\lib\\site-packages\\sklearn\\neural_network\\_multilayer_perceptron.py:692: ConvergenceWarning: Stochastic Optimizer: Maximum iterations (10000) reached and the optimization hasn't converged yet.\n",
      "  warnings.warn(\n",
      "C:\\Users\\XXX\\anaconda3\\lib\\site-packages\\sklearn\\neural_network\\_multilayer_perceptron.py:692: ConvergenceWarning: Stochastic Optimizer: Maximum iterations (10000) reached and the optimization hasn't converged yet.\n",
      "  warnings.warn(\n",
      "C:\\Users\\XXX\\anaconda3\\lib\\site-packages\\sklearn\\model_selection\\_search.py:969: UserWarning: One or more of the test scores are non-finite: [          nan -107.49763005           nan -101.98545767 -120.20325082\n",
      " -107.56275503]\n",
      "  warnings.warn(\n",
      "C:\\Users\\XXX\\anaconda3\\lib\\site-packages\\sklearn\\model_selection\\_search.py:969: UserWarning: One or more of the train scores are non-finite: [          nan -102.05861515           nan -101.5989139  -120.20264234\n",
      " -103.96827579]\n",
      "  warnings.warn(\n"
     ]
    },
    {
     "data": {
      "text/plain": [
       "GridSearchCV(cv=KFold(n_splits=3, random_state=313549, shuffle=True),\n",
       "             estimator=Pipeline(steps=[('pipeline',\n",
       "                                        Pipeline(steps=[('scaler',\n",
       "                                                         StandardScaler()),\n",
       "                                                        ('wrapper',\n",
       "                                                         SelectKBest(k=20,\n",
       "                                                                     score_func=<function f_regression at 0x000002752E2E48B0>)),\n",
       "                                                        ('filter',\n",
       "                                                         RFE(estimator=DecisionTreeRegressor(),\n",
       "                                                             n_features_to_select=5))])),\n",
       "                                       ('nn',\n",
       "                                        MLPRegressor(max_iter=10000,\n",
       "                                                     random_state=313549))]),\n",
       "             param_grid={'nn__hidden_layer_sizes': [4, 16, (4, 4)],\n",
       "                         'nn__solver': ['sgd', 'adam']},\n",
       "             return_train_score=True, scoring='neg_mean_squared_error')"
      ]
     },
     "execution_count": 21,
     "metadata": {},
     "output_type": "execute_result"
    }
   ],
   "source": [
    "grid_pipeline_NN.fit(X_train, y_train.values.ravel())"
   ]
  },
  {
   "cell_type": "code",
   "execution_count": 22,
   "id": "7d198ab4",
   "metadata": {
    "colab": {
     "base_uri": "https://localhost:8080/",
     "height": 211
    },
    "id": "7d198ab4",
    "outputId": "ef650eaf-c83a-4f70-ad19-9e01b6d764aa"
   },
   "outputs": [
    {
     "data": {
      "text/html": [
       "<div>\n",
       "<style scoped>\n",
       "    .dataframe tbody tr th:only-of-type {\n",
       "        vertical-align: middle;\n",
       "    }\n",
       "\n",
       "    .dataframe tbody tr th {\n",
       "        vertical-align: top;\n",
       "    }\n",
       "\n",
       "    .dataframe thead th {\n",
       "        text-align: right;\n",
       "    }\n",
       "</style>\n",
       "<table border=\"1\" class=\"dataframe\">\n",
       "  <thead>\n",
       "    <tr style=\"text-align: right;\">\n",
       "      <th></th>\n",
       "      <th>nn__hidden_layer_sizes</th>\n",
       "      <th>nn__solver</th>\n",
       "      <th>mean_test_rng_mean_squared_error</th>\n",
       "      <th>mean_train_neg_mean_squared_error</th>\n",
       "      <th>std_test_neg_mean_squared_error</th>\n",
       "      <th>std_train_neg_mean_squared_error</th>\n",
       "      <th>rank_test</th>\n",
       "    </tr>\n",
       "  </thead>\n",
       "  <tbody>\n",
       "    <tr>\n",
       "      <th>3</th>\n",
       "      <td>16</td>\n",
       "      <td>adam</td>\n",
       "      <td>-101.985458</td>\n",
       "      <td>-101.598914</td>\n",
       "      <td>1.377431</td>\n",
       "      <td>0.608531</td>\n",
       "      <td>1</td>\n",
       "    </tr>\n",
       "    <tr>\n",
       "      <th>1</th>\n",
       "      <td>4</td>\n",
       "      <td>adam</td>\n",
       "      <td>-107.497630</td>\n",
       "      <td>-102.058615</td>\n",
       "      <td>6.527157</td>\n",
       "      <td>1.132712</td>\n",
       "      <td>2</td>\n",
       "    </tr>\n",
       "    <tr>\n",
       "      <th>5</th>\n",
       "      <td>(4, 4)</td>\n",
       "      <td>adam</td>\n",
       "      <td>-107.562755</td>\n",
       "      <td>-103.968276</td>\n",
       "      <td>3.363780</td>\n",
       "      <td>0.497252</td>\n",
       "      <td>3</td>\n",
       "    </tr>\n",
       "    <tr>\n",
       "      <th>4</th>\n",
       "      <td>(4, 4)</td>\n",
       "      <td>sgd</td>\n",
       "      <td>-120.203251</td>\n",
       "      <td>-120.202642</td>\n",
       "      <td>1.288286</td>\n",
       "      <td>0.643973</td>\n",
       "      <td>4</td>\n",
       "    </tr>\n",
       "    <tr>\n",
       "      <th>0</th>\n",
       "      <td>4</td>\n",
       "      <td>sgd</td>\n",
       "      <td>NaN</td>\n",
       "      <td>NaN</td>\n",
       "      <td>NaN</td>\n",
       "      <td>NaN</td>\n",
       "      <td>5</td>\n",
       "    </tr>\n",
       "    <tr>\n",
       "      <th>2</th>\n",
       "      <td>16</td>\n",
       "      <td>sgd</td>\n",
       "      <td>NaN</td>\n",
       "      <td>NaN</td>\n",
       "      <td>NaN</td>\n",
       "      <td>NaN</td>\n",
       "      <td>6</td>\n",
       "    </tr>\n",
       "  </tbody>\n",
       "</table>\n",
       "</div>"
      ],
      "text/plain": [
       "  nn__hidden_layer_sizes nn__solver  mean_test_rng_mean_squared_error  \\\n",
       "3                     16       adam                       -101.985458   \n",
       "1                      4       adam                       -107.497630   \n",
       "5                 (4, 4)       adam                       -107.562755   \n",
       "4                 (4, 4)        sgd                       -120.203251   \n",
       "0                      4        sgd                               NaN   \n",
       "2                     16        sgd                               NaN   \n",
       "\n",
       "   mean_train_neg_mean_squared_error  std_test_neg_mean_squared_error  \\\n",
       "3                        -101.598914                         1.377431   \n",
       "1                        -102.058615                         6.527157   \n",
       "5                        -103.968276                         3.363780   \n",
       "4                        -120.202642                         1.288286   \n",
       "0                                NaN                              NaN   \n",
       "2                                NaN                              NaN   \n",
       "\n",
       "   std_train_neg_mean_squared_error  rank_test  \n",
       "3                          0.608531          1  \n",
       "1                          1.132712          2  \n",
       "5                          0.497252          3  \n",
       "4                          0.643973          4  \n",
       "0                               NaN          5  \n",
       "2                               NaN          6  "
      ]
     },
     "execution_count": 22,
     "metadata": {},
     "output_type": "execute_result"
    }
   ],
   "source": [
    "results_NN = pd.DataFrame({'nn__hidden_layer_sizes': grid_pipeline_NN.cv_results_[\"param_nn__hidden_layer_sizes\"],\n",
    "                           'nn__solver': grid_pipeline_NN.cv_results_[\"param_nn__solver\"],\n",
    "                     'mean_test_rng_mean_squared_error': grid_pipeline_NN.cv_results_[\"mean_test_score\"],\n",
    "                     'mean_train_neg_mean_squared_error': grid_pipeline_NN.cv_results_[\"mean_train_score\"],\n",
    "                     'std_test_neg_mean_squared_error': grid_pipeline_NN.cv_results_[\"std_test_score\"],\n",
    "                     'std_train_neg_mean_squared_error': grid_pipeline_NN.cv_results_[\"std_train_score\"],\n",
    "                     'rank_test': grid_pipeline_NN.cv_results_[\"rank_test_score\"]})\n",
    "results_NN.sort_values(by = 'rank_test')"
   ]
  },
  {
   "cell_type": "code",
   "execution_count": 23,
   "id": "1c441007",
   "metadata": {
    "id": "1c441007"
   },
   "outputs": [],
   "source": [
    "y_pred = pd.DataFrame(grid_pipeline_NN.predict(X_test))"
   ]
  },
  {
   "cell_type": "code",
   "execution_count": 24,
   "id": "e5928a80",
   "metadata": {
    "id": "e5928a80"
   },
   "outputs": [],
   "source": [
    "pd.DataFrame(y_pred).to_csv(\"neural_network_wrapper&filter.txt\", sep='\\t', index=False, header=False)"
   ]
  },
  {
   "cell_type": "markdown",
   "id": "Dyc-9BF5aRLP",
   "metadata": {
    "id": "Dyc-9BF5aRLP"
   },
   "source": [
    "# XGBoost"
   ]
  },
  {
   "cell_type": "code",
   "execution_count": 26,
   "id": "3hscTM9BaEjW",
   "metadata": {
    "id": "3hscTM9BaEjW"
   },
   "outputs": [],
   "source": [
    "pipeline = Pipeline([\n",
    "    ('scaler', StandardScaler()),\n",
    "    ('wrapper', SelectKBest(f_regression, k = 20)),\n",
    "    ('filter', RFE(DecisionTreeRegressor(), n_features_to_select = 5))\n",
    "])"
   ]
  },
  {
   "cell_type": "markdown",
   "id": "JveCHtE-aoxf",
   "metadata": {
    "id": "JveCHtE-aoxf"
   },
   "source": [
    "## Fitting the whole training set"
   ]
  },
  {
   "cell_type": "code",
   "execution_count": 28,
   "id": "avuYW44eaEJv",
   "metadata": {
    "id": "avuYW44eaEJv"
   },
   "outputs": [],
   "source": [
    "pipeline_xgb = Pipeline([\n",
    "    ('pipeline', pipeline),\n",
    "    ('xgb', xgboost.XGBRegressor(objective='reg:squarederror', sampling_method = \"hist\", n_estimators = 400, random_state = 313549))\n",
    "])"
   ]
  },
  {
   "cell_type": "code",
   "execution_count": 29,
   "id": "GzKA_onoaD4x",
   "metadata": {
    "id": "GzKA_onoaD4x"
   },
   "outputs": [],
   "source": [
    "params = {\n",
    "    \"xgb__eta\": [0.3, 0.1, 1],\n",
    "    \"xgb__gamma\": [0, 0.1, 1],\n",
    "    \"xgb__max_depth\": [10, 20]\n",
    "}"
   ]
  },
  {
   "cell_type": "code",
   "execution_count": 30,
   "id": "n6OJO1HVZ685",
   "metadata": {
    "id": "n6OJO1HVZ685"
   },
   "outputs": [],
   "source": [
    "grid_pipeline_xgb = GridSearchCV(pipeline_xgb,\n",
    "                      cv = skm.KFold(3, random_state = 313549, shuffle=True),\n",
    "                      param_grid = params,\n",
    "                      scoring = 'neg_mean_squared_error',\n",
    "                      return_train_score = True)"
   ]
  },
  {
   "cell_type": "code",
   "execution_count": 31,
   "id": "00IiyDvEZ5t7",
   "metadata": {
    "id": "00IiyDvEZ5t7"
   },
   "outputs": [
    {
     "data": {
      "text/plain": [
       "GridSearchCV(cv=KFold(n_splits=3, random_state=313549, shuffle=True),\n",
       "             estimator=Pipeline(steps=[('pipeline',\n",
       "                                        Pipeline(steps=[('scaler',\n",
       "                                                         StandardScaler()),\n",
       "                                                        ('wrapper',\n",
       "                                                         SelectKBest(k=20,\n",
       "                                                                     score_func=<function f_regression at 0x000002752E2E48B0>)),\n",
       "                                                        ('filter',\n",
       "                                                         RFE(estimator=DecisionTreeRegressor(),\n",
       "                                                             n_features_to_select=5))])),\n",
       "                                       ('xgb',\n",
       "                                        XGBRegressor(base_score=None,\n",
       "                                                     boost...\n",
       "                                                     n_estimators=400,\n",
       "                                                     n_jobs=None,\n",
       "                                                     num_parallel_tree=None,\n",
       "                                                     random_state=313549,\n",
       "                                                     reg_alpha=None,\n",
       "                                                     reg_lambda=None,\n",
       "                                                     sampling_method='hist',\n",
       "                                                     scale_pos_weight=None,\n",
       "                                                     subsample=None,\n",
       "                                                     tree_method=None,\n",
       "                                                     validate_parameters=False,\n",
       "                                                     verbosity=None))]),\n",
       "             param_grid={'xgb__eta': [0.3, 0.1, 1], 'xgb__gamma': [0, 0.1, 1],\n",
       "                         'xgb__max_depth': [10, 20]},\n",
       "             return_train_score=True, scoring='neg_mean_squared_error')"
      ]
     },
     "execution_count": 31,
     "metadata": {},
     "output_type": "execute_result"
    }
   ],
   "source": [
    "grid_pipeline_xgb.fit(X_train, y_train.values.ravel())"
   ]
  },
  {
   "cell_type": "code",
   "execution_count": 43,
   "id": "QPWk2uLVaBoY",
   "metadata": {
    "id": "QPWk2uLVaBoY"
   },
   "outputs": [
    {
     "data": {
      "text/html": [
       "<div>\n",
       "<style scoped>\n",
       "    .dataframe tbody tr th:only-of-type {\n",
       "        vertical-align: middle;\n",
       "    }\n",
       "\n",
       "    .dataframe tbody tr th {\n",
       "        vertical-align: top;\n",
       "    }\n",
       "\n",
       "    .dataframe thead th {\n",
       "        text-align: right;\n",
       "    }\n",
       "</style>\n",
       "<table border=\"1\" class=\"dataframe\">\n",
       "  <thead>\n",
       "    <tr style=\"text-align: right;\">\n",
       "      <th></th>\n",
       "      <th>xgb__eta</th>\n",
       "      <th>xgb__gamma</th>\n",
       "      <th>xgb__max_depth</th>\n",
       "      <th>mean_test_neg_mean_squared_error</th>\n",
       "      <th>mean_train_neg_mean_squared_error</th>\n",
       "      <th>std_test_neg_mean_squared_error</th>\n",
       "      <th>std_train_neg_mean_squared_error</th>\n",
       "      <th>rank_test</th>\n",
       "    </tr>\n",
       "  </thead>\n",
       "  <tbody>\n",
       "    <tr>\n",
       "      <th>6</th>\n",
       "      <td>0.1</td>\n",
       "      <td>0</td>\n",
       "      <td>10</td>\n",
       "      <td>-97.472681</td>\n",
       "      <td>-6.324241e+01</td>\n",
       "      <td>0.894526</td>\n",
       "      <td>9.616894e-01</td>\n",
       "      <td>1</td>\n",
       "    </tr>\n",
       "    <tr>\n",
       "      <th>8</th>\n",
       "      <td>0.1</td>\n",
       "      <td>0.1</td>\n",
       "      <td>10</td>\n",
       "      <td>-97.571059</td>\n",
       "      <td>-6.244620e+01</td>\n",
       "      <td>0.983733</td>\n",
       "      <td>8.379006e-01</td>\n",
       "      <td>2</td>\n",
       "    </tr>\n",
       "    <tr>\n",
       "      <th>10</th>\n",
       "      <td>0.1</td>\n",
       "      <td>1</td>\n",
       "      <td>10</td>\n",
       "      <td>-97.624602</td>\n",
       "      <td>-6.314651e+01</td>\n",
       "      <td>0.885826</td>\n",
       "      <td>3.245240e-01</td>\n",
       "      <td>3</td>\n",
       "    </tr>\n",
       "    <tr>\n",
       "      <th>9</th>\n",
       "      <td>0.1</td>\n",
       "      <td>0.1</td>\n",
       "      <td>20</td>\n",
       "      <td>-101.816029</td>\n",
       "      <td>-1.441798e+01</td>\n",
       "      <td>0.945458</td>\n",
       "      <td>1.335207e-02</td>\n",
       "      <td>4</td>\n",
       "    </tr>\n",
       "    <tr>\n",
       "      <th>7</th>\n",
       "      <td>0.1</td>\n",
       "      <td>0</td>\n",
       "      <td>20</td>\n",
       "      <td>-101.939872</td>\n",
       "      <td>-1.438424e+01</td>\n",
       "      <td>1.120746</td>\n",
       "      <td>7.946069e-01</td>\n",
       "      <td>5</td>\n",
       "    </tr>\n",
       "    <tr>\n",
       "      <th>11</th>\n",
       "      <td>0.1</td>\n",
       "      <td>1</td>\n",
       "      <td>20</td>\n",
       "      <td>-102.322042</td>\n",
       "      <td>-1.393394e+01</td>\n",
       "      <td>0.602373</td>\n",
       "      <td>6.813998e-01</td>\n",
       "      <td>6</td>\n",
       "    </tr>\n",
       "    <tr>\n",
       "      <th>0</th>\n",
       "      <td>0.3</td>\n",
       "      <td>0</td>\n",
       "      <td>10</td>\n",
       "      <td>-105.703395</td>\n",
       "      <td>-3.334883e+01</td>\n",
       "      <td>0.824592</td>\n",
       "      <td>4.964421e-01</td>\n",
       "      <td>7</td>\n",
       "    </tr>\n",
       "    <tr>\n",
       "      <th>4</th>\n",
       "      <td>0.3</td>\n",
       "      <td>1</td>\n",
       "      <td>10</td>\n",
       "      <td>-105.822980</td>\n",
       "      <td>-3.321209e+01</td>\n",
       "      <td>0.475823</td>\n",
       "      <td>3.129403e-01</td>\n",
       "      <td>8</td>\n",
       "    </tr>\n",
       "    <tr>\n",
       "      <th>2</th>\n",
       "      <td>0.3</td>\n",
       "      <td>0.1</td>\n",
       "      <td>10</td>\n",
       "      <td>-105.907167</td>\n",
       "      <td>-3.358913e+01</td>\n",
       "      <td>0.568425</td>\n",
       "      <td>5.477816e-01</td>\n",
       "      <td>9</td>\n",
       "    </tr>\n",
       "    <tr>\n",
       "      <th>3</th>\n",
       "      <td>0.3</td>\n",
       "      <td>0.1</td>\n",
       "      <td>20</td>\n",
       "      <td>-112.373963</td>\n",
       "      <td>-3.474772e-01</td>\n",
       "      <td>0.898167</td>\n",
       "      <td>1.338751e-02</td>\n",
       "      <td>10</td>\n",
       "    </tr>\n",
       "    <tr>\n",
       "      <th>1</th>\n",
       "      <td>0.3</td>\n",
       "      <td>0</td>\n",
       "      <td>20</td>\n",
       "      <td>-112.440244</td>\n",
       "      <td>-3.264144e-01</td>\n",
       "      <td>0.849274</td>\n",
       "      <td>2.935324e-02</td>\n",
       "      <td>11</td>\n",
       "    </tr>\n",
       "    <tr>\n",
       "      <th>5</th>\n",
       "      <td>0.3</td>\n",
       "      <td>1</td>\n",
       "      <td>20</td>\n",
       "      <td>-112.586821</td>\n",
       "      <td>-5.509984e-01</td>\n",
       "      <td>0.874630</td>\n",
       "      <td>1.152156e-01</td>\n",
       "      <td>12</td>\n",
       "    </tr>\n",
       "    <tr>\n",
       "      <th>13</th>\n",
       "      <td>1</td>\n",
       "      <td>0</td>\n",
       "      <td>20</td>\n",
       "      <td>-158.545723</td>\n",
       "      <td>-2.955741e-07</td>\n",
       "      <td>1.548693</td>\n",
       "      <td>2.033641e-08</td>\n",
       "      <td>13</td>\n",
       "    </tr>\n",
       "    <tr>\n",
       "      <th>15</th>\n",
       "      <td>1</td>\n",
       "      <td>0.1</td>\n",
       "      <td>20</td>\n",
       "      <td>-159.084993</td>\n",
       "      <td>-1.794794e-02</td>\n",
       "      <td>1.179116</td>\n",
       "      <td>2.619370e-03</td>\n",
       "      <td>14</td>\n",
       "    </tr>\n",
       "    <tr>\n",
       "      <th>12</th>\n",
       "      <td>1</td>\n",
       "      <td>0</td>\n",
       "      <td>10</td>\n",
       "      <td>-159.174912</td>\n",
       "      <td>-5.727476e+00</td>\n",
       "      <td>1.351013</td>\n",
       "      <td>3.376830e-01</td>\n",
       "      <td>15</td>\n",
       "    </tr>\n",
       "    <tr>\n",
       "      <th>14</th>\n",
       "      <td>1</td>\n",
       "      <td>0.1</td>\n",
       "      <td>10</td>\n",
       "      <td>-159.352207</td>\n",
       "      <td>-5.825150e+00</td>\n",
       "      <td>1.698851</td>\n",
       "      <td>2.197671e-01</td>\n",
       "      <td>16</td>\n",
       "    </tr>\n",
       "    <tr>\n",
       "      <th>17</th>\n",
       "      <td>1</td>\n",
       "      <td>1</td>\n",
       "      <td>20</td>\n",
       "      <td>-159.477654</td>\n",
       "      <td>-1.590004e-01</td>\n",
       "      <td>1.840610</td>\n",
       "      <td>3.229212e-03</td>\n",
       "      <td>17</td>\n",
       "    </tr>\n",
       "    <tr>\n",
       "      <th>16</th>\n",
       "      <td>1</td>\n",
       "      <td>1</td>\n",
       "      <td>10</td>\n",
       "      <td>-159.704343</td>\n",
       "      <td>-5.787310e+00</td>\n",
       "      <td>0.320168</td>\n",
       "      <td>2.302059e-01</td>\n",
       "      <td>18</td>\n",
       "    </tr>\n",
       "  </tbody>\n",
       "</table>\n",
       "</div>"
      ],
      "text/plain": [
       "   xgb__eta xgb__gamma xgb__max_depth  mean_test_neg_mean_squared_error  \\\n",
       "6       0.1          0             10                        -97.472681   \n",
       "8       0.1        0.1             10                        -97.571059   \n",
       "10      0.1          1             10                        -97.624602   \n",
       "9       0.1        0.1             20                       -101.816029   \n",
       "7       0.1          0             20                       -101.939872   \n",
       "11      0.1          1             20                       -102.322042   \n",
       "0       0.3          0             10                       -105.703395   \n",
       "4       0.3          1             10                       -105.822980   \n",
       "2       0.3        0.1             10                       -105.907167   \n",
       "3       0.3        0.1             20                       -112.373963   \n",
       "1       0.3          0             20                       -112.440244   \n",
       "5       0.3          1             20                       -112.586821   \n",
       "13        1          0             20                       -158.545723   \n",
       "15        1        0.1             20                       -159.084993   \n",
       "12        1          0             10                       -159.174912   \n",
       "14        1        0.1             10                       -159.352207   \n",
       "17        1          1             20                       -159.477654   \n",
       "16        1          1             10                       -159.704343   \n",
       "\n",
       "    mean_train_neg_mean_squared_error  std_test_neg_mean_squared_error  \\\n",
       "6                       -6.324241e+01                         0.894526   \n",
       "8                       -6.244620e+01                         0.983733   \n",
       "10                      -6.314651e+01                         0.885826   \n",
       "9                       -1.441798e+01                         0.945458   \n",
       "7                       -1.438424e+01                         1.120746   \n",
       "11                      -1.393394e+01                         0.602373   \n",
       "0                       -3.334883e+01                         0.824592   \n",
       "4                       -3.321209e+01                         0.475823   \n",
       "2                       -3.358913e+01                         0.568425   \n",
       "3                       -3.474772e-01                         0.898167   \n",
       "1                       -3.264144e-01                         0.849274   \n",
       "5                       -5.509984e-01                         0.874630   \n",
       "13                      -2.955741e-07                         1.548693   \n",
       "15                      -1.794794e-02                         1.179116   \n",
       "12                      -5.727476e+00                         1.351013   \n",
       "14                      -5.825150e+00                         1.698851   \n",
       "17                      -1.590004e-01                         1.840610   \n",
       "16                      -5.787310e+00                         0.320168   \n",
       "\n",
       "    std_train_neg_mean_squared_error  rank_test  \n",
       "6                       9.616894e-01          1  \n",
       "8                       8.379006e-01          2  \n",
       "10                      3.245240e-01          3  \n",
       "9                       1.335207e-02          4  \n",
       "7                       7.946069e-01          5  \n",
       "11                      6.813998e-01          6  \n",
       "0                       4.964421e-01          7  \n",
       "4                       3.129403e-01          8  \n",
       "2                       5.477816e-01          9  \n",
       "3                       1.338751e-02         10  \n",
       "1                       2.935324e-02         11  \n",
       "5                       1.152156e-01         12  \n",
       "13                      2.033641e-08         13  \n",
       "15                      2.619370e-03         14  \n",
       "12                      3.376830e-01         15  \n",
       "14                      2.197671e-01         16  \n",
       "17                      3.229212e-03         17  \n",
       "16                      2.302059e-01         18  "
      ]
     },
     "execution_count": 43,
     "metadata": {},
     "output_type": "execute_result"
    }
   ],
   "source": [
    "results_xgb = pd.DataFrame({'xgb__eta': grid_pipeline_xgb.cv_results_[\"param_xgb__eta\"],\n",
    "                            'xgb__gamma': grid_pipeline_xgb.cv_results_[\"param_xgb__gamma\"],\n",
    "                            'xgb__max_depth': grid_pipeline_xgb.cv_results_[\"param_xgb__max_depth\"],\n",
    "                     'mean_test_neg_mean_squared_error': grid_pipeline_xgb.cv_results_[\"mean_test_score\"],\n",
    "                     'mean_train_neg_mean_squared_error': grid_pipeline_xgb.cv_results_[\"mean_train_score\"],\n",
    "                     'std_test_neg_mean_squared_error': grid_pipeline_xgb.cv_results_[\"std_test_score\"],\n",
    "                     'std_train_neg_mean_squared_error': grid_pipeline_xgb.cv_results_[\"std_train_score\"],\n",
    "                     'rank_test': grid_pipeline_xgb.cv_results_[\"rank_test_score\"]})\n",
    "results_xgb.sort_values(by = 'rank_test')"
   ]
  },
  {
   "cell_type": "code",
   "execution_count": 33,
   "id": "scGqzEukh-gn",
   "metadata": {
    "id": "scGqzEukh-gn"
   },
   "outputs": [],
   "source": [
    "y_pred = pd.DataFrame(grid_pipeline_xgb.predict(X_test))"
   ]
  },
  {
   "cell_type": "code",
   "execution_count": 34,
   "id": "P_hksIdAiFHt",
   "metadata": {
    "id": "P_hksIdAiFHt"
   },
   "outputs": [],
   "source": [
    "pd.DataFrame(y_pred).to_csv(\"xgboost_wrapper&filter.txt\", sep='\\t', index=False, header=False)"
   ]
  },
  {
   "cell_type": "markdown",
   "id": "d3125664",
   "metadata": {
    "id": "d3125664"
   },
   "source": [
    "# Linear regression"
   ]
  },
  {
   "cell_type": "code",
   "execution_count": 35,
   "id": "f7af2328",
   "metadata": {
    "id": "f7af2328"
   },
   "outputs": [],
   "source": [
    "pipeline = Pipeline([\n",
    "    ('scaler', StandardScaler()),\n",
    "    ('wrapper', SelectKBest(f_regression, k = 20)),\n",
    "    ('filter', RFE(DecisionTreeRegressor(), n_features_to_select = 5))\n",
    "])"
   ]
  },
  {
   "cell_type": "markdown",
   "id": "3212d1b4",
   "metadata": {
    "id": "3212d1b4"
   },
   "source": [
    "## Fitting the whole training set"
   ]
  },
  {
   "cell_type": "code",
   "execution_count": 36,
   "id": "6b327655",
   "metadata": {
    "id": "6b327655"
   },
   "outputs": [],
   "source": [
    "pipeline_lm = Pipeline([\n",
    "    ('pipeline', pipeline),\n",
    "    ('lm', LinearRegression())\n",
    "])"
   ]
  },
  {
   "cell_type": "code",
   "execution_count": 37,
   "id": "c8bb2ebe",
   "metadata": {
    "id": "c8bb2ebe"
   },
   "outputs": [],
   "source": [
    "params = {}"
   ]
  },
  {
   "cell_type": "code",
   "execution_count": 38,
   "id": "4a71433f",
   "metadata": {
    "id": "4a71433f"
   },
   "outputs": [],
   "source": [
    "grid_pipeline_lm = GridSearchCV(pipeline_lm,\n",
    "                      cv = skm.KFold(3, random_state = 313549, shuffle=True),\n",
    "                      param_grid = params,\n",
    "                      scoring = 'neg_mean_squared_error',\n",
    "                      return_train_score = True)"
   ]
  },
  {
   "cell_type": "code",
   "execution_count": 39,
   "id": "89e9265b",
   "metadata": {
    "colab": {
     "base_uri": "https://localhost:8080/",
     "height": 276
    },
    "id": "89e9265b",
    "outputId": "cfbbce35-2df1-4981-e9f2-5c6dbb8c4489"
   },
   "outputs": [
    {
     "data": {
      "text/plain": [
       "GridSearchCV(cv=KFold(n_splits=3, random_state=313549, shuffle=True),\n",
       "             estimator=Pipeline(steps=[('pipeline',\n",
       "                                        Pipeline(steps=[('scaler',\n",
       "                                                         StandardScaler()),\n",
       "                                                        ('wrapper',\n",
       "                                                         SelectKBest(k=20,\n",
       "                                                                     score_func=<function f_regression at 0x000002752E2E48B0>)),\n",
       "                                                        ('filter',\n",
       "                                                         RFE(estimator=DecisionTreeRegressor(),\n",
       "                                                             n_features_to_select=5))])),\n",
       "                                       ('lm', LinearRegression())]),\n",
       "             param_grid={}, return_train_score=True,\n",
       "             scoring='neg_mean_squared_error')"
      ]
     },
     "execution_count": 39,
     "metadata": {},
     "output_type": "execute_result"
    }
   ],
   "source": [
    "grid_pipeline_lm.fit(X_train, y_train.values.ravel())"
   ]
  },
  {
   "cell_type": "code",
   "execution_count": 40,
   "id": "4f84bec2",
   "metadata": {
    "colab": {
     "base_uri": "https://localhost:8080/",
     "height": 101
    },
    "id": "4f84bec2",
    "outputId": "49c52b89-e61e-408f-e198-bd2fc964fba3"
   },
   "outputs": [
    {
     "data": {
      "text/html": [
       "<div>\n",
       "<style scoped>\n",
       "    .dataframe tbody tr th:only-of-type {\n",
       "        vertical-align: middle;\n",
       "    }\n",
       "\n",
       "    .dataframe tbody tr th {\n",
       "        vertical-align: top;\n",
       "    }\n",
       "\n",
       "    .dataframe thead th {\n",
       "        text-align: right;\n",
       "    }\n",
       "</style>\n",
       "<table border=\"1\" class=\"dataframe\">\n",
       "  <thead>\n",
       "    <tr style=\"text-align: right;\">\n",
       "      <th></th>\n",
       "      <th>mean_test_neg_mean_squared_error</th>\n",
       "      <th>mean_train_neg_mean_squared_error</th>\n",
       "      <th>std_test_neg_mean_squared_error</th>\n",
       "      <th>std_train_neg_mean_squared_error</th>\n",
       "      <th>rank_test</th>\n",
       "    </tr>\n",
       "  </thead>\n",
       "  <tbody>\n",
       "    <tr>\n",
       "      <th>0</th>\n",
       "      <td>-102.898103</td>\n",
       "      <td>-102.889776</td>\n",
       "      <td>1.033197</td>\n",
       "      <td>0.516483</td>\n",
       "      <td>1</td>\n",
       "    </tr>\n",
       "  </tbody>\n",
       "</table>\n",
       "</div>"
      ],
      "text/plain": [
       "   mean_test_neg_mean_squared_error  mean_train_neg_mean_squared_error  \\\n",
       "0                       -102.898103                        -102.889776   \n",
       "\n",
       "   std_test_neg_mean_squared_error  std_train_neg_mean_squared_error  \\\n",
       "0                         1.033197                          0.516483   \n",
       "\n",
       "   rank_test  \n",
       "0          1  "
      ]
     },
     "execution_count": 40,
     "metadata": {},
     "output_type": "execute_result"
    }
   ],
   "source": [
    "results_lm = pd.DataFrame({\n",
    "                     'mean_test_neg_mean_squared_error': grid_pipeline_lm.cv_results_[\"mean_test_score\"],\n",
    "                     'mean_train_neg_mean_squared_error': grid_pipeline_lm.cv_results_[\"mean_train_score\"],\n",
    "                     'std_test_neg_mean_squared_error': grid_pipeline_lm.cv_results_[\"std_test_score\"],\n",
    "                     'std_train_neg_mean_squared_error': grid_pipeline_lm.cv_results_[\"std_train_score\"],\n",
    "                     'rank_test': grid_pipeline_lm.cv_results_[\"rank_test_score\"]})\n",
    "results_lm.sort_values(by = 'rank_test')"
   ]
  },
  {
   "cell_type": "code",
   "execution_count": 41,
   "id": "3541a0ee",
   "metadata": {
    "id": "3541a0ee"
   },
   "outputs": [],
   "source": [
    "y_pred = pd.DataFrame(grid_pipeline_lm.predict(X_test))"
   ]
  },
  {
   "cell_type": "code",
   "execution_count": 42,
   "id": "25dd3ac6",
   "metadata": {
    "id": "25dd3ac6"
   },
   "outputs": [],
   "source": [
    "pd.DataFrame(y_pred).to_csv(\"linear_regression_wrapper&filter.txt\", sep='\\t', index=False, header=False)"
   ]
  },
  {
   "cell_type": "markdown",
   "id": "5a254968",
   "metadata": {
    "id": "Et6QWQEXOrhc"
   },
   "source": [
    "# Voting"
   ]
  },
  {
   "cell_type": "code",
   "execution_count": 4,
   "id": "12ac998f",
   "metadata": {},
   "outputs": [],
   "source": [
    "pipeline = Pipeline([\n",
    "    ('scaler', StandardScaler()),\n",
    "    ('wrapper', SelectKBest(f_regression, k = 20)),\n",
    "    ('filter', RFE(DecisionTreeRegressor(), n_features_to_select = 5))\n",
    "])"
   ]
  },
  {
   "cell_type": "markdown",
   "id": "29eeb7ea",
   "metadata": {},
   "source": [
    "## Fitting the whole data set"
   ]
  },
  {
   "cell_type": "code",
   "execution_count": 7,
   "id": "69200d93",
   "metadata": {},
   "outputs": [],
   "source": [
    "reg1 = SVR(C = 10, gamma = 0.1, kernel = 'rbf')\n",
    "reg2 = MLPRegressor(hidden_layer_sizes = 16, solver = 'adam', max_iter = 10000, random_state = 313549)\n",
    "reg3 = xgboost.XGBRegressor(eta = 0.1, gamma = 0, max_depth = 10, objective='reg:squarederror', sampling_method = \"hist\", n_estimators = 400, random_state = 313549)\n",
    "\n",
    "pipeline_voting = Pipeline([\n",
    "    ('pipeline', pipeline),\n",
    "    ('eclf', VotingRegressor(estimators=[('svm', reg1),\n",
    "                             ('nn', reg2),\n",
    "                             ('xgb', reg3)]))\n",
    "])"
   ]
  },
  {
   "cell_type": "code",
   "execution_count": 8,
   "id": "e27bca83",
   "metadata": {},
   "outputs": [],
   "source": [
    "params = {}\n",
    "\n",
    "grid_pipeline_voting = GridSearchCV(pipeline_voting,\n",
    "                      cv = skm.KFold(3, random_state = 313549, shuffle=True),\n",
    "                      param_grid = params,\n",
    "                      scoring = 'neg_mean_squared_error',\n",
    "                      return_train_score = True)"
   ]
  },
  {
   "cell_type": "code",
   "execution_count": 9,
   "id": "a7fe5554",
   "metadata": {},
   "outputs": [
    {
     "data": {
      "text/plain": [
       "GridSearchCV(cv=KFold(n_splits=3, random_state=313549, shuffle=True),\n",
       "             estimator=Pipeline(steps=[('pipeline',\n",
       "                                        Pipeline(steps=[('scaler',\n",
       "                                                         StandardScaler()),\n",
       "                                                        ('wrapper',\n",
       "                                                         SelectKBest(k=20,\n",
       "                                                                     score_func=<function f_regression at 0x000002B54C0268B0>)),\n",
       "                                                        ('filter',\n",
       "                                                         RFE(estimator=DecisionTreeRegressor(),\n",
       "                                                             n_features_to_select=5))])),\n",
       "                                       ('eclf',\n",
       "                                        VotingRegressor(estimators=[('svm...\n",
       "                                                                                  min_child_weight=None,\n",
       "                                                                                  missing=nan,\n",
       "                                                                                  monotone_constraints=None,\n",
       "                                                                                  n_estimators=400,\n",
       "                                                                                  n_jobs=None,\n",
       "                                                                                  num_parallel_tree=None,\n",
       "                                                                                  random_state=313549,\n",
       "                                                                                  reg_alpha=None,\n",
       "                                                                                  reg_lambda=None,\n",
       "                                                                                  sampling_method='hist',\n",
       "                                                                                  scale_pos_weight=None,\n",
       "                                                                                  subsample=None,\n",
       "                                                                                  tree_method=None,\n",
       "                                                                                  validate_parameters=False,\n",
       "                                                                                  verbosity=None))]))]),\n",
       "             param_grid={}, return_train_score=True,\n",
       "             scoring='neg_mean_squared_error')"
      ]
     },
     "execution_count": 9,
     "metadata": {},
     "output_type": "execute_result"
    }
   ],
   "source": [
    "grid_pipeline_voting.fit(X_train, y_train.values.ravel())"
   ]
  },
  {
   "cell_type": "code",
   "execution_count": 10,
   "id": "14b32524",
   "metadata": {},
   "outputs": [
    {
     "data": {
      "text/html": [
       "<div>\n",
       "<style scoped>\n",
       "    .dataframe tbody tr th:only-of-type {\n",
       "        vertical-align: middle;\n",
       "    }\n",
       "\n",
       "    .dataframe tbody tr th {\n",
       "        vertical-align: top;\n",
       "    }\n",
       "\n",
       "    .dataframe thead th {\n",
       "        text-align: right;\n",
       "    }\n",
       "</style>\n",
       "<table border=\"1\" class=\"dataframe\">\n",
       "  <thead>\n",
       "    <tr style=\"text-align: right;\">\n",
       "      <th></th>\n",
       "      <th>mean_test_neg_mean_squared_error</th>\n",
       "      <th>mean_train_neg_mean_squared_error</th>\n",
       "      <th>std_test_neg_mean_squared_error</th>\n",
       "      <th>std_train_neg_mean_squared_error</th>\n",
       "      <th>rank_test</th>\n",
       "    </tr>\n",
       "  </thead>\n",
       "  <tbody>\n",
       "    <tr>\n",
       "      <th>0</th>\n",
       "      <td>-96.295714</td>\n",
       "      <td>-83.52281</td>\n",
       "      <td>1.057334</td>\n",
       "      <td>0.735309</td>\n",
       "      <td>1</td>\n",
       "    </tr>\n",
       "  </tbody>\n",
       "</table>\n",
       "</div>"
      ],
      "text/plain": [
       "   mean_test_neg_mean_squared_error  mean_train_neg_mean_squared_error  \\\n",
       "0                        -96.295714                          -83.52281   \n",
       "\n",
       "   std_test_neg_mean_squared_error  std_train_neg_mean_squared_error  \\\n",
       "0                         1.057334                          0.735309   \n",
       "\n",
       "   rank_test  \n",
       "0          1  "
      ]
     },
     "execution_count": 10,
     "metadata": {},
     "output_type": "execute_result"
    }
   ],
   "source": [
    "results_voting = pd.DataFrame({\n",
    "                     'mean_test_neg_mean_squared_error': grid_pipeline_voting.cv_results_[\"mean_test_score\"],\n",
    "                     'mean_train_neg_mean_squared_error': grid_pipeline_voting.cv_results_[\"mean_train_score\"],\n",
    "                     'std_test_neg_mean_squared_error': grid_pipeline_voting.cv_results_[\"std_test_score\"],\n",
    "                     'std_train_neg_mean_squared_error': grid_pipeline_voting.cv_results_[\"std_train_score\"],\n",
    "                     'rank_test': grid_pipeline_voting.cv_results_[\"rank_test_score\"]})\n",
    "results_voting.sort_values(by = 'rank_test')"
   ]
  },
  {
   "cell_type": "code",
   "execution_count": 11,
   "id": "9c31a758",
   "metadata": {},
   "outputs": [],
   "source": [
    "y_pred = pd.DataFrame(grid_pipeline_voting.predict(X_test))"
   ]
  },
  {
   "cell_type": "code",
   "execution_count": 12,
   "id": "c83e429e",
   "metadata": {},
   "outputs": [],
   "source": [
    "pd.DataFrame(y_pred).to_csv(\"voting_wrapper&filter.txt\", sep='\\t', index=False, header=False)"
   ]
  }
 ],
 "metadata": {
  "colab": {
   "provenance": []
  },
  "kernelspec": {
   "display_name": "Python 3 (ipykernel)",
   "language": "python",
   "name": "python3"
  },
  "language_info": {
   "codemirror_mode": {
    "name": "ipython",
    "version": 3
   },
   "file_extension": ".py",
   "mimetype": "text/x-python",
   "name": "python",
   "nbconvert_exporter": "python",
   "pygments_lexer": "ipython3",
   "version": "3.9.13"
  }
 },
 "nbformat": 4,
 "nbformat_minor": 5
}
