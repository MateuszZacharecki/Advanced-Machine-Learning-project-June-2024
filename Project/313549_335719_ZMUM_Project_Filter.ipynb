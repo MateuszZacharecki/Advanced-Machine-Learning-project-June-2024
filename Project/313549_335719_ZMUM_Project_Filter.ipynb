{
 "cells": [
  {
   "cell_type": "markdown",
   "id": "bf8f8e67",
   "metadata": {
    "id": "e0783d1e"
   },
   "source": [
    "313549 ~ Mateusz Zacharecki \\\n",
    "335719 ~ Patrycja Kielan\n",
    "\n",
    "---"
   ]
  },
  {
   "cell_type": "markdown",
   "id": "21f92090",
   "metadata": {
    "id": "8d26868d"
   },
   "source": [
    "# Solution for filter variable selection\n",
    "___"
   ]
  },
  {
   "cell_type": "markdown",
   "id": "c0f90f84",
   "metadata": {
    "id": "b7fb3ad2"
   },
   "source": [
    "# Importing libraries and data"
   ]
  },
  {
   "cell_type": "code",
   "execution_count": 1,
   "id": "17d4d6e5",
   "metadata": {
    "id": "c3a2f1ba"
   },
   "outputs": [],
   "source": [
    "import pandas as pd\n",
    "import numpy as np\n",
    "import sklearn\n",
    "from sklearn.pipeline import Pipeline\n",
    "from sklearn.model_selection import train_test_split\n",
    "from sklearn.preprocessing import StandardScaler\n",
    "from sklearn.model_selection import GridSearchCV\n",
    "from sklearn.decomposition import PCA\n",
    "from sklearn.metrics import mean_squared_error as mse\n",
    "from sklearn.ensemble import GradientBoostingRegressor\n",
    "from sklearn.svm import SVR\n",
    "import matplotlib.pyplot as plt\n",
    "import sklearn.model_selection as skm\n",
    "from sklearn.neural_network import MLPRegressor\n",
    "from sklearn.linear_model import LinearRegression\n",
    "from sklearn.tree import DecisionTreeRegressor\n",
    "from sklearn.feature_selection import RFE\n",
    "from sklearn.feature_selection import f_regression\n",
    "import xgboost\n",
    "from sklearn.ensemble import VotingRegressor"
   ]
  },
  {
   "cell_type": "code",
   "execution_count": 2,
   "id": "fbbb33c5",
   "metadata": {
    "id": "397b93e3"
   },
   "outputs": [],
   "source": [
    "X_train = pd.read_csv(\"Xtrain.csv\", index_col=0)\n",
    "X_test = pd.read_csv(\"Xtest.csv\", index_col=0)\n",
    "y_train = pd.read_csv(\"ytrain.csv\", index_col=0)"
   ]
  },
  {
   "cell_type": "markdown",
   "id": "9b62f217",
   "metadata": {
    "id": "37b9a02f"
   },
   "source": [
    "# SVM"
   ]
  },
  {
   "cell_type": "code",
   "execution_count": 3,
   "id": "2eb29097",
   "metadata": {
    "id": "161e92f9"
   },
   "outputs": [],
   "source": [
    "pipeline = Pipeline([\n",
    "    ('scaler', StandardScaler()),\n",
    "    ('selector', RFE(DecisionTreeRegressor(), n_features_to_select = 10))\n",
    "])"
   ]
  },
  {
   "cell_type": "markdown",
   "id": "521545d8",
   "metadata": {
    "id": "dd2f6947"
   },
   "source": [
    "## Fitting the whole training set"
   ]
  },
  {
   "cell_type": "code",
   "execution_count": 4,
   "id": "ee80c345",
   "metadata": {
    "id": "b927e787"
   },
   "outputs": [],
   "source": [
    "pipeline_SVM = Pipeline([\n",
    "    ('pipeline', pipeline),\n",
    "    ('svm', SVR(C = 10, gamma = 0.1, kernel = 'rbf'))\n",
    "])"
   ]
  },
  {
   "cell_type": "code",
   "execution_count": 5,
   "id": "9eeb52d3",
   "metadata": {
    "id": "f6885914"
   },
   "outputs": [],
   "source": [
    "params = {}\n",
    "\n",
    "grid_pipeline_SVM = GridSearchCV(pipeline_SVM,\n",
    "                             cv = skm.KFold(3, random_state = 313549, shuffle=True),\n",
    "                             param_grid = params,\n",
    "                             scoring = 'neg_mean_squared_error',\n",
    "                             return_train_score = True)"
   ]
  },
  {
   "cell_type": "code",
   "execution_count": 6,
   "id": "897881a5",
   "metadata": {
    "id": "15113f93",
    "outputId": "9cb6ce28-a099-4a84-e2db-535617bbbd52"
   },
   "outputs": [
    {
     "data": {
      "text/html": [
       "<style>#sk-container-id-1 {color: black;background-color: white;}#sk-container-id-1 pre{padding: 0;}#sk-container-id-1 div.sk-toggleable {background-color: white;}#sk-container-id-1 label.sk-toggleable__label {cursor: pointer;display: block;width: 100%;margin-bottom: 0;padding: 0.3em;box-sizing: border-box;text-align: center;}#sk-container-id-1 label.sk-toggleable__label-arrow:before {content: \"▸\";float: left;margin-right: 0.25em;color: #696969;}#sk-container-id-1 label.sk-toggleable__label-arrow:hover:before {color: black;}#sk-container-id-1 div.sk-estimator:hover label.sk-toggleable__label-arrow:before {color: black;}#sk-container-id-1 div.sk-toggleable__content {max-height: 0;max-width: 0;overflow: hidden;text-align: left;background-color: #f0f8ff;}#sk-container-id-1 div.sk-toggleable__content pre {margin: 0.2em;color: black;border-radius: 0.25em;background-color: #f0f8ff;}#sk-container-id-1 input.sk-toggleable__control:checked~div.sk-toggleable__content {max-height: 200px;max-width: 100%;overflow: auto;}#sk-container-id-1 input.sk-toggleable__control:checked~label.sk-toggleable__label-arrow:before {content: \"▾\";}#sk-container-id-1 div.sk-estimator input.sk-toggleable__control:checked~label.sk-toggleable__label {background-color: #d4ebff;}#sk-container-id-1 div.sk-label input.sk-toggleable__control:checked~label.sk-toggleable__label {background-color: #d4ebff;}#sk-container-id-1 input.sk-hidden--visually {border: 0;clip: rect(1px 1px 1px 1px);clip: rect(1px, 1px, 1px, 1px);height: 1px;margin: -1px;overflow: hidden;padding: 0;position: absolute;width: 1px;}#sk-container-id-1 div.sk-estimator {font-family: monospace;background-color: #f0f8ff;border: 1px dotted black;border-radius: 0.25em;box-sizing: border-box;margin-bottom: 0.5em;}#sk-container-id-1 div.sk-estimator:hover {background-color: #d4ebff;}#sk-container-id-1 div.sk-parallel-item::after {content: \"\";width: 100%;border-bottom: 1px solid gray;flex-grow: 1;}#sk-container-id-1 div.sk-label:hover label.sk-toggleable__label {background-color: #d4ebff;}#sk-container-id-1 div.sk-serial::before {content: \"\";position: absolute;border-left: 1px solid gray;box-sizing: border-box;top: 0;bottom: 0;left: 50%;z-index: 0;}#sk-container-id-1 div.sk-serial {display: flex;flex-direction: column;align-items: center;background-color: white;padding-right: 0.2em;padding-left: 0.2em;position: relative;}#sk-container-id-1 div.sk-item {position: relative;z-index: 1;}#sk-container-id-1 div.sk-parallel {display: flex;align-items: stretch;justify-content: center;background-color: white;position: relative;}#sk-container-id-1 div.sk-item::before, #sk-container-id-1 div.sk-parallel-item::before {content: \"\";position: absolute;border-left: 1px solid gray;box-sizing: border-box;top: 0;bottom: 0;left: 50%;z-index: -1;}#sk-container-id-1 div.sk-parallel-item {display: flex;flex-direction: column;z-index: 1;position: relative;background-color: white;}#sk-container-id-1 div.sk-parallel-item:first-child::after {align-self: flex-end;width: 50%;}#sk-container-id-1 div.sk-parallel-item:last-child::after {align-self: flex-start;width: 50%;}#sk-container-id-1 div.sk-parallel-item:only-child::after {width: 0;}#sk-container-id-1 div.sk-dashed-wrapped {border: 1px dashed gray;margin: 0 0.4em 0.5em 0.4em;box-sizing: border-box;padding-bottom: 0.4em;background-color: white;}#sk-container-id-1 div.sk-label label {font-family: monospace;font-weight: bold;display: inline-block;line-height: 1.2em;}#sk-container-id-1 div.sk-label-container {text-align: center;}#sk-container-id-1 div.sk-container {/* jupyter's `normalize.less` sets `[hidden] { display: none; }` but bootstrap.min.css set `[hidden] { display: none !important; }` so we also need the `!important` here to be able to override the default hidden behavior on the sphinx rendered scikit-learn.org. See: https://github.com/scikit-learn/scikit-learn/issues/21755 */display: inline-block !important;position: relative;}#sk-container-id-1 div.sk-text-repr-fallback {display: none;}</style><div id=\"sk-container-id-1\" class=\"sk-top-container\"><div class=\"sk-text-repr-fallback\"><pre>GridSearchCV(cv=KFold(n_splits=3, random_state=313549, shuffle=True),\n",
       "             estimator=Pipeline(steps=[(&#x27;pipeline&#x27;,\n",
       "                                        Pipeline(steps=[(&#x27;scaler&#x27;,\n",
       "                                                         StandardScaler()),\n",
       "                                                        (&#x27;selector&#x27;,\n",
       "                                                         RFE(estimator=DecisionTreeRegressor(),\n",
       "                                                             n_features_to_select=10))])),\n",
       "                                       (&#x27;svm&#x27;, SVR(C=10, gamma=0.1))]),\n",
       "             param_grid={}, return_train_score=True,\n",
       "             scoring=&#x27;neg_mean_squared_error&#x27;)</pre><b>In a Jupyter environment, please rerun this cell to show the HTML representation or trust the notebook. <br />On GitHub, the HTML representation is unable to render, please try loading this page with nbviewer.org.</b></div><div class=\"sk-container\" hidden><div class=\"sk-item sk-dashed-wrapped\"><div class=\"sk-label-container\"><div class=\"sk-label sk-toggleable\"><input class=\"sk-toggleable__control sk-hidden--visually\" id=\"sk-estimator-id-1\" type=\"checkbox\" ><label for=\"sk-estimator-id-1\" class=\"sk-toggleable__label sk-toggleable__label-arrow\">GridSearchCV</label><div class=\"sk-toggleable__content\"><pre>GridSearchCV(cv=KFold(n_splits=3, random_state=313549, shuffle=True),\n",
       "             estimator=Pipeline(steps=[(&#x27;pipeline&#x27;,\n",
       "                                        Pipeline(steps=[(&#x27;scaler&#x27;,\n",
       "                                                         StandardScaler()),\n",
       "                                                        (&#x27;selector&#x27;,\n",
       "                                                         RFE(estimator=DecisionTreeRegressor(),\n",
       "                                                             n_features_to_select=10))])),\n",
       "                                       (&#x27;svm&#x27;, SVR(C=10, gamma=0.1))]),\n",
       "             param_grid={}, return_train_score=True,\n",
       "             scoring=&#x27;neg_mean_squared_error&#x27;)</pre></div></div></div><div class=\"sk-parallel\"><div class=\"sk-parallel-item\"><div class=\"sk-item\"><div class=\"sk-label-container\"><div class=\"sk-label sk-toggleable\"><input class=\"sk-toggleable__control sk-hidden--visually\" id=\"sk-estimator-id-2\" type=\"checkbox\" ><label for=\"sk-estimator-id-2\" class=\"sk-toggleable__label sk-toggleable__label-arrow\">estimator: Pipeline</label><div class=\"sk-toggleable__content\"><pre>Pipeline(steps=[(&#x27;pipeline&#x27;,\n",
       "                 Pipeline(steps=[(&#x27;scaler&#x27;, StandardScaler()),\n",
       "                                 (&#x27;selector&#x27;,\n",
       "                                  RFE(estimator=DecisionTreeRegressor(),\n",
       "                                      n_features_to_select=10))])),\n",
       "                (&#x27;svm&#x27;, SVR(C=10, gamma=0.1))])</pre></div></div></div><div class=\"sk-serial\"><div class=\"sk-item\"><div class=\"sk-serial\"><div class=\"sk-item\"><div class=\"sk-label-container\"><div class=\"sk-label sk-toggleable\"><input class=\"sk-toggleable__control sk-hidden--visually\" id=\"sk-estimator-id-3\" type=\"checkbox\" ><label for=\"sk-estimator-id-3\" class=\"sk-toggleable__label sk-toggleable__label-arrow\">pipeline: Pipeline</label><div class=\"sk-toggleable__content\"><pre>Pipeline(steps=[(&#x27;scaler&#x27;, StandardScaler()),\n",
       "                (&#x27;selector&#x27;,\n",
       "                 RFE(estimator=DecisionTreeRegressor(),\n",
       "                     n_features_to_select=10))])</pre></div></div></div><div class=\"sk-serial\"><div class=\"sk-item\"><div class=\"sk-estimator sk-toggleable\"><input class=\"sk-toggleable__control sk-hidden--visually\" id=\"sk-estimator-id-4\" type=\"checkbox\" ><label for=\"sk-estimator-id-4\" class=\"sk-toggleable__label sk-toggleable__label-arrow\">StandardScaler</label><div class=\"sk-toggleable__content\"><pre>StandardScaler()</pre></div></div></div><div class=\"sk-item sk-dashed-wrapped\"><div class=\"sk-label-container\"><div class=\"sk-label sk-toggleable\"><input class=\"sk-toggleable__control sk-hidden--visually\" id=\"sk-estimator-id-5\" type=\"checkbox\" ><label for=\"sk-estimator-id-5\" class=\"sk-toggleable__label sk-toggleable__label-arrow\">selector: RFE</label><div class=\"sk-toggleable__content\"><pre>RFE(estimator=DecisionTreeRegressor(), n_features_to_select=10)</pre></div></div></div><div class=\"sk-parallel\"><div class=\"sk-parallel-item\"><div class=\"sk-item\"><div class=\"sk-label-container\"><div class=\"sk-label sk-toggleable\"><input class=\"sk-toggleable__control sk-hidden--visually\" id=\"sk-estimator-id-6\" type=\"checkbox\" ><label for=\"sk-estimator-id-6\" class=\"sk-toggleable__label sk-toggleable__label-arrow\">estimator: DecisionTreeRegressor</label><div class=\"sk-toggleable__content\"><pre>DecisionTreeRegressor()</pre></div></div></div><div class=\"sk-serial\"><div class=\"sk-item\"><div class=\"sk-estimator sk-toggleable\"><input class=\"sk-toggleable__control sk-hidden--visually\" id=\"sk-estimator-id-7\" type=\"checkbox\" ><label for=\"sk-estimator-id-7\" class=\"sk-toggleable__label sk-toggleable__label-arrow\">DecisionTreeRegressor</label><div class=\"sk-toggleable__content\"><pre>DecisionTreeRegressor()</pre></div></div></div></div></div></div></div></div></div></div><div class=\"sk-item\"><div class=\"sk-estimator sk-toggleable\"><input class=\"sk-toggleable__control sk-hidden--visually\" id=\"sk-estimator-id-8\" type=\"checkbox\" ><label for=\"sk-estimator-id-8\" class=\"sk-toggleable__label sk-toggleable__label-arrow\">SVR</label><div class=\"sk-toggleable__content\"><pre>SVR(C=10, gamma=0.1)</pre></div></div></div></div></div></div></div></div></div></div></div></div>"
      ],
      "text/plain": [
       "GridSearchCV(cv=KFold(n_splits=3, random_state=313549, shuffle=True),\n",
       "             estimator=Pipeline(steps=[('pipeline',\n",
       "                                        Pipeline(steps=[('scaler',\n",
       "                                                         StandardScaler()),\n",
       "                                                        ('selector',\n",
       "                                                         RFE(estimator=DecisionTreeRegressor(),\n",
       "                                                             n_features_to_select=10))])),\n",
       "                                       ('svm', SVR(C=10, gamma=0.1))]),\n",
       "             param_grid={}, return_train_score=True,\n",
       "             scoring='neg_mean_squared_error')"
      ]
     },
     "execution_count": 6,
     "metadata": {},
     "output_type": "execute_result"
    }
   ],
   "source": [
    "grid_pipeline_SVM.fit(X_train, y_train.values.ravel())"
   ]
  },
  {
   "cell_type": "code",
   "execution_count": 7,
   "id": "8ba38aff",
   "metadata": {
    "id": "94aa9787",
    "outputId": "2889ea29-5195-4415-a9f2-eeb603bc324f"
   },
   "outputs": [
    {
     "data": {
      "text/html": [
       "<div>\n",
       "<style scoped>\n",
       "    .dataframe tbody tr th:only-of-type {\n",
       "        vertical-align: middle;\n",
       "    }\n",
       "\n",
       "    .dataframe tbody tr th {\n",
       "        vertical-align: top;\n",
       "    }\n",
       "\n",
       "    .dataframe thead th {\n",
       "        text-align: right;\n",
       "    }\n",
       "</style>\n",
       "<table border=\"1\" class=\"dataframe\">\n",
       "  <thead>\n",
       "    <tr style=\"text-align: right;\">\n",
       "      <th></th>\n",
       "      <th>mean_test_neg_mean_squared_error</th>\n",
       "      <th>mean_train_neg_mean_squared_error</th>\n",
       "      <th>std_test_neg_mean_squared_error</th>\n",
       "      <th>std_train_neg_mean_squared_error</th>\n",
       "      <th>rank_test</th>\n",
       "    </tr>\n",
       "  </thead>\n",
       "  <tbody>\n",
       "    <tr>\n",
       "      <th>0</th>\n",
       "      <td>-91.965795</td>\n",
       "      <td>-88.401561</td>\n",
       "      <td>1.360694</td>\n",
       "      <td>0.536007</td>\n",
       "      <td>1</td>\n",
       "    </tr>\n",
       "  </tbody>\n",
       "</table>\n",
       "</div>"
      ],
      "text/plain": [
       "   mean_test_neg_mean_squared_error  mean_train_neg_mean_squared_error  \\\n",
       "0                        -91.965795                         -88.401561   \n",
       "\n",
       "   std_test_neg_mean_squared_error  std_train_neg_mean_squared_error  \\\n",
       "0                         1.360694                          0.536007   \n",
       "\n",
       "   rank_test  \n",
       "0          1  "
      ]
     },
     "execution_count": 7,
     "metadata": {},
     "output_type": "execute_result"
    }
   ],
   "source": [
    "results_SVM = pd.DataFrame({\n",
    "                     'mean_test_neg_mean_squared_error': grid_pipeline_SVM.cv_results_[\"mean_test_score\"],\n",
    "                     'mean_train_neg_mean_squared_error': grid_pipeline_SVM.cv_results_[\"mean_train_score\"],\n",
    "                     'std_test_neg_mean_squared_error': grid_pipeline_SVM.cv_results_[\"std_test_score\"],\n",
    "                     'std_train_neg_mean_squared_error': grid_pipeline_SVM.cv_results_[\"std_train_score\"],\n",
    "                     'rank_test': grid_pipeline_SVM.cv_results_[\"rank_test_score\"]})\n",
    "results_SVM.sort_values(by = 'rank_test')"
   ]
  },
  {
   "cell_type": "code",
   "execution_count": 8,
   "id": "e4f75cc7",
   "metadata": {
    "id": "bc3fef32"
   },
   "outputs": [],
   "source": [
    "y_pred = pd.DataFrame(grid_pipeline_SVM.predict(X_test))"
   ]
  },
  {
   "cell_type": "code",
   "execution_count": 9,
   "id": "c6ce0d38",
   "metadata": {
    "id": "78bfd749"
   },
   "outputs": [],
   "source": [
    "pd.DataFrame(y_pred).to_csv(\"SVM_filter.txt\", sep='\\t', index=False, header=False)"
   ]
  },
  {
   "cell_type": "markdown",
   "id": "87d662ba",
   "metadata": {
    "id": "e568e830"
   },
   "source": [
    "# Neural network"
   ]
  },
  {
   "cell_type": "code",
   "execution_count": 10,
   "id": "2a2cc7f6",
   "metadata": {
    "id": "6c1ae961"
   },
   "outputs": [],
   "source": [
    "pipeline = Pipeline([\n",
    "    ('scaler', StandardScaler()),\n",
    "    ('selector', RFE(DecisionTreeRegressor(), n_features_to_select = 10))\n",
    "])"
   ]
  },
  {
   "cell_type": "markdown",
   "id": "932e8080",
   "metadata": {
    "id": "7c73b323"
   },
   "source": [
    "## Fitting the whole training set"
   ]
  },
  {
   "cell_type": "code",
   "execution_count": 11,
   "id": "f719fec1",
   "metadata": {
    "id": "a32ba35f"
   },
   "outputs": [],
   "source": [
    "pipeline_NN = Pipeline([\n",
    "    ('pipeline', pipeline),\n",
    "    ('nn', MLPRegressor(max_iter = 10000, random_state = 313549))\n",
    "])"
   ]
  },
  {
   "cell_type": "code",
   "execution_count": 12,
   "id": "f8307b9a",
   "metadata": {
    "id": "487cf271"
   },
   "outputs": [],
   "source": [
    "params = {\n",
    "    \"nn__hidden_layer_sizes\": [(4), (16), (4, 4)],\n",
    "    \"nn__solver\": ['sgd', 'adam']\n",
    "}"
   ]
  },
  {
   "cell_type": "code",
   "execution_count": 13,
   "id": "4da1bc82",
   "metadata": {
    "id": "1b662467"
   },
   "outputs": [],
   "source": [
    "grid_pipeline_NN = GridSearchCV(pipeline_NN,\n",
    "                      cv = skm.KFold(3, random_state = 313549, shuffle=True),\n",
    "                      param_grid = params,\n",
    "                      scoring = 'neg_mean_squared_error',\n",
    "                      return_train_score = True)"
   ]
  },
  {
   "cell_type": "code",
   "execution_count": 14,
   "id": "e8a055ad",
   "metadata": {
    "colab": {
     "base_uri": "https://localhost:8080/",
     "height": 723
    },
    "id": "2eaed00f",
    "outputId": "df2b8e41-02ea-4b61-a9c0-1083de22b838"
   },
   "outputs": [
    {
     "name": "stderr",
     "output_type": "stream",
     "text": [
      "/Library/Frameworks/Python.framework/Versions/3.9/lib/python3.9/site-packages/sklearn/neural_network/_base.py:174: RuntimeWarning: overflow encountered in square\n",
      "  return ((y_true - y_pred) ** 2).mean() / 2\n",
      "/Library/Frameworks/Python.framework/Versions/3.9/lib/python3.9/site-packages/sklearn/utils/extmath.py:189: RuntimeWarning: overflow encountered in matmul\n",
      "  ret = a @ b\n",
      "/Library/Frameworks/Python.framework/Versions/3.9/lib/python3.9/site-packages/sklearn/utils/extmath.py:189: RuntimeWarning: invalid value encountered in matmul\n",
      "  ret = a @ b\n",
      "/Library/Frameworks/Python.framework/Versions/3.9/lib/python3.9/site-packages/sklearn/neural_network/_multilayer_perceptron.py:686: ConvergenceWarning: Stochastic Optimizer: Maximum iterations (10000) reached and the optimization hasn't converged yet.\n",
      "  warnings.warn(\n",
      "/Library/Frameworks/Python.framework/Versions/3.9/lib/python3.9/site-packages/sklearn/neural_network/_base.py:174: RuntimeWarning: overflow encountered in square\n",
      "  return ((y_true - y_pred) ** 2).mean() / 2\n",
      "/Library/Frameworks/Python.framework/Versions/3.9/lib/python3.9/site-packages/sklearn/utils/extmath.py:189: RuntimeWarning: overflow encountered in matmul\n",
      "  ret = a @ b\n",
      "/Library/Frameworks/Python.framework/Versions/3.9/lib/python3.9/site-packages/sklearn/utils/extmath.py:189: RuntimeWarning: invalid value encountered in matmul\n",
      "  ret = a @ b\n",
      "/Library/Frameworks/Python.framework/Versions/3.9/lib/python3.9/site-packages/sklearn/neural_network/_multilayer_perceptron.py:686: ConvergenceWarning: Stochastic Optimizer: Maximum iterations (10000) reached and the optimization hasn't converged yet.\n",
      "  warnings.warn(\n",
      "/Library/Frameworks/Python.framework/Versions/3.9/lib/python3.9/site-packages/sklearn/neural_network/_base.py:174: RuntimeWarning: overflow encountered in square\n",
      "  return ((y_true - y_pred) ** 2).mean() / 2\n",
      "/Library/Frameworks/Python.framework/Versions/3.9/lib/python3.9/site-packages/sklearn/utils/extmath.py:189: RuntimeWarning: overflow encountered in matmul\n",
      "  ret = a @ b\n",
      "/Library/Frameworks/Python.framework/Versions/3.9/lib/python3.9/site-packages/sklearn/utils/extmath.py:189: RuntimeWarning: invalid value encountered in matmul\n",
      "  ret = a @ b\n",
      "/Library/Frameworks/Python.framework/Versions/3.9/lib/python3.9/site-packages/sklearn/neural_network/_multilayer_perceptron.py:686: ConvergenceWarning: Stochastic Optimizer: Maximum iterations (10000) reached and the optimization hasn't converged yet.\n",
      "  warnings.warn(\n",
      "/Library/Frameworks/Python.framework/Versions/3.9/lib/python3.9/site-packages/sklearn/neural_network/_base.py:174: RuntimeWarning: overflow encountered in square\n",
      "  return ((y_true - y_pred) ** 2).mean() / 2\n",
      "/Library/Frameworks/Python.framework/Versions/3.9/lib/python3.9/site-packages/sklearn/utils/extmath.py:189: RuntimeWarning: overflow encountered in matmul\n",
      "  ret = a @ b\n",
      "/Library/Frameworks/Python.framework/Versions/3.9/lib/python3.9/site-packages/sklearn/utils/extmath.py:189: RuntimeWarning: invalid value encountered in matmul\n",
      "  ret = a @ b\n",
      "/Library/Frameworks/Python.framework/Versions/3.9/lib/python3.9/site-packages/sklearn/neural_network/_multilayer_perceptron.py:686: ConvergenceWarning: Stochastic Optimizer: Maximum iterations (10000) reached and the optimization hasn't converged yet.\n",
      "  warnings.warn(\n",
      "/Library/Frameworks/Python.framework/Versions/3.9/lib/python3.9/site-packages/sklearn/neural_network/_base.py:174: RuntimeWarning: overflow encountered in square\n",
      "  return ((y_true - y_pred) ** 2).mean() / 2\n",
      "/Library/Frameworks/Python.framework/Versions/3.9/lib/python3.9/site-packages/sklearn/utils/extmath.py:189: RuntimeWarning: overflow encountered in matmul\n",
      "  ret = a @ b\n",
      "/Library/Frameworks/Python.framework/Versions/3.9/lib/python3.9/site-packages/sklearn/utils/extmath.py:189: RuntimeWarning: invalid value encountered in matmul\n",
      "  ret = a @ b\n",
      "/Library/Frameworks/Python.framework/Versions/3.9/lib/python3.9/site-packages/sklearn/neural_network/_multilayer_perceptron.py:686: ConvergenceWarning: Stochastic Optimizer: Maximum iterations (10000) reached and the optimization hasn't converged yet.\n",
      "  warnings.warn(\n",
      "/Library/Frameworks/Python.framework/Versions/3.9/lib/python3.9/site-packages/sklearn/neural_network/_base.py:174: RuntimeWarning: overflow encountered in square\n",
      "  return ((y_true - y_pred) ** 2).mean() / 2\n",
      "/Library/Frameworks/Python.framework/Versions/3.9/lib/python3.9/site-packages/sklearn/utils/extmath.py:189: RuntimeWarning: overflow encountered in matmul\n",
      "  ret = a @ b\n",
      "/Library/Frameworks/Python.framework/Versions/3.9/lib/python3.9/site-packages/sklearn/utils/extmath.py:189: RuntimeWarning: invalid value encountered in matmul\n",
      "  ret = a @ b\n",
      "/Library/Frameworks/Python.framework/Versions/3.9/lib/python3.9/site-packages/sklearn/neural_network/_multilayer_perceptron.py:686: ConvergenceWarning: Stochastic Optimizer: Maximum iterations (10000) reached and the optimization hasn't converged yet.\n",
      "  warnings.warn(\n",
      "/Library/Frameworks/Python.framework/Versions/3.9/lib/python3.9/site-packages/sklearn/neural_network/_multilayer_perceptron.py:686: ConvergenceWarning: Stochastic Optimizer: Maximum iterations (10000) reached and the optimization hasn't converged yet.\n",
      "  warnings.warn(\n",
      "/Library/Frameworks/Python.framework/Versions/3.9/lib/python3.9/site-packages/sklearn/neural_network/_multilayer_perceptron.py:686: ConvergenceWarning: Stochastic Optimizer: Maximum iterations (10000) reached and the optimization hasn't converged yet.\n",
      "  warnings.warn(\n",
      "/Library/Frameworks/Python.framework/Versions/3.9/lib/python3.9/site-packages/sklearn/neural_network/_multilayer_perceptron.py:686: ConvergenceWarning: Stochastic Optimizer: Maximum iterations (10000) reached and the optimization hasn't converged yet.\n",
      "  warnings.warn(\n",
      "/Library/Frameworks/Python.framework/Versions/3.9/lib/python3.9/site-packages/sklearn/model_selection/_validation.py:378: FitFailedWarning: \n",
      "6 fits failed out of a total of 18.\n",
      "The score on these train-test partitions for these parameters will be set to nan.\n",
      "If these failures are not expected, you can try to debug them by setting error_score='raise'.\n",
      "\n",
      "Below are more details about the failures:\n",
      "--------------------------------------------------------------------------------\n",
      "6 fits failed with the following error:\n",
      "Traceback (most recent call last):\n",
      "  File \"/Library/Frameworks/Python.framework/Versions/3.9/lib/python3.9/site-packages/sklearn/model_selection/_validation.py\", line 686, in _fit_and_score\n",
      "    estimator.fit(X_train, y_train, **fit_params)\n",
      "  File \"/Library/Frameworks/Python.framework/Versions/3.9/lib/python3.9/site-packages/sklearn/pipeline.py\", line 405, in fit\n",
      "    self._final_estimator.fit(Xt, y, **fit_params_last_step)\n",
      "  File \"/Library/Frameworks/Python.framework/Versions/3.9/lib/python3.9/site-packages/sklearn/neural_network/_multilayer_perceptron.py\", line 749, in fit\n",
      "    return self._fit(X, y, incremental=False)\n",
      "  File \"/Library/Frameworks/Python.framework/Versions/3.9/lib/python3.9/site-packages/sklearn/neural_network/_multilayer_perceptron.py\", line 491, in _fit\n",
      "    raise ValueError(\n",
      "ValueError: Solver produced non-finite parameter weights. The input data may contain large values and need to be preprocessed.\n",
      "\n",
      "  warnings.warn(some_fits_failed_message, FitFailedWarning)\n",
      "/Library/Frameworks/Python.framework/Versions/3.9/lib/python3.9/site-packages/sklearn/model_selection/_search.py:952: UserWarning: One or more of the test scores are non-finite: [          nan  -98.81074491           nan  -97.07571487 -120.20551884\n",
      "  -97.58296704]\n",
      "  warnings.warn(\n",
      "/Library/Frameworks/Python.framework/Versions/3.9/lib/python3.9/site-packages/sklearn/model_selection/_search.py:952: UserWarning: One or more of the train scores are non-finite: [          nan  -98.00520774           nan  -95.80199739 -120.20394717\n",
      "  -96.91359347]\n",
      "  warnings.warn(\n"
     ]
    },
    {
     "data": {
      "text/html": [
       "<style>#sk-container-id-2 {color: black;background-color: white;}#sk-container-id-2 pre{padding: 0;}#sk-container-id-2 div.sk-toggleable {background-color: white;}#sk-container-id-2 label.sk-toggleable__label {cursor: pointer;display: block;width: 100%;margin-bottom: 0;padding: 0.3em;box-sizing: border-box;text-align: center;}#sk-container-id-2 label.sk-toggleable__label-arrow:before {content: \"▸\";float: left;margin-right: 0.25em;color: #696969;}#sk-container-id-2 label.sk-toggleable__label-arrow:hover:before {color: black;}#sk-container-id-2 div.sk-estimator:hover label.sk-toggleable__label-arrow:before {color: black;}#sk-container-id-2 div.sk-toggleable__content {max-height: 0;max-width: 0;overflow: hidden;text-align: left;background-color: #f0f8ff;}#sk-container-id-2 div.sk-toggleable__content pre {margin: 0.2em;color: black;border-radius: 0.25em;background-color: #f0f8ff;}#sk-container-id-2 input.sk-toggleable__control:checked~div.sk-toggleable__content {max-height: 200px;max-width: 100%;overflow: auto;}#sk-container-id-2 input.sk-toggleable__control:checked~label.sk-toggleable__label-arrow:before {content: \"▾\";}#sk-container-id-2 div.sk-estimator input.sk-toggleable__control:checked~label.sk-toggleable__label {background-color: #d4ebff;}#sk-container-id-2 div.sk-label input.sk-toggleable__control:checked~label.sk-toggleable__label {background-color: #d4ebff;}#sk-container-id-2 input.sk-hidden--visually {border: 0;clip: rect(1px 1px 1px 1px);clip: rect(1px, 1px, 1px, 1px);height: 1px;margin: -1px;overflow: hidden;padding: 0;position: absolute;width: 1px;}#sk-container-id-2 div.sk-estimator {font-family: monospace;background-color: #f0f8ff;border: 1px dotted black;border-radius: 0.25em;box-sizing: border-box;margin-bottom: 0.5em;}#sk-container-id-2 div.sk-estimator:hover {background-color: #d4ebff;}#sk-container-id-2 div.sk-parallel-item::after {content: \"\";width: 100%;border-bottom: 1px solid gray;flex-grow: 1;}#sk-container-id-2 div.sk-label:hover label.sk-toggleable__label {background-color: #d4ebff;}#sk-container-id-2 div.sk-serial::before {content: \"\";position: absolute;border-left: 1px solid gray;box-sizing: border-box;top: 0;bottom: 0;left: 50%;z-index: 0;}#sk-container-id-2 div.sk-serial {display: flex;flex-direction: column;align-items: center;background-color: white;padding-right: 0.2em;padding-left: 0.2em;position: relative;}#sk-container-id-2 div.sk-item {position: relative;z-index: 1;}#sk-container-id-2 div.sk-parallel {display: flex;align-items: stretch;justify-content: center;background-color: white;position: relative;}#sk-container-id-2 div.sk-item::before, #sk-container-id-2 div.sk-parallel-item::before {content: \"\";position: absolute;border-left: 1px solid gray;box-sizing: border-box;top: 0;bottom: 0;left: 50%;z-index: -1;}#sk-container-id-2 div.sk-parallel-item {display: flex;flex-direction: column;z-index: 1;position: relative;background-color: white;}#sk-container-id-2 div.sk-parallel-item:first-child::after {align-self: flex-end;width: 50%;}#sk-container-id-2 div.sk-parallel-item:last-child::after {align-self: flex-start;width: 50%;}#sk-container-id-2 div.sk-parallel-item:only-child::after {width: 0;}#sk-container-id-2 div.sk-dashed-wrapped {border: 1px dashed gray;margin: 0 0.4em 0.5em 0.4em;box-sizing: border-box;padding-bottom: 0.4em;background-color: white;}#sk-container-id-2 div.sk-label label {font-family: monospace;font-weight: bold;display: inline-block;line-height: 1.2em;}#sk-container-id-2 div.sk-label-container {text-align: center;}#sk-container-id-2 div.sk-container {/* jupyter's `normalize.less` sets `[hidden] { display: none; }` but bootstrap.min.css set `[hidden] { display: none !important; }` so we also need the `!important` here to be able to override the default hidden behavior on the sphinx rendered scikit-learn.org. See: https://github.com/scikit-learn/scikit-learn/issues/21755 */display: inline-block !important;position: relative;}#sk-container-id-2 div.sk-text-repr-fallback {display: none;}</style><div id=\"sk-container-id-2\" class=\"sk-top-container\"><div class=\"sk-text-repr-fallback\"><pre>GridSearchCV(cv=KFold(n_splits=3, random_state=313549, shuffle=True),\n",
       "             estimator=Pipeline(steps=[(&#x27;pipeline&#x27;,\n",
       "                                        Pipeline(steps=[(&#x27;scaler&#x27;,\n",
       "                                                         StandardScaler()),\n",
       "                                                        (&#x27;selector&#x27;,\n",
       "                                                         RFE(estimator=DecisionTreeRegressor(),\n",
       "                                                             n_features_to_select=10))])),\n",
       "                                       (&#x27;nn&#x27;,\n",
       "                                        MLPRegressor(max_iter=10000,\n",
       "                                                     random_state=313549))]),\n",
       "             param_grid={&#x27;nn__hidden_layer_sizes&#x27;: [4, 16, (4, 4)],\n",
       "                         &#x27;nn__solver&#x27;: [&#x27;sgd&#x27;, &#x27;adam&#x27;]},\n",
       "             return_train_score=True, scoring=&#x27;neg_mean_squared_error&#x27;)</pre><b>In a Jupyter environment, please rerun this cell to show the HTML representation or trust the notebook. <br />On GitHub, the HTML representation is unable to render, please try loading this page with nbviewer.org.</b></div><div class=\"sk-container\" hidden><div class=\"sk-item sk-dashed-wrapped\"><div class=\"sk-label-container\"><div class=\"sk-label sk-toggleable\"><input class=\"sk-toggleable__control sk-hidden--visually\" id=\"sk-estimator-id-9\" type=\"checkbox\" ><label for=\"sk-estimator-id-9\" class=\"sk-toggleable__label sk-toggleable__label-arrow\">GridSearchCV</label><div class=\"sk-toggleable__content\"><pre>GridSearchCV(cv=KFold(n_splits=3, random_state=313549, shuffle=True),\n",
       "             estimator=Pipeline(steps=[(&#x27;pipeline&#x27;,\n",
       "                                        Pipeline(steps=[(&#x27;scaler&#x27;,\n",
       "                                                         StandardScaler()),\n",
       "                                                        (&#x27;selector&#x27;,\n",
       "                                                         RFE(estimator=DecisionTreeRegressor(),\n",
       "                                                             n_features_to_select=10))])),\n",
       "                                       (&#x27;nn&#x27;,\n",
       "                                        MLPRegressor(max_iter=10000,\n",
       "                                                     random_state=313549))]),\n",
       "             param_grid={&#x27;nn__hidden_layer_sizes&#x27;: [4, 16, (4, 4)],\n",
       "                         &#x27;nn__solver&#x27;: [&#x27;sgd&#x27;, &#x27;adam&#x27;]},\n",
       "             return_train_score=True, scoring=&#x27;neg_mean_squared_error&#x27;)</pre></div></div></div><div class=\"sk-parallel\"><div class=\"sk-parallel-item\"><div class=\"sk-item\"><div class=\"sk-label-container\"><div class=\"sk-label sk-toggleable\"><input class=\"sk-toggleable__control sk-hidden--visually\" id=\"sk-estimator-id-10\" type=\"checkbox\" ><label for=\"sk-estimator-id-10\" class=\"sk-toggleable__label sk-toggleable__label-arrow\">estimator: Pipeline</label><div class=\"sk-toggleable__content\"><pre>Pipeline(steps=[(&#x27;pipeline&#x27;,\n",
       "                 Pipeline(steps=[(&#x27;scaler&#x27;, StandardScaler()),\n",
       "                                 (&#x27;selector&#x27;,\n",
       "                                  RFE(estimator=DecisionTreeRegressor(),\n",
       "                                      n_features_to_select=10))])),\n",
       "                (&#x27;nn&#x27;, MLPRegressor(max_iter=10000, random_state=313549))])</pre></div></div></div><div class=\"sk-serial\"><div class=\"sk-item\"><div class=\"sk-serial\"><div class=\"sk-item\"><div class=\"sk-label-container\"><div class=\"sk-label sk-toggleable\"><input class=\"sk-toggleable__control sk-hidden--visually\" id=\"sk-estimator-id-11\" type=\"checkbox\" ><label for=\"sk-estimator-id-11\" class=\"sk-toggleable__label sk-toggleable__label-arrow\">pipeline: Pipeline</label><div class=\"sk-toggleable__content\"><pre>Pipeline(steps=[(&#x27;scaler&#x27;, StandardScaler()),\n",
       "                (&#x27;selector&#x27;,\n",
       "                 RFE(estimator=DecisionTreeRegressor(),\n",
       "                     n_features_to_select=10))])</pre></div></div></div><div class=\"sk-serial\"><div class=\"sk-item\"><div class=\"sk-estimator sk-toggleable\"><input class=\"sk-toggleable__control sk-hidden--visually\" id=\"sk-estimator-id-12\" type=\"checkbox\" ><label for=\"sk-estimator-id-12\" class=\"sk-toggleable__label sk-toggleable__label-arrow\">StandardScaler</label><div class=\"sk-toggleable__content\"><pre>StandardScaler()</pre></div></div></div><div class=\"sk-item sk-dashed-wrapped\"><div class=\"sk-label-container\"><div class=\"sk-label sk-toggleable\"><input class=\"sk-toggleable__control sk-hidden--visually\" id=\"sk-estimator-id-13\" type=\"checkbox\" ><label for=\"sk-estimator-id-13\" class=\"sk-toggleable__label sk-toggleable__label-arrow\">selector: RFE</label><div class=\"sk-toggleable__content\"><pre>RFE(estimator=DecisionTreeRegressor(), n_features_to_select=10)</pre></div></div></div><div class=\"sk-parallel\"><div class=\"sk-parallel-item\"><div class=\"sk-item\"><div class=\"sk-label-container\"><div class=\"sk-label sk-toggleable\"><input class=\"sk-toggleable__control sk-hidden--visually\" id=\"sk-estimator-id-14\" type=\"checkbox\" ><label for=\"sk-estimator-id-14\" class=\"sk-toggleable__label sk-toggleable__label-arrow\">estimator: DecisionTreeRegressor</label><div class=\"sk-toggleable__content\"><pre>DecisionTreeRegressor()</pre></div></div></div><div class=\"sk-serial\"><div class=\"sk-item\"><div class=\"sk-estimator sk-toggleable\"><input class=\"sk-toggleable__control sk-hidden--visually\" id=\"sk-estimator-id-15\" type=\"checkbox\" ><label for=\"sk-estimator-id-15\" class=\"sk-toggleable__label sk-toggleable__label-arrow\">DecisionTreeRegressor</label><div class=\"sk-toggleable__content\"><pre>DecisionTreeRegressor()</pre></div></div></div></div></div></div></div></div></div></div><div class=\"sk-item\"><div class=\"sk-estimator sk-toggleable\"><input class=\"sk-toggleable__control sk-hidden--visually\" id=\"sk-estimator-id-16\" type=\"checkbox\" ><label for=\"sk-estimator-id-16\" class=\"sk-toggleable__label sk-toggleable__label-arrow\">MLPRegressor</label><div class=\"sk-toggleable__content\"><pre>MLPRegressor(max_iter=10000, random_state=313549)</pre></div></div></div></div></div></div></div></div></div></div></div></div>"
      ],
      "text/plain": [
       "GridSearchCV(cv=KFold(n_splits=3, random_state=313549, shuffle=True),\n",
       "             estimator=Pipeline(steps=[('pipeline',\n",
       "                                        Pipeline(steps=[('scaler',\n",
       "                                                         StandardScaler()),\n",
       "                                                        ('selector',\n",
       "                                                         RFE(estimator=DecisionTreeRegressor(),\n",
       "                                                             n_features_to_select=10))])),\n",
       "                                       ('nn',\n",
       "                                        MLPRegressor(max_iter=10000,\n",
       "                                                     random_state=313549))]),\n",
       "             param_grid={'nn__hidden_layer_sizes': [4, 16, (4, 4)],\n",
       "                         'nn__solver': ['sgd', 'adam']},\n",
       "             return_train_score=True, scoring='neg_mean_squared_error')"
      ]
     },
     "execution_count": 14,
     "metadata": {},
     "output_type": "execute_result"
    }
   ],
   "source": [
    "grid_pipeline_NN.fit(X_train, y_train.values.ravel())"
   ]
  },
  {
   "cell_type": "code",
   "execution_count": 15,
   "id": "f9bde0b7",
   "metadata": {
    "colab": {
     "base_uri": "https://localhost:8080/",
     "height": 211
    },
    "id": "7d198ab4",
    "outputId": "ef650eaf-c83a-4f70-ad19-9e01b6d764aa"
   },
   "outputs": [
    {
     "data": {
      "text/html": [
       "<div>\n",
       "<style scoped>\n",
       "    .dataframe tbody tr th:only-of-type {\n",
       "        vertical-align: middle;\n",
       "    }\n",
       "\n",
       "    .dataframe tbody tr th {\n",
       "        vertical-align: top;\n",
       "    }\n",
       "\n",
       "    .dataframe thead th {\n",
       "        text-align: right;\n",
       "    }\n",
       "</style>\n",
       "<table border=\"1\" class=\"dataframe\">\n",
       "  <thead>\n",
       "    <tr style=\"text-align: right;\">\n",
       "      <th></th>\n",
       "      <th>nn__hidden_layer_sizes</th>\n",
       "      <th>nn__solver</th>\n",
       "      <th>mean_test_neg_mean_squared_error</th>\n",
       "      <th>mean_train_neg_mean_squared_error</th>\n",
       "      <th>std_test_neg_mean_squared_error</th>\n",
       "      <th>std_train_neg_mean_squared_error</th>\n",
       "      <th>rank_test</th>\n",
       "    </tr>\n",
       "  </thead>\n",
       "  <tbody>\n",
       "    <tr>\n",
       "      <th>3</th>\n",
       "      <td>16</td>\n",
       "      <td>adam</td>\n",
       "      <td>-97.075715</td>\n",
       "      <td>-95.801997</td>\n",
       "      <td>0.704792</td>\n",
       "      <td>0.828179</td>\n",
       "      <td>1</td>\n",
       "    </tr>\n",
       "    <tr>\n",
       "      <th>5</th>\n",
       "      <td>(4, 4)</td>\n",
       "      <td>adam</td>\n",
       "      <td>-97.582967</td>\n",
       "      <td>-96.913593</td>\n",
       "      <td>0.910608</td>\n",
       "      <td>1.600758</td>\n",
       "      <td>2</td>\n",
       "    </tr>\n",
       "    <tr>\n",
       "      <th>1</th>\n",
       "      <td>4</td>\n",
       "      <td>adam</td>\n",
       "      <td>-98.810745</td>\n",
       "      <td>-98.005208</td>\n",
       "      <td>0.667451</td>\n",
       "      <td>0.558792</td>\n",
       "      <td>3</td>\n",
       "    </tr>\n",
       "    <tr>\n",
       "      <th>4</th>\n",
       "      <td>(4, 4)</td>\n",
       "      <td>sgd</td>\n",
       "      <td>-120.205519</td>\n",
       "      <td>-120.203947</td>\n",
       "      <td>1.291545</td>\n",
       "      <td>0.643717</td>\n",
       "      <td>4</td>\n",
       "    </tr>\n",
       "    <tr>\n",
       "      <th>0</th>\n",
       "      <td>4</td>\n",
       "      <td>sgd</td>\n",
       "      <td>NaN</td>\n",
       "      <td>NaN</td>\n",
       "      <td>NaN</td>\n",
       "      <td>NaN</td>\n",
       "      <td>5</td>\n",
       "    </tr>\n",
       "    <tr>\n",
       "      <th>2</th>\n",
       "      <td>16</td>\n",
       "      <td>sgd</td>\n",
       "      <td>NaN</td>\n",
       "      <td>NaN</td>\n",
       "      <td>NaN</td>\n",
       "      <td>NaN</td>\n",
       "      <td>5</td>\n",
       "    </tr>\n",
       "  </tbody>\n",
       "</table>\n",
       "</div>"
      ],
      "text/plain": [
       "  nn__hidden_layer_sizes nn__solver  mean_test_neg_mean_squared_error  \\\n",
       "3                     16       adam                        -97.075715   \n",
       "5                 (4, 4)       adam                        -97.582967   \n",
       "1                      4       adam                        -98.810745   \n",
       "4                 (4, 4)        sgd                       -120.205519   \n",
       "0                      4        sgd                               NaN   \n",
       "2                     16        sgd                               NaN   \n",
       "\n",
       "   mean_train_neg_mean_squared_error  std_test_neg_mean_squared_error  \\\n",
       "3                         -95.801997                         0.704792   \n",
       "5                         -96.913593                         0.910608   \n",
       "1                         -98.005208                         0.667451   \n",
       "4                        -120.203947                         1.291545   \n",
       "0                                NaN                              NaN   \n",
       "2                                NaN                              NaN   \n",
       "\n",
       "   std_train_neg_mean_squared_error  rank_test  \n",
       "3                          0.828179          1  \n",
       "5                          1.600758          2  \n",
       "1                          0.558792          3  \n",
       "4                          0.643717          4  \n",
       "0                               NaN          5  \n",
       "2                               NaN          5  "
      ]
     },
     "execution_count": 15,
     "metadata": {},
     "output_type": "execute_result"
    }
   ],
   "source": [
    "results_NN = pd.DataFrame({'nn__hidden_layer_sizes': grid_pipeline_NN.cv_results_[\"param_nn__hidden_layer_sizes\"],\n",
    "                           'nn__solver': grid_pipeline_NN.cv_results_[\"param_nn__solver\"],\n",
    "                     'mean_test_neg_mean_squared_error': grid_pipeline_NN.cv_results_[\"mean_test_score\"],\n",
    "                     'mean_train_neg_mean_squared_error': grid_pipeline_NN.cv_results_[\"mean_train_score\"],\n",
    "                     'std_test_neg_mean_squared_error': grid_pipeline_NN.cv_results_[\"std_test_score\"],\n",
    "                     'std_train_neg_mean_squared_error': grid_pipeline_NN.cv_results_[\"std_train_score\"],\n",
    "                     'rank_test': grid_pipeline_NN.cv_results_[\"rank_test_score\"]})\n",
    "results_NN.sort_values(by = 'rank_test')"
   ]
  },
  {
   "cell_type": "code",
   "execution_count": 16,
   "id": "70d79d2e",
   "metadata": {
    "id": "1c441007"
   },
   "outputs": [],
   "source": [
    "y_pred = pd.DataFrame(grid_pipeline_NN.predict(X_test))"
   ]
  },
  {
   "cell_type": "code",
   "execution_count": 17,
   "id": "69fc91a8",
   "metadata": {
    "id": "e5928a80"
   },
   "outputs": [],
   "source": [
    "pd.DataFrame(y_pred).to_csv(\"neural_network_filter.txt\", sep='\\t', index=False, header=False)"
   ]
  },
  {
   "cell_type": "markdown",
   "id": "073c53c0",
   "metadata": {
    "id": "Dyc-9BF5aRLP"
   },
   "source": [
    "# XGBoost"
   ]
  },
  {
   "cell_type": "code",
   "execution_count": 18,
   "id": "f5ac9e87",
   "metadata": {
    "id": "3hscTM9BaEjW"
   },
   "outputs": [],
   "source": [
    "pipeline = Pipeline([\n",
    "    ('scaler', StandardScaler()),\n",
    "    ('selector', RFE(DecisionTreeRegressor(), n_features_to_select = 10))\n",
    "])"
   ]
  },
  {
   "cell_type": "markdown",
   "id": "32ca2595",
   "metadata": {
    "id": "JveCHtE-aoxf"
   },
   "source": [
    "## Fitting the whole training set"
   ]
  },
  {
   "cell_type": "code",
   "execution_count": 19,
   "id": "23b029ca",
   "metadata": {
    "id": "avuYW44eaEJv"
   },
   "outputs": [],
   "source": [
    "pipeline_xgb = Pipeline([\n",
    "    ('pipeline', pipeline),\n",
    "    ('xgb', xgboost.XGBRegressor(objective='reg:squarederror', n_estimators = 400, random_state = 313549))\n",
    "])"
   ]
  },
  {
   "cell_type": "code",
   "execution_count": 20,
   "id": "f98bb23f",
   "metadata": {
    "id": "GzKA_onoaD4x"
   },
   "outputs": [],
   "source": [
    "params = {\n",
    "    \"xgb__eta\": [0.3, 0.1, 0.03],\n",
    "    \"xgb__gamma\": [0, 0.1, 1],\n",
    "    \"xgb__max_depth\": [10, 20]\n",
    "}"
   ]
  },
  {
   "cell_type": "code",
   "execution_count": 21,
   "id": "f3a9d46c",
   "metadata": {
    "id": "n6OJO1HVZ685"
   },
   "outputs": [],
   "source": [
    "grid_pipeline_xgb = GridSearchCV(pipeline_xgb,\n",
    "                      cv = skm.KFold(3, random_state = 313549, shuffle=True),\n",
    "                      param_grid = params,\n",
    "                      scoring = 'neg_mean_squared_error',\n",
    "                      return_train_score = True)"
   ]
  },
  {
   "cell_type": "code",
   "execution_count": 22,
   "id": "671919e9",
   "metadata": {
    "id": "00IiyDvEZ5t7"
   },
   "outputs": [
    {
     "data": {
      "text/html": [
       "<style>#sk-container-id-3 {color: black;background-color: white;}#sk-container-id-3 pre{padding: 0;}#sk-container-id-3 div.sk-toggleable {background-color: white;}#sk-container-id-3 label.sk-toggleable__label {cursor: pointer;display: block;width: 100%;margin-bottom: 0;padding: 0.3em;box-sizing: border-box;text-align: center;}#sk-container-id-3 label.sk-toggleable__label-arrow:before {content: \"▸\";float: left;margin-right: 0.25em;color: #696969;}#sk-container-id-3 label.sk-toggleable__label-arrow:hover:before {color: black;}#sk-container-id-3 div.sk-estimator:hover label.sk-toggleable__label-arrow:before {color: black;}#sk-container-id-3 div.sk-toggleable__content {max-height: 0;max-width: 0;overflow: hidden;text-align: left;background-color: #f0f8ff;}#sk-container-id-3 div.sk-toggleable__content pre {margin: 0.2em;color: black;border-radius: 0.25em;background-color: #f0f8ff;}#sk-container-id-3 input.sk-toggleable__control:checked~div.sk-toggleable__content {max-height: 200px;max-width: 100%;overflow: auto;}#sk-container-id-3 input.sk-toggleable__control:checked~label.sk-toggleable__label-arrow:before {content: \"▾\";}#sk-container-id-3 div.sk-estimator input.sk-toggleable__control:checked~label.sk-toggleable__label {background-color: #d4ebff;}#sk-container-id-3 div.sk-label input.sk-toggleable__control:checked~label.sk-toggleable__label {background-color: #d4ebff;}#sk-container-id-3 input.sk-hidden--visually {border: 0;clip: rect(1px 1px 1px 1px);clip: rect(1px, 1px, 1px, 1px);height: 1px;margin: -1px;overflow: hidden;padding: 0;position: absolute;width: 1px;}#sk-container-id-3 div.sk-estimator {font-family: monospace;background-color: #f0f8ff;border: 1px dotted black;border-radius: 0.25em;box-sizing: border-box;margin-bottom: 0.5em;}#sk-container-id-3 div.sk-estimator:hover {background-color: #d4ebff;}#sk-container-id-3 div.sk-parallel-item::after {content: \"\";width: 100%;border-bottom: 1px solid gray;flex-grow: 1;}#sk-container-id-3 div.sk-label:hover label.sk-toggleable__label {background-color: #d4ebff;}#sk-container-id-3 div.sk-serial::before {content: \"\";position: absolute;border-left: 1px solid gray;box-sizing: border-box;top: 0;bottom: 0;left: 50%;z-index: 0;}#sk-container-id-3 div.sk-serial {display: flex;flex-direction: column;align-items: center;background-color: white;padding-right: 0.2em;padding-left: 0.2em;position: relative;}#sk-container-id-3 div.sk-item {position: relative;z-index: 1;}#sk-container-id-3 div.sk-parallel {display: flex;align-items: stretch;justify-content: center;background-color: white;position: relative;}#sk-container-id-3 div.sk-item::before, #sk-container-id-3 div.sk-parallel-item::before {content: \"\";position: absolute;border-left: 1px solid gray;box-sizing: border-box;top: 0;bottom: 0;left: 50%;z-index: -1;}#sk-container-id-3 div.sk-parallel-item {display: flex;flex-direction: column;z-index: 1;position: relative;background-color: white;}#sk-container-id-3 div.sk-parallel-item:first-child::after {align-self: flex-end;width: 50%;}#sk-container-id-3 div.sk-parallel-item:last-child::after {align-self: flex-start;width: 50%;}#sk-container-id-3 div.sk-parallel-item:only-child::after {width: 0;}#sk-container-id-3 div.sk-dashed-wrapped {border: 1px dashed gray;margin: 0 0.4em 0.5em 0.4em;box-sizing: border-box;padding-bottom: 0.4em;background-color: white;}#sk-container-id-3 div.sk-label label {font-family: monospace;font-weight: bold;display: inline-block;line-height: 1.2em;}#sk-container-id-3 div.sk-label-container {text-align: center;}#sk-container-id-3 div.sk-container {/* jupyter's `normalize.less` sets `[hidden] { display: none; }` but bootstrap.min.css set `[hidden] { display: none !important; }` so we also need the `!important` here to be able to override the default hidden behavior on the sphinx rendered scikit-learn.org. See: https://github.com/scikit-learn/scikit-learn/issues/21755 */display: inline-block !important;position: relative;}#sk-container-id-3 div.sk-text-repr-fallback {display: none;}</style><div id=\"sk-container-id-3\" class=\"sk-top-container\"><div class=\"sk-text-repr-fallback\"><pre>GridSearchCV(cv=KFold(n_splits=3, random_state=313549, shuffle=True),\n",
       "             estimator=Pipeline(steps=[(&#x27;pipeline&#x27;,\n",
       "                                        Pipeline(steps=[(&#x27;scaler&#x27;,\n",
       "                                                         StandardScaler()),\n",
       "                                                        (&#x27;selector&#x27;,\n",
       "                                                         RFE(estimator=DecisionTreeRegressor(),\n",
       "                                                             n_features_to_select=10))])),\n",
       "                                       (&#x27;xgb&#x27;,\n",
       "                                        XGBRegressor(base_score=None,\n",
       "                                                     booster=None,\n",
       "                                                     callbacks=None,\n",
       "                                                     colsample_bylevel=None,\n",
       "                                                     colsample_bynode=None,\n",
       "                                                     colsample_byt...\n",
       "                                                     max_delta_step=None,\n",
       "                                                     max_depth=None,\n",
       "                                                     max_leaves=None,\n",
       "                                                     min_child_weight=None,\n",
       "                                                     missing=nan,\n",
       "                                                     monotone_constraints=None,\n",
       "                                                     multi_strategy=None,\n",
       "                                                     n_estimators=400,\n",
       "                                                     n_jobs=None,\n",
       "                                                     num_parallel_tree=None,\n",
       "                                                     random_state=313549, ...))]),\n",
       "             param_grid={&#x27;xgb__eta&#x27;: [0.3, 0.1, 0.03],\n",
       "                         &#x27;xgb__gamma&#x27;: [0, 0.1, 1],\n",
       "                         &#x27;xgb__max_depth&#x27;: [10, 20]},\n",
       "             return_train_score=True, scoring=&#x27;neg_mean_squared_error&#x27;)</pre><b>In a Jupyter environment, please rerun this cell to show the HTML representation or trust the notebook. <br />On GitHub, the HTML representation is unable to render, please try loading this page with nbviewer.org.</b></div><div class=\"sk-container\" hidden><div class=\"sk-item sk-dashed-wrapped\"><div class=\"sk-label-container\"><div class=\"sk-label sk-toggleable\"><input class=\"sk-toggleable__control sk-hidden--visually\" id=\"sk-estimator-id-17\" type=\"checkbox\" ><label for=\"sk-estimator-id-17\" class=\"sk-toggleable__label sk-toggleable__label-arrow\">GridSearchCV</label><div class=\"sk-toggleable__content\"><pre>GridSearchCV(cv=KFold(n_splits=3, random_state=313549, shuffle=True),\n",
       "             estimator=Pipeline(steps=[(&#x27;pipeline&#x27;,\n",
       "                                        Pipeline(steps=[(&#x27;scaler&#x27;,\n",
       "                                                         StandardScaler()),\n",
       "                                                        (&#x27;selector&#x27;,\n",
       "                                                         RFE(estimator=DecisionTreeRegressor(),\n",
       "                                                             n_features_to_select=10))])),\n",
       "                                       (&#x27;xgb&#x27;,\n",
       "                                        XGBRegressor(base_score=None,\n",
       "                                                     booster=None,\n",
       "                                                     callbacks=None,\n",
       "                                                     colsample_bylevel=None,\n",
       "                                                     colsample_bynode=None,\n",
       "                                                     colsample_byt...\n",
       "                                                     max_delta_step=None,\n",
       "                                                     max_depth=None,\n",
       "                                                     max_leaves=None,\n",
       "                                                     min_child_weight=None,\n",
       "                                                     missing=nan,\n",
       "                                                     monotone_constraints=None,\n",
       "                                                     multi_strategy=None,\n",
       "                                                     n_estimators=400,\n",
       "                                                     n_jobs=None,\n",
       "                                                     num_parallel_tree=None,\n",
       "                                                     random_state=313549, ...))]),\n",
       "             param_grid={&#x27;xgb__eta&#x27;: [0.3, 0.1, 0.03],\n",
       "                         &#x27;xgb__gamma&#x27;: [0, 0.1, 1],\n",
       "                         &#x27;xgb__max_depth&#x27;: [10, 20]},\n",
       "             return_train_score=True, scoring=&#x27;neg_mean_squared_error&#x27;)</pre></div></div></div><div class=\"sk-parallel\"><div class=\"sk-parallel-item\"><div class=\"sk-item\"><div class=\"sk-label-container\"><div class=\"sk-label sk-toggleable\"><input class=\"sk-toggleable__control sk-hidden--visually\" id=\"sk-estimator-id-18\" type=\"checkbox\" ><label for=\"sk-estimator-id-18\" class=\"sk-toggleable__label sk-toggleable__label-arrow\">estimator: Pipeline</label><div class=\"sk-toggleable__content\"><pre>Pipeline(steps=[(&#x27;pipeline&#x27;,\n",
       "                 Pipeline(steps=[(&#x27;scaler&#x27;, StandardScaler()),\n",
       "                                 (&#x27;selector&#x27;,\n",
       "                                  RFE(estimator=DecisionTreeRegressor(),\n",
       "                                      n_features_to_select=10))])),\n",
       "                (&#x27;xgb&#x27;,\n",
       "                 XGBRegressor(base_score=None, booster=None, callbacks=None,\n",
       "                              colsample_bylevel=None, colsample_bynode=None,\n",
       "                              colsample_bytree=None, device=None,\n",
       "                              early_stopping_rounds=None,\n",
       "                              enable_categorical=False, eval...\n",
       "                              feature_types=None, gamma=None, grow_policy=None,\n",
       "                              importance_type=None,\n",
       "                              interaction_constraints=None, learning_rate=None,\n",
       "                              max_bin=None, max_cat_threshold=None,\n",
       "                              max_cat_to_onehot=None, max_delta_step=None,\n",
       "                              max_depth=None, max_leaves=None,\n",
       "                              min_child_weight=None, missing=nan,\n",
       "                              monotone_constraints=None, multi_strategy=None,\n",
       "                              n_estimators=400, n_jobs=None,\n",
       "                              num_parallel_tree=None, random_state=313549, ...))])</pre></div></div></div><div class=\"sk-serial\"><div class=\"sk-item\"><div class=\"sk-serial\"><div class=\"sk-item\"><div class=\"sk-label-container\"><div class=\"sk-label sk-toggleable\"><input class=\"sk-toggleable__control sk-hidden--visually\" id=\"sk-estimator-id-19\" type=\"checkbox\" ><label for=\"sk-estimator-id-19\" class=\"sk-toggleable__label sk-toggleable__label-arrow\">pipeline: Pipeline</label><div class=\"sk-toggleable__content\"><pre>Pipeline(steps=[(&#x27;scaler&#x27;, StandardScaler()),\n",
       "                (&#x27;selector&#x27;,\n",
       "                 RFE(estimator=DecisionTreeRegressor(),\n",
       "                     n_features_to_select=10))])</pre></div></div></div><div class=\"sk-serial\"><div class=\"sk-item\"><div class=\"sk-estimator sk-toggleable\"><input class=\"sk-toggleable__control sk-hidden--visually\" id=\"sk-estimator-id-20\" type=\"checkbox\" ><label for=\"sk-estimator-id-20\" class=\"sk-toggleable__label sk-toggleable__label-arrow\">StandardScaler</label><div class=\"sk-toggleable__content\"><pre>StandardScaler()</pre></div></div></div><div class=\"sk-item sk-dashed-wrapped\"><div class=\"sk-label-container\"><div class=\"sk-label sk-toggleable\"><input class=\"sk-toggleable__control sk-hidden--visually\" id=\"sk-estimator-id-21\" type=\"checkbox\" ><label for=\"sk-estimator-id-21\" class=\"sk-toggleable__label sk-toggleable__label-arrow\">selector: RFE</label><div class=\"sk-toggleable__content\"><pre>RFE(estimator=DecisionTreeRegressor(), n_features_to_select=10)</pre></div></div></div><div class=\"sk-parallel\"><div class=\"sk-parallel-item\"><div class=\"sk-item\"><div class=\"sk-label-container\"><div class=\"sk-label sk-toggleable\"><input class=\"sk-toggleable__control sk-hidden--visually\" id=\"sk-estimator-id-22\" type=\"checkbox\" ><label for=\"sk-estimator-id-22\" class=\"sk-toggleable__label sk-toggleable__label-arrow\">estimator: DecisionTreeRegressor</label><div class=\"sk-toggleable__content\"><pre>DecisionTreeRegressor()</pre></div></div></div><div class=\"sk-serial\"><div class=\"sk-item\"><div class=\"sk-estimator sk-toggleable\"><input class=\"sk-toggleable__control sk-hidden--visually\" id=\"sk-estimator-id-23\" type=\"checkbox\" ><label for=\"sk-estimator-id-23\" class=\"sk-toggleable__label sk-toggleable__label-arrow\">DecisionTreeRegressor</label><div class=\"sk-toggleable__content\"><pre>DecisionTreeRegressor()</pre></div></div></div></div></div></div></div></div></div></div><div class=\"sk-item\"><div class=\"sk-estimator sk-toggleable\"><input class=\"sk-toggleable__control sk-hidden--visually\" id=\"sk-estimator-id-24\" type=\"checkbox\" ><label for=\"sk-estimator-id-24\" class=\"sk-toggleable__label sk-toggleable__label-arrow\">XGBRegressor</label><div class=\"sk-toggleable__content\"><pre>XGBRegressor(base_score=None, booster=None, callbacks=None,\n",
       "             colsample_bylevel=None, colsample_bynode=None,\n",
       "             colsample_bytree=None, device=None, early_stopping_rounds=None,\n",
       "             enable_categorical=False, eval_metric=None, feature_types=None,\n",
       "             gamma=None, grow_policy=None, importance_type=None,\n",
       "             interaction_constraints=None, learning_rate=None, max_bin=None,\n",
       "             max_cat_threshold=None, max_cat_to_onehot=None,\n",
       "             max_delta_step=None, max_depth=None, max_leaves=None,\n",
       "             min_child_weight=None, missing=nan, monotone_constraints=None,\n",
       "             multi_strategy=None, n_estimators=400, n_jobs=None,\n",
       "             num_parallel_tree=None, random_state=313549, ...)</pre></div></div></div></div></div></div></div></div></div></div></div></div>"
      ],
      "text/plain": [
       "GridSearchCV(cv=KFold(n_splits=3, random_state=313549, shuffle=True),\n",
       "             estimator=Pipeline(steps=[('pipeline',\n",
       "                                        Pipeline(steps=[('scaler',\n",
       "                                                         StandardScaler()),\n",
       "                                                        ('selector',\n",
       "                                                         RFE(estimator=DecisionTreeRegressor(),\n",
       "                                                             n_features_to_select=10))])),\n",
       "                                       ('xgb',\n",
       "                                        XGBRegressor(base_score=None,\n",
       "                                                     booster=None,\n",
       "                                                     callbacks=None,\n",
       "                                                     colsample_bylevel=None,\n",
       "                                                     colsample_bynode=None,\n",
       "                                                     colsample_byt...\n",
       "                                                     max_delta_step=None,\n",
       "                                                     max_depth=None,\n",
       "                                                     max_leaves=None,\n",
       "                                                     min_child_weight=None,\n",
       "                                                     missing=nan,\n",
       "                                                     monotone_constraints=None,\n",
       "                                                     multi_strategy=None,\n",
       "                                                     n_estimators=400,\n",
       "                                                     n_jobs=None,\n",
       "                                                     num_parallel_tree=None,\n",
       "                                                     random_state=313549, ...))]),\n",
       "             param_grid={'xgb__eta': [0.3, 0.1, 0.03],\n",
       "                         'xgb__gamma': [0, 0.1, 1],\n",
       "                         'xgb__max_depth': [10, 20]},\n",
       "             return_train_score=True, scoring='neg_mean_squared_error')"
      ]
     },
     "execution_count": 22,
     "metadata": {},
     "output_type": "execute_result"
    }
   ],
   "source": [
    "grid_pipeline_xgb.fit(X_train, y_train.values.ravel())"
   ]
  },
  {
   "cell_type": "code",
   "execution_count": 23,
   "id": "59571757",
   "metadata": {
    "id": "QPWk2uLVaBoY"
   },
   "outputs": [
    {
     "data": {
      "text/html": [
       "<div>\n",
       "<style scoped>\n",
       "    .dataframe tbody tr th:only-of-type {\n",
       "        vertical-align: middle;\n",
       "    }\n",
       "\n",
       "    .dataframe tbody tr th {\n",
       "        vertical-align: top;\n",
       "    }\n",
       "\n",
       "    .dataframe thead th {\n",
       "        text-align: right;\n",
       "    }\n",
       "</style>\n",
       "<table border=\"1\" class=\"dataframe\">\n",
       "  <thead>\n",
       "    <tr style=\"text-align: right;\">\n",
       "      <th></th>\n",
       "      <th>xgb__eta</th>\n",
       "      <th>xgb__gamma</th>\n",
       "      <th>xgb__max_depth</th>\n",
       "      <th>mean_test_neg_mean_squared_error</th>\n",
       "      <th>mean_train_neg_mean_squared_error</th>\n",
       "      <th>std_test_neg_mean_squared_error</th>\n",
       "      <th>std_train_neg_mean_squared_error</th>\n",
       "      <th>rank_test</th>\n",
       "    </tr>\n",
       "  </thead>\n",
       "  <tbody>\n",
       "    <tr>\n",
       "      <th>14</th>\n",
       "      <td>0.03</td>\n",
       "      <td>0.1</td>\n",
       "      <td>0.1</td>\n",
       "      <td>-87.838587</td>\n",
       "      <td>-50.366537</td>\n",
       "      <td>0.716135</td>\n",
       "      <td>6.284519e-01</td>\n",
       "      <td>1</td>\n",
       "    </tr>\n",
       "    <tr>\n",
       "      <th>12</th>\n",
       "      <td>0.03</td>\n",
       "      <td>0</td>\n",
       "      <td>0</td>\n",
       "      <td>-87.905485</td>\n",
       "      <td>-49.922177</td>\n",
       "      <td>1.348044</td>\n",
       "      <td>1.232092e+00</td>\n",
       "      <td>2</td>\n",
       "    </tr>\n",
       "    <tr>\n",
       "      <th>16</th>\n",
       "      <td>0.03</td>\n",
       "      <td>1</td>\n",
       "      <td>1</td>\n",
       "      <td>-88.044292</td>\n",
       "      <td>-49.998999</td>\n",
       "      <td>1.150912</td>\n",
       "      <td>5.073095e-01</td>\n",
       "      <td>3</td>\n",
       "    </tr>\n",
       "    <tr>\n",
       "      <th>10</th>\n",
       "      <td>0.1</td>\n",
       "      <td>1</td>\n",
       "      <td>1</td>\n",
       "      <td>-91.270553</td>\n",
       "      <td>-20.186102</td>\n",
       "      <td>0.908666</td>\n",
       "      <td>3.300522e-01</td>\n",
       "      <td>4</td>\n",
       "    </tr>\n",
       "    <tr>\n",
       "      <th>8</th>\n",
       "      <td>0.1</td>\n",
       "      <td>0.1</td>\n",
       "      <td>0.1</td>\n",
       "      <td>-91.298745</td>\n",
       "      <td>-19.981430</td>\n",
       "      <td>0.612752</td>\n",
       "      <td>3.089159e-01</td>\n",
       "      <td>5</td>\n",
       "    </tr>\n",
       "    <tr>\n",
       "      <th>6</th>\n",
       "      <td>0.1</td>\n",
       "      <td>0</td>\n",
       "      <td>0</td>\n",
       "      <td>-91.540592</td>\n",
       "      <td>-19.629446</td>\n",
       "      <td>1.177897</td>\n",
       "      <td>6.785791e-01</td>\n",
       "      <td>6</td>\n",
       "    </tr>\n",
       "    <tr>\n",
       "      <th>15</th>\n",
       "      <td>0.03</td>\n",
       "      <td>0.1</td>\n",
       "      <td>0.1</td>\n",
       "      <td>-94.932879</td>\n",
       "      <td>-0.044200</td>\n",
       "      <td>1.478876</td>\n",
       "      <td>4.680466e-04</td>\n",
       "      <td>7</td>\n",
       "    </tr>\n",
       "    <tr>\n",
       "      <th>17</th>\n",
       "      <td>0.03</td>\n",
       "      <td>1</td>\n",
       "      <td>1</td>\n",
       "      <td>-95.185724</td>\n",
       "      <td>-0.264280</td>\n",
       "      <td>1.858987</td>\n",
       "      <td>7.946987e-04</td>\n",
       "      <td>8</td>\n",
       "    </tr>\n",
       "    <tr>\n",
       "      <th>13</th>\n",
       "      <td>0.03</td>\n",
       "      <td>0</td>\n",
       "      <td>0</td>\n",
       "      <td>-95.356176</td>\n",
       "      <td>-0.009596</td>\n",
       "      <td>1.758309</td>\n",
       "      <td>1.318463e-03</td>\n",
       "      <td>9</td>\n",
       "    </tr>\n",
       "    <tr>\n",
       "      <th>11</th>\n",
       "      <td>0.1</td>\n",
       "      <td>1</td>\n",
       "      <td>1</td>\n",
       "      <td>-95.714377</td>\n",
       "      <td>-0.283231</td>\n",
       "      <td>1.499643</td>\n",
       "      <td>1.089431e-02</td>\n",
       "      <td>10</td>\n",
       "    </tr>\n",
       "    <tr>\n",
       "      <th>7</th>\n",
       "      <td>0.1</td>\n",
       "      <td>0</td>\n",
       "      <td>0</td>\n",
       "      <td>-95.876297</td>\n",
       "      <td>-0.000001</td>\n",
       "      <td>1.579343</td>\n",
       "      <td>2.273767e-07</td>\n",
       "      <td>11</td>\n",
       "    </tr>\n",
       "    <tr>\n",
       "      <th>9</th>\n",
       "      <td>0.1</td>\n",
       "      <td>0.1</td>\n",
       "      <td>0.1</td>\n",
       "      <td>-96.006675</td>\n",
       "      <td>-0.046646</td>\n",
       "      <td>1.588206</td>\n",
       "      <td>3.187246e-03</td>\n",
       "      <td>12</td>\n",
       "    </tr>\n",
       "    <tr>\n",
       "      <th>4</th>\n",
       "      <td>0.3</td>\n",
       "      <td>1</td>\n",
       "      <td>1</td>\n",
       "      <td>-101.652403</td>\n",
       "      <td>-4.324973</td>\n",
       "      <td>1.690808</td>\n",
       "      <td>6.460847e-01</td>\n",
       "      <td>13</td>\n",
       "    </tr>\n",
       "    <tr>\n",
       "      <th>2</th>\n",
       "      <td>0.3</td>\n",
       "      <td>0.1</td>\n",
       "      <td>0.1</td>\n",
       "      <td>-101.817946</td>\n",
       "      <td>-1.760221</td>\n",
       "      <td>0.787515</td>\n",
       "      <td>1.010144e-01</td>\n",
       "      <td>14</td>\n",
       "    </tr>\n",
       "    <tr>\n",
       "      <th>3</th>\n",
       "      <td>0.3</td>\n",
       "      <td>0.1</td>\n",
       "      <td>0.1</td>\n",
       "      <td>-101.997325</td>\n",
       "      <td>-0.055292</td>\n",
       "      <td>1.298325</td>\n",
       "      <td>1.554356e-03</td>\n",
       "      <td>15</td>\n",
       "    </tr>\n",
       "    <tr>\n",
       "      <th>5</th>\n",
       "      <td>0.3</td>\n",
       "      <td>1</td>\n",
       "      <td>1</td>\n",
       "      <td>-102.249994</td>\n",
       "      <td>-0.310595</td>\n",
       "      <td>1.364496</td>\n",
       "      <td>1.309725e-02</td>\n",
       "      <td>16</td>\n",
       "    </tr>\n",
       "    <tr>\n",
       "      <th>0</th>\n",
       "      <td>0.3</td>\n",
       "      <td>0</td>\n",
       "      <td>0</td>\n",
       "      <td>-102.328669</td>\n",
       "      <td>-1.714288</td>\n",
       "      <td>0.217281</td>\n",
       "      <td>3.071808e-02</td>\n",
       "      <td>17</td>\n",
       "    </tr>\n",
       "    <tr>\n",
       "      <th>1</th>\n",
       "      <td>0.3</td>\n",
       "      <td>0</td>\n",
       "      <td>0</td>\n",
       "      <td>-102.465622</td>\n",
       "      <td>-0.000001</td>\n",
       "      <td>1.463979</td>\n",
       "      <td>3.701084e-07</td>\n",
       "      <td>18</td>\n",
       "    </tr>\n",
       "  </tbody>\n",
       "</table>\n",
       "</div>"
      ],
      "text/plain": [
       "   xgb__eta xgb__gamma xgb__max_depth  mean_test_neg_mean_squared_error  \\\n",
       "14     0.03        0.1            0.1                        -87.838587   \n",
       "12     0.03          0              0                        -87.905485   \n",
       "16     0.03          1              1                        -88.044292   \n",
       "10      0.1          1              1                        -91.270553   \n",
       "8       0.1        0.1            0.1                        -91.298745   \n",
       "6       0.1          0              0                        -91.540592   \n",
       "15     0.03        0.1            0.1                        -94.932879   \n",
       "17     0.03          1              1                        -95.185724   \n",
       "13     0.03          0              0                        -95.356176   \n",
       "11      0.1          1              1                        -95.714377   \n",
       "7       0.1          0              0                        -95.876297   \n",
       "9       0.1        0.1            0.1                        -96.006675   \n",
       "4       0.3          1              1                       -101.652403   \n",
       "2       0.3        0.1            0.1                       -101.817946   \n",
       "3       0.3        0.1            0.1                       -101.997325   \n",
       "5       0.3          1              1                       -102.249994   \n",
       "0       0.3          0              0                       -102.328669   \n",
       "1       0.3          0              0                       -102.465622   \n",
       "\n",
       "    mean_train_neg_mean_squared_error  std_test_neg_mean_squared_error  \\\n",
       "14                         -50.366537                         0.716135   \n",
       "12                         -49.922177                         1.348044   \n",
       "16                         -49.998999                         1.150912   \n",
       "10                         -20.186102                         0.908666   \n",
       "8                          -19.981430                         0.612752   \n",
       "6                          -19.629446                         1.177897   \n",
       "15                          -0.044200                         1.478876   \n",
       "17                          -0.264280                         1.858987   \n",
       "13                          -0.009596                         1.758309   \n",
       "11                          -0.283231                         1.499643   \n",
       "7                           -0.000001                         1.579343   \n",
       "9                           -0.046646                         1.588206   \n",
       "4                           -4.324973                         1.690808   \n",
       "2                           -1.760221                         0.787515   \n",
       "3                           -0.055292                         1.298325   \n",
       "5                           -0.310595                         1.364496   \n",
       "0                           -1.714288                         0.217281   \n",
       "1                           -0.000001                         1.463979   \n",
       "\n",
       "    std_train_neg_mean_squared_error  rank_test  \n",
       "14                      6.284519e-01          1  \n",
       "12                      1.232092e+00          2  \n",
       "16                      5.073095e-01          3  \n",
       "10                      3.300522e-01          4  \n",
       "8                       3.089159e-01          5  \n",
       "6                       6.785791e-01          6  \n",
       "15                      4.680466e-04          7  \n",
       "17                      7.946987e-04          8  \n",
       "13                      1.318463e-03          9  \n",
       "11                      1.089431e-02         10  \n",
       "7                       2.273767e-07         11  \n",
       "9                       3.187246e-03         12  \n",
       "4                       6.460847e-01         13  \n",
       "2                       1.010144e-01         14  \n",
       "3                       1.554356e-03         15  \n",
       "5                       1.309725e-02         16  \n",
       "0                       3.071808e-02         17  \n",
       "1                       3.701084e-07         18  "
      ]
     },
     "execution_count": 23,
     "metadata": {},
     "output_type": "execute_result"
    }
   ],
   "source": [
    "results_xgb = pd.DataFrame({'xgb__eta': grid_pipeline_xgb.cv_results_[\"param_xgb__eta\"],\n",
    "                            'xgb__gamma': grid_pipeline_xgb.cv_results_[\"param_xgb__gamma\"],\n",
    "                            'xgb__max_depth': grid_pipeline_xgb.cv_results_[\"param_xgb__gamma\"],\n",
    "                     'mean_test_neg_mean_squared_error': grid_pipeline_xgb.cv_results_[\"mean_test_score\"],\n",
    "                     'mean_train_neg_mean_squared_error': grid_pipeline_xgb.cv_results_[\"mean_train_score\"],\n",
    "                     'std_test_neg_mean_squared_error': grid_pipeline_xgb.cv_results_[\"std_test_score\"],\n",
    "                     'std_train_neg_mean_squared_error': grid_pipeline_xgb.cv_results_[\"std_train_score\"],\n",
    "                     'rank_test': grid_pipeline_xgb.cv_results_[\"rank_test_score\"]})\n",
    "results_xgb.sort_values(by = 'rank_test')"
   ]
  },
  {
   "cell_type": "code",
   "execution_count": 24,
   "id": "0242368c",
   "metadata": {
    "id": "scGqzEukh-gn"
   },
   "outputs": [],
   "source": [
    "y_pred = pd.DataFrame(grid_pipeline_xgb.predict(X_test))"
   ]
  },
  {
   "cell_type": "code",
   "execution_count": 25,
   "id": "c9abd7fe",
   "metadata": {
    "id": "P_hksIdAiFHt"
   },
   "outputs": [],
   "source": [
    "pd.DataFrame(y_pred).to_csv(\"xgboost_filter.txt\", sep='\\t', index=False, header=False)"
   ]
  },
  {
   "cell_type": "markdown",
   "id": "1b693df6",
   "metadata": {
    "id": "d3125664"
   },
   "source": [
    "# Linear regression"
   ]
  },
  {
   "cell_type": "code",
   "execution_count": 26,
   "id": "b17aae1d",
   "metadata": {
    "id": "f7af2328"
   },
   "outputs": [],
   "source": [
    "pipeline = Pipeline([\n",
    "    ('scaler', StandardScaler()),\n",
    "    ('selector', RFE(DecisionTreeRegressor(), n_features_to_select = 10))\n",
    "])"
   ]
  },
  {
   "cell_type": "markdown",
   "id": "9e658bdc",
   "metadata": {
    "id": "3212d1b4"
   },
   "source": [
    "## Fitting the whole training set"
   ]
  },
  {
   "cell_type": "code",
   "execution_count": 27,
   "id": "52abf6b4",
   "metadata": {
    "id": "6b327655"
   },
   "outputs": [],
   "source": [
    "pipeline_lm = Pipeline([\n",
    "    ('pipeline', pipeline),\n",
    "    ('lm', LinearRegression())\n",
    "])"
   ]
  },
  {
   "cell_type": "code",
   "execution_count": 28,
   "id": "468479ed",
   "metadata": {
    "id": "c8bb2ebe"
   },
   "outputs": [],
   "source": [
    "params = {}"
   ]
  },
  {
   "cell_type": "code",
   "execution_count": 29,
   "id": "6852874f",
   "metadata": {
    "id": "4a71433f"
   },
   "outputs": [],
   "source": [
    "grid_pipeline_lm = GridSearchCV(pipeline_lm,\n",
    "                      cv = skm.KFold(3, random_state = 313549, shuffle=True),\n",
    "                      param_grid = params,\n",
    "                      scoring = 'neg_mean_squared_error',\n",
    "                      return_train_score = True)"
   ]
  },
  {
   "cell_type": "code",
   "execution_count": 30,
   "id": "48a75ed7",
   "metadata": {
    "colab": {
     "base_uri": "https://localhost:8080/",
     "height": 276
    },
    "id": "89e9265b",
    "outputId": "cfbbce35-2df1-4981-e9f2-5c6dbb8c4489"
   },
   "outputs": [
    {
     "data": {
      "text/html": [
       "<style>#sk-container-id-4 {color: black;background-color: white;}#sk-container-id-4 pre{padding: 0;}#sk-container-id-4 div.sk-toggleable {background-color: white;}#sk-container-id-4 label.sk-toggleable__label {cursor: pointer;display: block;width: 100%;margin-bottom: 0;padding: 0.3em;box-sizing: border-box;text-align: center;}#sk-container-id-4 label.sk-toggleable__label-arrow:before {content: \"▸\";float: left;margin-right: 0.25em;color: #696969;}#sk-container-id-4 label.sk-toggleable__label-arrow:hover:before {color: black;}#sk-container-id-4 div.sk-estimator:hover label.sk-toggleable__label-arrow:before {color: black;}#sk-container-id-4 div.sk-toggleable__content {max-height: 0;max-width: 0;overflow: hidden;text-align: left;background-color: #f0f8ff;}#sk-container-id-4 div.sk-toggleable__content pre {margin: 0.2em;color: black;border-radius: 0.25em;background-color: #f0f8ff;}#sk-container-id-4 input.sk-toggleable__control:checked~div.sk-toggleable__content {max-height: 200px;max-width: 100%;overflow: auto;}#sk-container-id-4 input.sk-toggleable__control:checked~label.sk-toggleable__label-arrow:before {content: \"▾\";}#sk-container-id-4 div.sk-estimator input.sk-toggleable__control:checked~label.sk-toggleable__label {background-color: #d4ebff;}#sk-container-id-4 div.sk-label input.sk-toggleable__control:checked~label.sk-toggleable__label {background-color: #d4ebff;}#sk-container-id-4 input.sk-hidden--visually {border: 0;clip: rect(1px 1px 1px 1px);clip: rect(1px, 1px, 1px, 1px);height: 1px;margin: -1px;overflow: hidden;padding: 0;position: absolute;width: 1px;}#sk-container-id-4 div.sk-estimator {font-family: monospace;background-color: #f0f8ff;border: 1px dotted black;border-radius: 0.25em;box-sizing: border-box;margin-bottom: 0.5em;}#sk-container-id-4 div.sk-estimator:hover {background-color: #d4ebff;}#sk-container-id-4 div.sk-parallel-item::after {content: \"\";width: 100%;border-bottom: 1px solid gray;flex-grow: 1;}#sk-container-id-4 div.sk-label:hover label.sk-toggleable__label {background-color: #d4ebff;}#sk-container-id-4 div.sk-serial::before {content: \"\";position: absolute;border-left: 1px solid gray;box-sizing: border-box;top: 0;bottom: 0;left: 50%;z-index: 0;}#sk-container-id-4 div.sk-serial {display: flex;flex-direction: column;align-items: center;background-color: white;padding-right: 0.2em;padding-left: 0.2em;position: relative;}#sk-container-id-4 div.sk-item {position: relative;z-index: 1;}#sk-container-id-4 div.sk-parallel {display: flex;align-items: stretch;justify-content: center;background-color: white;position: relative;}#sk-container-id-4 div.sk-item::before, #sk-container-id-4 div.sk-parallel-item::before {content: \"\";position: absolute;border-left: 1px solid gray;box-sizing: border-box;top: 0;bottom: 0;left: 50%;z-index: -1;}#sk-container-id-4 div.sk-parallel-item {display: flex;flex-direction: column;z-index: 1;position: relative;background-color: white;}#sk-container-id-4 div.sk-parallel-item:first-child::after {align-self: flex-end;width: 50%;}#sk-container-id-4 div.sk-parallel-item:last-child::after {align-self: flex-start;width: 50%;}#sk-container-id-4 div.sk-parallel-item:only-child::after {width: 0;}#sk-container-id-4 div.sk-dashed-wrapped {border: 1px dashed gray;margin: 0 0.4em 0.5em 0.4em;box-sizing: border-box;padding-bottom: 0.4em;background-color: white;}#sk-container-id-4 div.sk-label label {font-family: monospace;font-weight: bold;display: inline-block;line-height: 1.2em;}#sk-container-id-4 div.sk-label-container {text-align: center;}#sk-container-id-4 div.sk-container {/* jupyter's `normalize.less` sets `[hidden] { display: none; }` but bootstrap.min.css set `[hidden] { display: none !important; }` so we also need the `!important` here to be able to override the default hidden behavior on the sphinx rendered scikit-learn.org. See: https://github.com/scikit-learn/scikit-learn/issues/21755 */display: inline-block !important;position: relative;}#sk-container-id-4 div.sk-text-repr-fallback {display: none;}</style><div id=\"sk-container-id-4\" class=\"sk-top-container\"><div class=\"sk-text-repr-fallback\"><pre>GridSearchCV(cv=KFold(n_splits=3, random_state=313549, shuffle=True),\n",
       "             estimator=Pipeline(steps=[(&#x27;pipeline&#x27;,\n",
       "                                        Pipeline(steps=[(&#x27;scaler&#x27;,\n",
       "                                                         StandardScaler()),\n",
       "                                                        (&#x27;selector&#x27;,\n",
       "                                                         RFE(estimator=DecisionTreeRegressor(),\n",
       "                                                             n_features_to_select=10))])),\n",
       "                                       (&#x27;lm&#x27;, LinearRegression())]),\n",
       "             param_grid={}, return_train_score=True,\n",
       "             scoring=&#x27;neg_mean_squared_error&#x27;)</pre><b>In a Jupyter environment, please rerun this cell to show the HTML representation or trust the notebook. <br />On GitHub, the HTML representation is unable to render, please try loading this page with nbviewer.org.</b></div><div class=\"sk-container\" hidden><div class=\"sk-item sk-dashed-wrapped\"><div class=\"sk-label-container\"><div class=\"sk-label sk-toggleable\"><input class=\"sk-toggleable__control sk-hidden--visually\" id=\"sk-estimator-id-25\" type=\"checkbox\" ><label for=\"sk-estimator-id-25\" class=\"sk-toggleable__label sk-toggleable__label-arrow\">GridSearchCV</label><div class=\"sk-toggleable__content\"><pre>GridSearchCV(cv=KFold(n_splits=3, random_state=313549, shuffle=True),\n",
       "             estimator=Pipeline(steps=[(&#x27;pipeline&#x27;,\n",
       "                                        Pipeline(steps=[(&#x27;scaler&#x27;,\n",
       "                                                         StandardScaler()),\n",
       "                                                        (&#x27;selector&#x27;,\n",
       "                                                         RFE(estimator=DecisionTreeRegressor(),\n",
       "                                                             n_features_to_select=10))])),\n",
       "                                       (&#x27;lm&#x27;, LinearRegression())]),\n",
       "             param_grid={}, return_train_score=True,\n",
       "             scoring=&#x27;neg_mean_squared_error&#x27;)</pre></div></div></div><div class=\"sk-parallel\"><div class=\"sk-parallel-item\"><div class=\"sk-item\"><div class=\"sk-label-container\"><div class=\"sk-label sk-toggleable\"><input class=\"sk-toggleable__control sk-hidden--visually\" id=\"sk-estimator-id-26\" type=\"checkbox\" ><label for=\"sk-estimator-id-26\" class=\"sk-toggleable__label sk-toggleable__label-arrow\">estimator: Pipeline</label><div class=\"sk-toggleable__content\"><pre>Pipeline(steps=[(&#x27;pipeline&#x27;,\n",
       "                 Pipeline(steps=[(&#x27;scaler&#x27;, StandardScaler()),\n",
       "                                 (&#x27;selector&#x27;,\n",
       "                                  RFE(estimator=DecisionTreeRegressor(),\n",
       "                                      n_features_to_select=10))])),\n",
       "                (&#x27;lm&#x27;, LinearRegression())])</pre></div></div></div><div class=\"sk-serial\"><div class=\"sk-item\"><div class=\"sk-serial\"><div class=\"sk-item\"><div class=\"sk-label-container\"><div class=\"sk-label sk-toggleable\"><input class=\"sk-toggleable__control sk-hidden--visually\" id=\"sk-estimator-id-27\" type=\"checkbox\" ><label for=\"sk-estimator-id-27\" class=\"sk-toggleable__label sk-toggleable__label-arrow\">pipeline: Pipeline</label><div class=\"sk-toggleable__content\"><pre>Pipeline(steps=[(&#x27;scaler&#x27;, StandardScaler()),\n",
       "                (&#x27;selector&#x27;,\n",
       "                 RFE(estimator=DecisionTreeRegressor(),\n",
       "                     n_features_to_select=10))])</pre></div></div></div><div class=\"sk-serial\"><div class=\"sk-item\"><div class=\"sk-estimator sk-toggleable\"><input class=\"sk-toggleable__control sk-hidden--visually\" id=\"sk-estimator-id-28\" type=\"checkbox\" ><label for=\"sk-estimator-id-28\" class=\"sk-toggleable__label sk-toggleable__label-arrow\">StandardScaler</label><div class=\"sk-toggleable__content\"><pre>StandardScaler()</pre></div></div></div><div class=\"sk-item sk-dashed-wrapped\"><div class=\"sk-label-container\"><div class=\"sk-label sk-toggleable\"><input class=\"sk-toggleable__control sk-hidden--visually\" id=\"sk-estimator-id-29\" type=\"checkbox\" ><label for=\"sk-estimator-id-29\" class=\"sk-toggleable__label sk-toggleable__label-arrow\">selector: RFE</label><div class=\"sk-toggleable__content\"><pre>RFE(estimator=DecisionTreeRegressor(), n_features_to_select=10)</pre></div></div></div><div class=\"sk-parallel\"><div class=\"sk-parallel-item\"><div class=\"sk-item\"><div class=\"sk-label-container\"><div class=\"sk-label sk-toggleable\"><input class=\"sk-toggleable__control sk-hidden--visually\" id=\"sk-estimator-id-30\" type=\"checkbox\" ><label for=\"sk-estimator-id-30\" class=\"sk-toggleable__label sk-toggleable__label-arrow\">estimator: DecisionTreeRegressor</label><div class=\"sk-toggleable__content\"><pre>DecisionTreeRegressor()</pre></div></div></div><div class=\"sk-serial\"><div class=\"sk-item\"><div class=\"sk-estimator sk-toggleable\"><input class=\"sk-toggleable__control sk-hidden--visually\" id=\"sk-estimator-id-31\" type=\"checkbox\" ><label for=\"sk-estimator-id-31\" class=\"sk-toggleable__label sk-toggleable__label-arrow\">DecisionTreeRegressor</label><div class=\"sk-toggleable__content\"><pre>DecisionTreeRegressor()</pre></div></div></div></div></div></div></div></div></div></div><div class=\"sk-item\"><div class=\"sk-estimator sk-toggleable\"><input class=\"sk-toggleable__control sk-hidden--visually\" id=\"sk-estimator-id-32\" type=\"checkbox\" ><label for=\"sk-estimator-id-32\" class=\"sk-toggleable__label sk-toggleable__label-arrow\">LinearRegression</label><div class=\"sk-toggleable__content\"><pre>LinearRegression()</pre></div></div></div></div></div></div></div></div></div></div></div></div>"
      ],
      "text/plain": [
       "GridSearchCV(cv=KFold(n_splits=3, random_state=313549, shuffle=True),\n",
       "             estimator=Pipeline(steps=[('pipeline',\n",
       "                                        Pipeline(steps=[('scaler',\n",
       "                                                         StandardScaler()),\n",
       "                                                        ('selector',\n",
       "                                                         RFE(estimator=DecisionTreeRegressor(),\n",
       "                                                             n_features_to_select=10))])),\n",
       "                                       ('lm', LinearRegression())]),\n",
       "             param_grid={}, return_train_score=True,\n",
       "             scoring='neg_mean_squared_error')"
      ]
     },
     "execution_count": 30,
     "metadata": {},
     "output_type": "execute_result"
    }
   ],
   "source": [
    "grid_pipeline_lm.fit(X_train, y_train.values.ravel())"
   ]
  },
  {
   "cell_type": "code",
   "execution_count": 31,
   "id": "a302b34b",
   "metadata": {
    "colab": {
     "base_uri": "https://localhost:8080/",
     "height": 101
    },
    "id": "4f84bec2",
    "outputId": "49c52b89-e61e-408f-e198-bd2fc964fba3"
   },
   "outputs": [
    {
     "data": {
      "text/html": [
       "<div>\n",
       "<style scoped>\n",
       "    .dataframe tbody tr th:only-of-type {\n",
       "        vertical-align: middle;\n",
       "    }\n",
       "\n",
       "    .dataframe tbody tr th {\n",
       "        vertical-align: top;\n",
       "    }\n",
       "\n",
       "    .dataframe thead th {\n",
       "        text-align: right;\n",
       "    }\n",
       "</style>\n",
       "<table border=\"1\" class=\"dataframe\">\n",
       "  <thead>\n",
       "    <tr style=\"text-align: right;\">\n",
       "      <th></th>\n",
       "      <th>mean_test_neg_mean_squared_error</th>\n",
       "      <th>mean_train_neg_mean_squared_error</th>\n",
       "      <th>std_test_neg_mean_squared_error</th>\n",
       "      <th>std_train_neg_mean_squared_error</th>\n",
       "      <th>rank_test</th>\n",
       "    </tr>\n",
       "  </thead>\n",
       "  <tbody>\n",
       "    <tr>\n",
       "      <th>0</th>\n",
       "      <td>-97.819109</td>\n",
       "      <td>-97.806987</td>\n",
       "      <td>0.700217</td>\n",
       "      <td>0.782308</td>\n",
       "      <td>1</td>\n",
       "    </tr>\n",
       "  </tbody>\n",
       "</table>\n",
       "</div>"
      ],
      "text/plain": [
       "   mean_test_neg_mean_squared_error  mean_train_neg_mean_squared_error  \\\n",
       "0                        -97.819109                         -97.806987   \n",
       "\n",
       "   std_test_neg_mean_squared_error  std_train_neg_mean_squared_error  \\\n",
       "0                         0.700217                          0.782308   \n",
       "\n",
       "   rank_test  \n",
       "0          1  "
      ]
     },
     "execution_count": 31,
     "metadata": {},
     "output_type": "execute_result"
    }
   ],
   "source": [
    "results_lm = pd.DataFrame({\n",
    "                     'mean_test_neg_mean_squared_error': grid_pipeline_lm.cv_results_[\"mean_test_score\"],\n",
    "                     'mean_train_neg_mean_squared_error': grid_pipeline_lm.cv_results_[\"mean_train_score\"],\n",
    "                     'std_test_neg_mean_squared_error': grid_pipeline_lm.cv_results_[\"std_test_score\"],\n",
    "                     'std_train_neg_mean_squared_error': grid_pipeline_lm.cv_results_[\"std_train_score\"],\n",
    "                     'rank_test': grid_pipeline_lm.cv_results_[\"rank_test_score\"]})\n",
    "results_lm.sort_values(by = 'rank_test')"
   ]
  },
  {
   "cell_type": "code",
   "execution_count": 32,
   "id": "3d9cb73d",
   "metadata": {
    "id": "3541a0ee"
   },
   "outputs": [],
   "source": [
    "y_pred = pd.DataFrame(grid_pipeline_lm.predict(X_test))"
   ]
  },
  {
   "cell_type": "code",
   "execution_count": 33,
   "id": "e5f45036",
   "metadata": {
    "id": "25dd3ac6"
   },
   "outputs": [],
   "source": [
    "pd.DataFrame(y_pred).to_csv(\"linear_regression_filter.txt\", sep='\\t', index=False, header=False)"
   ]
  },
  {
   "cell_type": "code",
   "execution_count": null,
   "id": "b8a3aa93",
   "metadata": {
    "id": "c44366aa"
   },
   "outputs": [],
   "source": []
  }
 ],
 "metadata": {
  "colab": {
   "provenance": []
  },
  "kernelspec": {
   "display_name": "Python 3 (ipykernel)",
   "language": "python",
   "name": "python3"
  },
  "language_info": {
   "codemirror_mode": {
    "name": "ipython",
    "version": 3
   },
   "file_extension": ".py",
   "mimetype": "text/x-python",
   "name": "python",
   "nbconvert_exporter": "python",
   "pygments_lexer": "ipython3",
   "version": "3.9.13"
  }
 },
 "nbformat": 4,
 "nbformat_minor": 5
}
